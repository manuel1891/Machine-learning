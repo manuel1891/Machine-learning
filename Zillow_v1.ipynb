{
 "cells": [
  {
   "cell_type": "markdown",
   "metadata": {},
   "source": [
    "# ZILLOW - Part 1"
   ]
  },
  {
   "cell_type": "markdown",
   "metadata": {},
   "source": [
    "# Abstract\n"
   ]
  },
  {
   "cell_type": "markdown",
   "metadata": {},
   "source": [
    "This document follows a 7 steps solution workflow exposed in the Data Science Solutions book from Manav Shegal:\n",
    "\n",
    "1. Question or Problem Definition\n",
    "2. Acquire Training and Testing Data\n",
    "3. Wrangle, Prepare and Cleanse the Data\n",
    "4. Analyze, Identify Patterns and Explore the Data\n",
    "5. Model, Predict and Solve the Problem\n",
    "6. Visualise, Report and Present the Problem Solving Steps and Final Solution\n",
    "7. Supply or Submit the Results"
   ]
  },
  {
   "cell_type": "markdown",
   "metadata": {},
   "source": [
    "# Project"
   ]
  },
  {
   "cell_type": "markdown",
   "metadata": {},
   "source": [
    "## Question or Problem Definition"
   ]
  },
  {
   "cell_type": "markdown",
   "metadata": {},
   "source": [
    "A home is often the largest and most expensive purchase a person makes in his or her lifetime. Ensuring homeowners have a trusted way to monitor this asset is incredibly important. The Zestimate was created to give consumers as much information as possible about homes and the housing market, marking the first time consumers had access to this type of home value information at no cost.\n",
    "\n",
    "“Zestimates” are estimated home values based on 7.5 million statistical and machine learning models that analyze hundreds of data points on each property.\n",
    "\n",
    "The contest can be broken down in two parts:  \n",
    "1. In the qualifying round, contestants build a model to improve the Zestimate residual error.\n",
    "2. In the final round, participants build a home valuation algorithm from the ground up, using external data sources to help engineer new features that give their model an edge over the competition.\n",
    "\n",
    "The task at hand focuses on the first part of this challenge.\n",
    "\n",
    "Submissions are evaluated on **Mean Absolute Error** between the predicted log error and the actual log error. The log error is defined as \n",
    "\n",
    "$$log(error) = log(Zestimate) - log(SalePrice)$$"
   ]
  },
  {
   "cell_type": "markdown",
   "metadata": {},
   "source": [
    "## Acquire Training and Testing Data"
   ]
  },
  {
   "cell_type": "markdown",
   "metadata": {},
   "source": [
    "### Import libraries"
   ]
  },
  {
   "cell_type": "code",
   "execution_count": 59,
   "metadata": {},
   "outputs": [
    {
     "name": "stderr",
     "output_type": "stream",
     "text": [
      "Using TensorFlow backend.\n"
     ]
    }
   ],
   "source": [
    "# stop printing warnings\n",
    "import warnings; warnings.simplefilter('ignore')\n",
    "\n",
    "# data structures and data analysis tools\n",
    "import pandas as pd\n",
    "\n",
    "# scientific computing\n",
    "import numpy as np\n",
    "\n",
    "# operating system\n",
    "import os\n",
    "\n",
    "# visualisation\n",
    "%matplotlib inline          \n",
    "                            # sets the backend of matplotlib to the 'inline' backend:\n",
    "                            # the output of plotting commands is displayed inline within \n",
    "                            # frontends like the Jupyter notebook, directly below the code \n",
    "                            # cell that produced it. The resulting plots will then also \n",
    "                            # be stored in the notebook document.\n",
    "import matplotlib.pyplot as plt\n",
    "import seaborn as sns\n",
    "color = sns.color_palette()\n",
    "\n",
    "# default matplotlib plotting style\n",
    "plt.style.use('ggplot')\n",
    "\n",
    "# data mining and data analysis\n",
    "from sklearn.preprocessing import Imputer\n",
    "from sklearn.preprocessing import StandardScaler\n",
    "from sklearn.preprocessing import LabelEncoder\n",
    "from sklearn.model_selection import train_test_split\n",
    "from sklearn.metrics import classification_report\n",
    "from sklearn.metrics import accuracy_score\n",
    "from sklearn.metrics import confusion_matrix\n",
    "from sklearn.metrics import mean_squared_error\n",
    "from sklearn.tree import DecisionTreeClassifier\n",
    "from sklearn.pipeline import Pipeline\n",
    "\n",
    "# extreme gradient descent\n",
    "import xgboost as xgb\n",
    "from xgboost import XGBRegressor\n",
    "from xgboost import plot_tree\n",
    "\n",
    "# neural networks\n",
    "from keras.models import Sequential\n",
    "from keras.layers import Dense"
   ]
  },
  {
   "cell_type": "markdown",
   "metadata": {},
   "source": [
    "### Options"
   ]
  },
  {
   "cell_type": "code",
   "execution_count": 60,
   "metadata": {},
   "outputs": [],
   "source": [
    "# set number of rows displayed\n",
    "pd.set_option('display.max_row', 60)\n",
    "\n",
    "# display multiple outputs\n",
    "from IPython.core.interactiveshell import InteractiveShell\n",
    "InteractiveShell.ast_node_interactivity = \"all\""
   ]
  },
  {
   "cell_type": "markdown",
   "metadata": {},
   "source": [
    "### Path"
   ]
  },
  {
   "cell_type": "code",
   "execution_count": 61,
   "metadata": {},
   "outputs": [
    {
     "name": "stdout",
     "output_type": "stream",
     "text": [
      "/Users/manuelsteiner/Documents/Kaggle/Zillow\n",
      "/Users/manuelsteiner/Documents/Kaggle/Zillow/input/\n"
     ]
    }
   ],
   "source": [
    "# get the current working directory\n",
    "cwd = os.getcwd()\n",
    "print(cwd)\n",
    "\n",
    "\n",
    "# set the path of the project\n",
    "path_project = \"/Users/manuelsteiner/Documents/Kaggle/Zillow/input/\"\n",
    "print(path_project)"
   ]
  },
  {
   "cell_type": "markdown",
   "metadata": {},
   "source": [
    "### Read the files"
   ]
  },
  {
   "cell_type": "code",
   "execution_count": 62,
   "metadata": {},
   "outputs": [],
   "source": [
    "transactions = pd.read_csv(os.path.join(path_project, \"train_2016_v2.csv\"))\n",
    "                          \n",
    "# os.path.join. automatically detects the operating system and format the path accordingly."
   ]
  },
  {
   "cell_type": "code",
   "execution_count": 63,
   "metadata": {},
   "outputs": [],
   "source": [
    "properties = pd.read_csv(os.path.join(path_project, \"properties_2016.csv\"), low_memory = False)"
   ]
  },
  {
   "cell_type": "code",
   "execution_count": 64,
   "metadata": {},
   "outputs": [],
   "source": [
    "sample_submission = pd.read_csv(os.path.join(path_project, \"sample_submission.csv\"))"
   ]
  },
  {
   "cell_type": "markdown",
   "metadata": {},
   "source": [
    "### Have a Peak at the datasets"
   ]
  },
  {
   "cell_type": "code",
   "execution_count": 65,
   "metadata": {},
   "outputs": [
    {
     "data": {
      "text/html": [
       "<div>\n",
       "<style scoped>\n",
       "    .dataframe tbody tr th:only-of-type {\n",
       "        vertical-align: middle;\n",
       "    }\n",
       "\n",
       "    .dataframe tbody tr th {\n",
       "        vertical-align: top;\n",
       "    }\n",
       "\n",
       "    .dataframe thead th {\n",
       "        text-align: right;\n",
       "    }\n",
       "</style>\n",
       "<table border=\"1\" class=\"dataframe\">\n",
       "  <thead>\n",
       "    <tr style=\"text-align: right;\">\n",
       "      <th></th>\n",
       "      <th>parcelid</th>\n",
       "      <th>logerror</th>\n",
       "      <th>transactiondate</th>\n",
       "    </tr>\n",
       "  </thead>\n",
       "  <tbody>\n",
       "    <tr>\n",
       "      <th>0</th>\n",
       "      <td>11016594</td>\n",
       "      <td>0.0276</td>\n",
       "      <td>2016-01-01</td>\n",
       "    </tr>\n",
       "    <tr>\n",
       "      <th>1</th>\n",
       "      <td>14366692</td>\n",
       "      <td>-0.1684</td>\n",
       "      <td>2016-01-01</td>\n",
       "    </tr>\n",
       "    <tr>\n",
       "      <th>2</th>\n",
       "      <td>12098116</td>\n",
       "      <td>-0.0040</td>\n",
       "      <td>2016-01-01</td>\n",
       "    </tr>\n",
       "    <tr>\n",
       "      <th>3</th>\n",
       "      <td>12643413</td>\n",
       "      <td>0.0218</td>\n",
       "      <td>2016-01-02</td>\n",
       "    </tr>\n",
       "    <tr>\n",
       "      <th>4</th>\n",
       "      <td>14432541</td>\n",
       "      <td>-0.0050</td>\n",
       "      <td>2016-01-02</td>\n",
       "    </tr>\n",
       "  </tbody>\n",
       "</table>\n",
       "</div>"
      ],
      "text/plain": [
       "   parcelid  logerror transactiondate\n",
       "0  11016594    0.0276      2016-01-01\n",
       "1  14366692   -0.1684      2016-01-01\n",
       "2  12098116   -0.0040      2016-01-01\n",
       "3  12643413    0.0218      2016-01-02\n",
       "4  14432541   -0.0050      2016-01-02"
      ]
     },
     "execution_count": 65,
     "metadata": {},
     "output_type": "execute_result"
    },
    {
     "data": {
      "text/html": [
       "<div>\n",
       "<style scoped>\n",
       "    .dataframe tbody tr th:only-of-type {\n",
       "        vertical-align: middle;\n",
       "    }\n",
       "\n",
       "    .dataframe tbody tr th {\n",
       "        vertical-align: top;\n",
       "    }\n",
       "\n",
       "    .dataframe thead th {\n",
       "        text-align: right;\n",
       "    }\n",
       "</style>\n",
       "<table border=\"1\" class=\"dataframe\">\n",
       "  <thead>\n",
       "    <tr style=\"text-align: right;\">\n",
       "      <th></th>\n",
       "      <th>parcelid</th>\n",
       "      <th>airconditioningtypeid</th>\n",
       "      <th>architecturalstyletypeid</th>\n",
       "      <th>basementsqft</th>\n",
       "      <th>bathroomcnt</th>\n",
       "      <th>bedroomcnt</th>\n",
       "      <th>buildingclasstypeid</th>\n",
       "      <th>buildingqualitytypeid</th>\n",
       "      <th>calculatedbathnbr</th>\n",
       "      <th>decktypeid</th>\n",
       "      <th>...</th>\n",
       "      <th>numberofstories</th>\n",
       "      <th>fireplaceflag</th>\n",
       "      <th>structuretaxvaluedollarcnt</th>\n",
       "      <th>taxvaluedollarcnt</th>\n",
       "      <th>assessmentyear</th>\n",
       "      <th>landtaxvaluedollarcnt</th>\n",
       "      <th>taxamount</th>\n",
       "      <th>taxdelinquencyflag</th>\n",
       "      <th>taxdelinquencyyear</th>\n",
       "      <th>censustractandblock</th>\n",
       "    </tr>\n",
       "  </thead>\n",
       "  <tbody>\n",
       "    <tr>\n",
       "      <th>0</th>\n",
       "      <td>10754147</td>\n",
       "      <td>NaN</td>\n",
       "      <td>NaN</td>\n",
       "      <td>NaN</td>\n",
       "      <td>0.0</td>\n",
       "      <td>0.0</td>\n",
       "      <td>NaN</td>\n",
       "      <td>NaN</td>\n",
       "      <td>NaN</td>\n",
       "      <td>NaN</td>\n",
       "      <td>...</td>\n",
       "      <td>NaN</td>\n",
       "      <td>NaN</td>\n",
       "      <td>NaN</td>\n",
       "      <td>9.0</td>\n",
       "      <td>2015.0</td>\n",
       "      <td>9.0</td>\n",
       "      <td>NaN</td>\n",
       "      <td>NaN</td>\n",
       "      <td>NaN</td>\n",
       "      <td>NaN</td>\n",
       "    </tr>\n",
       "    <tr>\n",
       "      <th>1</th>\n",
       "      <td>10759547</td>\n",
       "      <td>NaN</td>\n",
       "      <td>NaN</td>\n",
       "      <td>NaN</td>\n",
       "      <td>0.0</td>\n",
       "      <td>0.0</td>\n",
       "      <td>NaN</td>\n",
       "      <td>NaN</td>\n",
       "      <td>NaN</td>\n",
       "      <td>NaN</td>\n",
       "      <td>...</td>\n",
       "      <td>NaN</td>\n",
       "      <td>NaN</td>\n",
       "      <td>NaN</td>\n",
       "      <td>27516.0</td>\n",
       "      <td>2015.0</td>\n",
       "      <td>27516.0</td>\n",
       "      <td>NaN</td>\n",
       "      <td>NaN</td>\n",
       "      <td>NaN</td>\n",
       "      <td>NaN</td>\n",
       "    </tr>\n",
       "    <tr>\n",
       "      <th>2</th>\n",
       "      <td>10843547</td>\n",
       "      <td>NaN</td>\n",
       "      <td>NaN</td>\n",
       "      <td>NaN</td>\n",
       "      <td>0.0</td>\n",
       "      <td>0.0</td>\n",
       "      <td>NaN</td>\n",
       "      <td>NaN</td>\n",
       "      <td>NaN</td>\n",
       "      <td>NaN</td>\n",
       "      <td>...</td>\n",
       "      <td>NaN</td>\n",
       "      <td>NaN</td>\n",
       "      <td>650756.0</td>\n",
       "      <td>1413387.0</td>\n",
       "      <td>2015.0</td>\n",
       "      <td>762631.0</td>\n",
       "      <td>20800.37</td>\n",
       "      <td>NaN</td>\n",
       "      <td>NaN</td>\n",
       "      <td>NaN</td>\n",
       "    </tr>\n",
       "    <tr>\n",
       "      <th>3</th>\n",
       "      <td>10859147</td>\n",
       "      <td>NaN</td>\n",
       "      <td>NaN</td>\n",
       "      <td>NaN</td>\n",
       "      <td>0.0</td>\n",
       "      <td>0.0</td>\n",
       "      <td>3.0</td>\n",
       "      <td>7.0</td>\n",
       "      <td>NaN</td>\n",
       "      <td>NaN</td>\n",
       "      <td>...</td>\n",
       "      <td>1.0</td>\n",
       "      <td>NaN</td>\n",
       "      <td>571346.0</td>\n",
       "      <td>1156834.0</td>\n",
       "      <td>2015.0</td>\n",
       "      <td>585488.0</td>\n",
       "      <td>14557.57</td>\n",
       "      <td>NaN</td>\n",
       "      <td>NaN</td>\n",
       "      <td>NaN</td>\n",
       "    </tr>\n",
       "    <tr>\n",
       "      <th>4</th>\n",
       "      <td>10879947</td>\n",
       "      <td>NaN</td>\n",
       "      <td>NaN</td>\n",
       "      <td>NaN</td>\n",
       "      <td>0.0</td>\n",
       "      <td>0.0</td>\n",
       "      <td>4.0</td>\n",
       "      <td>NaN</td>\n",
       "      <td>NaN</td>\n",
       "      <td>NaN</td>\n",
       "      <td>...</td>\n",
       "      <td>NaN</td>\n",
       "      <td>NaN</td>\n",
       "      <td>193796.0</td>\n",
       "      <td>433491.0</td>\n",
       "      <td>2015.0</td>\n",
       "      <td>239695.0</td>\n",
       "      <td>5725.17</td>\n",
       "      <td>NaN</td>\n",
       "      <td>NaN</td>\n",
       "      <td>NaN</td>\n",
       "    </tr>\n",
       "  </tbody>\n",
       "</table>\n",
       "<p>5 rows × 58 columns</p>\n",
       "</div>"
      ],
      "text/plain": [
       "   parcelid  airconditioningtypeid  architecturalstyletypeid  basementsqft  \\\n",
       "0  10754147                    NaN                       NaN           NaN   \n",
       "1  10759547                    NaN                       NaN           NaN   \n",
       "2  10843547                    NaN                       NaN           NaN   \n",
       "3  10859147                    NaN                       NaN           NaN   \n",
       "4  10879947                    NaN                       NaN           NaN   \n",
       "\n",
       "   bathroomcnt  bedroomcnt  buildingclasstypeid  buildingqualitytypeid  \\\n",
       "0          0.0         0.0                  NaN                    NaN   \n",
       "1          0.0         0.0                  NaN                    NaN   \n",
       "2          0.0         0.0                  NaN                    NaN   \n",
       "3          0.0         0.0                  3.0                    7.0   \n",
       "4          0.0         0.0                  4.0                    NaN   \n",
       "\n",
       "   calculatedbathnbr  decktypeid  ...  numberofstories  fireplaceflag  \\\n",
       "0                NaN         NaN  ...              NaN            NaN   \n",
       "1                NaN         NaN  ...              NaN            NaN   \n",
       "2                NaN         NaN  ...              NaN            NaN   \n",
       "3                NaN         NaN  ...              1.0            NaN   \n",
       "4                NaN         NaN  ...              NaN            NaN   \n",
       "\n",
       "   structuretaxvaluedollarcnt  taxvaluedollarcnt  assessmentyear  \\\n",
       "0                         NaN                9.0          2015.0   \n",
       "1                         NaN            27516.0          2015.0   \n",
       "2                    650756.0          1413387.0          2015.0   \n",
       "3                    571346.0          1156834.0          2015.0   \n",
       "4                    193796.0           433491.0          2015.0   \n",
       "\n",
       "   landtaxvaluedollarcnt  taxamount  taxdelinquencyflag  taxdelinquencyyear  \\\n",
       "0                    9.0        NaN                 NaN                 NaN   \n",
       "1                27516.0        NaN                 NaN                 NaN   \n",
       "2               762631.0   20800.37                 NaN                 NaN   \n",
       "3               585488.0   14557.57                 NaN                 NaN   \n",
       "4               239695.0    5725.17                 NaN                 NaN   \n",
       "\n",
       "   censustractandblock  \n",
       "0                  NaN  \n",
       "1                  NaN  \n",
       "2                  NaN  \n",
       "3                  NaN  \n",
       "4                  NaN  \n",
       "\n",
       "[5 rows x 58 columns]"
      ]
     },
     "execution_count": 65,
     "metadata": {},
     "output_type": "execute_result"
    },
    {
     "data": {
      "text/html": [
       "<div>\n",
       "<style scoped>\n",
       "    .dataframe tbody tr th:only-of-type {\n",
       "        vertical-align: middle;\n",
       "    }\n",
       "\n",
       "    .dataframe tbody tr th {\n",
       "        vertical-align: top;\n",
       "    }\n",
       "\n",
       "    .dataframe thead th {\n",
       "        text-align: right;\n",
       "    }\n",
       "</style>\n",
       "<table border=\"1\" class=\"dataframe\">\n",
       "  <thead>\n",
       "    <tr style=\"text-align: right;\">\n",
       "      <th></th>\n",
       "      <th>ParcelId</th>\n",
       "      <th>201610</th>\n",
       "      <th>201611</th>\n",
       "      <th>201612</th>\n",
       "      <th>201710</th>\n",
       "      <th>201711</th>\n",
       "      <th>201712</th>\n",
       "    </tr>\n",
       "  </thead>\n",
       "  <tbody>\n",
       "    <tr>\n",
       "      <th>0</th>\n",
       "      <td>10754147</td>\n",
       "      <td>0</td>\n",
       "      <td>0</td>\n",
       "      <td>0</td>\n",
       "      <td>0</td>\n",
       "      <td>0</td>\n",
       "      <td>0</td>\n",
       "    </tr>\n",
       "    <tr>\n",
       "      <th>1</th>\n",
       "      <td>10759547</td>\n",
       "      <td>0</td>\n",
       "      <td>0</td>\n",
       "      <td>0</td>\n",
       "      <td>0</td>\n",
       "      <td>0</td>\n",
       "      <td>0</td>\n",
       "    </tr>\n",
       "    <tr>\n",
       "      <th>2</th>\n",
       "      <td>10843547</td>\n",
       "      <td>0</td>\n",
       "      <td>0</td>\n",
       "      <td>0</td>\n",
       "      <td>0</td>\n",
       "      <td>0</td>\n",
       "      <td>0</td>\n",
       "    </tr>\n",
       "    <tr>\n",
       "      <th>3</th>\n",
       "      <td>10859147</td>\n",
       "      <td>0</td>\n",
       "      <td>0</td>\n",
       "      <td>0</td>\n",
       "      <td>0</td>\n",
       "      <td>0</td>\n",
       "      <td>0</td>\n",
       "    </tr>\n",
       "    <tr>\n",
       "      <th>4</th>\n",
       "      <td>10879947</td>\n",
       "      <td>0</td>\n",
       "      <td>0</td>\n",
       "      <td>0</td>\n",
       "      <td>0</td>\n",
       "      <td>0</td>\n",
       "      <td>0</td>\n",
       "    </tr>\n",
       "  </tbody>\n",
       "</table>\n",
       "</div>"
      ],
      "text/plain": [
       "   ParcelId  201610  201611  201612  201710  201711  201712\n",
       "0  10754147       0       0       0       0       0       0\n",
       "1  10759547       0       0       0       0       0       0\n",
       "2  10843547       0       0       0       0       0       0\n",
       "3  10859147       0       0       0       0       0       0\n",
       "4  10879947       0       0       0       0       0       0"
      ]
     },
     "execution_count": 65,
     "metadata": {},
     "output_type": "execute_result"
    }
   ],
   "source": [
    "transactions.head()\n",
    "properties.head()\n",
    "sample_submission.head()"
   ]
  },
  {
   "cell_type": "markdown",
   "metadata": {},
   "source": [
    "### Basic information"
   ]
  },
  {
   "cell_type": "markdown",
   "metadata": {},
   "source": [
    "Having duplicates in the datasets might lead to overfitting when training a regression model."
   ]
  },
  {
   "cell_type": "code",
   "execution_count": 66,
   "metadata": {},
   "outputs": [
    {
     "data": {
      "text/html": [
       "<div>\n",
       "<style scoped>\n",
       "    .dataframe tbody tr th:only-of-type {\n",
       "        vertical-align: middle;\n",
       "    }\n",
       "\n",
       "    .dataframe tbody tr th {\n",
       "        vertical-align: top;\n",
       "    }\n",
       "\n",
       "    .dataframe thead th {\n",
       "        text-align: right;\n",
       "    }\n",
       "</style>\n",
       "<table border=\"1\" class=\"dataframe\">\n",
       "  <thead>\n",
       "    <tr style=\"text-align: right;\">\n",
       "      <th></th>\n",
       "      <th>duplicates</th>\n",
       "      <th>rows</th>\n",
       "      <th>columns</th>\n",
       "    </tr>\n",
       "    <tr>\n",
       "      <th>dataset</th>\n",
       "      <th></th>\n",
       "      <th></th>\n",
       "      <th></th>\n",
       "    </tr>\n",
       "  </thead>\n",
       "  <tbody>\n",
       "    <tr>\n",
       "      <th>transactions</th>\n",
       "      <td>0</td>\n",
       "      <td>90275</td>\n",
       "      <td>3</td>\n",
       "    </tr>\n",
       "    <tr>\n",
       "      <th>properties</th>\n",
       "      <td>0</td>\n",
       "      <td>2985217</td>\n",
       "      <td>58</td>\n",
       "    </tr>\n",
       "    <tr>\n",
       "      <th>sample_submission</th>\n",
       "      <td>0</td>\n",
       "      <td>2985217</td>\n",
       "      <td>7</td>\n",
       "    </tr>\n",
       "  </tbody>\n",
       "</table>\n",
       "</div>"
      ],
      "text/plain": [
       "                   duplicates     rows  columns\n",
       "dataset                                        \n",
       "transactions                0    90275        3\n",
       "properties                  0  2985217       58\n",
       "sample_submission           0  2985217        7"
      ]
     },
     "execution_count": 66,
     "metadata": {},
     "output_type": "execute_result"
    }
   ],
   "source": [
    "data = {'transactions': transactions, 'properties': properties, 'sample_submission':sample_submission}\n",
    "\n",
    "pd.DataFrame({'dataset':list(data.keys()), \\\n",
    "              'duplicates': list(({key: value.duplicated().sum() for key,value in data.items()}).values()), \\\n",
    "              'rows': list(({key: value.shape[0] for key,value in data.items()}).values()), \\\n",
    "              'columns': list(({key: value.shape[1] for key,value in data.items()}).values())}) \\\n",
    "                .set_index('dataset')\n"
   ]
  },
  {
   "cell_type": "markdown",
   "metadata": {},
   "source": [
    "The table above confirms that the datasets are free of duplicates, so this is one less source of potential overfitting."
   ]
  },
  {
   "cell_type": "markdown",
   "metadata": {},
   "source": [
    "**What features are available?**"
   ]
  },
  {
   "cell_type": "markdown",
   "metadata": {},
   "source": [
    "#### transactions"
   ]
  },
  {
   "cell_type": "code",
   "execution_count": 67,
   "metadata": {},
   "outputs": [
    {
     "name": "stdout",
     "output_type": "stream",
     "text": [
      "<class 'pandas.core.frame.DataFrame'>\n",
      "RangeIndex: 90275 entries, 0 to 90274\n",
      "Data columns (total 3 columns):\n",
      "parcelid           90275 non-null int64\n",
      "logerror           90275 non-null float64\n",
      "transactiondate    90275 non-null object\n",
      "dtypes: float64(1), int64(1), object(1)\n",
      "memory usage: 2.1+ MB\n"
     ]
    }
   ],
   "source": [
    "data['transactions'].info()"
   ]
  },
  {
   "cell_type": "markdown",
   "metadata": {},
   "source": [
    "#### properties"
   ]
  },
  {
   "cell_type": "code",
   "execution_count": 68,
   "metadata": {},
   "outputs": [
    {
     "name": "stdout",
     "output_type": "stream",
     "text": [
      "<class 'pandas.core.frame.DataFrame'>\n",
      "RangeIndex: 2985217 entries, 0 to 2985216\n",
      "Data columns (total 58 columns):\n",
      "parcelid                        int64\n",
      "airconditioningtypeid           float64\n",
      "architecturalstyletypeid        float64\n",
      "basementsqft                    float64\n",
      "bathroomcnt                     float64\n",
      "bedroomcnt                      float64\n",
      "buildingclasstypeid             float64\n",
      "buildingqualitytypeid           float64\n",
      "calculatedbathnbr               float64\n",
      "decktypeid                      float64\n",
      "finishedfloor1squarefeet        float64\n",
      "calculatedfinishedsquarefeet    float64\n",
      "finishedsquarefeet12            float64\n",
      "finishedsquarefeet13            float64\n",
      "finishedsquarefeet15            float64\n",
      "finishedsquarefeet50            float64\n",
      "finishedsquarefeet6             float64\n",
      "fips                            float64\n",
      "fireplacecnt                    float64\n",
      "fullbathcnt                     float64\n",
      "garagecarcnt                    float64\n",
      "garagetotalsqft                 float64\n",
      "hashottuborspa                  object\n",
      "heatingorsystemtypeid           float64\n",
      "latitude                        float64\n",
      "longitude                       float64\n",
      "lotsizesquarefeet               float64\n",
      "poolcnt                         float64\n",
      "poolsizesum                     float64\n",
      "pooltypeid10                    float64\n",
      "pooltypeid2                     float64\n",
      "pooltypeid7                     float64\n",
      "propertycountylandusecode       object\n",
      "propertylandusetypeid           float64\n",
      "propertyzoningdesc              object\n",
      "rawcensustractandblock          float64\n",
      "regionidcity                    float64\n",
      "regionidcounty                  float64\n",
      "regionidneighborhood            float64\n",
      "regionidzip                     float64\n",
      "roomcnt                         float64\n",
      "storytypeid                     float64\n",
      "threequarterbathnbr             float64\n",
      "typeconstructiontypeid          float64\n",
      "unitcnt                         float64\n",
      "yardbuildingsqft17              float64\n",
      "yardbuildingsqft26              float64\n",
      "yearbuilt                       float64\n",
      "numberofstories                 float64\n",
      "fireplaceflag                   object\n",
      "structuretaxvaluedollarcnt      float64\n",
      "taxvaluedollarcnt               float64\n",
      "assessmentyear                  float64\n",
      "landtaxvaluedollarcnt           float64\n",
      "taxamount                       float64\n",
      "taxdelinquencyflag              object\n",
      "taxdelinquencyyear              float64\n",
      "censustractandblock             float64\n",
      "dtypes: float64(52), int64(1), object(5)\n",
      "memory usage: 1.3+ GB\n"
     ]
    }
   ],
   "source": [
    "data['properties'].info()"
   ]
  },
  {
   "cell_type": "markdown",
   "metadata": {},
   "source": [
    "#### sample submission"
   ]
  },
  {
   "cell_type": "code",
   "execution_count": 69,
   "metadata": {},
   "outputs": [
    {
     "name": "stdout",
     "output_type": "stream",
     "text": [
      "<class 'pandas.core.frame.DataFrame'>\n",
      "RangeIndex: 2985217 entries, 0 to 2985216\n",
      "Data columns (total 7 columns):\n",
      "ParcelId    int64\n",
      "201610      int64\n",
      "201611      int64\n",
      "201612      int64\n",
      "201710      int64\n",
      "201711      int64\n",
      "201712      int64\n",
      "dtypes: int64(7)\n",
      "memory usage: 159.4 MB\n"
     ]
    }
   ],
   "source": [
    "data['sample_submission'].info()"
   ]
  },
  {
   "cell_type": "markdown",
   "metadata": {},
   "source": [
    "These three datasets seem to have a common key - *parcelid*. We will check the level of the *Transactions* and *Properties* datasets and see if we can join them on this variable. We want here to link all the properties characteristics with their transactions in order to create the dataframe that will be used to explore the data and build a predictive model."
   ]
  },
  {
   "cell_type": "markdown",
   "metadata": {},
   "source": [
    "### Create a dataframe"
   ]
  },
  {
   "cell_type": "code",
   "execution_count": 70,
   "metadata": {},
   "outputs": [
    {
     "data": {
      "text/plain": [
       "90275"
      ]
     },
     "execution_count": 70,
     "metadata": {},
     "output_type": "execute_result"
    },
    {
     "data": {
      "text/plain": [
       "90150"
      ]
     },
     "execution_count": 70,
     "metadata": {},
     "output_type": "execute_result"
    },
    {
     "data": {
      "text/plain": [
       "90275"
      ]
     },
     "execution_count": 70,
     "metadata": {},
     "output_type": "execute_result"
    }
   ],
   "source": [
    "# number of rows in the \"transactions\" dataset\n",
    "len(transactions)\n",
    "\n",
    "# number of unique \"parcelid\" values\n",
    "transactions['parcelid'].nunique()\n",
    "\n",
    "# keys of the \"transactions\" dataset\n",
    "len(transactions.groupby(['parcelid', 'transactiondate']).nunique())\n"
   ]
  },
  {
   "cell_type": "markdown",
   "metadata": {},
   "source": [
    "The ***Transactions*** dataset is unique at the following levels:\n",
    "* *parcelid*\n",
    "* *transactiondate*\n",
    "\n",
    "\n",
    "Some of properties have been sold many times during the period considered:"
   ]
  },
  {
   "cell_type": "code",
   "execution_count": 71,
   "metadata": {},
   "outputs": [
    {
     "data": {
      "text/plain": [
       "3        1\n",
       "2      123\n",
       "1    90026\n",
       "Name: parcelid, dtype: int64"
      ]
     },
     "execution_count": 71,
     "metadata": {},
     "output_type": "execute_result"
    }
   ],
   "source": [
    "transactions['parcelid'].value_counts() \\\n",
    "                        .value_counts(sort = True, ascending = True)"
   ]
  },
  {
   "cell_type": "markdown",
   "metadata": {},
   "source": [
    "- 123 properties have been sold two times\n",
    "- 1 has been sold three times"
   ]
  },
  {
   "cell_type": "code",
   "execution_count": 72,
   "metadata": {},
   "outputs": [
    {
     "data": {
      "text/plain": [
       "2985217"
      ]
     },
     "execution_count": 72,
     "metadata": {},
     "output_type": "execute_result"
    },
    {
     "data": {
      "text/plain": [
       "2985217"
      ]
     },
     "execution_count": 72,
     "metadata": {},
     "output_type": "execute_result"
    }
   ],
   "source": [
    "# number of rows in the \"properties\" dataset\n",
    "len(properties)\n",
    "\n",
    "# number of unique \"parcelid\" values\n",
    "properties['parcelid'].nunique()"
   ]
  },
  {
   "cell_type": "markdown",
   "metadata": {},
   "source": [
    "The ***Properties*** dataset is then unique at the following level:\n",
    "* *parcelid*\n",
    "\n"
   ]
  },
  {
   "cell_type": "markdown",
   "metadata": {},
   "source": [
    "We can verify whether each unique *parcelid* in the ***Transaction*** dataset appears in the ***Properties*** dataset."
   ]
  },
  {
   "cell_type": "code",
   "execution_count": 73,
   "metadata": {},
   "outputs": [
    {
     "data": {
      "text/plain": [
       "90150"
      ]
     },
     "execution_count": 73,
     "metadata": {},
     "output_type": "execute_result"
    }
   ],
   "source": [
    "transactions['parcelid'].drop_duplicates().astype('str')\\\n",
    "    .isin(properties['parcelid'].astype('str'))\\\n",
    "    .sum()"
   ]
  },
  {
   "cell_type": "markdown",
   "metadata": {},
   "source": [
    "Each *parcelid* in the ***Transactions*** dataset can be found in the ***Properties*** dataset.\n"
   ]
  },
  {
   "cell_type": "markdown",
   "metadata": {},
   "source": [
    "#### Rename the features of the \"Properties\" dataset"
   ]
  },
  {
   "cell_type": "code",
   "execution_count": 74,
   "metadata": {},
   "outputs": [
    {
     "name": "stdout",
     "output_type": "stream",
     "text": [
      "<class 'pandas.core.frame.DataFrame'>\n",
      "RangeIndex: 2985217 entries, 0 to 2985216\n",
      "Data columns (total 58 columns):\n",
      "parcelid                        int64\n",
      "airconditioningtypeid           float64\n",
      "architecturalstyletypeid        float64\n",
      "basementsqft                    float64\n",
      "bathroomcnt                     float64\n",
      "bedroomcnt                      float64\n",
      "buildingclasstypeid             float64\n",
      "buildingqualitytypeid           float64\n",
      "calculatedbathnbr               float64\n",
      "decktypeid                      float64\n",
      "finishedfloor1squarefeet        float64\n",
      "calculatedfinishedsquarefeet    float64\n",
      "finishedsquarefeet12            float64\n",
      "finishedsquarefeet13            float64\n",
      "finishedsquarefeet15            float64\n",
      "finishedsquarefeet50            float64\n",
      "finishedsquarefeet6             float64\n",
      "fips                            float64\n",
      "fireplacecnt                    float64\n",
      "fullbathcnt                     float64\n",
      "garagecarcnt                    float64\n",
      "garagetotalsqft                 float64\n",
      "hashottuborspa                  object\n",
      "heatingorsystemtypeid           float64\n",
      "latitude                        float64\n",
      "longitude                       float64\n",
      "lotsizesquarefeet               float64\n",
      "poolcnt                         float64\n",
      "poolsizesum                     float64\n",
      "pooltypeid10                    float64\n",
      "pooltypeid2                     float64\n",
      "pooltypeid7                     float64\n",
      "propertycountylandusecode       object\n",
      "propertylandusetypeid           float64\n",
      "propertyzoningdesc              object\n",
      "rawcensustractandblock          float64\n",
      "regionidcity                    float64\n",
      "regionidcounty                  float64\n",
      "regionidneighborhood            float64\n",
      "regionidzip                     float64\n",
      "roomcnt                         float64\n",
      "storytypeid                     float64\n",
      "threequarterbathnbr             float64\n",
      "typeconstructiontypeid          float64\n",
      "unitcnt                         float64\n",
      "yardbuildingsqft17              float64\n",
      "yardbuildingsqft26              float64\n",
      "yearbuilt                       float64\n",
      "numberofstories                 float64\n",
      "fireplaceflag                   object\n",
      "structuretaxvaluedollarcnt      float64\n",
      "taxvaluedollarcnt               float64\n",
      "assessmentyear                  float64\n",
      "landtaxvaluedollarcnt           float64\n",
      "taxamount                       float64\n",
      "taxdelinquencyflag              object\n",
      "taxdelinquencyyear              float64\n",
      "censustractandblock             float64\n",
      "dtypes: float64(52), int64(1), object(5)\n",
      "memory usage: 1.3+ GB\n"
     ]
    }
   ],
   "source": [
    "properties.info()"
   ]
  },
  {
   "cell_type": "code",
   "execution_count": 75,
   "metadata": {},
   "outputs": [],
   "source": [
    "properties.rename(columns={\n",
    "          'transactiondate': 'transaction_date',\\\n",
    "          'yearbuilt': 'build_year',\\\n",
    "          'basementsqft': 'area_basement', \\\n",
    "          'yardbuildingsqft17': 'area_patio', \\\n",
    "          'yardbuildingsqft26': 'area_shed', \\\n",
    "          'poolsizesum': 'area_pool', \\\n",
    "          'lotsizesquarefeet': 'area_lot', \\\n",
    "          'garagetotalsqft': 'area_garage', \\\n",
    "          'finishedfloor1squarefeet': 'area_firstfloor_finished', \\\n",
    "          'calculatedfinishedsquarefeet': 'area_total_calc', \\\n",
    "          'finishedsquarefeet6': 'area_base', \\\n",
    "          'finishedsquarefeet12': 'area_live_finished', \\\n",
    "          'finishedsquarefeet13': 'area_liveperi_finished', \\\n",
    "          'finishedsquarefeet15': 'area_total_finished', \\\n",
    "          'finishedsquarefeet50': 'area_unknown', \\\n",
    "          'unitcnt': 'num_unit', \\\n",
    "          'numberofstories': 'num_story', \\\n",
    "          'roomcnt': 'num_room', \\\n",
    "          'bathroomcnt': 'num_bathroom', \\\n",
    "          'bedroomcnt': 'num_bedroom', \\\n",
    "          'calculatedbathnbr': 'num_bathroom_calc', \\\n",
    "          'fullbathcnt': 'num_bath', \\\n",
    "          'threequarterbathnbr': 'num_75_bath', \\\n",
    "          'fireplacecnt': 'num_fireplace', \\\n",
    "          'poolcnt': 'num_pool', \\\n",
    "          'garagecarcnt': 'num_garage', \\\n",
    "          'regionidcounty': 'region_county', \\\n",
    "          'regionidcity': 'region_city', \\\n",
    "          'regionidzip': 'region_zip', \\\n",
    "          'regionidneighborhood': 'region_neighbor', \\\n",
    "          'taxvaluedollarcnt': 'tax_total', \\\n",
    "          'structuretaxvaluedollarcnt': 'tax_building', \\\n",
    "          'landtaxvaluedollarcnt': 'tax_land', \\\n",
    "          'taxamount': 'tax_property', \\\n",
    "          'assessmentyear': 'tax_year', \\\n",
    "          'taxdelinquencyflag': 'tax_delinquency_flag', \\\n",
    "          'taxdelinquencyyear': 'tax_delinquency_year', \\\n",
    "          'propertyzoningdesc': 'zoning_property', \\\n",
    "          'propertylandusetypeid': 'zoning_landuse', \\\n",
    "          'propertycountylandusecode': 'zoning_landuse_county', \\\n",
    "          'fireplaceflag': 'flag_fireplace', \\\n",
    "          'hashottuborspa': 'flag_tub', \\\n",
    "          'buildingqualitytypeid': 'quality', \\\n",
    "          'buildingclasstypeid': 'framing', \\\n",
    "          'typeconstructiontypeid': 'material', \\\n",
    "          'decktypeid': 'deck', \\\n",
    "          'storytypeid': 'story', \\\n",
    "          'heatingorsystemtypeid': 'heating', \\\n",
    "          'airconditioningtypeid': 'aircon', \\\n",
    "          'architecturalstyletypeid': 'architectural_style'\n",
    "          }, inplace=True)"
   ]
  },
  {
   "cell_type": "markdown",
   "metadata": {},
   "source": [
    "#### Create the dataframe used for model building"
   ]
  },
  {
   "cell_type": "markdown",
   "metadata": {},
   "source": [
    "We can now build the dataframe that will be used for exploration, training and testing, by joining on the *parcelid* key. "
   ]
  },
  {
   "cell_type": "code",
   "execution_count": 76,
   "metadata": {},
   "outputs": [
    {
     "data": {
      "text/plain": [
       "(90275, 60)"
      ]
     },
     "execution_count": 76,
     "metadata": {},
     "output_type": "execute_result"
    }
   ],
   "source": [
    "df = transactions.merge(properties, how = 'inner', on = 'parcelid')\n",
    "df.shape"
   ]
  },
  {
   "cell_type": "markdown",
   "metadata": {},
   "source": [
    "The resulting dataframe has 90,275 rows and 60 columns. "
   ]
  },
  {
   "cell_type": "markdown",
   "metadata": {},
   "source": [
    "**What are the features in the resulting dataframe?**"
   ]
  },
  {
   "cell_type": "code",
   "execution_count": 77,
   "metadata": {},
   "outputs": [
    {
     "name": "stdout",
     "output_type": "stream",
     "text": [
      "<class 'pandas.core.frame.DataFrame'>\n",
      "Int64Index: 90275 entries, 0 to 90274\n",
      "Data columns (total 60 columns):\n",
      "parcelid                    90275 non-null int64\n",
      "logerror                    90275 non-null float64\n",
      "transactiondate             90275 non-null object\n",
      "aircon                      28781 non-null float64\n",
      "architectural_style         261 non-null float64\n",
      "area_basement               43 non-null float64\n",
      "num_bathroom                90275 non-null float64\n",
      "num_bedroom                 90275 non-null float64\n",
      "framing                     16 non-null float64\n",
      "quality                     57364 non-null float64\n",
      "num_bathroom_calc           89093 non-null float64\n",
      "deck                        658 non-null float64\n",
      "area_firstfloor_finished    6856 non-null float64\n",
      "area_total_calc             89614 non-null float64\n",
      "area_live_finished          85596 non-null float64\n",
      "area_liveperi_finished      33 non-null float64\n",
      "area_total_finished         3564 non-null float64\n",
      "area_unknown                6856 non-null float64\n",
      "area_base                   421 non-null float64\n",
      "fips                        90275 non-null float64\n",
      "num_fireplace               9607 non-null float64\n",
      "num_bath                    89093 non-null float64\n",
      "num_garage                  29937 non-null float64\n",
      "area_garage                 29937 non-null float64\n",
      "flag_tub                    2365 non-null object\n",
      "heating                     56080 non-null float64\n",
      "latitude                    90275 non-null float64\n",
      "longitude                   90275 non-null float64\n",
      "area_lot                    80125 non-null float64\n",
      "num_pool                    17901 non-null float64\n",
      "area_pool                   969 non-null float64\n",
      "pooltypeid10                1161 non-null float64\n",
      "pooltypeid2                 1204 non-null float64\n",
      "pooltypeid7                 16697 non-null float64\n",
      "zoning_landuse_county       90274 non-null object\n",
      "zoning_landuse              90275 non-null float64\n",
      "zoning_property             58313 non-null object\n",
      "rawcensustractandblock      90275 non-null float64\n",
      "region_city                 88472 non-null float64\n",
      "region_county               90275 non-null float64\n",
      "region_neighbor             36012 non-null float64\n",
      "region_zip                  90240 non-null float64\n",
      "num_room                    90275 non-null float64\n",
      "story                       43 non-null float64\n",
      "num_75_bath                 12009 non-null float64\n",
      "material                    299 non-null float64\n",
      "num_unit                    58353 non-null float64\n",
      "area_patio                  2646 non-null float64\n",
      "area_shed                   95 non-null float64\n",
      "build_year                  89519 non-null float64\n",
      "num_story                   20570 non-null float64\n",
      "flag_fireplace              222 non-null object\n",
      "tax_building                89895 non-null float64\n",
      "tax_total                   90274 non-null float64\n",
      "tax_year                    90275 non-null float64\n",
      "tax_land                    90274 non-null float64\n",
      "tax_property                90269 non-null float64\n",
      "tax_delinquency_flag        1783 non-null object\n",
      "tax_delinquency_year        1783 non-null float64\n",
      "censustractandblock         89670 non-null float64\n",
      "dtypes: float64(53), int64(1), object(6)\n",
      "memory usage: 42.0+ MB\n"
     ]
    }
   ],
   "source": [
    "df.info()"
   ]
  },
  {
   "cell_type": "markdown",
   "metadata": {},
   "source": [
    "### Datetime features"
   ]
  },
  {
   "cell_type": "markdown",
   "metadata": {},
   "source": [
    "What are the types of the date features?"
   ]
  },
  {
   "cell_type": "code",
   "execution_count": 78,
   "metadata": {},
   "outputs": [
    {
     "name": "stdout",
     "output_type": "stream",
     "text": [
      "<class 'pandas.core.frame.DataFrame'>\n",
      "Int64Index: 90275 entries, 0 to 90274\n",
      "Data columns (total 4 columns):\n",
      "transactiondate         90275 non-null object\n",
      "build_year              89519 non-null float64\n",
      "tax_year                90275 non-null float64\n",
      "tax_delinquency_year    1783 non-null float64\n",
      "dtypes: float64(3), object(1)\n",
      "memory usage: 3.4+ MB\n"
     ]
    }
   ],
   "source": [
    "dates_features = df[['transactiondate', 'build_year', 'tax_year', 'tax_delinquency_year']]\n",
    "dates_features.info()"
   ]
  },
  {
   "cell_type": "markdown",
   "metadata": {},
   "source": [
    "What do their unique values look like?"
   ]
  },
  {
   "cell_type": "code",
   "execution_count": 79,
   "metadata": {},
   "outputs": [
    {
     "name": "stdout",
     "output_type": "stream",
     "text": [
      "transactiondate \n",
      " \n",
      " ['2016-01-01' '2016-01-02' '2016-01-03' '2016-01-04' '2016-01-05'\n",
      " '2016-06-29' '2016-01-06' '2016-09-12' '2016-06-17' '2016-01-07'\n",
      " '2016-09-14' '2016-07-05' '2016-01-08' '2016-06-27' '2016-08-04'\n",
      " '2016-05-19' '2016-01-09' '2016-01-10' '2016-01-11' '2016-09-15'\n",
      " '2016-06-14' '2016-01-12' '2016-01-13' '2016-09-17' '2016-06-10'\n",
      " '2016-01-14' '2016-01-15' '2016-10-12' '2016-01-16' '2016-01-17'\n",
      " '2016-01-18' '2016-01-19' '2016-09-30' '2016-12-28' '2016-06-06'\n",
      " '2016-01-20' '2016-01-21' '2016-09-20' '2016-10-11' '2016-01-22'\n",
      " '2016-01-23' '2016-01-24' '2016-01-25' '2016-08-26' '2016-01-26'\n",
      " '2016-06-01' '2016-04-14' '2016-08-16' '2016-09-23' '2016-01-27'\n",
      " '2016-01-28' '2016-07-01' '2016-01-29' '2016-09-09' '2016-08-09'\n",
      " '2016-06-16' '2016-01-30' '2016-01-31' '2016-02-01' '2016-09-02'\n",
      " '2016-02-02' '2016-02-03' '2016-02-04' '2016-05-24' '2016-02-05'\n",
      " '2016-04-27' '2016-08-30' '2016-02-06' '2016-02-07' '2016-08-29'\n",
      " '2016-02-08' '2016-05-09' '2016-02-09' '2016-02-10' '2016-04-01'\n",
      " '2016-02-11' '2016-09-22' '2016-02-12' '2016-09-13' '2016-02-13'\n",
      " '2016-02-14' '2016-02-15' '2016-05-03' '2016-02-16' '2016-06-23'\n",
      " '2016-02-17' '2016-02-18' '2016-02-19' '2016-07-11' '2016-02-20'\n",
      " '2016-02-21' '2016-02-22' '2016-12-14' '2016-12-05' '2016-02-23'\n",
      " '2016-02-24' '2016-09-19' '2016-07-25' '2016-02-25' '2016-08-22'\n",
      " '2016-02-26' '2016-02-27' '2016-02-28' '2016-02-29' '2016-12-13'\n",
      " '2016-08-15' '2016-03-01' '2016-03-02' '2016-03-03' '2016-09-26'\n",
      " '2016-03-04' '2016-11-17' '2016-03-05' '2016-03-06' '2016-03-07'\n",
      " '2016-03-08' '2016-12-20' '2016-06-13' '2016-03-09' '2016-09-16'\n",
      " '2016-08-19' '2016-03-10' '2016-08-12' '2016-03-11' '2016-03-13'\n",
      " '2016-03-14' '2016-07-14' '2016-03-15' '2016-03-16' '2016-07-22'\n",
      " '2016-03-17' '2016-12-30' '2016-03-18' '2016-07-13' '2016-03-19'\n",
      " '2016-03-20' '2016-03-21' '2016-03-22' '2016-03-23' '2016-03-24'\n",
      " '2016-08-08' '2016-03-25' '2016-03-27' '2016-03-28' '2016-03-29'\n",
      " '2016-03-30' '2016-03-31' '2016-11-18' '2016-04-02' '2016-04-03'\n",
      " '2016-04-04' '2016-04-05' '2016-10-05' '2016-04-06' '2016-08-24'\n",
      " '2016-04-07' '2016-08-23' '2016-10-07' '2016-04-08' '2016-04-09'\n",
      " '2016-04-10' '2016-04-11' '2016-04-12' '2016-04-13' '2016-10-03'\n",
      " '2016-04-15' '2016-04-16' '2016-04-17' '2016-04-18' '2016-04-19'\n",
      " '2016-04-20' '2016-04-21' '2016-04-22' '2016-10-06' '2016-04-23'\n",
      " '2016-04-24' '2016-04-25' '2016-06-20' '2016-04-26' '2016-04-28'\n",
      " '2016-07-08' '2016-06-03' '2016-04-29' '2016-04-30' '2016-05-01'\n",
      " '2016-05-02' '2016-07-19' '2016-05-04' '2016-05-05' '2016-12-22'\n",
      " '2016-12-07' '2016-05-06' '2016-05-07' '2016-05-08' '2016-05-10'\n",
      " '2016-09-29' '2016-05-11' '2016-05-12' '2016-05-13' '2016-05-14'\n",
      " '2016-05-15' '2016-05-16' '2016-08-11' '2016-05-17' '2016-05-18'\n",
      " '2016-05-20' '2016-05-22' '2016-05-23' '2016-09-27' '2016-05-25'\n",
      " '2016-05-26' '2016-05-27' '2016-05-28' '2016-05-29' '2016-05-30'\n",
      " '2016-05-31' '2016-09-07' '2016-06-02' '2016-12-08' '2016-06-04'\n",
      " '2016-06-05' '2016-06-07' '2016-06-08' '2016-06-09' '2016-06-11'\n",
      " '2016-06-12' '2016-06-15' '2016-06-22' '2016-07-20' '2016-06-18'\n",
      " '2016-06-19' '2016-06-21' '2016-06-24' '2016-08-31' '2016-06-25'\n",
      " '2016-06-26' '2016-06-28' '2016-06-30' '2016-10-25' '2016-07-02'\n",
      " '2016-07-04' '2016-07-06' '2016-07-07' '2016-07-09' '2016-07-10'\n",
      " '2016-07-12' '2016-08-17' '2016-07-15' '2016-07-16' '2016-07-17'\n",
      " '2016-07-18' '2016-07-21' '2016-07-23' '2016-07-24' '2016-07-26'\n",
      " '2016-07-27' '2016-07-28' '2016-07-29' '2016-07-30' '2016-07-31'\n",
      " '2016-08-01' '2016-08-02' '2016-08-03' '2016-08-05' '2016-08-06'\n",
      " '2016-08-07' '2016-08-10' '2016-08-13' '2016-08-14' '2016-08-18'\n",
      " '2016-08-20' '2016-08-21' '2016-08-25' '2016-08-27' '2016-08-28'\n",
      " '2016-09-01' '2016-09-03' '2016-09-04' '2016-09-05' '2016-09-06'\n",
      " '2016-09-08' '2016-12-29' '2016-09-10' '2016-09-11' '2016-09-18'\n",
      " '2016-09-21' '2016-11-04' '2016-09-24' '2016-09-25' '2016-09-28'\n",
      " '2016-10-01' '2016-10-02' '2016-10-04' '2016-10-08' '2016-10-09'\n",
      " '2016-10-10' '2016-10-13' '2016-10-14' '2016-10-17' '2016-10-18'\n",
      " '2016-10-19' '2016-10-20' '2016-10-21' '2016-10-22' '2016-10-24'\n",
      " '2016-10-26' '2016-10-27' '2016-10-28' '2016-10-29' '2016-10-30'\n",
      " '2016-10-31' '2016-11-01' '2016-11-02' '2016-11-03' '2016-11-06'\n",
      " '2016-11-07' '2016-11-08' '2016-11-09' '2016-11-10' '2016-11-12'\n",
      " '2016-11-13' '2016-11-14' '2016-11-15' '2016-11-16' '2016-11-19'\n",
      " '2016-11-20' '2016-11-21' '2016-11-22' '2016-11-23' '2016-11-24'\n",
      " '2016-11-27' '2016-11-28' '2016-11-29' '2016-11-30' '2016-12-01'\n",
      " '2016-12-02' '2016-12-04' '2016-12-06' '2016-12-09' '2016-12-11'\n",
      " '2016-12-12' '2016-12-15' '2016-12-16' '2016-12-17' '2016-12-18'\n",
      " '2016-12-19' '2016-12-21' '2016-12-23' '2016-12-24' '2016-12-25'\n",
      " '2016-12-26' '2016-12-27'] \n",
      "\n",
      "build_year \n",
      " \n",
      " [1959. 2014. 1940. 1987. 1981. 1982. 1939. 1994. 1984. 1977. 1954. 1995.\n",
      " 1944. 2005. 1955. 1964. 1979. 1970. 1957. 1950. 1927. 1976. 1962. 1952.\n",
      " 1998. 1986. 1973. 1966. 1983. 1961. 1953. 1948. 1946. 1965. 1972. 1956.\n",
      " 1912. 1980. 1947. 1988. 1968. 1989. 1923. 1974. 1963. 1960. 2015. 2010.\n",
      " 1951. 1978. 1975. 1999. 1928. 2003. 1990. 1993. 1985. 1913. 1925. 1929.\n",
      " 2013. 1949. 1926. 1938.   nan 1941. 1922. 1943. 1958. 1930. 1991. 1992.\n",
      " 1901. 1969. 2009. 2011. 1967. 2008. 1924. 1907. 2002. 2006. 2004. 1935.\n",
      " 1936. 1971. 1996. 1904. 2000. 1997. 1937. 2001. 1900. 1918. 2007. 1908.\n",
      " 1906. 1931. 1914. 1945. 1920. 1921. 1933. 1916. 1902. 1934. 1909. 1932.\n",
      " 1910. 1942. 2012. 1903. 1915. 1919. 1890. 1896. 1911. 1895. 1917. 1905.\n",
      " 1898. 1891. 1888. 1885. 1894. 1892. 1897. 1899. 1887. 1893. 1886.] \n",
      "\n",
      "tax_year \n",
      " \n",
      " [2015.] \n",
      "\n",
      "tax_delinquency_year \n",
      " \n",
      " [nan 13. 15. 12. 14. 10.  9.  8. 11.  7.  6. 99.] \n",
      "\n"
     ]
    }
   ],
   "source": [
    "for i in dates_features.columns:\n",
    "    print(i, \"\\n\", \"\\n\", dates_features[i].unique(), \"\\n\")"
   ]
  },
  {
   "cell_type": "markdown",
   "metadata": {},
   "source": [
    "As can be seen above, *tax_year* has zero missing values and only one value \"2015\". As it does not have any variance, we can delete this variable from the dataframe:"
   ]
  },
  {
   "cell_type": "code",
   "execution_count": 80,
   "metadata": {},
   "outputs": [],
   "source": [
    "# delete feature\n",
    "df.drop(\"tax_year\", inplace = True, axis = 1)"
   ]
  },
  {
   "cell_type": "markdown",
   "metadata": {},
   "source": [
    "*build_year* is already in float64 and in the right format, so it's all good. As to *tax_delinquency_year*, we can recode the values:"
   ]
  },
  {
   "cell_type": "code",
   "execution_count": 81,
   "metadata": {},
   "outputs": [
    {
     "data": {
      "text/plain": [
       "array([nan, 13., 15., 12., 14., 10.,  9.,  8., 11.,  7.,  6., 99.])"
      ]
     },
     "execution_count": 81,
     "metadata": {},
     "output_type": "execute_result"
    },
    {
     "data": {
      "text/plain": [
       "array([  nan, 2013., 2015., 2012., 2014., 2010., 2009., 2008., 2011.,\n",
       "       2007., 2006., 1999.])"
      ]
     },
     "execution_count": 81,
     "metadata": {},
     "output_type": "execute_result"
    }
   ],
   "source": [
    "# unique values\n",
    "df['tax_delinquency_year'].unique()\n",
    "\n",
    "# year conversion dictionary\n",
    "values_dict = {99: 1999, \n",
    "               6: 2006, \n",
    "               7: 2007, \n",
    "               8: 2008, \n",
    "               9:2009, \n",
    "               10:2010, \n",
    "               11: 2011, \n",
    "               12:2012, \n",
    "               13:2013, \n",
    "               14:2014, \n",
    "               15:2015}\n",
    "\n",
    "# map the dictionary\n",
    "df['tax_delinquency_year'] = df['tax_delinquency_year'].map(values_dict)\n",
    "\n",
    "# unique values after transformation\n",
    "df['tax_delinquency_year'].unique()"
   ]
  },
  {
   "cell_type": "markdown",
   "metadata": {},
   "source": [
    "### Categorical features"
   ]
  },
  {
   "cell_type": "code",
   "execution_count": 82,
   "metadata": {},
   "outputs": [
    {
     "data": {
      "text/plain": [
       "Index(['transactiondate', 'flag_tub', 'zoning_landuse_county',\n",
       "       'zoning_property', 'flag_fireplace', 'tax_delinquency_flag'],\n",
       "      dtype='object')"
      ]
     },
     "execution_count": 82,
     "metadata": {},
     "output_type": "execute_result"
    }
   ],
   "source": [
    "categorical_features = df.select_dtypes(include='object')\n",
    "categorical_features.columns"
   ]
  },
  {
   "cell_type": "code",
   "execution_count": 83,
   "metadata": {},
   "outputs": [
    {
     "data": {
      "text/html": [
       "<div>\n",
       "<style scoped>\n",
       "    .dataframe tbody tr th:only-of-type {\n",
       "        vertical-align: middle;\n",
       "    }\n",
       "\n",
       "    .dataframe tbody tr th {\n",
       "        vertical-align: top;\n",
       "    }\n",
       "\n",
       "    .dataframe thead th {\n",
       "        text-align: right;\n",
       "    }\n",
       "</style>\n",
       "<table border=\"1\" class=\"dataframe\">\n",
       "  <thead>\n",
       "    <tr style=\"text-align: right;\">\n",
       "      <th></th>\n",
       "      <th>transactiondate</th>\n",
       "      <th>flag_tub</th>\n",
       "      <th>zoning_landuse_county</th>\n",
       "      <th>zoning_property</th>\n",
       "      <th>flag_fireplace</th>\n",
       "      <th>tax_delinquency_flag</th>\n",
       "    </tr>\n",
       "  </thead>\n",
       "  <tbody>\n",
       "    <tr>\n",
       "      <th>0</th>\n",
       "      <td>2016-01-01</td>\n",
       "      <td>NaN</td>\n",
       "      <td>0100</td>\n",
       "      <td>LARS</td>\n",
       "      <td>NaN</td>\n",
       "      <td>NaN</td>\n",
       "    </tr>\n",
       "    <tr>\n",
       "      <th>1</th>\n",
       "      <td>2016-01-01</td>\n",
       "      <td>NaN</td>\n",
       "      <td>1</td>\n",
       "      <td>NaN</td>\n",
       "      <td>NaN</td>\n",
       "      <td>NaN</td>\n",
       "    </tr>\n",
       "    <tr>\n",
       "      <th>2</th>\n",
       "      <td>2016-01-01</td>\n",
       "      <td>NaN</td>\n",
       "      <td>0100</td>\n",
       "      <td>PSR6</td>\n",
       "      <td>NaN</td>\n",
       "      <td>NaN</td>\n",
       "    </tr>\n",
       "    <tr>\n",
       "      <th>3</th>\n",
       "      <td>2016-01-02</td>\n",
       "      <td>NaN</td>\n",
       "      <td>010C</td>\n",
       "      <td>LAR3</td>\n",
       "      <td>NaN</td>\n",
       "      <td>NaN</td>\n",
       "    </tr>\n",
       "    <tr>\n",
       "      <th>4</th>\n",
       "      <td>2016-01-02</td>\n",
       "      <td>NaN</td>\n",
       "      <td>122</td>\n",
       "      <td>NaN</td>\n",
       "      <td>NaN</td>\n",
       "      <td>NaN</td>\n",
       "    </tr>\n",
       "  </tbody>\n",
       "</table>\n",
       "</div>"
      ],
      "text/plain": [
       "  transactiondate flag_tub zoning_landuse_county zoning_property  \\\n",
       "0      2016-01-01      NaN                  0100            LARS   \n",
       "1      2016-01-01      NaN                     1             NaN   \n",
       "2      2016-01-01      NaN                  0100            PSR6   \n",
       "3      2016-01-02      NaN                  010C            LAR3   \n",
       "4      2016-01-02      NaN                   122             NaN   \n",
       "\n",
       "  flag_fireplace tax_delinquency_flag  \n",
       "0            NaN                  NaN  \n",
       "1            NaN                  NaN  \n",
       "2            NaN                  NaN  \n",
       "3            NaN                  NaN  \n",
       "4            NaN                  NaN  "
      ]
     },
     "execution_count": 83,
     "metadata": {},
     "output_type": "execute_result"
    }
   ],
   "source": [
    "categorical_features.head()"
   ]
  },
  {
   "cell_type": "markdown",
   "metadata": {},
   "source": [
    "How many unique values have each of these categorical variables?"
   ]
  },
  {
   "cell_type": "code",
   "execution_count": 84,
   "metadata": {},
   "outputs": [
    {
     "data": {
      "text/html": [
       "<div>\n",
       "<style scoped>\n",
       "    .dataframe tbody tr th:only-of-type {\n",
       "        vertical-align: middle;\n",
       "    }\n",
       "\n",
       "    .dataframe tbody tr th {\n",
       "        vertical-align: top;\n",
       "    }\n",
       "\n",
       "    .dataframe thead th {\n",
       "        text-align: right;\n",
       "    }\n",
       "</style>\n",
       "<table border=\"1\" class=\"dataframe\">\n",
       "  <thead>\n",
       "    <tr style=\"text-align: right;\">\n",
       "      <th></th>\n",
       "      <th>transactiondate</th>\n",
       "      <th>flag_tub</th>\n",
       "      <th>zoning_landuse_county</th>\n",
       "      <th>zoning_property</th>\n",
       "      <th>flag_fireplace</th>\n",
       "      <th>tax_delinquency_flag</th>\n",
       "    </tr>\n",
       "  </thead>\n",
       "  <tbody>\n",
       "    <tr>\n",
       "      <th>count</th>\n",
       "      <td>90275</td>\n",
       "      <td>2365</td>\n",
       "      <td>90274</td>\n",
       "      <td>58313</td>\n",
       "      <td>222</td>\n",
       "      <td>1783</td>\n",
       "    </tr>\n",
       "    <tr>\n",
       "      <th>unique</th>\n",
       "      <td>352</td>\n",
       "      <td>1</td>\n",
       "      <td>77</td>\n",
       "      <td>1996</td>\n",
       "      <td>1</td>\n",
       "      <td>1</td>\n",
       "    </tr>\n",
       "    <tr>\n",
       "      <th>top</th>\n",
       "      <td>2016-07-29</td>\n",
       "      <td>True</td>\n",
       "      <td>0100</td>\n",
       "      <td>LAR1</td>\n",
       "      <td>True</td>\n",
       "      <td>Y</td>\n",
       "    </tr>\n",
       "    <tr>\n",
       "      <th>freq</th>\n",
       "      <td>910</td>\n",
       "      <td>2365</td>\n",
       "      <td>30846</td>\n",
       "      <td>7678</td>\n",
       "      <td>222</td>\n",
       "      <td>1783</td>\n",
       "    </tr>\n",
       "  </tbody>\n",
       "</table>\n",
       "</div>"
      ],
      "text/plain": [
       "       transactiondate flag_tub zoning_landuse_county zoning_property  \\\n",
       "count            90275     2365                 90274           58313   \n",
       "unique             352        1                    77            1996   \n",
       "top         2016-07-29     True                  0100            LAR1   \n",
       "freq               910     2365                 30846            7678   \n",
       "\n",
       "       flag_fireplace tax_delinquency_flag  \n",
       "count             222                 1783  \n",
       "unique              1                    1  \n",
       "top              True                    Y  \n",
       "freq              222                 1783  "
      ]
     },
     "execution_count": 84,
     "metadata": {},
     "output_type": "execute_result"
    }
   ],
   "source": [
    "categorical_features.describe()"
   ]
  },
  {
   "cell_type": "markdown",
   "metadata": {},
   "source": [
    "*zoning_landuse_county* and *zoning_property* seem to have many levels. This might be a sign of high cardinality (large number of levels where most of the levels appear in a small nuumber of instances). \n",
    "\n",
    "High cardinality is often a problem in predictive modelling and features having such characteristics might be discarded because of the complexity that this might pose when using a decision tree algorithm for example.  "
   ]
  },
  {
   "cell_type": "markdown",
   "metadata": {},
   "source": [
    "This potential problem will be dealt with later when starting to build a Machine Learning (ML) pipeline.\n",
    "\n",
    "These features will be converted later in numeric values as most supervised machine learning algorithms cannot deal with non-numeric features."
   ]
  },
  {
   "cell_type": "markdown",
   "metadata": {},
   "source": [
    "### Numeric Features"
   ]
  },
  {
   "cell_type": "markdown",
   "metadata": {},
   "source": [
    "What are the numeric features?"
   ]
  },
  {
   "cell_type": "code",
   "execution_count": 85,
   "metadata": {},
   "outputs": [
    {
     "data": {
      "text/plain": [
       "['aircon',\n",
       " 'architectural_style',\n",
       " 'area_base',\n",
       " 'area_basement',\n",
       " 'area_firstfloor_finished',\n",
       " 'area_garage',\n",
       " 'area_live_finished',\n",
       " 'area_liveperi_finished',\n",
       " 'area_lot',\n",
       " 'area_patio',\n",
       " 'area_pool',\n",
       " 'area_shed',\n",
       " 'area_total_calc',\n",
       " 'area_total_finished',\n",
       " 'area_unknown',\n",
       " 'build_year',\n",
       " 'censustractandblock',\n",
       " 'deck',\n",
       " 'fips',\n",
       " 'framing',\n",
       " 'heating',\n",
       " 'latitude',\n",
       " 'logerror',\n",
       " 'longitude',\n",
       " 'material',\n",
       " 'num_75_bath',\n",
       " 'num_bath',\n",
       " 'num_bathroom',\n",
       " 'num_bathroom_calc',\n",
       " 'num_bedroom',\n",
       " 'num_fireplace',\n",
       " 'num_garage',\n",
       " 'num_pool',\n",
       " 'num_room',\n",
       " 'num_story',\n",
       " 'num_unit',\n",
       " 'parcelid',\n",
       " 'pooltypeid10',\n",
       " 'pooltypeid2',\n",
       " 'pooltypeid7',\n",
       " 'quality',\n",
       " 'rawcensustractandblock',\n",
       " 'region_city',\n",
       " 'region_county',\n",
       " 'region_neighbor',\n",
       " 'region_zip',\n",
       " 'story',\n",
       " 'tax_building',\n",
       " 'tax_delinquency_year',\n",
       " 'tax_land',\n",
       " 'tax_property',\n",
       " 'tax_total',\n",
       " 'zoning_landuse']"
      ]
     },
     "execution_count": 85,
     "metadata": {},
     "output_type": "execute_result"
    }
   ],
   "source": [
    "numerical_features = df.select_dtypes('number')\n",
    "sorted(list(numerical_features.columns))"
   ]
  },
  {
   "cell_type": "markdown",
   "metadata": {},
   "source": [
    "#### \"Area\" Features"
   ]
  },
  {
   "cell_type": "markdown",
   "metadata": {},
   "source": [
    "What is the distribution of the numeric features starting with \"area\"?"
   ]
  },
  {
   "cell_type": "code",
   "execution_count": 86,
   "metadata": {},
   "outputs": [],
   "source": [
    "area_features = df.loc[:, df.columns.str.contains(\"area\")]"
   ]
  },
  {
   "cell_type": "code",
   "execution_count": 87,
   "metadata": {},
   "outputs": [
    {
     "data": {
      "text/html": [
       "<div>\n",
       "<style scoped>\n",
       "    .dataframe tbody tr th:only-of-type {\n",
       "        vertical-align: middle;\n",
       "    }\n",
       "\n",
       "    .dataframe tbody tr th {\n",
       "        vertical-align: top;\n",
       "    }\n",
       "\n",
       "    .dataframe thead th {\n",
       "        text-align: right;\n",
       "    }\n",
       "</style>\n",
       "<table border=\"1\" class=\"dataframe\">\n",
       "  <thead>\n",
       "    <tr style=\"text-align: right;\">\n",
       "      <th></th>\n",
       "      <th>area_basement</th>\n",
       "      <th>area_firstfloor_finished</th>\n",
       "      <th>area_total_calc</th>\n",
       "      <th>area_live_finished</th>\n",
       "      <th>area_liveperi_finished</th>\n",
       "      <th>area_total_finished</th>\n",
       "      <th>area_unknown</th>\n",
       "      <th>area_base</th>\n",
       "      <th>area_garage</th>\n",
       "      <th>area_lot</th>\n",
       "      <th>area_pool</th>\n",
       "      <th>area_patio</th>\n",
       "      <th>area_shed</th>\n",
       "    </tr>\n",
       "  </thead>\n",
       "  <tbody>\n",
       "    <tr>\n",
       "      <th>count</th>\n",
       "      <td>43.000000</td>\n",
       "      <td>6856.000000</td>\n",
       "      <td>89614.000000</td>\n",
       "      <td>85596.000000</td>\n",
       "      <td>33.000000</td>\n",
       "      <td>3564.000000</td>\n",
       "      <td>6856.000000</td>\n",
       "      <td>421.000000</td>\n",
       "      <td>29937.000000</td>\n",
       "      <td>8.012500e+04</td>\n",
       "      <td>969.000000</td>\n",
       "      <td>2646.000000</td>\n",
       "      <td>95.000000</td>\n",
       "    </tr>\n",
       "    <tr>\n",
       "      <th>mean</th>\n",
       "      <td>713.581395</td>\n",
       "      <td>1347.974037</td>\n",
       "      <td>1773.185987</td>\n",
       "      <td>1745.454531</td>\n",
       "      <td>1404.545455</td>\n",
       "      <td>2380.090067</td>\n",
       "      <td>1355.546674</td>\n",
       "      <td>2302.546318</td>\n",
       "      <td>345.521228</td>\n",
       "      <td>2.911016e+04</td>\n",
       "      <td>519.827657</td>\n",
       "      <td>310.142101</td>\n",
       "      <td>311.694737</td>\n",
       "    </tr>\n",
       "    <tr>\n",
       "      <th>std</th>\n",
       "      <td>437.434198</td>\n",
       "      <td>652.399026</td>\n",
       "      <td>928.162393</td>\n",
       "      <td>909.941166</td>\n",
       "      <td>110.108211</td>\n",
       "      <td>1068.207182</td>\n",
       "      <td>673.703488</td>\n",
       "      <td>1346.255242</td>\n",
       "      <td>267.015918</td>\n",
       "      <td>1.217213e+05</td>\n",
       "      <td>155.054210</td>\n",
       "      <td>216.721869</td>\n",
       "      <td>346.354850</td>\n",
       "    </tr>\n",
       "    <tr>\n",
       "      <th>min</th>\n",
       "      <td>100.000000</td>\n",
       "      <td>44.000000</td>\n",
       "      <td>2.000000</td>\n",
       "      <td>2.000000</td>\n",
       "      <td>1056.000000</td>\n",
       "      <td>560.000000</td>\n",
       "      <td>44.000000</td>\n",
       "      <td>257.000000</td>\n",
       "      <td>0.000000</td>\n",
       "      <td>1.670000e+02</td>\n",
       "      <td>28.000000</td>\n",
       "      <td>25.000000</td>\n",
       "      <td>18.000000</td>\n",
       "    </tr>\n",
       "    <tr>\n",
       "      <th>25%</th>\n",
       "      <td>407.500000</td>\n",
       "      <td>938.000000</td>\n",
       "      <td>1184.000000</td>\n",
       "      <td>1172.000000</td>\n",
       "      <td>1392.000000</td>\n",
       "      <td>1648.000000</td>\n",
       "      <td>938.000000</td>\n",
       "      <td>1112.000000</td>\n",
       "      <td>0.000000</td>\n",
       "      <td>5.703000e+03</td>\n",
       "      <td>420.000000</td>\n",
       "      <td>180.000000</td>\n",
       "      <td>100.000000</td>\n",
       "    </tr>\n",
       "    <tr>\n",
       "      <th>50%</th>\n",
       "      <td>616.000000</td>\n",
       "      <td>1244.000000</td>\n",
       "      <td>1540.000000</td>\n",
       "      <td>1518.000000</td>\n",
       "      <td>1440.000000</td>\n",
       "      <td>2104.500000</td>\n",
       "      <td>1248.000000</td>\n",
       "      <td>2028.000000</td>\n",
       "      <td>433.000000</td>\n",
       "      <td>7.200000e+03</td>\n",
       "      <td>500.000000</td>\n",
       "      <td>259.500000</td>\n",
       "      <td>159.000000</td>\n",
       "    </tr>\n",
       "    <tr>\n",
       "      <th>75%</th>\n",
       "      <td>872.000000</td>\n",
       "      <td>1614.000000</td>\n",
       "      <td>2095.000000</td>\n",
       "      <td>2056.000000</td>\n",
       "      <td>1440.000000</td>\n",
       "      <td>2862.000000</td>\n",
       "      <td>1619.000000</td>\n",
       "      <td>3431.000000</td>\n",
       "      <td>484.000000</td>\n",
       "      <td>1.168600e+04</td>\n",
       "      <td>600.000000</td>\n",
       "      <td>384.000000</td>\n",
       "      <td>361.000000</td>\n",
       "    </tr>\n",
       "    <tr>\n",
       "      <th>max</th>\n",
       "      <td>1555.000000</td>\n",
       "      <td>7625.000000</td>\n",
       "      <td>22741.000000</td>\n",
       "      <td>20013.000000</td>\n",
       "      <td>1584.000000</td>\n",
       "      <td>22741.000000</td>\n",
       "      <td>8352.000000</td>\n",
       "      <td>7224.000000</td>\n",
       "      <td>7339.000000</td>\n",
       "      <td>6.971010e+06</td>\n",
       "      <td>1750.000000</td>\n",
       "      <td>2678.000000</td>\n",
       "      <td>1366.000000</td>\n",
       "    </tr>\n",
       "  </tbody>\n",
       "</table>\n",
       "</div>"
      ],
      "text/plain": [
       "       area_basement  area_firstfloor_finished  area_total_calc  \\\n",
       "count      43.000000               6856.000000     89614.000000   \n",
       "mean      713.581395               1347.974037      1773.185987   \n",
       "std       437.434198                652.399026       928.162393   \n",
       "min       100.000000                 44.000000         2.000000   \n",
       "25%       407.500000                938.000000      1184.000000   \n",
       "50%       616.000000               1244.000000      1540.000000   \n",
       "75%       872.000000               1614.000000      2095.000000   \n",
       "max      1555.000000               7625.000000     22741.000000   \n",
       "\n",
       "       area_live_finished  area_liveperi_finished  area_total_finished  \\\n",
       "count        85596.000000               33.000000          3564.000000   \n",
       "mean          1745.454531             1404.545455          2380.090067   \n",
       "std            909.941166              110.108211          1068.207182   \n",
       "min              2.000000             1056.000000           560.000000   \n",
       "25%           1172.000000             1392.000000          1648.000000   \n",
       "50%           1518.000000             1440.000000          2104.500000   \n",
       "75%           2056.000000             1440.000000          2862.000000   \n",
       "max          20013.000000             1584.000000         22741.000000   \n",
       "\n",
       "       area_unknown    area_base   area_garage      area_lot    area_pool  \\\n",
       "count   6856.000000   421.000000  29937.000000  8.012500e+04   969.000000   \n",
       "mean    1355.546674  2302.546318    345.521228  2.911016e+04   519.827657   \n",
       "std      673.703488  1346.255242    267.015918  1.217213e+05   155.054210   \n",
       "min       44.000000   257.000000      0.000000  1.670000e+02    28.000000   \n",
       "25%      938.000000  1112.000000      0.000000  5.703000e+03   420.000000   \n",
       "50%     1248.000000  2028.000000    433.000000  7.200000e+03   500.000000   \n",
       "75%     1619.000000  3431.000000    484.000000  1.168600e+04   600.000000   \n",
       "max     8352.000000  7224.000000   7339.000000  6.971010e+06  1750.000000   \n",
       "\n",
       "        area_patio    area_shed  \n",
       "count  2646.000000    95.000000  \n",
       "mean    310.142101   311.694737  \n",
       "std     216.721869   346.354850  \n",
       "min      25.000000    18.000000  \n",
       "25%     180.000000   100.000000  \n",
       "50%     259.500000   159.000000  \n",
       "75%     384.000000   361.000000  \n",
       "max    2678.000000  1366.000000  "
      ]
     },
     "execution_count": 87,
     "metadata": {},
     "output_type": "execute_result"
    }
   ],
   "source": [
    "area_features.describe()"
   ]
  },
  {
   "cell_type": "markdown",
   "metadata": {},
   "source": [
    "We can already see that most of these features have maximum value that are far away from their median, for example *area_live_finished* maximum value is 13 times the median.\n",
    "\n",
    "This suggests outliers will need to be removed in a later stage or modelled via discretization."
   ]
  },
  {
   "cell_type": "markdown",
   "metadata": {},
   "source": [
    "#### \"Num\" Features"
   ]
  },
  {
   "cell_type": "markdown",
   "metadata": {},
   "source": [
    "What is the distribution of the numeric features starting with \"num\"?"
   ]
  },
  {
   "cell_type": "code",
   "execution_count": 88,
   "metadata": {},
   "outputs": [],
   "source": [
    "num_features = df.loc[:, df.columns.str.contains(\"num\")]"
   ]
  },
  {
   "cell_type": "code",
   "execution_count": 89,
   "metadata": {},
   "outputs": [
    {
     "data": {
      "text/html": [
       "<div>\n",
       "<style scoped>\n",
       "    .dataframe tbody tr th:only-of-type {\n",
       "        vertical-align: middle;\n",
       "    }\n",
       "\n",
       "    .dataframe tbody tr th {\n",
       "        vertical-align: top;\n",
       "    }\n",
       "\n",
       "    .dataframe thead th {\n",
       "        text-align: right;\n",
       "    }\n",
       "</style>\n",
       "<table border=\"1\" class=\"dataframe\">\n",
       "  <thead>\n",
       "    <tr style=\"text-align: right;\">\n",
       "      <th></th>\n",
       "      <th>num_bathroom</th>\n",
       "      <th>num_bedroom</th>\n",
       "      <th>num_bathroom_calc</th>\n",
       "      <th>num_fireplace</th>\n",
       "      <th>num_bath</th>\n",
       "      <th>num_garage</th>\n",
       "      <th>num_pool</th>\n",
       "      <th>num_room</th>\n",
       "      <th>num_75_bath</th>\n",
       "      <th>num_unit</th>\n",
       "      <th>num_story</th>\n",
       "    </tr>\n",
       "  </thead>\n",
       "  <tbody>\n",
       "    <tr>\n",
       "      <th>count</th>\n",
       "      <td>90275.000000</td>\n",
       "      <td>90275.000000</td>\n",
       "      <td>89093.000000</td>\n",
       "      <td>9607.000000</td>\n",
       "      <td>89093.000000</td>\n",
       "      <td>29937.000000</td>\n",
       "      <td>17901.0</td>\n",
       "      <td>90275.000000</td>\n",
       "      <td>12009.000000</td>\n",
       "      <td>58353.000000</td>\n",
       "      <td>20570.000000</td>\n",
       "    </tr>\n",
       "    <tr>\n",
       "      <th>mean</th>\n",
       "      <td>2.279474</td>\n",
       "      <td>3.031869</td>\n",
       "      <td>2.309216</td>\n",
       "      <td>1.187884</td>\n",
       "      <td>2.241231</td>\n",
       "      <td>1.812005</td>\n",
       "      <td>1.0</td>\n",
       "      <td>1.478516</td>\n",
       "      <td>1.008743</td>\n",
       "      <td>1.110414</td>\n",
       "      <td>1.440739</td>\n",
       "    </tr>\n",
       "    <tr>\n",
       "      <th>std</th>\n",
       "      <td>1.004271</td>\n",
       "      <td>1.156436</td>\n",
       "      <td>0.976172</td>\n",
       "      <td>0.484173</td>\n",
       "      <td>0.963142</td>\n",
       "      <td>0.608761</td>\n",
       "      <td>0.0</td>\n",
       "      <td>2.819627</td>\n",
       "      <td>0.100830</td>\n",
       "      <td>0.797235</td>\n",
       "      <td>0.544498</td>\n",
       "    </tr>\n",
       "    <tr>\n",
       "      <th>min</th>\n",
       "      <td>0.000000</td>\n",
       "      <td>0.000000</td>\n",
       "      <td>1.000000</td>\n",
       "      <td>1.000000</td>\n",
       "      <td>1.000000</td>\n",
       "      <td>0.000000</td>\n",
       "      <td>1.0</td>\n",
       "      <td>0.000000</td>\n",
       "      <td>1.000000</td>\n",
       "      <td>1.000000</td>\n",
       "      <td>1.000000</td>\n",
       "    </tr>\n",
       "    <tr>\n",
       "      <th>25%</th>\n",
       "      <td>2.000000</td>\n",
       "      <td>2.000000</td>\n",
       "      <td>2.000000</td>\n",
       "      <td>1.000000</td>\n",
       "      <td>2.000000</td>\n",
       "      <td>2.000000</td>\n",
       "      <td>1.0</td>\n",
       "      <td>0.000000</td>\n",
       "      <td>1.000000</td>\n",
       "      <td>1.000000</td>\n",
       "      <td>1.000000</td>\n",
       "    </tr>\n",
       "    <tr>\n",
       "      <th>50%</th>\n",
       "      <td>2.000000</td>\n",
       "      <td>3.000000</td>\n",
       "      <td>2.000000</td>\n",
       "      <td>1.000000</td>\n",
       "      <td>2.000000</td>\n",
       "      <td>2.000000</td>\n",
       "      <td>1.0</td>\n",
       "      <td>0.000000</td>\n",
       "      <td>1.000000</td>\n",
       "      <td>1.000000</td>\n",
       "      <td>1.000000</td>\n",
       "    </tr>\n",
       "    <tr>\n",
       "      <th>75%</th>\n",
       "      <td>3.000000</td>\n",
       "      <td>4.000000</td>\n",
       "      <td>3.000000</td>\n",
       "      <td>1.000000</td>\n",
       "      <td>3.000000</td>\n",
       "      <td>2.000000</td>\n",
       "      <td>1.0</td>\n",
       "      <td>0.000000</td>\n",
       "      <td>1.000000</td>\n",
       "      <td>1.000000</td>\n",
       "      <td>2.000000</td>\n",
       "    </tr>\n",
       "    <tr>\n",
       "      <th>max</th>\n",
       "      <td>20.000000</td>\n",
       "      <td>16.000000</td>\n",
       "      <td>20.000000</td>\n",
       "      <td>5.000000</td>\n",
       "      <td>20.000000</td>\n",
       "      <td>24.000000</td>\n",
       "      <td>1.0</td>\n",
       "      <td>18.000000</td>\n",
       "      <td>4.000000</td>\n",
       "      <td>143.000000</td>\n",
       "      <td>4.000000</td>\n",
       "    </tr>\n",
       "  </tbody>\n",
       "</table>\n",
       "</div>"
      ],
      "text/plain": [
       "       num_bathroom   num_bedroom  num_bathroom_calc  num_fireplace  \\\n",
       "count  90275.000000  90275.000000       89093.000000    9607.000000   \n",
       "mean       2.279474      3.031869           2.309216       1.187884   \n",
       "std        1.004271      1.156436           0.976172       0.484173   \n",
       "min        0.000000      0.000000           1.000000       1.000000   \n",
       "25%        2.000000      2.000000           2.000000       1.000000   \n",
       "50%        2.000000      3.000000           2.000000       1.000000   \n",
       "75%        3.000000      4.000000           3.000000       1.000000   \n",
       "max       20.000000     16.000000          20.000000       5.000000   \n",
       "\n",
       "           num_bath    num_garage  num_pool      num_room   num_75_bath  \\\n",
       "count  89093.000000  29937.000000   17901.0  90275.000000  12009.000000   \n",
       "mean       2.241231      1.812005       1.0      1.478516      1.008743   \n",
       "std        0.963142      0.608761       0.0      2.819627      0.100830   \n",
       "min        1.000000      0.000000       1.0      0.000000      1.000000   \n",
       "25%        2.000000      2.000000       1.0      0.000000      1.000000   \n",
       "50%        2.000000      2.000000       1.0      0.000000      1.000000   \n",
       "75%        3.000000      2.000000       1.0      0.000000      1.000000   \n",
       "max       20.000000     24.000000       1.0     18.000000      4.000000   \n",
       "\n",
       "           num_unit     num_story  \n",
       "count  58353.000000  20570.000000  \n",
       "mean       1.110414      1.440739  \n",
       "std        0.797235      0.544498  \n",
       "min        1.000000      1.000000  \n",
       "25%        1.000000      1.000000  \n",
       "50%        1.000000      1.000000  \n",
       "75%        1.000000      2.000000  \n",
       "max      143.000000      4.000000  "
      ]
     },
     "execution_count": 89,
     "metadata": {},
     "output_type": "execute_result"
    }
   ],
   "source": [
    "num_features.describe()"
   ]
  },
  {
   "cell_type": "markdown",
   "metadata": {},
   "source": [
    "The same remark with regard to outliers apply here. "
   ]
  },
  {
   "cell_type": "markdown",
   "metadata": {},
   "source": [
    "#### \"Tax\" Features"
   ]
  },
  {
   "cell_type": "markdown",
   "metadata": {},
   "source": [
    "What is the distribution of the numerical features starting with \"tax\"?"
   ]
  },
  {
   "cell_type": "code",
   "execution_count": 90,
   "metadata": {},
   "outputs": [],
   "source": [
    "tax_features = df.loc[:, df.columns.str.contains(\"tax\")]"
   ]
  },
  {
   "cell_type": "code",
   "execution_count": 91,
   "metadata": {},
   "outputs": [
    {
     "data": {
      "text/html": [
       "<div>\n",
       "<style scoped>\n",
       "    .dataframe tbody tr th:only-of-type {\n",
       "        vertical-align: middle;\n",
       "    }\n",
       "\n",
       "    .dataframe tbody tr th {\n",
       "        vertical-align: top;\n",
       "    }\n",
       "\n",
       "    .dataframe thead th {\n",
       "        text-align: right;\n",
       "    }\n",
       "</style>\n",
       "<table border=\"1\" class=\"dataframe\">\n",
       "  <thead>\n",
       "    <tr style=\"text-align: right;\">\n",
       "      <th></th>\n",
       "      <th>tax_building</th>\n",
       "      <th>tax_total</th>\n",
       "      <th>tax_land</th>\n",
       "      <th>tax_property</th>\n",
       "      <th>tax_delinquency_year</th>\n",
       "    </tr>\n",
       "  </thead>\n",
       "  <tbody>\n",
       "    <tr>\n",
       "      <th>count</th>\n",
       "      <td>8.989500e+04</td>\n",
       "      <td>9.027400e+04</td>\n",
       "      <td>9.027400e+04</td>\n",
       "      <td>90269.000000</td>\n",
       "      <td>1783.000000</td>\n",
       "    </tr>\n",
       "    <tr>\n",
       "      <th>mean</th>\n",
       "      <td>1.800934e+05</td>\n",
       "      <td>4.576726e+05</td>\n",
       "      <td>2.783353e+05</td>\n",
       "      <td>5983.975927</td>\n",
       "      <td>2013.346607</td>\n",
       "    </tr>\n",
       "    <tr>\n",
       "      <th>std</th>\n",
       "      <td>2.091299e+05</td>\n",
       "      <td>5.548844e+05</td>\n",
       "      <td>4.004955e+05</td>\n",
       "      <td>6838.876956</td>\n",
       "      <td>1.837964</td>\n",
       "    </tr>\n",
       "    <tr>\n",
       "      <th>min</th>\n",
       "      <td>1.000000e+02</td>\n",
       "      <td>2.200000e+01</td>\n",
       "      <td>2.200000e+01</td>\n",
       "      <td>49.080000</td>\n",
       "      <td>1999.000000</td>\n",
       "    </tr>\n",
       "    <tr>\n",
       "      <th>25%</th>\n",
       "      <td>8.124500e+04</td>\n",
       "      <td>1.990232e+05</td>\n",
       "      <td>8.222800e+04</td>\n",
       "      <td>2872.830000</td>\n",
       "      <td>2013.000000</td>\n",
       "    </tr>\n",
       "    <tr>\n",
       "      <th>50%</th>\n",
       "      <td>1.320000e+05</td>\n",
       "      <td>3.428720e+05</td>\n",
       "      <td>1.929700e+05</td>\n",
       "      <td>4542.750000</td>\n",
       "      <td>2014.000000</td>\n",
       "    </tr>\n",
       "    <tr>\n",
       "      <th>75%</th>\n",
       "      <td>2.105345e+05</td>\n",
       "      <td>5.405890e+05</td>\n",
       "      <td>3.454195e+05</td>\n",
       "      <td>6901.090000</td>\n",
       "      <td>2015.000000</td>\n",
       "    </tr>\n",
       "    <tr>\n",
       "      <th>max</th>\n",
       "      <td>9.948100e+06</td>\n",
       "      <td>2.775000e+07</td>\n",
       "      <td>2.450000e+07</td>\n",
       "      <td>321936.090000</td>\n",
       "      <td>2015.000000</td>\n",
       "    </tr>\n",
       "  </tbody>\n",
       "</table>\n",
       "</div>"
      ],
      "text/plain": [
       "       tax_building     tax_total      tax_land   tax_property  \\\n",
       "count  8.989500e+04  9.027400e+04  9.027400e+04   90269.000000   \n",
       "mean   1.800934e+05  4.576726e+05  2.783353e+05    5983.975927   \n",
       "std    2.091299e+05  5.548844e+05  4.004955e+05    6838.876956   \n",
       "min    1.000000e+02  2.200000e+01  2.200000e+01      49.080000   \n",
       "25%    8.124500e+04  1.990232e+05  8.222800e+04    2872.830000   \n",
       "50%    1.320000e+05  3.428720e+05  1.929700e+05    4542.750000   \n",
       "75%    2.105345e+05  5.405890e+05  3.454195e+05    6901.090000   \n",
       "max    9.948100e+06  2.775000e+07  2.450000e+07  321936.090000   \n",
       "\n",
       "       tax_delinquency_year  \n",
       "count           1783.000000  \n",
       "mean            2013.346607  \n",
       "std                1.837964  \n",
       "min             1999.000000  \n",
       "25%             2013.000000  \n",
       "50%             2014.000000  \n",
       "75%             2015.000000  \n",
       "max             2015.000000  "
      ]
     },
     "execution_count": 91,
     "metadata": {},
     "output_type": "execute_result"
    }
   ],
   "source": [
    "tax_features.describe()"
   ]
  },
  {
   "cell_type": "markdown",
   "metadata": {},
   "source": [
    "#### \"Other\" Features"
   ]
  },
  {
   "cell_type": "markdown",
   "metadata": {},
   "source": [
    "What is the distribution of the other features?"
   ]
  },
  {
   "cell_type": "code",
   "execution_count": 92,
   "metadata": {},
   "outputs": [],
   "source": [
    "area_num_tax_dates_features_cols = list(area_features.columns) \\\n",
    "                    + list(num_features.columns) \\\n",
    "                    + list(tax_features.columns) \\\n",
    "                    + list(dates_features.columns)"
   ]
  },
  {
   "cell_type": "code",
   "execution_count": 93,
   "metadata": {},
   "outputs": [
    {
     "data": {
      "text/plain": [
       "['parcelid',\n",
       " 'logerror',\n",
       " 'aircon',\n",
       " 'architectural_style',\n",
       " 'framing',\n",
       " 'quality',\n",
       " 'deck',\n",
       " 'fips',\n",
       " 'flag_tub',\n",
       " 'heating',\n",
       " 'latitude',\n",
       " 'longitude',\n",
       " 'pooltypeid10',\n",
       " 'pooltypeid2',\n",
       " 'pooltypeid7',\n",
       " 'zoning_landuse_county',\n",
       " 'zoning_landuse',\n",
       " 'zoning_property',\n",
       " 'rawcensustractandblock',\n",
       " 'region_city',\n",
       " 'region_county',\n",
       " 'region_neighbor',\n",
       " 'region_zip',\n",
       " 'story',\n",
       " 'material',\n",
       " 'flag_fireplace',\n",
       " 'censustractandblock']"
      ]
     },
     "execution_count": 93,
     "metadata": {},
     "output_type": "execute_result"
    }
   ],
   "source": [
    "other_features = df.loc[:, ~df.columns.isin(area_num_tax_dates_features_cols)]\n",
    "list(other_features.columns)"
   ]
  },
  {
   "cell_type": "code",
   "execution_count": 94,
   "metadata": {},
   "outputs": [
    {
     "data": {
      "text/html": [
       "<div>\n",
       "<style scoped>\n",
       "    .dataframe tbody tr th:only-of-type {\n",
       "        vertical-align: middle;\n",
       "    }\n",
       "\n",
       "    .dataframe tbody tr th {\n",
       "        vertical-align: top;\n",
       "    }\n",
       "\n",
       "    .dataframe thead th {\n",
       "        text-align: right;\n",
       "    }\n",
       "</style>\n",
       "<table border=\"1\" class=\"dataframe\">\n",
       "  <thead>\n",
       "    <tr style=\"text-align: right;\">\n",
       "      <th></th>\n",
       "      <th>parcelid</th>\n",
       "      <th>logerror</th>\n",
       "      <th>aircon</th>\n",
       "      <th>architectural_style</th>\n",
       "      <th>framing</th>\n",
       "      <th>quality</th>\n",
       "      <th>deck</th>\n",
       "      <th>fips</th>\n",
       "      <th>heating</th>\n",
       "      <th>latitude</th>\n",
       "      <th>...</th>\n",
       "      <th>pooltypeid7</th>\n",
       "      <th>zoning_landuse</th>\n",
       "      <th>rawcensustractandblock</th>\n",
       "      <th>region_city</th>\n",
       "      <th>region_county</th>\n",
       "      <th>region_neighbor</th>\n",
       "      <th>region_zip</th>\n",
       "      <th>story</th>\n",
       "      <th>material</th>\n",
       "      <th>censustractandblock</th>\n",
       "    </tr>\n",
       "  </thead>\n",
       "  <tbody>\n",
       "    <tr>\n",
       "      <th>count</th>\n",
       "      <td>9.027500e+04</td>\n",
       "      <td>90275.000000</td>\n",
       "      <td>28781.000000</td>\n",
       "      <td>261.000000</td>\n",
       "      <td>16.0</td>\n",
       "      <td>57364.000000</td>\n",
       "      <td>658.0</td>\n",
       "      <td>90275.000000</td>\n",
       "      <td>56080.000000</td>\n",
       "      <td>9.027500e+04</td>\n",
       "      <td>...</td>\n",
       "      <td>16697.0</td>\n",
       "      <td>90275.000000</td>\n",
       "      <td>9.027500e+04</td>\n",
       "      <td>88472.000000</td>\n",
       "      <td>90275.000000</td>\n",
       "      <td>36012.000000</td>\n",
       "      <td>90240.000000</td>\n",
       "      <td>43.0</td>\n",
       "      <td>299.000000</td>\n",
       "      <td>8.967000e+04</td>\n",
       "    </tr>\n",
       "    <tr>\n",
       "      <th>mean</th>\n",
       "      <td>1.298466e+07</td>\n",
       "      <td>0.011457</td>\n",
       "      <td>1.816372</td>\n",
       "      <td>7.229885</td>\n",
       "      <td>4.0</td>\n",
       "      <td>5.565407</td>\n",
       "      <td>66.0</td>\n",
       "      <td>6048.870551</td>\n",
       "      <td>3.926979</td>\n",
       "      <td>3.400541e+07</td>\n",
       "      <td>...</td>\n",
       "      <td>1.0</td>\n",
       "      <td>261.832179</td>\n",
       "      <td>6.049179e+07</td>\n",
       "      <td>33761.332851</td>\n",
       "      <td>2525.420770</td>\n",
       "      <td>190646.540237</td>\n",
       "      <td>96586.131184</td>\n",
       "      <td>7.0</td>\n",
       "      <td>6.010033</td>\n",
       "      <td>6.049151e+13</td>\n",
       "    </tr>\n",
       "    <tr>\n",
       "      <th>std</th>\n",
       "      <td>2.504510e+06</td>\n",
       "      <td>0.161079</td>\n",
       "      <td>2.974168</td>\n",
       "      <td>2.716196</td>\n",
       "      <td>0.0</td>\n",
       "      <td>1.900602</td>\n",
       "      <td>0.0</td>\n",
       "      <td>20.663461</td>\n",
       "      <td>3.684382</td>\n",
       "      <td>2.649654e+05</td>\n",
       "      <td>...</td>\n",
       "      <td>0.0</td>\n",
       "      <td>5.182901</td>\n",
       "      <td>2.050549e+05</td>\n",
       "      <td>46672.393863</td>\n",
       "      <td>805.694842</td>\n",
       "      <td>166228.910572</td>\n",
       "      <td>3661.339094</td>\n",
       "      <td>0.0</td>\n",
       "      <td>0.437235</td>\n",
       "      <td>2.046605e+11</td>\n",
       "    </tr>\n",
       "    <tr>\n",
       "      <th>min</th>\n",
       "      <td>1.071174e+07</td>\n",
       "      <td>-4.605000</td>\n",
       "      <td>1.000000</td>\n",
       "      <td>2.000000</td>\n",
       "      <td>4.0</td>\n",
       "      <td>1.000000</td>\n",
       "      <td>66.0</td>\n",
       "      <td>6037.000000</td>\n",
       "      <td>1.000000</td>\n",
       "      <td>3.333930e+07</td>\n",
       "      <td>...</td>\n",
       "      <td>1.0</td>\n",
       "      <td>31.000000</td>\n",
       "      <td>6.037101e+07</td>\n",
       "      <td>3491.000000</td>\n",
       "      <td>1286.000000</td>\n",
       "      <td>6952.000000</td>\n",
       "      <td>95982.000000</td>\n",
       "      <td>7.0</td>\n",
       "      <td>4.000000</td>\n",
       "      <td>6.037101e+13</td>\n",
       "    </tr>\n",
       "    <tr>\n",
       "      <th>25%</th>\n",
       "      <td>1.155950e+07</td>\n",
       "      <td>-0.025300</td>\n",
       "      <td>1.000000</td>\n",
       "      <td>7.000000</td>\n",
       "      <td>4.0</td>\n",
       "      <td>4.000000</td>\n",
       "      <td>66.0</td>\n",
       "      <td>6037.000000</td>\n",
       "      <td>2.000000</td>\n",
       "      <td>3.381154e+07</td>\n",
       "      <td>...</td>\n",
       "      <td>1.0</td>\n",
       "      <td>261.000000</td>\n",
       "      <td>6.037320e+07</td>\n",
       "      <td>12447.000000</td>\n",
       "      <td>1286.000000</td>\n",
       "      <td>46736.000000</td>\n",
       "      <td>96193.000000</td>\n",
       "      <td>7.0</td>\n",
       "      <td>6.000000</td>\n",
       "      <td>6.037320e+13</td>\n",
       "    </tr>\n",
       "    <tr>\n",
       "      <th>50%</th>\n",
       "      <td>1.254734e+07</td>\n",
       "      <td>0.006000</td>\n",
       "      <td>1.000000</td>\n",
       "      <td>7.000000</td>\n",
       "      <td>4.0</td>\n",
       "      <td>7.000000</td>\n",
       "      <td>66.0</td>\n",
       "      <td>6037.000000</td>\n",
       "      <td>2.000000</td>\n",
       "      <td>3.402150e+07</td>\n",
       "      <td>...</td>\n",
       "      <td>1.0</td>\n",
       "      <td>261.000000</td>\n",
       "      <td>6.037620e+07</td>\n",
       "      <td>25218.000000</td>\n",
       "      <td>3101.000000</td>\n",
       "      <td>118887.000000</td>\n",
       "      <td>96393.000000</td>\n",
       "      <td>7.0</td>\n",
       "      <td>6.000000</td>\n",
       "      <td>6.037615e+13</td>\n",
       "    </tr>\n",
       "    <tr>\n",
       "      <th>75%</th>\n",
       "      <td>1.422755e+07</td>\n",
       "      <td>0.039200</td>\n",
       "      <td>1.000000</td>\n",
       "      <td>7.000000</td>\n",
       "      <td>4.0</td>\n",
       "      <td>7.000000</td>\n",
       "      <td>66.0</td>\n",
       "      <td>6059.000000</td>\n",
       "      <td>7.000000</td>\n",
       "      <td>3.417274e+07</td>\n",
       "      <td>...</td>\n",
       "      <td>1.0</td>\n",
       "      <td>266.000000</td>\n",
       "      <td>6.059042e+07</td>\n",
       "      <td>45457.000000</td>\n",
       "      <td>3101.000000</td>\n",
       "      <td>274800.000000</td>\n",
       "      <td>96987.000000</td>\n",
       "      <td>7.0</td>\n",
       "      <td>6.000000</td>\n",
       "      <td>6.059042e+13</td>\n",
       "    </tr>\n",
       "    <tr>\n",
       "      <th>max</th>\n",
       "      <td>1.629608e+08</td>\n",
       "      <td>4.737000</td>\n",
       "      <td>13.000000</td>\n",
       "      <td>21.000000</td>\n",
       "      <td>4.0</td>\n",
       "      <td>12.000000</td>\n",
       "      <td>66.0</td>\n",
       "      <td>6111.000000</td>\n",
       "      <td>24.000000</td>\n",
       "      <td>3.481601e+07</td>\n",
       "      <td>...</td>\n",
       "      <td>1.0</td>\n",
       "      <td>275.000000</td>\n",
       "      <td>6.111009e+07</td>\n",
       "      <td>396556.000000</td>\n",
       "      <td>3101.000000</td>\n",
       "      <td>764167.000000</td>\n",
       "      <td>399675.000000</td>\n",
       "      <td>7.0</td>\n",
       "      <td>13.000000</td>\n",
       "      <td>6.111009e+13</td>\n",
       "    </tr>\n",
       "  </tbody>\n",
       "</table>\n",
       "<p>8 rows × 23 columns</p>\n",
       "</div>"
      ],
      "text/plain": [
       "           parcelid      logerror        aircon  architectural_style  framing  \\\n",
       "count  9.027500e+04  90275.000000  28781.000000           261.000000     16.0   \n",
       "mean   1.298466e+07      0.011457      1.816372             7.229885      4.0   \n",
       "std    2.504510e+06      0.161079      2.974168             2.716196      0.0   \n",
       "min    1.071174e+07     -4.605000      1.000000             2.000000      4.0   \n",
       "25%    1.155950e+07     -0.025300      1.000000             7.000000      4.0   \n",
       "50%    1.254734e+07      0.006000      1.000000             7.000000      4.0   \n",
       "75%    1.422755e+07      0.039200      1.000000             7.000000      4.0   \n",
       "max    1.629608e+08      4.737000     13.000000            21.000000      4.0   \n",
       "\n",
       "            quality   deck          fips       heating      latitude  ...  \\\n",
       "count  57364.000000  658.0  90275.000000  56080.000000  9.027500e+04  ...   \n",
       "mean       5.565407   66.0   6048.870551      3.926979  3.400541e+07  ...   \n",
       "std        1.900602    0.0     20.663461      3.684382  2.649654e+05  ...   \n",
       "min        1.000000   66.0   6037.000000      1.000000  3.333930e+07  ...   \n",
       "25%        4.000000   66.0   6037.000000      2.000000  3.381154e+07  ...   \n",
       "50%        7.000000   66.0   6037.000000      2.000000  3.402150e+07  ...   \n",
       "75%        7.000000   66.0   6059.000000      7.000000  3.417274e+07  ...   \n",
       "max       12.000000   66.0   6111.000000     24.000000  3.481601e+07  ...   \n",
       "\n",
       "       pooltypeid7  zoning_landuse  rawcensustractandblock    region_city  \\\n",
       "count      16697.0    90275.000000            9.027500e+04   88472.000000   \n",
       "mean           1.0      261.832179            6.049179e+07   33761.332851   \n",
       "std            0.0        5.182901            2.050549e+05   46672.393863   \n",
       "min            1.0       31.000000            6.037101e+07    3491.000000   \n",
       "25%            1.0      261.000000            6.037320e+07   12447.000000   \n",
       "50%            1.0      261.000000            6.037620e+07   25218.000000   \n",
       "75%            1.0      266.000000            6.059042e+07   45457.000000   \n",
       "max            1.0      275.000000            6.111009e+07  396556.000000   \n",
       "\n",
       "       region_county  region_neighbor     region_zip  story    material  \\\n",
       "count   90275.000000     36012.000000   90240.000000   43.0  299.000000   \n",
       "mean     2525.420770    190646.540237   96586.131184    7.0    6.010033   \n",
       "std       805.694842    166228.910572    3661.339094    0.0    0.437235   \n",
       "min      1286.000000      6952.000000   95982.000000    7.0    4.000000   \n",
       "25%      1286.000000     46736.000000   96193.000000    7.0    6.000000   \n",
       "50%      3101.000000    118887.000000   96393.000000    7.0    6.000000   \n",
       "75%      3101.000000    274800.000000   96987.000000    7.0    6.000000   \n",
       "max      3101.000000    764167.000000  399675.000000    7.0   13.000000   \n",
       "\n",
       "       censustractandblock  \n",
       "count         8.967000e+04  \n",
       "mean          6.049151e+13  \n",
       "std           2.046605e+11  \n",
       "min           6.037101e+13  \n",
       "25%           6.037320e+13  \n",
       "50%           6.037615e+13  \n",
       "75%           6.059042e+13  \n",
       "max           6.111009e+13  \n",
       "\n",
       "[8 rows x 23 columns]"
      ]
     },
     "execution_count": 94,
     "metadata": {},
     "output_type": "execute_result"
    }
   ],
   "source": [
    "other_features.describe()"
   ]
  },
  {
   "cell_type": "markdown",
   "metadata": {},
   "source": [
    "## Wrangle, Prepare and Cleanse the Data"
   ]
  },
  {
   "cell_type": "markdown",
   "metadata": {},
   "source": [
    "### Missing Values"
   ]
  },
  {
   "cell_type": "markdown",
   "metadata": {},
   "source": [
    "Let's see the distribution of missing values across features."
   ]
  },
  {
   "cell_type": "code",
   "execution_count": 95,
   "metadata": {},
   "outputs": [],
   "source": [
    "# create a dataframe of missing values\n",
    "missing_values_df = pd.DataFrame({'missing_values': df.isnull()\\\n",
    "                                                      .sum(), \\\n",
    "                                  'prop_missing_values': df.isnull()\\\n",
    "                                                           .mean()\\\n",
    "                                                           .round(4)*100\n",
    "                                 }) \\\n",
    ".sort_values(by = 'prop_missing_values', ascending = False)"
   ]
  },
  {
   "cell_type": "code",
   "execution_count": 96,
   "metadata": {},
   "outputs": [],
   "source": [
    "# give the index the feature names\n",
    "missing_values_df.index.name = 'features'"
   ]
  },
  {
   "cell_type": "code",
   "execution_count": 97,
   "metadata": {},
   "outputs": [
    {
     "data": {
      "text/html": [
       "<div>\n",
       "<style scoped>\n",
       "    .dataframe tbody tr th:only-of-type {\n",
       "        vertical-align: middle;\n",
       "    }\n",
       "\n",
       "    .dataframe tbody tr th {\n",
       "        vertical-align: top;\n",
       "    }\n",
       "\n",
       "    .dataframe thead th {\n",
       "        text-align: right;\n",
       "    }\n",
       "</style>\n",
       "<table border=\"1\" class=\"dataframe\">\n",
       "  <thead>\n",
       "    <tr style=\"text-align: right;\">\n",
       "      <th></th>\n",
       "      <th>missing_values</th>\n",
       "      <th>prop_missing_values</th>\n",
       "    </tr>\n",
       "    <tr>\n",
       "      <th>features</th>\n",
       "      <th></th>\n",
       "      <th></th>\n",
       "    </tr>\n",
       "  </thead>\n",
       "  <tbody>\n",
       "    <tr>\n",
       "      <th>framing</th>\n",
       "      <td>90259</td>\n",
       "      <td>99.98</td>\n",
       "    </tr>\n",
       "    <tr>\n",
       "      <th>area_liveperi_finished</th>\n",
       "      <td>90242</td>\n",
       "      <td>99.96</td>\n",
       "    </tr>\n",
       "    <tr>\n",
       "      <th>story</th>\n",
       "      <td>90232</td>\n",
       "      <td>99.95</td>\n",
       "    </tr>\n",
       "    <tr>\n",
       "      <th>area_basement</th>\n",
       "      <td>90232</td>\n",
       "      <td>99.95</td>\n",
       "    </tr>\n",
       "    <tr>\n",
       "      <th>area_shed</th>\n",
       "      <td>90180</td>\n",
       "      <td>99.89</td>\n",
       "    </tr>\n",
       "    <tr>\n",
       "      <th>flag_fireplace</th>\n",
       "      <td>90053</td>\n",
       "      <td>99.75</td>\n",
       "    </tr>\n",
       "    <tr>\n",
       "      <th>architectural_style</th>\n",
       "      <td>90014</td>\n",
       "      <td>99.71</td>\n",
       "    </tr>\n",
       "    <tr>\n",
       "      <th>material</th>\n",
       "      <td>89976</td>\n",
       "      <td>99.67</td>\n",
       "    </tr>\n",
       "    <tr>\n",
       "      <th>area_base</th>\n",
       "      <td>89854</td>\n",
       "      <td>99.53</td>\n",
       "    </tr>\n",
       "    <tr>\n",
       "      <th>deck</th>\n",
       "      <td>89617</td>\n",
       "      <td>99.27</td>\n",
       "    </tr>\n",
       "    <tr>\n",
       "      <th>area_pool</th>\n",
       "      <td>89306</td>\n",
       "      <td>98.93</td>\n",
       "    </tr>\n",
       "    <tr>\n",
       "      <th>pooltypeid10</th>\n",
       "      <td>89114</td>\n",
       "      <td>98.71</td>\n",
       "    </tr>\n",
       "    <tr>\n",
       "      <th>pooltypeid2</th>\n",
       "      <td>89071</td>\n",
       "      <td>98.67</td>\n",
       "    </tr>\n",
       "    <tr>\n",
       "      <th>tax_delinquency_flag</th>\n",
       "      <td>88492</td>\n",
       "      <td>98.02</td>\n",
       "    </tr>\n",
       "    <tr>\n",
       "      <th>tax_delinquency_year</th>\n",
       "      <td>88492</td>\n",
       "      <td>98.02</td>\n",
       "    </tr>\n",
       "    <tr>\n",
       "      <th>flag_tub</th>\n",
       "      <td>87910</td>\n",
       "      <td>97.38</td>\n",
       "    </tr>\n",
       "    <tr>\n",
       "      <th>area_patio</th>\n",
       "      <td>87629</td>\n",
       "      <td>97.07</td>\n",
       "    </tr>\n",
       "    <tr>\n",
       "      <th>area_total_finished</th>\n",
       "      <td>86711</td>\n",
       "      <td>96.05</td>\n",
       "    </tr>\n",
       "    <tr>\n",
       "      <th>area_firstfloor_finished</th>\n",
       "      <td>83419</td>\n",
       "      <td>92.41</td>\n",
       "    </tr>\n",
       "    <tr>\n",
       "      <th>area_unknown</th>\n",
       "      <td>83419</td>\n",
       "      <td>92.41</td>\n",
       "    </tr>\n",
       "    <tr>\n",
       "      <th>num_fireplace</th>\n",
       "      <td>80668</td>\n",
       "      <td>89.36</td>\n",
       "    </tr>\n",
       "    <tr>\n",
       "      <th>num_75_bath</th>\n",
       "      <td>78266</td>\n",
       "      <td>86.70</td>\n",
       "    </tr>\n",
       "    <tr>\n",
       "      <th>pooltypeid7</th>\n",
       "      <td>73578</td>\n",
       "      <td>81.50</td>\n",
       "    </tr>\n",
       "    <tr>\n",
       "      <th>num_pool</th>\n",
       "      <td>72374</td>\n",
       "      <td>80.17</td>\n",
       "    </tr>\n",
       "    <tr>\n",
       "      <th>num_story</th>\n",
       "      <td>69705</td>\n",
       "      <td>77.21</td>\n",
       "    </tr>\n",
       "    <tr>\n",
       "      <th>aircon</th>\n",
       "      <td>61494</td>\n",
       "      <td>68.12</td>\n",
       "    </tr>\n",
       "    <tr>\n",
       "      <th>area_garage</th>\n",
       "      <td>60338</td>\n",
       "      <td>66.84</td>\n",
       "    </tr>\n",
       "    <tr>\n",
       "      <th>num_garage</th>\n",
       "      <td>60338</td>\n",
       "      <td>66.84</td>\n",
       "    </tr>\n",
       "    <tr>\n",
       "      <th>region_neighbor</th>\n",
       "      <td>54263</td>\n",
       "      <td>60.11</td>\n",
       "    </tr>\n",
       "    <tr>\n",
       "      <th>heating</th>\n",
       "      <td>34195</td>\n",
       "      <td>37.88</td>\n",
       "    </tr>\n",
       "    <tr>\n",
       "      <th>quality</th>\n",
       "      <td>32911</td>\n",
       "      <td>36.46</td>\n",
       "    </tr>\n",
       "    <tr>\n",
       "      <th>zoning_property</th>\n",
       "      <td>31962</td>\n",
       "      <td>35.41</td>\n",
       "    </tr>\n",
       "    <tr>\n",
       "      <th>num_unit</th>\n",
       "      <td>31922</td>\n",
       "      <td>35.36</td>\n",
       "    </tr>\n",
       "    <tr>\n",
       "      <th>area_lot</th>\n",
       "      <td>10150</td>\n",
       "      <td>11.24</td>\n",
       "    </tr>\n",
       "    <tr>\n",
       "      <th>area_live_finished</th>\n",
       "      <td>4679</td>\n",
       "      <td>5.18</td>\n",
       "    </tr>\n",
       "    <tr>\n",
       "      <th>region_city</th>\n",
       "      <td>1803</td>\n",
       "      <td>2.00</td>\n",
       "    </tr>\n",
       "    <tr>\n",
       "      <th>num_bath</th>\n",
       "      <td>1182</td>\n",
       "      <td>1.31</td>\n",
       "    </tr>\n",
       "    <tr>\n",
       "      <th>num_bathroom_calc</th>\n",
       "      <td>1182</td>\n",
       "      <td>1.31</td>\n",
       "    </tr>\n",
       "    <tr>\n",
       "      <th>build_year</th>\n",
       "      <td>756</td>\n",
       "      <td>0.84</td>\n",
       "    </tr>\n",
       "    <tr>\n",
       "      <th>area_total_calc</th>\n",
       "      <td>661</td>\n",
       "      <td>0.73</td>\n",
       "    </tr>\n",
       "    <tr>\n",
       "      <th>censustractandblock</th>\n",
       "      <td>605</td>\n",
       "      <td>0.67</td>\n",
       "    </tr>\n",
       "    <tr>\n",
       "      <th>tax_building</th>\n",
       "      <td>380</td>\n",
       "      <td>0.42</td>\n",
       "    </tr>\n",
       "    <tr>\n",
       "      <th>region_zip</th>\n",
       "      <td>35</td>\n",
       "      <td>0.04</td>\n",
       "    </tr>\n",
       "    <tr>\n",
       "      <th>tax_property</th>\n",
       "      <td>6</td>\n",
       "      <td>0.01</td>\n",
       "    </tr>\n",
       "    <tr>\n",
       "      <th>num_room</th>\n",
       "      <td>0</td>\n",
       "      <td>0.00</td>\n",
       "    </tr>\n",
       "    <tr>\n",
       "      <th>transactiondate</th>\n",
       "      <td>0</td>\n",
       "      <td>0.00</td>\n",
       "    </tr>\n",
       "    <tr>\n",
       "      <th>num_bathroom</th>\n",
       "      <td>0</td>\n",
       "      <td>0.00</td>\n",
       "    </tr>\n",
       "    <tr>\n",
       "      <th>tax_land</th>\n",
       "      <td>1</td>\n",
       "      <td>0.00</td>\n",
       "    </tr>\n",
       "    <tr>\n",
       "      <th>tax_total</th>\n",
       "      <td>1</td>\n",
       "      <td>0.00</td>\n",
       "    </tr>\n",
       "    <tr>\n",
       "      <th>num_bedroom</th>\n",
       "      <td>0</td>\n",
       "      <td>0.00</td>\n",
       "    </tr>\n",
       "    <tr>\n",
       "      <th>fips</th>\n",
       "      <td>0</td>\n",
       "      <td>0.00</td>\n",
       "    </tr>\n",
       "    <tr>\n",
       "      <th>latitude</th>\n",
       "      <td>0</td>\n",
       "      <td>0.00</td>\n",
       "    </tr>\n",
       "    <tr>\n",
       "      <th>longitude</th>\n",
       "      <td>0</td>\n",
       "      <td>0.00</td>\n",
       "    </tr>\n",
       "    <tr>\n",
       "      <th>logerror</th>\n",
       "      <td>0</td>\n",
       "      <td>0.00</td>\n",
       "    </tr>\n",
       "    <tr>\n",
       "      <th>zoning_landuse_county</th>\n",
       "      <td>1</td>\n",
       "      <td>0.00</td>\n",
       "    </tr>\n",
       "    <tr>\n",
       "      <th>zoning_landuse</th>\n",
       "      <td>0</td>\n",
       "      <td>0.00</td>\n",
       "    </tr>\n",
       "    <tr>\n",
       "      <th>rawcensustractandblock</th>\n",
       "      <td>0</td>\n",
       "      <td>0.00</td>\n",
       "    </tr>\n",
       "    <tr>\n",
       "      <th>region_county</th>\n",
       "      <td>0</td>\n",
       "      <td>0.00</td>\n",
       "    </tr>\n",
       "    <tr>\n",
       "      <th>parcelid</th>\n",
       "      <td>0</td>\n",
       "      <td>0.00</td>\n",
       "    </tr>\n",
       "  </tbody>\n",
       "</table>\n",
       "</div>"
      ],
      "text/plain": [
       "                          missing_values  prop_missing_values\n",
       "features                                                     \n",
       "framing                            90259                99.98\n",
       "area_liveperi_finished             90242                99.96\n",
       "story                              90232                99.95\n",
       "area_basement                      90232                99.95\n",
       "area_shed                          90180                99.89\n",
       "flag_fireplace                     90053                99.75\n",
       "architectural_style                90014                99.71\n",
       "material                           89976                99.67\n",
       "area_base                          89854                99.53\n",
       "deck                               89617                99.27\n",
       "area_pool                          89306                98.93\n",
       "pooltypeid10                       89114                98.71\n",
       "pooltypeid2                        89071                98.67\n",
       "tax_delinquency_flag               88492                98.02\n",
       "tax_delinquency_year               88492                98.02\n",
       "flag_tub                           87910                97.38\n",
       "area_patio                         87629                97.07\n",
       "area_total_finished                86711                96.05\n",
       "area_firstfloor_finished           83419                92.41\n",
       "area_unknown                       83419                92.41\n",
       "num_fireplace                      80668                89.36\n",
       "num_75_bath                        78266                86.70\n",
       "pooltypeid7                        73578                81.50\n",
       "num_pool                           72374                80.17\n",
       "num_story                          69705                77.21\n",
       "aircon                             61494                68.12\n",
       "area_garage                        60338                66.84\n",
       "num_garage                         60338                66.84\n",
       "region_neighbor                    54263                60.11\n",
       "heating                            34195                37.88\n",
       "quality                            32911                36.46\n",
       "zoning_property                    31962                35.41\n",
       "num_unit                           31922                35.36\n",
       "area_lot                           10150                11.24\n",
       "area_live_finished                  4679                 5.18\n",
       "region_city                         1803                 2.00\n",
       "num_bath                            1182                 1.31\n",
       "num_bathroom_calc                   1182                 1.31\n",
       "build_year                           756                 0.84\n",
       "area_total_calc                      661                 0.73\n",
       "censustractandblock                  605                 0.67\n",
       "tax_building                         380                 0.42\n",
       "region_zip                            35                 0.04\n",
       "tax_property                           6                 0.01\n",
       "num_room                               0                 0.00\n",
       "transactiondate                        0                 0.00\n",
       "num_bathroom                           0                 0.00\n",
       "tax_land                               1                 0.00\n",
       "tax_total                              1                 0.00\n",
       "num_bedroom                            0                 0.00\n",
       "fips                                   0                 0.00\n",
       "latitude                               0                 0.00\n",
       "longitude                              0                 0.00\n",
       "logerror                               0                 0.00\n",
       "zoning_landuse_county                  1                 0.00\n",
       "zoning_landuse                         0                 0.00\n",
       "rawcensustractandblock                 0                 0.00\n",
       "region_county                          0                 0.00\n",
       "parcelid                               0                 0.00"
      ]
     },
     "execution_count": 97,
     "metadata": {},
     "output_type": "execute_result"
    }
   ],
   "source": [
    "missing_values_df"
   ]
  },
  {
   "cell_type": "markdown",
   "metadata": {},
   "source": [
    "We can plot the above table as well to have a better understanding of the missing values distribution amongst features."
   ]
  },
  {
   "cell_type": "code",
   "execution_count": 98,
   "metadata": {},
   "outputs": [
    {
     "data": {
      "text/plain": [
       "(<Figure size 864x1296 with 1 Axes>,\n",
       " <matplotlib.axes._subplots.AxesSubplot at 0x10512cd30>)"
      ]
     },
     "execution_count": 98,
     "metadata": {},
     "output_type": "execute_result"
    },
    {
     "data": {
      "text/plain": [
       "[Text(0, 0.5, 'features'), Text(0.5, 0, 'proportion of missing values')]"
      ]
     },
     "execution_count": 98,
     "metadata": {},
     "output_type": "execute_result"
    },
    {
     "data": {
      "text/plain": [
       "Text(0.5, 1.0, 'Proportion of Missing Values per Feature')"
      ]
     },
     "execution_count": 98,
     "metadata": {},
     "output_type": "execute_result"
    },
    {
     "data": {
      "image/png": "[encoded data removed]",
      "text/plain": [
       "<Figure size 864x1296 with 1 Axes>"
      ]
     },
     "metadata": {},
     "output_type": "display_data"
    }
   ],
   "source": [
    "sns.set_context(\"paper\", rc={\"figure.figsize\":(8,6), \"font.size\":10,\"axes.titlesize\":20,\"axes.labelsize\":15})  \n",
    "\n",
    "# set an appropriate figure size\n",
    "plt.subplots(figsize=(12, 18))\n",
    "\n",
    "# barplot\n",
    "ax = sns.barplot(x=\"prop_missing_values\", \n",
    "            y=\"features\", \n",
    "            data= missing_values_df.reset_index().sort_values(by = 'prop_missing_values', ascending=True),\n",
    "            label=\"prop_missing_values\", \n",
    "            color=\"b\")\n",
    "\n",
    "\n",
    "\n",
    "# set axis labels\n",
    "ax.set(xlabel='proportion of missing values', ylabel='features')\n",
    "\n",
    "# set title\n",
    "ax.set_title(\"Proportion of Missing Values per Feature\", fontsize = 15)\n"
   ]
  },
  {
   "cell_type": "markdown",
   "metadata": {},
   "source": [
    "It is not necessary to keep all the features, especially the ones with a high percentage of missing values. Keeping them would imply we would need to do lots of imputation on them and imputation introduces artificial (and maybe unreliable) information in the dataset.\n",
    "\n",
    "Here we decide to keep features that have less than 75% missing values. "
   ]
  },
  {
   "cell_type": "code",
   "execution_count": 99,
   "metadata": {},
   "outputs": [
    {
     "data": {
      "text/plain": [
       "['aircon',\n",
       " 'area_garage',\n",
       " 'area_live_finished',\n",
       " 'area_lot',\n",
       " 'area_total_calc',\n",
       " 'build_year',\n",
       " 'censustractandblock',\n",
       " 'fips',\n",
       " 'heating',\n",
       " 'latitude',\n",
       " 'logerror',\n",
       " 'longitude',\n",
       " 'num_bath',\n",
       " 'num_bathroom',\n",
       " 'num_bathroom_calc',\n",
       " 'num_bedroom',\n",
       " 'num_garage',\n",
       " 'num_room',\n",
       " 'num_unit',\n",
       " 'parcelid',\n",
       " 'quality',\n",
       " 'rawcensustractandblock',\n",
       " 'region_city',\n",
       " 'region_county',\n",
       " 'region_neighbor',\n",
       " 'region_zip',\n",
       " 'tax_building',\n",
       " 'tax_land',\n",
       " 'tax_property',\n",
       " 'tax_total',\n",
       " 'transactiondate',\n",
       " 'zoning_landuse',\n",
       " 'zoning_landuse_county',\n",
       " 'zoning_property']"
      ]
     },
     "execution_count": 99,
     "metadata": {},
     "output_type": "execute_result"
    }
   ],
   "source": [
    "features_to_keep = list(missing_values_df[missing_values_df['prop_missing_values'] < 75].index)\n",
    "sorted(features_to_keep)"
   ]
  },
  {
   "cell_type": "markdown",
   "metadata": {},
   "source": [
    "This leaves us with 34 features (if we exclude parcelid which is just kind of an index)."
   ]
  },
  {
   "cell_type": "code",
   "execution_count": 100,
   "metadata": {},
   "outputs": [
    {
     "data": {
      "text/plain": [
       "['aircon',\n",
       " 'area_garage',\n",
       " 'area_live_finished',\n",
       " 'area_lot',\n",
       " 'area_total_calc',\n",
       " 'build_year',\n",
       " 'censustractandblock',\n",
       " 'fips',\n",
       " 'heating',\n",
       " 'latitude',\n",
       " 'logerror',\n",
       " 'longitude',\n",
       " 'num_bath',\n",
       " 'num_bathroom',\n",
       " 'num_bathroom_calc',\n",
       " 'num_bedroom',\n",
       " 'num_garage',\n",
       " 'num_room',\n",
       " 'num_unit',\n",
       " 'parcelid',\n",
       " 'quality',\n",
       " 'rawcensustractandblock',\n",
       " 'region_city',\n",
       " 'region_county',\n",
       " 'region_neighbor',\n",
       " 'region_zip',\n",
       " 'tax_building',\n",
       " 'tax_land',\n",
       " 'tax_property',\n",
       " 'tax_total',\n",
       " 'transactiondate',\n",
       " 'zoning_landuse',\n",
       " 'zoning_landuse_county',\n",
       " 'zoning_property']"
      ]
     },
     "execution_count": 100,
     "metadata": {},
     "output_type": "execute_result"
    }
   ],
   "source": [
    "# create a new dataframe by keeping only features whose missing values < 75\n",
    "df_no_missv = df.loc[:, features_to_keep]\n",
    "sorted(list(df_no_missv.columns))"
   ]
  },
  {
   "cell_type": "markdown",
   "metadata": {},
   "source": [
    "## Analyze, Identify and Explore the Data"
   ]
  },
  {
   "cell_type": "markdown",
   "metadata": {},
   "source": [
    "### Correlation between features and target variable \"logerror\""
   ]
  },
  {
   "cell_type": "markdown",
   "metadata": {},
   "source": [
    "#### Correlation between \"area\" features and target variable \"logerror\""
   ]
  },
  {
   "cell_type": "code",
   "execution_count": 101,
   "metadata": {},
   "outputs": [],
   "source": [
    "# create list of \"area\" features\n",
    "list_area_features = list(df_no_missv.loc[:, df_no_missv.columns.str.contains(\"area\")].columns)"
   ]
  },
  {
   "cell_type": "code",
   "execution_count": 102,
   "metadata": {},
   "outputs": [
    {
     "data": {
      "text/plain": [
       "['area_garage',\n",
       " 'area_lot',\n",
       " 'area_live_finished',\n",
       " 'area_total_calc',\n",
       " 'logerror']"
      ]
     },
     "execution_count": 102,
     "metadata": {},
     "output_type": "execute_result"
    }
   ],
   "source": [
    "# append \"logerror\"\n",
    "list_area_features.append('logerror')\n",
    "list_area_features"
   ]
  },
  {
   "cell_type": "markdown",
   "metadata": {},
   "source": [
    "Let's now create a correlation plot to see what is the extent of the linear association between each of the \"area\" variables and the *logerror*."
   ]
  },
  {
   "cell_type": "code",
   "execution_count": 103,
   "metadata": {},
   "outputs": [
    {
     "data": {
      "text/plain": [
       "<matplotlib.axes._subplots.AxesSubplot at 0x11054bb38>"
      ]
     },
     "execution_count": 103,
     "metadata": {},
     "output_type": "execute_result"
    },
    {
     "data": {
      "image/png": "[encoded data removed]",
      "text/plain": [
       "<Figure size 792x648 with 2 Axes>"
      ]
     },
     "metadata": {},
     "output_type": "display_data"
    }
   ],
   "source": [
    "# change ploting style\n",
    "sns.set_style('whitegrid')\n",
    "\n",
    "# create correlation between \"area\" features and \"logerror\"\n",
    "corr_area = df_no_missv.loc[:, list_area_features].corr().round(2)\n",
    "\n",
    "# generate a mask for the upper triangle\n",
    "mask = np.zeros_like(corr_area, dtype=np.bool)\n",
    "mask[np.triu_indices_from(mask)] = True\n",
    "\n",
    "# set up the matplotlib figure\n",
    "f, ax = plt.subplots(figsize=(11, 9))\n",
    "\n",
    "# generate a custom diverging colormap\n",
    "cmap = sns.diverging_palette(220, 10, as_cmap=True)\n",
    "\n",
    "# draw the heatmap with the mask and correct aspect ratio\n",
    "sns.heatmap(corr_area, mask=mask, cmap=cmap, vmax=1, center=0,\n",
    "            square=True, linewidths=.5, annot = True, annot_kws={\"size\": 12})"
   ]
  },
  {
   "cell_type": "markdown",
   "metadata": {},
   "source": [
    "The correlations between the \"area\" features and the logerror seem to be very low.\n",
    "\n",
    "On another note, we can notice that there seem to be a perfect linear association between *area_live_finished* and *area_total_calc*. To avoid collinearity we need to remove one of the features."
   ]
  },
  {
   "cell_type": "code",
   "execution_count": 104,
   "metadata": {},
   "outputs": [
    {
     "data": {
      "text/html": [
       "<div>\n",
       "<style scoped>\n",
       "    .dataframe tbody tr th:only-of-type {\n",
       "        vertical-align: middle;\n",
       "    }\n",
       "\n",
       "    .dataframe tbody tr th {\n",
       "        vertical-align: top;\n",
       "    }\n",
       "\n",
       "    .dataframe thead th {\n",
       "        text-align: right;\n",
       "    }\n",
       "</style>\n",
       "<table border=\"1\" class=\"dataframe\">\n",
       "  <thead>\n",
       "    <tr style=\"text-align: right;\">\n",
       "      <th></th>\n",
       "      <th>area_total_calc</th>\n",
       "      <th>area_live_finished</th>\n",
       "    </tr>\n",
       "  </thead>\n",
       "  <tbody>\n",
       "    <tr>\n",
       "      <th>0</th>\n",
       "      <td>1684.0</td>\n",
       "      <td>1684.0</td>\n",
       "    </tr>\n",
       "    <tr>\n",
       "      <th>1</th>\n",
       "      <td>2263.0</td>\n",
       "      <td>2263.0</td>\n",
       "    </tr>\n",
       "    <tr>\n",
       "      <th>2</th>\n",
       "      <td>2217.0</td>\n",
       "      <td>2217.0</td>\n",
       "    </tr>\n",
       "    <tr>\n",
       "      <th>3</th>\n",
       "      <td>839.0</td>\n",
       "      <td>839.0</td>\n",
       "    </tr>\n",
       "    <tr>\n",
       "      <th>4</th>\n",
       "      <td>2283.0</td>\n",
       "      <td>2283.0</td>\n",
       "    </tr>\n",
       "  </tbody>\n",
       "</table>\n",
       "</div>"
      ],
      "text/plain": [
       "   area_total_calc  area_live_finished\n",
       "0           1684.0              1684.0\n",
       "1           2263.0              2263.0\n",
       "2           2217.0              2217.0\n",
       "3            839.0               839.0\n",
       "4           2283.0              2283.0"
      ]
     },
     "execution_count": 104,
     "metadata": {},
     "output_type": "execute_result"
    }
   ],
   "source": [
    "df_no_missv[['area_total_calc', 'area_live_finished']].head()"
   ]
  },
  {
   "cell_type": "code",
   "execution_count": 105,
   "metadata": {},
   "outputs": [
    {
     "data": {
      "text/plain": [
       "90275"
      ]
     },
     "execution_count": 105,
     "metadata": {},
     "output_type": "execute_result"
    },
    {
     "data": {
      "text/plain": [
       "85596"
      ]
     },
     "execution_count": 105,
     "metadata": {},
     "output_type": "execute_result"
    }
   ],
   "source": [
    "# number of rows\n",
    "len(df_no_missv['area_total_calc'])\n",
    "\n",
    "# number of rows with equal values for these variables\n",
    "sum(df_no_missv['area_total_calc'] == df_no_missv['area_live_finished'])"
   ]
  },
  {
   "cell_type": "code",
   "execution_count": 106,
   "metadata": {
    "scrolled": true
   },
   "outputs": [],
   "source": [
    "# drop area_live_finished\n",
    "list_area_features.remove('area_live_finished')\n",
    "\n",
    "# drop logerror\n",
    "list_area_features.remove('logerror')\n",
    "\n",
    "# drop area_live_finished in df_no_missv\n",
    "df_no_missv.drop('area_live_finished', axis = 1, inplace = True)"
   ]
  },
  {
   "cell_type": "markdown",
   "metadata": {},
   "source": [
    "#### Correlation between \"num\" features and target variable \"logerror\""
   ]
  },
  {
   "cell_type": "code",
   "execution_count": 107,
   "metadata": {},
   "outputs": [],
   "source": [
    "# create list of \"num\" features\n",
    "list_num_features = list(df_no_missv.loc[:, df_no_missv.columns.str.contains(\"num\")].columns)"
   ]
  },
  {
   "cell_type": "code",
   "execution_count": 108,
   "metadata": {},
   "outputs": [
    {
     "data": {
      "text/plain": [
       "['num_garage',\n",
       " 'num_unit',\n",
       " 'num_bath',\n",
       " 'num_bathroom_calc',\n",
       " 'num_room',\n",
       " 'num_bathroom',\n",
       " 'num_bedroom',\n",
       " 'logerror']"
      ]
     },
     "execution_count": 108,
     "metadata": {},
     "output_type": "execute_result"
    }
   ],
   "source": [
    "# append \"logerror\"\n",
    "list_num_features.append('logerror')\n",
    "list_num_features"
   ]
  },
  {
   "cell_type": "code",
   "execution_count": 109,
   "metadata": {},
   "outputs": [
    {
     "data": {
      "text/plain": [
       "<matplotlib.axes._subplots.AxesSubplot at 0x11054b390>"
      ]
     },
     "execution_count": 109,
     "metadata": {},
     "output_type": "execute_result"
    },
    {
     "data": {
      "image/png": "[encoded data removed]",
      "text/plain": [
       "<Figure size 792x648 with 2 Axes>"
      ]
     },
     "metadata": {},
     "output_type": "display_data"
    }
   ],
   "source": [
    "# change ploting style\n",
    "sns.set_style('whitegrid')\n",
    "\n",
    "# create correlation between \"num\" features and \"logerror\"\n",
    "corr_num = df_no_missv.loc[:, list_num_features].corr().round(2)\n",
    "\n",
    "# generate a mask for the upper triangle\n",
    "mask = np.zeros_like(corr_num, dtype=np.bool)\n",
    "mask[np.triu_indices_from(mask)] = True\n",
    "\n",
    "# set up the matplotlib figure\n",
    "f, ax = plt.subplots(figsize=(11, 9))\n",
    "\n",
    "# generate a custom diverging colormap\n",
    "cmap = sns.diverging_palette(220, 10, as_cmap=True)\n",
    "\n",
    "# draw the heatmap with the mask and correct aspect ratio\n",
    "sns.heatmap(corr_num, mask=mask, cmap=cmap, vmax=1, center=0,\n",
    "            square=True, linewidths=.5, annot = True, annot_kws={\"size\": 12})"
   ]
  },
  {
   "cell_type": "markdown",
   "metadata": {},
   "source": [
    "Here as well the correlation between the *logerror* and other \"num\" features seem to be very low.\n",
    "\n",
    "(*num_bathroom* or *num_bathroom_calc*) and (*num_bath or *num_bathroom_calc*) needs to be removed to avoid collinearity."
   ]
  },
  {
   "cell_type": "code",
   "execution_count": 110,
   "metadata": {},
   "outputs": [
    {
     "data": {
      "text/html": [
       "<div>\n",
       "<style scoped>\n",
       "    .dataframe tbody tr th:only-of-type {\n",
       "        vertical-align: middle;\n",
       "    }\n",
       "\n",
       "    .dataframe tbody tr th {\n",
       "        vertical-align: top;\n",
       "    }\n",
       "\n",
       "    .dataframe thead th {\n",
       "        text-align: right;\n",
       "    }\n",
       "</style>\n",
       "<table border=\"1\" class=\"dataframe\">\n",
       "  <thead>\n",
       "    <tr style=\"text-align: right;\">\n",
       "      <th></th>\n",
       "      <th>num_bathroom</th>\n",
       "      <th>num_bathroom_calc</th>\n",
       "      <th>num_bath</th>\n",
       "    </tr>\n",
       "  </thead>\n",
       "  <tbody>\n",
       "    <tr>\n",
       "      <th>0</th>\n",
       "      <td>2.0</td>\n",
       "      <td>2.0</td>\n",
       "      <td>2.0</td>\n",
       "    </tr>\n",
       "    <tr>\n",
       "      <th>1</th>\n",
       "      <td>3.5</td>\n",
       "      <td>3.5</td>\n",
       "      <td>3.0</td>\n",
       "    </tr>\n",
       "    <tr>\n",
       "      <th>2</th>\n",
       "      <td>3.0</td>\n",
       "      <td>3.0</td>\n",
       "      <td>3.0</td>\n",
       "    </tr>\n",
       "    <tr>\n",
       "      <th>3</th>\n",
       "      <td>2.0</td>\n",
       "      <td>2.0</td>\n",
       "      <td>2.0</td>\n",
       "    </tr>\n",
       "    <tr>\n",
       "      <th>4</th>\n",
       "      <td>2.5</td>\n",
       "      <td>2.5</td>\n",
       "      <td>2.0</td>\n",
       "    </tr>\n",
       "  </tbody>\n",
       "</table>\n",
       "</div>"
      ],
      "text/plain": [
       "   num_bathroom  num_bathroom_calc  num_bath\n",
       "0           2.0                2.0       2.0\n",
       "1           3.5                3.5       3.0\n",
       "2           3.0                3.0       3.0\n",
       "3           2.0                2.0       2.0\n",
       "4           2.5                2.5       2.0"
      ]
     },
     "execution_count": 110,
     "metadata": {},
     "output_type": "execute_result"
    }
   ],
   "source": [
    "df_no_missv[['num_bathroom', 'num_bathroom_calc', 'num_bath']].head()"
   ]
  },
  {
   "cell_type": "code",
   "execution_count": 111,
   "metadata": {},
   "outputs": [
    {
     "data": {
      "text/plain": [
       "90275"
      ]
     },
     "execution_count": 111,
     "metadata": {},
     "output_type": "execute_result"
    },
    {
     "data": {
      "text/plain": [
       "77084"
      ]
     },
     "execution_count": 111,
     "metadata": {},
     "output_type": "execute_result"
    }
   ],
   "source": [
    "# number of rows\n",
    "len(df_no_missv['num_bathroom'])\n",
    "\n",
    "# number of rows with equal values for these variables\n",
    "sum(df_no_missv['num_bathroom'] == df_no_missv['num_bath'])"
   ]
  },
  {
   "cell_type": "code",
   "execution_count": 112,
   "metadata": {},
   "outputs": [],
   "source": [
    "# drop num_bathroom\n",
    "list_num_features.remove('num_bathroom')\n",
    "\n",
    "# drop num_bathroom_calc\n",
    "list_num_features.remove('num_bathroom_calc')\n",
    "\n",
    "# drop logerror\n",
    "list_num_features.remove('logerror')\n",
    "\n",
    "# drop num_bathroom & num_bathroom_calc\n",
    "df_no_missv.drop(['num_bathroom', 'num_bathroom_calc'], axis = 1, inplace = True)"
   ]
  },
  {
   "cell_type": "markdown",
   "metadata": {},
   "source": [
    "#### Correlation between \"tax\" features and target variable \"logerror\""
   ]
  },
  {
   "cell_type": "code",
   "execution_count": 113,
   "metadata": {},
   "outputs": [],
   "source": [
    "# create list of \"tax\" features\n",
    "list_tax_features = list(df_no_missv.loc[:, df_no_missv.columns.str.contains(\"tax\")].columns)"
   ]
  },
  {
   "cell_type": "code",
   "execution_count": 114,
   "metadata": {},
   "outputs": [
    {
     "data": {
      "text/plain": [
       "['tax_building', 'tax_property', 'tax_land', 'tax_total', 'logerror']"
      ]
     },
     "execution_count": 114,
     "metadata": {},
     "output_type": "execute_result"
    }
   ],
   "source": [
    "# append \"logerror\"\n",
    "list_tax_features.append('logerror')\n",
    "list_tax_features"
   ]
  },
  {
   "cell_type": "code",
   "execution_count": 115,
   "metadata": {},
   "outputs": [
    {
     "data": {
      "text/plain": [
       "<matplotlib.axes._subplots.AxesSubplot at 0x1127766a0>"
      ]
     },
     "execution_count": 115,
     "metadata": {},
     "output_type": "execute_result"
    },
    {
     "data": {
      "image/png": "[encoded data removed]",
      "text/plain": [
       "<Figure size 792x648 with 2 Axes>"
      ]
     },
     "metadata": {},
     "output_type": "display_data"
    }
   ],
   "source": [
    "# change ploting style\n",
    "sns.set_style('whitegrid')\n",
    "\n",
    "# create correlation between \"tax\" features and \"logerror\"\n",
    "corr_tax = df_no_missv.loc[:, list_tax_features].corr().round(2)\n",
    "\n",
    "# generate a mask for the upper triangle\n",
    "mask = np.zeros_like(corr_tax, dtype=np.bool)\n",
    "mask[np.triu_indices_from(mask)] = True\n",
    "\n",
    "# set up the matplotlib figure\n",
    "f, ax = plt.subplots(figsize=(11, 9))\n",
    "\n",
    "# generate a custom diverging colormap\n",
    "cmap = sns.diverging_palette(220, 10, as_cmap=True)\n",
    "\n",
    "# draw the heatmap with the mask and correct aspect ratio\n",
    "sns.heatmap(corr_tax, mask=mask, cmap=cmap, vmax=1, center=0,\n",
    "            square=True, linewidths=.5, annot = True, annot_kws={\"size\": 12})"
   ]
  },
  {
   "cell_type": "markdown",
   "metadata": {},
   "source": [
    "Again the correlation between the \"tax\" features and *logerror* is really small."
   ]
  },
  {
   "cell_type": "code",
   "execution_count": 116,
   "metadata": {},
   "outputs": [],
   "source": [
    "# drop tax_total\n",
    "list_tax_features.remove('tax_total')\n",
    "\n",
    "# drop logerror\n",
    "list_tax_features.remove('logerror')\n",
    "\n",
    "# drop tax_total\n",
    "df_no_missv.drop('tax_total', axis = 1, inplace=True)"
   ]
  },
  {
   "cell_type": "markdown",
   "metadata": {},
   "source": [
    "### Outliers"
   ]
  },
  {
   "cell_type": "markdown",
   "metadata": {},
   "source": [
    "Outliers need to be removed when building a predictive model as extreme values might lead the model to overfit.\n",
    "\n",
    "We are plotting boxplots to the diverse range of variables considered to visually confirm the existence of outliers."
   ]
  },
  {
   "cell_type": "markdown",
   "metadata": {},
   "source": [
    "#### Area Variables"
   ]
  },
  {
   "cell_type": "code",
   "execution_count": 117,
   "metadata": {},
   "outputs": [
    {
     "data": {
      "text/plain": [
       "['area_garage', 'area_lot', 'area_total_calc']"
      ]
     },
     "execution_count": 117,
     "metadata": {},
     "output_type": "execute_result"
    }
   ],
   "source": [
    "list_area_features"
   ]
  },
  {
   "cell_type": "code",
   "execution_count": 118,
   "metadata": {},
   "outputs": [
    {
     "data": {
      "image/png": "[encoded data removed]",
      "text/plain": [
       "<Figure size 432x288 with 1 Axes>"
      ]
     },
     "metadata": {},
     "output_type": "display_data"
    },
    {
     "data": {
      "image/png": "[encoded data removed]",
      "text/plain": [
       "<Figure size 432x288 with 1 Axes>"
      ]
     },
     "metadata": {},
     "output_type": "display_data"
    },
    {
     "data": {
      "image/png": "[encoded data removed]",
      "text/plain": [
       "<Figure size 432x288 with 1 Axes>"
      ]
     },
     "metadata": {},
     "output_type": "display_data"
    }
   ],
   "source": [
    "# plot boxplots\n",
    "for i in range(len(list_area_features)):\n",
    "    ax = sns.boxplot(df_no_missv.loc[:,list_area_features[i]], orient = \"v\")\n",
    "    plt.show(ax)"
   ]
  },
  {
   "cell_type": "markdown",
   "metadata": {},
   "source": [
    "We can notice right skewed distribution and many observations lying above the top whiskers, confirming the presence of outliers."
   ]
  },
  {
   "cell_type": "markdown",
   "metadata": {},
   "source": [
    "#### Num Variables"
   ]
  },
  {
   "cell_type": "code",
   "execution_count": 119,
   "metadata": {},
   "outputs": [
    {
     "data": {
      "text/plain": [
       "['num_garage', 'num_unit', 'num_bath', 'num_room', 'num_bedroom']"
      ]
     },
     "execution_count": 119,
     "metadata": {},
     "output_type": "execute_result"
    }
   ],
   "source": [
    "list_num_features"
   ]
  },
  {
   "cell_type": "code",
   "execution_count": 120,
   "metadata": {},
   "outputs": [
    {
     "data": {
      "image/png": "[encoded data removed]",
      "text/plain": [
       "<Figure size 432x288 with 1 Axes>"
      ]
     },
     "metadata": {},
     "output_type": "display_data"
    },
    {
     "data": {
      "image/png": "[encoded data removed]",
      "text/plain": [
       "<Figure size 432x288 with 1 Axes>"
      ]
     },
     "metadata": {},
     "output_type": "display_data"
    },
    {
     "data": {
      "image/png": "[encoded data removed]",
      "text/plain": [
       "<Figure size 432x288 with 1 Axes>"
      ]
     },
     "metadata": {},
     "output_type": "display_data"
    },
    {
     "data": {
      "image/png": "[encoded data removed]",
      "text/plain": [
       "<Figure size 432x288 with 1 Axes>"
      ]
     },
     "metadata": {},
     "output_type": "display_data"
    },
    {
     "data": {
      "image/png": "[encoded data removed]",
      "text/plain": [
       "<Figure size 432x288 with 1 Axes>"
      ]
     },
     "metadata": {},
     "output_type": "display_data"
    }
   ],
   "source": [
    "# plot boxplots\n",
    "for i in range(len(list_num_features)):\n",
    "    ax = sns.boxplot(df_no_missv.loc[:,list_num_features[i]], orient = \"v\")\n",
    "    plt.show(ax)"
   ]
  },
  {
   "cell_type": "markdown",
   "metadata": {},
   "source": [
    "Again the boxplots suggest a strong presence of outliers."
   ]
  },
  {
   "cell_type": "markdown",
   "metadata": {},
   "source": [
    "#### Tax Variables"
   ]
  },
  {
   "cell_type": "code",
   "execution_count": 121,
   "metadata": {},
   "outputs": [
    {
     "data": {
      "text/plain": [
       "['tax_building', 'tax_property', 'tax_land']"
      ]
     },
     "execution_count": 121,
     "metadata": {},
     "output_type": "execute_result"
    }
   ],
   "source": [
    "list_tax_features"
   ]
  },
  {
   "cell_type": "code",
   "execution_count": 122,
   "metadata": {},
   "outputs": [
    {
     "data": {
      "image/png": "[encoded data removed]",
      "text/plain": [
       "<Figure size 432x288 with 1 Axes>"
      ]
     },
     "metadata": {},
     "output_type": "display_data"
    },
    {
     "data": {
      "image/png": "[encoded data removed]",
      "text/plain": [
       "<Figure size 432x288 with 1 Axes>"
      ]
     },
     "metadata": {},
     "output_type": "display_data"
    },
    {
     "data": {
      "image/png": "[encoded data removed]",
      "text/plain": [
       "<Figure size 432x288 with 1 Axes>"
      ]
     },
     "metadata": {},
     "output_type": "display_data"
    }
   ],
   "source": [
    "# plot boxplots\n",
    "for i in range(len(list_tax_features)):\n",
    "    ax = sns.boxplot(df_no_missv.loc[:,list_tax_features[i]], orient = \"v\")\n",
    "    plt.show(ax)"
   ]
  },
  {
   "cell_type": "markdown",
   "metadata": {},
   "source": [
    "#### Remove Outliers"
   ]
  },
  {
   "cell_type": "code",
   "execution_count": 123,
   "metadata": {},
   "outputs": [],
   "source": [
    "list_features_with_outliers = list_area_features + \\\n",
    "                                list_num_features + \\\n",
    "                                list_tax_features"
   ]
  },
  {
   "cell_type": "code",
   "execution_count": 124,
   "metadata": {},
   "outputs": [
    {
     "data": {
      "text/plain": [
       "['area_garage',\n",
       " 'area_lot',\n",
       " 'area_total_calc',\n",
       " 'num_garage',\n",
       " 'num_unit',\n",
       " 'num_bath',\n",
       " 'num_room',\n",
       " 'num_bedroom',\n",
       " 'tax_building',\n",
       " 'tax_property',\n",
       " 'tax_land']"
      ]
     },
     "execution_count": 124,
     "metadata": {},
     "output_type": "execute_result"
    }
   ],
   "source": [
    "list_features_with_outliers"
   ]
  },
  {
   "cell_type": "code",
   "execution_count": 125,
   "metadata": {},
   "outputs": [
    {
     "name": "stdout",
     "output_type": "stream",
     "text": [
      "area_garage           484.00\n",
      "area_lot             5983.00\n",
      "area_total_calc       911.00\n",
      "num_garage              0.00\n",
      "num_unit                0.00\n",
      "num_bath                1.00\n",
      "num_room                0.00\n",
      "num_bedroom             2.00\n",
      "tax_building       129289.50\n",
      "tax_property         4028.26\n",
      "tax_land           263191.50\n",
      "dtype: float64\n"
     ]
    }
   ],
   "source": [
    "# build 1st and 3rd quartiles\n",
    "Q1 = df_no_missv.loc[:, list_features_with_outliers].quantile(0.25)\n",
    "Q3 = df_no_missv.loc[:, list_features_with_outliers].quantile(0.75)\n",
    "\n",
    "# build the interquartile range (IQR)\n",
    "IQR = Q3 - Q1\n",
    "\n",
    "print(IQR)"
   ]
  },
  {
   "cell_type": "code",
   "execution_count": 126,
   "metadata": {},
   "outputs": [],
   "source": [
    "# remove outliers outside of the whiskers\n",
    "df_no_out = df_no_missv[~((df_no_missv.loc[:, list_features_with_outliers] < (Q1 - 1.5 * IQR)) |\\\n",
    "                          (df_no_missv.loc[:, list_features_with_outliers] > (Q3 + 1.5 * IQR)))\\\n",
    "                        .any(axis=1)]"
   ]
  },
  {
   "cell_type": "code",
   "execution_count": 127,
   "metadata": {},
   "outputs": [
    {
     "data": {
      "text/plain": [
       "(44599, 30)"
      ]
     },
     "execution_count": 127,
     "metadata": {},
     "output_type": "execute_result"
    }
   ],
   "source": [
    "# dimension of the new dataset\n",
    "df_no_out.shape"
   ]
  },
  {
   "cell_type": "markdown",
   "metadata": {},
   "source": [
    "The new dataframe is approximately half the size of the previous dataframe."
   ]
  },
  {
   "cell_type": "code",
   "execution_count": 128,
   "metadata": {},
   "outputs": [
    {
     "data": {
      "text/html": [
       "<div>\n",
       "<style scoped>\n",
       "    .dataframe tbody tr th:only-of-type {\n",
       "        vertical-align: middle;\n",
       "    }\n",
       "\n",
       "    .dataframe tbody tr th {\n",
       "        vertical-align: top;\n",
       "    }\n",
       "\n",
       "    .dataframe thead th {\n",
       "        text-align: right;\n",
       "    }\n",
       "</style>\n",
       "<table border=\"1\" class=\"dataframe\">\n",
       "  <thead>\n",
       "    <tr style=\"text-align: right;\">\n",
       "      <th></th>\n",
       "      <th>aircon</th>\n",
       "      <th>area_garage</th>\n",
       "      <th>num_garage</th>\n",
       "      <th>region_neighbor</th>\n",
       "      <th>heating</th>\n",
       "      <th>quality</th>\n",
       "      <th>zoning_property</th>\n",
       "      <th>num_unit</th>\n",
       "      <th>area_lot</th>\n",
       "      <th>region_city</th>\n",
       "      <th>...</th>\n",
       "      <th>num_bedroom</th>\n",
       "      <th>fips</th>\n",
       "      <th>latitude</th>\n",
       "      <th>longitude</th>\n",
       "      <th>logerror</th>\n",
       "      <th>zoning_landuse_county</th>\n",
       "      <th>zoning_landuse</th>\n",
       "      <th>rawcensustractandblock</th>\n",
       "      <th>region_county</th>\n",
       "      <th>parcelid</th>\n",
       "    </tr>\n",
       "  </thead>\n",
       "  <tbody>\n",
       "    <tr>\n",
       "      <th>0</th>\n",
       "      <td>1.0</td>\n",
       "      <td>NaN</td>\n",
       "      <td>NaN</td>\n",
       "      <td>31817.0</td>\n",
       "      <td>2.0</td>\n",
       "      <td>4.0</td>\n",
       "      <td>LARS</td>\n",
       "      <td>1.0</td>\n",
       "      <td>7528.0</td>\n",
       "      <td>12447.0</td>\n",
       "      <td>...</td>\n",
       "      <td>3.0</td>\n",
       "      <td>6037.0</td>\n",
       "      <td>34280990.0</td>\n",
       "      <td>-118488536.0</td>\n",
       "      <td>0.0276</td>\n",
       "      <td>0100</td>\n",
       "      <td>261.0</td>\n",
       "      <td>6.037107e+07</td>\n",
       "      <td>3101.0</td>\n",
       "      <td>11016594</td>\n",
       "    </tr>\n",
       "    <tr>\n",
       "      <th>1</th>\n",
       "      <td>NaN</td>\n",
       "      <td>468.0</td>\n",
       "      <td>2.0</td>\n",
       "      <td>NaN</td>\n",
       "      <td>NaN</td>\n",
       "      <td>NaN</td>\n",
       "      <td>NaN</td>\n",
       "      <td>NaN</td>\n",
       "      <td>3643.0</td>\n",
       "      <td>32380.0</td>\n",
       "      <td>...</td>\n",
       "      <td>4.0</td>\n",
       "      <td>6059.0</td>\n",
       "      <td>33668120.0</td>\n",
       "      <td>-117677556.0</td>\n",
       "      <td>-0.1684</td>\n",
       "      <td>1</td>\n",
       "      <td>261.0</td>\n",
       "      <td>6.059052e+07</td>\n",
       "      <td>1286.0</td>\n",
       "      <td>14366692</td>\n",
       "    </tr>\n",
       "    <tr>\n",
       "      <th>2</th>\n",
       "      <td>1.0</td>\n",
       "      <td>NaN</td>\n",
       "      <td>NaN</td>\n",
       "      <td>275411.0</td>\n",
       "      <td>2.0</td>\n",
       "      <td>4.0</td>\n",
       "      <td>PSR6</td>\n",
       "      <td>1.0</td>\n",
       "      <td>11423.0</td>\n",
       "      <td>47019.0</td>\n",
       "      <td>...</td>\n",
       "      <td>2.0</td>\n",
       "      <td>6037.0</td>\n",
       "      <td>34136312.0</td>\n",
       "      <td>-118175032.0</td>\n",
       "      <td>-0.0040</td>\n",
       "      <td>0100</td>\n",
       "      <td>261.0</td>\n",
       "      <td>6.037464e+07</td>\n",
       "      <td>3101.0</td>\n",
       "      <td>12098116</td>\n",
       "    </tr>\n",
       "    <tr>\n",
       "      <th>6</th>\n",
       "      <td>NaN</td>\n",
       "      <td>NaN</td>\n",
       "      <td>NaN</td>\n",
       "      <td>NaN</td>\n",
       "      <td>7.0</td>\n",
       "      <td>7.0</td>\n",
       "      <td>CORH*</td>\n",
       "      <td>1.0</td>\n",
       "      <td>6677.0</td>\n",
       "      <td>24174.0</td>\n",
       "      <td>...</td>\n",
       "      <td>2.0</td>\n",
       "      <td>6037.0</td>\n",
       "      <td>33899475.0</td>\n",
       "      <td>-118212720.0</td>\n",
       "      <td>0.0440</td>\n",
       "      <td>0100</td>\n",
       "      <td>261.0</td>\n",
       "      <td>6.037542e+07</td>\n",
       "      <td>3101.0</td>\n",
       "      <td>12286022</td>\n",
       "    </tr>\n",
       "    <tr>\n",
       "      <th>10</th>\n",
       "      <td>NaN</td>\n",
       "      <td>NaN</td>\n",
       "      <td>NaN</td>\n",
       "      <td>51906.0</td>\n",
       "      <td>2.0</td>\n",
       "      <td>7.0</td>\n",
       "      <td>LARE9</td>\n",
       "      <td>1.0</td>\n",
       "      <td>8279.0</td>\n",
       "      <td>12447.0</td>\n",
       "      <td>...</td>\n",
       "      <td>2.0</td>\n",
       "      <td>6037.0</td>\n",
       "      <td>34164671.0</td>\n",
       "      <td>-118477995.0</td>\n",
       "      <td>0.3825</td>\n",
       "      <td>0100</td>\n",
       "      <td>261.0</td>\n",
       "      <td>6.037141e+07</td>\n",
       "      <td>3101.0</td>\n",
       "      <td>10854446</td>\n",
       "    </tr>\n",
       "  </tbody>\n",
       "</table>\n",
       "<p>5 rows × 30 columns</p>\n",
       "</div>"
      ],
      "text/plain": [
       "    aircon  area_garage  num_garage  region_neighbor  heating  quality  \\\n",
       "0      1.0          NaN         NaN          31817.0      2.0      4.0   \n",
       "1      NaN        468.0         2.0              NaN      NaN      NaN   \n",
       "2      1.0          NaN         NaN         275411.0      2.0      4.0   \n",
       "6      NaN          NaN         NaN              NaN      7.0      7.0   \n",
       "10     NaN          NaN         NaN          51906.0      2.0      7.0   \n",
       "\n",
       "   zoning_property  num_unit  area_lot  region_city  ...  num_bedroom    fips  \\\n",
       "0             LARS       1.0    7528.0      12447.0  ...          3.0  6037.0   \n",
       "1              NaN       NaN    3643.0      32380.0  ...          4.0  6059.0   \n",
       "2             PSR6       1.0   11423.0      47019.0  ...          2.0  6037.0   \n",
       "6            CORH*       1.0    6677.0      24174.0  ...          2.0  6037.0   \n",
       "10           LARE9       1.0    8279.0      12447.0  ...          2.0  6037.0   \n",
       "\n",
       "      latitude    longitude  logerror  zoning_landuse_county  zoning_landuse  \\\n",
       "0   34280990.0 -118488536.0    0.0276                   0100           261.0   \n",
       "1   33668120.0 -117677556.0   -0.1684                      1           261.0   \n",
       "2   34136312.0 -118175032.0   -0.0040                   0100           261.0   \n",
       "6   33899475.0 -118212720.0    0.0440                   0100           261.0   \n",
       "10  34164671.0 -118477995.0    0.3825                   0100           261.0   \n",
       "\n",
       "    rawcensustractandblock region_county  parcelid  \n",
       "0             6.037107e+07        3101.0  11016594  \n",
       "1             6.059052e+07        1286.0  14366692  \n",
       "2             6.037464e+07        3101.0  12098116  \n",
       "6             6.037542e+07        3101.0  12286022  \n",
       "10            6.037141e+07        3101.0  10854446  \n",
       "\n",
       "[5 rows x 30 columns]"
      ]
     },
     "execution_count": 128,
     "metadata": {},
     "output_type": "execute_result"
    }
   ],
   "source": [
    "df_no_out.head()"
   ]
  },
  {
   "cell_type": "markdown",
   "metadata": {},
   "source": [
    "Census tract and block could be investigated in the future as they might ease the process of identifying outliers."
   ]
  },
  {
   "cell_type": "code",
   "execution_count": 129,
   "metadata": {},
   "outputs": [
    {
     "data": {
      "text/html": [
       "<div>\n",
       "<style scoped>\n",
       "    .dataframe tbody tr th:only-of-type {\n",
       "        vertical-align: middle;\n",
       "    }\n",
       "\n",
       "    .dataframe tbody tr th {\n",
       "        vertical-align: top;\n",
       "    }\n",
       "\n",
       "    .dataframe thead th {\n",
       "        text-align: right;\n",
       "    }\n",
       "</style>\n",
       "<table border=\"1\" class=\"dataframe\">\n",
       "  <thead>\n",
       "    <tr style=\"text-align: right;\">\n",
       "      <th></th>\n",
       "      <th>rawcensustractandblock</th>\n",
       "      <th>censustractandblock</th>\n",
       "    </tr>\n",
       "  </thead>\n",
       "  <tbody>\n",
       "    <tr>\n",
       "      <th>0</th>\n",
       "      <td>6.037107e+07</td>\n",
       "      <td>6.037107e+13</td>\n",
       "    </tr>\n",
       "    <tr>\n",
       "      <th>1</th>\n",
       "      <td>6.059052e+07</td>\n",
       "      <td>NaN</td>\n",
       "    </tr>\n",
       "    <tr>\n",
       "      <th>2</th>\n",
       "      <td>6.037464e+07</td>\n",
       "      <td>6.037464e+13</td>\n",
       "    </tr>\n",
       "    <tr>\n",
       "      <th>3</th>\n",
       "      <td>6.037296e+07</td>\n",
       "      <td>6.037296e+13</td>\n",
       "    </tr>\n",
       "    <tr>\n",
       "      <th>4</th>\n",
       "      <td>6.059042e+07</td>\n",
       "      <td>6.059042e+13</td>\n",
       "    </tr>\n",
       "  </tbody>\n",
       "</table>\n",
       "</div>"
      ],
      "text/plain": [
       "   rawcensustractandblock  censustractandblock\n",
       "0            6.037107e+07         6.037107e+13\n",
       "1            6.059052e+07                  NaN\n",
       "2            6.037464e+07         6.037464e+13\n",
       "3            6.037296e+07         6.037296e+13\n",
       "4            6.059042e+07         6.059042e+13"
      ]
     },
     "execution_count": 129,
     "metadata": {},
     "output_type": "execute_result"
    }
   ],
   "source": [
    "df_no_missv[['rawcensustractandblock', 'censustractandblock']].head()"
   ]
  },
  {
   "cell_type": "markdown",
   "metadata": {},
   "source": [
    "**Definitions**:\n",
    "\n",
    "* census blocks:\n",
    "\n",
    "They are statistical areas bounded by visible features, such as streets, roads, streams, and railroad tracks, and by non-visible boundaries, such as selected property lines and city, township, school district, and county limits.\n",
    "\n",
    "* census block group\n",
    "\n",
    "It is a cluster of census blocks having the same first digit of their four-digit identifying numbers within a census tract. Block groups generally contain between 600 and 3,000 people, with an optimum size of 1,500 people. There are about 39 blocks per census group. Block groups never cross the boundaries of states, counties, or statistically equivalent entities, except for a block group delineated by American Indian tribal authorities. Each census tract contains at least one block group, and block groups are uniquely numbered within the census tract. A block group is the smallest geographical unit for which the census publishes sample data.\n",
    "\n",
    "* census tracts\n",
    "\n",
    "They are small, relatively permanent statistical subdivisions of a county delineated by local participants as part of the U.S. Census Bureau’s Participant Statistical Areas Program. Census tracts were first used in the 2000 census. Census tracts generally have between 1,500 and 8,000 people, with an optimum size of 4,000 people. Census tracts are identified by a four-digit basic number and may have a two-digit numeric suffix. \n"
   ]
  },
  {
   "cell_type": "markdown",
   "metadata": {},
   "source": [
    "### Distribution of Transactions"
   ]
  },
  {
   "cell_type": "markdown",
   "metadata": {},
   "source": [
    "Let’s first create the *year_month* feature:"
   ]
  },
  {
   "cell_type": "code",
   "execution_count": 130,
   "metadata": {},
   "outputs": [],
   "source": [
    "# create year, month and year-month variable\n",
    "df_no_out['year'] = pd.DatetimeIndex(df_no_out['transactiondate']).year\n",
    "df_no_out['month'] = pd.DatetimeIndex(df_no_out['transactiondate']).strftime(\"%m\") \n",
    "df_no_out['year_month'] = df_no_out['year'].astype(str) + '-' + df_no_out['month'].astype(str)"
   ]
  },
  {
   "cell_type": "code",
   "execution_count": 131,
   "metadata": {
    "scrolled": true
   },
   "outputs": [
    {
     "data": {
      "text/plain": [
       "[Text(0, 0.5, 'Counts'), Text(0.5, 0, 'Year-Month')]"
      ]
     },
     "execution_count": 131,
     "metadata": {},
     "output_type": "execute_result"
    },
    {
     "data": {
      "text/plain": [
       "[Text(0, 0, '2016-01'),\n",
       " Text(0, 0, '2016-02'),\n",
       " Text(0, 0, '2016-03'),\n",
       " Text(0, 0, '2016-04'),\n",
       " Text(0, 0, '2016-05'),\n",
       " Text(0, 0, '2016-06'),\n",
       " Text(0, 0, '2016-07'),\n",
       " Text(0, 0, '2016-08'),\n",
       " Text(0, 0, '2016-09'),\n",
       " Text(0, 0, '2016-10'),\n",
       " Text(0, 0, '2016-11'),\n",
       " Text(0, 0, '2016-12')]"
      ]
     },
     "execution_count": 131,
     "metadata": {},
     "output_type": "execute_result"
    },
    {
     "data": {
      "text/plain": [
       "Text(0.5, 1.0, 'Number of Transactions per Year-Month')"
      ]
     },
     "execution_count": 131,
     "metadata": {},
     "output_type": "execute_result"
    },
    {
     "data": {
      "image/png": "[encoded data removed]",
      "text/plain": [
       "<Figure size 432x288 with 1 Axes>"
      ]
     },
     "metadata": {},
     "output_type": "display_data"
    }
   ],
   "source": [
    "# set context\n",
    "sns.set_context(\"paper\", rc={\"figure.figsize\":(8,6), \"font.size\":10,\"axes.titlesize\":20,\"axes.labelsize\":15})  \n",
    "\n",
    "# number of transactions per year-month\n",
    "year_month_counts = df_no_out.groupby(by=['year_month']).size().reset_index(name='counts')\n",
    "\n",
    "# plot graph\n",
    "ax = sns.barplot(x= \"year_month\", y=\"counts\", data = year_month_counts, color = \"red\")\n",
    "\n",
    "# set axis labels\n",
    "ax.set(xlabel='Year-Month', ylabel='Counts')\n",
    "\n",
    "# set tick labels\n",
    "ax.set_xticklabels(rotation=45, labels = year_month_counts[\"year_month\"])\n",
    "ax.tick_params(labelsize=10)\n",
    "\n",
    "# set title\n",
    "ax.set_title(\"Number of Transactions per Year-Month\", fontsize = 15)\n"
   ]
  },
  {
   "cell_type": "markdown",
   "metadata": {},
   "source": [
    "### How does the *abs_logerror* change with *year_month*?"
   ]
  },
  {
   "cell_type": "code",
   "execution_count": 132,
   "metadata": {},
   "outputs": [
    {
     "name": "stdout",
     "output_type": "stream",
     "text": [
      "   year_month  mean_abs_logerror       sum\n",
      "0     2016-01           0.075584  248.2933\n",
      "1     2016-02           0.071882  224.2002\n",
      "2     2016-03           0.068992  286.0426\n",
      "3     2016-04           0.065921  303.3034\n",
      "4     2016-05           0.062830  301.6458\n",
      "5     2016-06           0.062705  337.7288\n",
      "6     2016-07           0.062344  310.4104\n",
      "7     2016-08           0.065213  336.3681\n",
      "8     2016-09           0.065385  316.1388\n",
      "9     2016-10           0.064626  160.6597\n",
      "10    2016-11           0.068130   62.8842\n",
      "11    2016-12           0.079185   69.6832\n"
     ]
    }
   ],
   "source": [
    "# create the absolute logerror column\n",
    "df_no_out['abs_logerror'] = abs(df_no_out['logerror'])\n",
    "\n",
    "\n",
    "# mean abs_logerror and sum per year_month\n",
    "year_month_abslogerror = df_no_out.groupby(by=['year_month'])\\\n",
    "                            .agg({'abs_logerror': {'mean_abs_logerror': 'mean', 'sum': 'sum'}})\n",
    "# drop abs_logerror level                            \n",
    "year_month_abslogerror.columns = year_month_abslogerror.columns.droplevel(0)\n",
    "\n",
    "# reset index\n",
    "year_month_abslogerror.reset_index(level = 0, inplace=True)\n",
    "\n",
    "# print\n",
    "print(year_month_abslogerror)                     "
   ]
  },
  {
   "cell_type": "code",
   "execution_count": 133,
   "metadata": {
    "scrolled": true
   },
   "outputs": [
    {
     "data": {
      "text/plain": [
       "(<Figure size 576x432 with 1 Axes>,\n",
       " <matplotlib.axes._subplots.AxesSubplot at 0x11ef1e240>)"
      ]
     },
     "execution_count": 133,
     "metadata": {},
     "output_type": "execute_result"
    },
    {
     "data": {
      "text/plain": [
       "<matplotlib.axes._subplots.AxesSubplot at 0x11ef1ec88>"
      ]
     },
     "execution_count": 133,
     "metadata": {},
     "output_type": "execute_result"
    },
    {
     "data": {
      "text/plain": [
       "[Text(0, 0.5, 'abs_logerror mean'), Text(0.5, 0, 'year-month')]"
      ]
     },
     "execution_count": 133,
     "metadata": {},
     "output_type": "execute_result"
    },
    {
     "data": {
      "text/plain": [
       "[Text(0, 0.5, 'abs_logerror sum')]"
      ]
     },
     "execution_count": 133,
     "metadata": {},
     "output_type": "execute_result"
    },
    {
     "data": {
      "text/plain": [
       "[Text(0, 0, '2016-01'),\n",
       " Text(0, 0, '2016-02'),\n",
       " Text(0, 0, '2016-03'),\n",
       " Text(0, 0, '2016-04'),\n",
       " Text(0, 0, '2016-05'),\n",
       " Text(0, 0, '2016-06'),\n",
       " Text(0, 0, '2016-07'),\n",
       " Text(0, 0, '2016-08'),\n",
       " Text(0, 0, '2016-09'),\n",
       " Text(0, 0, '2016-10'),\n",
       " Text(0, 0, '2016-11'),\n",
       " Text(0, 0, '2016-12')]"
      ]
     },
     "execution_count": 133,
     "metadata": {},
     "output_type": "execute_result"
    },
    {
     "data": {
      "text/plain": [
       "Text(0.5, 1.0, 'Mean and Sum of abs_logerror over Year-Month')"
      ]
     },
     "execution_count": 133,
     "metadata": {},
     "output_type": "execute_result"
    },
    {
     "data": {
      "image/png": "[encoded data removed]",
      "text/plain": [
       "<Figure size 576x432 with 2 Axes>"
      ]
     },
     "metadata": {},
     "output_type": "display_data"
    }
   ],
   "source": [
    "# set context\n",
    "sns.set_context(\"paper\", rc={\"figure.figsize\":(8,6), \"font.size\":10,\"axes.titlesize\":20,\"axes.labelsize\":15})  \n",
    "\n",
    "# set an appropriate figure size\n",
    "plt.subplots(figsize=(8, 6))\n",
    "\n",
    "# plot monthly mean absolute error \n",
    "ax = sns.lineplot(x= \"year_month\", \n",
    "                  y=\"mean_abs_logerror\", \n",
    "                  data = year_month_abslogerror, \n",
    "                  color = \"blue\")\n",
    "\n",
    "# set second axis\n",
    "ax2 = ax.twinx()\n",
    "\n",
    "# plot monthly absolute error sum\n",
    "sns.scatterplot(x = \"year_month\", \n",
    "                y = \"sum\", \n",
    "                ax = ax2, \n",
    "                data = year_month_abslogerror)\n",
    "\n",
    "# set axis labels\n",
    "ax.set(xlabel='year-month', ylabel='abs_logerror mean')\n",
    "ax2.set(ylabel='abs_logerror sum')\n",
    "# set tick labels\n",
    "ax.set_xticklabels(rotation=45, labels = year_month_abslogerror[\"year_month\"])\n",
    "ax.tick_params(labelsize=10)\n",
    "\n",
    "# set title\n",
    "ax.set_title(\"Mean and Sum of abs_logerror over Year-Month\", fontsize = 15)\n",
    "\n",
    "plt.show()"
   ]
  },
  {
   "cell_type": "markdown",
   "metadata": {},
   "source": [
    "The mean of *abs_logerror* seems to be the smallest during July and October."
   ]
  },
  {
   "cell_type": "markdown",
   "metadata": {},
   "source": [
    "### When were houses built?"
   ]
  },
  {
   "cell_type": "code",
   "execution_count": 134,
   "metadata": {
    "scrolled": true
   },
   "outputs": [
    {
     "ename": "ValueError",
     "evalue": "array must not contain infs or NaNs",
     "output_type": "error",
     "traceback": [
      "\u001b[0;31m---------------------------------------------------------------------------\u001b[0m",
      "\u001b[0;31mValueError\u001b[0m                                Traceback (most recent call last)",
      "\u001b[0;32m<ipython-input-134-f3c487ee4804>\u001b[0m in \u001b[0;36m<module>\u001b[0;34m\u001b[0m\n\u001b[1;32m      3\u001b[0m \u001b[0;34m\u001b[0m\u001b[0m\n\u001b[1;32m      4\u001b[0m \u001b[0;31m# plot density\u001b[0m\u001b[0;34m\u001b[0m\u001b[0;34m\u001b[0m\u001b[0;34m\u001b[0m\u001b[0m\n\u001b[0;32m----> 5\u001b[0;31m \u001b[0max\u001b[0m \u001b[0;34m=\u001b[0m \u001b[0msns\u001b[0m\u001b[0;34m.\u001b[0m\u001b[0mkdeplot\u001b[0m\u001b[0;34m(\u001b[0m\u001b[0mdf_no_out\u001b[0m\u001b[0;34m[\u001b[0m\u001b[0;34m\"build_year\"\u001b[0m\u001b[0;34m]\u001b[0m\u001b[0;34m,\u001b[0m \u001b[0mvertical\u001b[0m\u001b[0;34m=\u001b[0m\u001b[0;32mFalse\u001b[0m\u001b[0;34m)\u001b[0m\u001b[0;34m\u001b[0m\u001b[0;34m\u001b[0m\u001b[0m\n\u001b[0m\u001b[1;32m      6\u001b[0m \u001b[0;34m\u001b[0m\u001b[0m\n\u001b[1;32m      7\u001b[0m \u001b[0;31m# set axis labels\u001b[0m\u001b[0;34m\u001b[0m\u001b[0;34m\u001b[0m\u001b[0;34m\u001b[0m\u001b[0m\n",
      "\u001b[0;32m/anaconda3/lib/python3.7/site-packages/seaborn/distributions.py\u001b[0m in \u001b[0;36mkdeplot\u001b[0;34m(data, data2, shade, vertical, kernel, bw, gridsize, cut, clip, legend, cumulative, shade_lowest, cbar, cbar_ax, cbar_kws, ax, **kwargs)\u001b[0m\n\u001b[1;32m    689\u001b[0m         ax = _univariate_kdeplot(data, shade, vertical, kernel, bw,\n\u001b[1;32m    690\u001b[0m                                  \u001b[0mgridsize\u001b[0m\u001b[0;34m,\u001b[0m \u001b[0mcut\u001b[0m\u001b[0;34m,\u001b[0m \u001b[0mclip\u001b[0m\u001b[0;34m,\u001b[0m \u001b[0mlegend\u001b[0m\u001b[0;34m,\u001b[0m \u001b[0max\u001b[0m\u001b[0;34m,\u001b[0m\u001b[0;34m\u001b[0m\u001b[0;34m\u001b[0m\u001b[0m\n\u001b[0;32m--> 691\u001b[0;31m                                  cumulative=cumulative, **kwargs)\n\u001b[0m\u001b[1;32m    692\u001b[0m \u001b[0;34m\u001b[0m\u001b[0m\n\u001b[1;32m    693\u001b[0m     \u001b[0;32mreturn\u001b[0m \u001b[0max\u001b[0m\u001b[0;34m\u001b[0m\u001b[0;34m\u001b[0m\u001b[0m\n",
      "\u001b[0;32m/anaconda3/lib/python3.7/site-packages/seaborn/distributions.py\u001b[0m in \u001b[0;36m_univariate_kdeplot\u001b[0;34m(data, shade, vertical, kernel, bw, gridsize, cut, clip, legend, ax, cumulative, **kwargs)\u001b[0m\n\u001b[1;32m    292\u001b[0m                               \u001b[0;34m\"only implemented in statsmodels.\"\u001b[0m\u001b[0;34m\u001b[0m\u001b[0;34m\u001b[0m\u001b[0m\n\u001b[1;32m    293\u001b[0m                               \"Please install statsmodels.\")\n\u001b[0;32m--> 294\u001b[0;31m         \u001b[0mx\u001b[0m\u001b[0;34m,\u001b[0m \u001b[0my\u001b[0m \u001b[0;34m=\u001b[0m \u001b[0m_scipy_univariate_kde\u001b[0m\u001b[0;34m(\u001b[0m\u001b[0mdata\u001b[0m\u001b[0;34m,\u001b[0m \u001b[0mbw\u001b[0m\u001b[0;34m,\u001b[0m \u001b[0mgridsize\u001b[0m\u001b[0;34m,\u001b[0m \u001b[0mcut\u001b[0m\u001b[0;34m,\u001b[0m \u001b[0mclip\u001b[0m\u001b[0;34m)\u001b[0m\u001b[0;34m\u001b[0m\u001b[0;34m\u001b[0m\u001b[0m\n\u001b[0m\u001b[1;32m    295\u001b[0m \u001b[0;34m\u001b[0m\u001b[0m\n\u001b[1;32m    296\u001b[0m     \u001b[0;31m# Make sure the density is nonnegative\u001b[0m\u001b[0;34m\u001b[0m\u001b[0;34m\u001b[0m\u001b[0;34m\u001b[0m\u001b[0m\n",
      "\u001b[0;32m/anaconda3/lib/python3.7/site-packages/seaborn/distributions.py\u001b[0m in \u001b[0;36m_scipy_univariate_kde\u001b[0;34m(data, bw, gridsize, cut, clip)\u001b[0m\n\u001b[1;32m    364\u001b[0m     \u001b[0;34m\"\"\"Compute a univariate kernel density estimate using scipy.\"\"\"\u001b[0m\u001b[0;34m\u001b[0m\u001b[0;34m\u001b[0m\u001b[0m\n\u001b[1;32m    365\u001b[0m     \u001b[0;32mtry\u001b[0m\u001b[0;34m:\u001b[0m\u001b[0;34m\u001b[0m\u001b[0;34m\u001b[0m\u001b[0m\n\u001b[0;32m--> 366\u001b[0;31m         \u001b[0mkde\u001b[0m \u001b[0;34m=\u001b[0m \u001b[0mstats\u001b[0m\u001b[0;34m.\u001b[0m\u001b[0mgaussian_kde\u001b[0m\u001b[0;34m(\u001b[0m\u001b[0mdata\u001b[0m\u001b[0;34m,\u001b[0m \u001b[0mbw_method\u001b[0m\u001b[0;34m=\u001b[0m\u001b[0mbw\u001b[0m\u001b[0;34m)\u001b[0m\u001b[0;34m\u001b[0m\u001b[0;34m\u001b[0m\u001b[0m\n\u001b[0m\u001b[1;32m    367\u001b[0m     \u001b[0;32mexcept\u001b[0m \u001b[0mTypeError\u001b[0m\u001b[0;34m:\u001b[0m\u001b[0;34m\u001b[0m\u001b[0;34m\u001b[0m\u001b[0m\n\u001b[1;32m    368\u001b[0m         \u001b[0mkde\u001b[0m \u001b[0;34m=\u001b[0m \u001b[0mstats\u001b[0m\u001b[0;34m.\u001b[0m\u001b[0mgaussian_kde\u001b[0m\u001b[0;34m(\u001b[0m\u001b[0mdata\u001b[0m\u001b[0;34m)\u001b[0m\u001b[0;34m\u001b[0m\u001b[0;34m\u001b[0m\u001b[0m\n",
      "\u001b[0;32m/anaconda3/lib/python3.7/site-packages/scipy/stats/kde.py\u001b[0m in \u001b[0;36m__init__\u001b[0;34m(self, dataset, bw_method, weights)\u001b[0m\n\u001b[1;32m    206\u001b[0m             \u001b[0mself\u001b[0m\u001b[0;34m.\u001b[0m\u001b[0m_neff\u001b[0m \u001b[0;34m=\u001b[0m \u001b[0;36m1\u001b[0m\u001b[0;34m/\u001b[0m\u001b[0msum\u001b[0m\u001b[0;34m(\u001b[0m\u001b[0mself\u001b[0m\u001b[0;34m.\u001b[0m\u001b[0m_weights\u001b[0m\u001b[0;34m**\u001b[0m\u001b[0;36m2\u001b[0m\u001b[0;34m)\u001b[0m\u001b[0;34m\u001b[0m\u001b[0;34m\u001b[0m\u001b[0m\n\u001b[1;32m    207\u001b[0m \u001b[0;34m\u001b[0m\u001b[0m\n\u001b[0;32m--> 208\u001b[0;31m         \u001b[0mself\u001b[0m\u001b[0;34m.\u001b[0m\u001b[0mset_bandwidth\u001b[0m\u001b[0;34m(\u001b[0m\u001b[0mbw_method\u001b[0m\u001b[0;34m=\u001b[0m\u001b[0mbw_method\u001b[0m\u001b[0;34m)\u001b[0m\u001b[0;34m\u001b[0m\u001b[0;34m\u001b[0m\u001b[0m\n\u001b[0m\u001b[1;32m    209\u001b[0m \u001b[0;34m\u001b[0m\u001b[0m\n\u001b[1;32m    210\u001b[0m     \u001b[0;32mdef\u001b[0m \u001b[0mevaluate\u001b[0m\u001b[0;34m(\u001b[0m\u001b[0mself\u001b[0m\u001b[0;34m,\u001b[0m \u001b[0mpoints\u001b[0m\u001b[0;34m)\u001b[0m\u001b[0;34m:\u001b[0m\u001b[0;34m\u001b[0m\u001b[0;34m\u001b[0m\u001b[0m\n",
      "\u001b[0;32m/anaconda3/lib/python3.7/site-packages/scipy/stats/kde.py\u001b[0m in \u001b[0;36mset_bandwidth\u001b[0;34m(self, bw_method)\u001b[0m\n\u001b[1;32m    552\u001b[0m             \u001b[0;32mraise\u001b[0m \u001b[0mValueError\u001b[0m\u001b[0;34m(\u001b[0m\u001b[0mmsg\u001b[0m\u001b[0;34m)\u001b[0m\u001b[0;34m\u001b[0m\u001b[0;34m\u001b[0m\u001b[0m\n\u001b[1;32m    553\u001b[0m \u001b[0;34m\u001b[0m\u001b[0m\n\u001b[0;32m--> 554\u001b[0;31m         \u001b[0mself\u001b[0m\u001b[0;34m.\u001b[0m\u001b[0m_compute_covariance\u001b[0m\u001b[0;34m(\u001b[0m\u001b[0;34m)\u001b[0m\u001b[0;34m\u001b[0m\u001b[0;34m\u001b[0m\u001b[0m\n\u001b[0m\u001b[1;32m    555\u001b[0m \u001b[0;34m\u001b[0m\u001b[0m\n\u001b[1;32m    556\u001b[0m     \u001b[0;32mdef\u001b[0m \u001b[0m_compute_covariance\u001b[0m\u001b[0;34m(\u001b[0m\u001b[0mself\u001b[0m\u001b[0;34m)\u001b[0m\u001b[0;34m:\u001b[0m\u001b[0;34m\u001b[0m\u001b[0;34m\u001b[0m\u001b[0m\n",
      "\u001b[0;32m/anaconda3/lib/python3.7/site-packages/scipy/stats/kde.py\u001b[0m in \u001b[0;36m_compute_covariance\u001b[0;34m(self)\u001b[0m\n\u001b[1;32m    564\u001b[0m                                                \u001b[0mbias\u001b[0m\u001b[0;34m=\u001b[0m\u001b[0;32mFalse\u001b[0m\u001b[0;34m,\u001b[0m\u001b[0;34m\u001b[0m\u001b[0;34m\u001b[0m\u001b[0m\n\u001b[1;32m    565\u001b[0m                                                aweights=self.weights))\n\u001b[0;32m--> 566\u001b[0;31m             \u001b[0mself\u001b[0m\u001b[0;34m.\u001b[0m\u001b[0m_data_inv_cov\u001b[0m \u001b[0;34m=\u001b[0m \u001b[0mlinalg\u001b[0m\u001b[0;34m.\u001b[0m\u001b[0minv\u001b[0m\u001b[0;34m(\u001b[0m\u001b[0mself\u001b[0m\u001b[0;34m.\u001b[0m\u001b[0m_data_covariance\u001b[0m\u001b[0;34m)\u001b[0m\u001b[0;34m\u001b[0m\u001b[0;34m\u001b[0m\u001b[0m\n\u001b[0m\u001b[1;32m    567\u001b[0m \u001b[0;34m\u001b[0m\u001b[0m\n\u001b[1;32m    568\u001b[0m         \u001b[0mself\u001b[0m\u001b[0;34m.\u001b[0m\u001b[0mcovariance\u001b[0m \u001b[0;34m=\u001b[0m \u001b[0mself\u001b[0m\u001b[0;34m.\u001b[0m\u001b[0m_data_covariance\u001b[0m \u001b[0;34m*\u001b[0m \u001b[0mself\u001b[0m\u001b[0;34m.\u001b[0m\u001b[0mfactor\u001b[0m\u001b[0;34m**\u001b[0m\u001b[0;36m2\u001b[0m\u001b[0;34m\u001b[0m\u001b[0;34m\u001b[0m\u001b[0m\n",
      "\u001b[0;32m/anaconda3/lib/python3.7/site-packages/scipy/linalg/basic.py\u001b[0m in \u001b[0;36minv\u001b[0;34m(a, overwrite_a, check_finite)\u001b[0m\n\u001b[1;32m    943\u001b[0m \u001b[0;34m\u001b[0m\u001b[0m\n\u001b[1;32m    944\u001b[0m     \"\"\"\n\u001b[0;32m--> 945\u001b[0;31m     \u001b[0ma1\u001b[0m \u001b[0;34m=\u001b[0m \u001b[0m_asarray_validated\u001b[0m\u001b[0;34m(\u001b[0m\u001b[0ma\u001b[0m\u001b[0;34m,\u001b[0m \u001b[0mcheck_finite\u001b[0m\u001b[0;34m=\u001b[0m\u001b[0mcheck_finite\u001b[0m\u001b[0;34m)\u001b[0m\u001b[0;34m\u001b[0m\u001b[0;34m\u001b[0m\u001b[0m\n\u001b[0m\u001b[1;32m    946\u001b[0m     \u001b[0;32mif\u001b[0m \u001b[0mlen\u001b[0m\u001b[0;34m(\u001b[0m\u001b[0ma1\u001b[0m\u001b[0;34m.\u001b[0m\u001b[0mshape\u001b[0m\u001b[0;34m)\u001b[0m \u001b[0;34m!=\u001b[0m \u001b[0;36m2\u001b[0m \u001b[0;32mor\u001b[0m \u001b[0ma1\u001b[0m\u001b[0;34m.\u001b[0m\u001b[0mshape\u001b[0m\u001b[0;34m[\u001b[0m\u001b[0;36m0\u001b[0m\u001b[0;34m]\u001b[0m \u001b[0;34m!=\u001b[0m \u001b[0ma1\u001b[0m\u001b[0;34m.\u001b[0m\u001b[0mshape\u001b[0m\u001b[0;34m[\u001b[0m\u001b[0;36m1\u001b[0m\u001b[0;34m]\u001b[0m\u001b[0;34m:\u001b[0m\u001b[0;34m\u001b[0m\u001b[0;34m\u001b[0m\u001b[0m\n\u001b[1;32m    947\u001b[0m         \u001b[0;32mraise\u001b[0m \u001b[0mValueError\u001b[0m\u001b[0;34m(\u001b[0m\u001b[0;34m'expected square matrix'\u001b[0m\u001b[0;34m)\u001b[0m\u001b[0;34m\u001b[0m\u001b[0;34m\u001b[0m\u001b[0m\n",
      "\u001b[0;32m/anaconda3/lib/python3.7/site-packages/scipy/_lib/_util.py\u001b[0m in \u001b[0;36m_asarray_validated\u001b[0;34m(a, check_finite, sparse_ok, objects_ok, mask_ok, as_inexact)\u001b[0m\n\u001b[1;32m    237\u001b[0m             \u001b[0;32mraise\u001b[0m \u001b[0mValueError\u001b[0m\u001b[0;34m(\u001b[0m\u001b[0;34m'masked arrays are not supported'\u001b[0m\u001b[0;34m)\u001b[0m\u001b[0;34m\u001b[0m\u001b[0;34m\u001b[0m\u001b[0m\n\u001b[1;32m    238\u001b[0m     \u001b[0mtoarray\u001b[0m \u001b[0;34m=\u001b[0m \u001b[0mnp\u001b[0m\u001b[0;34m.\u001b[0m\u001b[0masarray_chkfinite\u001b[0m \u001b[0;32mif\u001b[0m \u001b[0mcheck_finite\u001b[0m \u001b[0;32melse\u001b[0m \u001b[0mnp\u001b[0m\u001b[0;34m.\u001b[0m\u001b[0masarray\u001b[0m\u001b[0;34m\u001b[0m\u001b[0;34m\u001b[0m\u001b[0m\n\u001b[0;32m--> 239\u001b[0;31m     \u001b[0ma\u001b[0m \u001b[0;34m=\u001b[0m \u001b[0mtoarray\u001b[0m\u001b[0;34m(\u001b[0m\u001b[0ma\u001b[0m\u001b[0;34m)\u001b[0m\u001b[0;34m\u001b[0m\u001b[0;34m\u001b[0m\u001b[0m\n\u001b[0m\u001b[1;32m    240\u001b[0m     \u001b[0;32mif\u001b[0m \u001b[0;32mnot\u001b[0m \u001b[0mobjects_ok\u001b[0m\u001b[0;34m:\u001b[0m\u001b[0;34m\u001b[0m\u001b[0;34m\u001b[0m\u001b[0m\n\u001b[1;32m    241\u001b[0m         \u001b[0;32mif\u001b[0m \u001b[0ma\u001b[0m\u001b[0;34m.\u001b[0m\u001b[0mdtype\u001b[0m \u001b[0;32mis\u001b[0m \u001b[0mnp\u001b[0m\u001b[0;34m.\u001b[0m\u001b[0mdtype\u001b[0m\u001b[0;34m(\u001b[0m\u001b[0;34m'O'\u001b[0m\u001b[0;34m)\u001b[0m\u001b[0;34m:\u001b[0m\u001b[0;34m\u001b[0m\u001b[0;34m\u001b[0m\u001b[0m\n",
      "\u001b[0;32m/anaconda3/lib/python3.7/site-packages/numpy/lib/function_base.py\u001b[0m in \u001b[0;36masarray_chkfinite\u001b[0;34m(a, dtype, order)\u001b[0m\n\u001b[1;32m    494\u001b[0m     \"\"\"\n\u001b[1;32m    495\u001b[0m     \u001b[0ma\u001b[0m \u001b[0;34m=\u001b[0m \u001b[0masarray\u001b[0m\u001b[0;34m(\u001b[0m\u001b[0ma\u001b[0m\u001b[0;34m,\u001b[0m \u001b[0mdtype\u001b[0m\u001b[0;34m=\u001b[0m\u001b[0mdtype\u001b[0m\u001b[0;34m,\u001b[0m \u001b[0morder\u001b[0m\u001b[0;34m=\u001b[0m\u001b[0morder\u001b[0m\u001b[0;34m)\u001b[0m\u001b[0;34m\u001b[0m\u001b[0;34m\u001b[0m\u001b[0m\n\u001b[0;32m--> 496\u001b[0;31m     \u001b[0;32mif\u001b[0m \u001b[0ma\u001b[0m\u001b[0;34m.\u001b[0m\u001b[0mdtype\u001b[0m\u001b[0;34m.\u001b[0m\u001b[0mchar\u001b[0m \u001b[0;32min\u001b[0m \u001b[0mtypecodes\u001b[0m\u001b[0;34m[\u001b[0m\u001b[0;34m'AllFloat'\u001b[0m\u001b[0;34m]\u001b[0m \u001b[0;32mand\u001b[0m \u001b[0;32mnot\u001b[0m \u001b[0mnp\u001b[0m\u001b[0;34m.\u001b[0m\u001b[0misfinite\u001b[0m\u001b[0;34m(\u001b[0m\u001b[0ma\u001b[0m\u001b[0;34m)\u001b[0m\u001b[0;34m.\u001b[0m\u001b[0mall\u001b[0m\u001b[0;34m(\u001b[0m\u001b[0;34m)\u001b[0m\u001b[0;34m:\u001b[0m\u001b[0;34m\u001b[0m\u001b[0;34m\u001b[0m\u001b[0m\n\u001b[0m\u001b[1;32m    497\u001b[0m         raise ValueError(\n\u001b[1;32m    498\u001b[0m             \"array must not contain infs or NaNs\")\n",
      "\u001b[0;31mValueError\u001b[0m: array must not contain infs or NaNs"
     ]
    },
    {
     "data": {
      "image/png": "[encoded data removed]",
      "text/plain": [
       "<Figure size 432x288 with 1 Axes>"
      ]
     },
     "metadata": {},
     "output_type": "display_data"
    }
   ],
   "source": [
    "# set context\n",
    "sns.set_context(\"paper\", rc={\"figure.figsize\":(8,6), \"font.size\":10,\"axes.titlesize\":20,\"axes.labelsize\":15})  \n",
    "\n",
    "# plot density\n",
    "ax = sns.kdeplot(df_no_out[\"build_year\"], vertical=False)\n",
    "\n",
    "# set axis labels\n",
    "ax.set(xlabel='Build Year', ylabel='Density')\n",
    "\n",
    "# set title\n",
    "ax.set_title(\"Build Year Density\", fontsize = 15)"
   ]
  },
  {
   "cell_type": "markdown",
   "metadata": {},
   "source": [
    "### How does the mean *abs_logerror* change with *build_year*?"
   ]
  },
  {
   "cell_type": "code",
   "execution_count": null,
   "metadata": {},
   "outputs": [],
   "source": [
    "# mean abs_logerror and sum per year_month\n",
    "build_year_abslogerror = df_no_out.groupby(by=['build_year'])\\\n",
    "                            .agg({'abs_logerror': {'mean_abs_logerror': 'mean'}})\n",
    "# drop abs_logerror level                            \n",
    "build_year_abslogerror.columns = build_year_abslogerror.columns.droplevel(0)\n",
    "\n",
    "# reset index\n",
    "build_year_abslogerror.reset_index(level = 0, inplace=True)\n",
    "\n",
    "# print\n",
    "build_year_abslogerror.head()  "
   ]
  },
  {
   "cell_type": "code",
   "execution_count": null,
   "metadata": {},
   "outputs": [],
   "source": [
    "# set context\n",
    "sns.set_context(\"paper\", rc={\"figure.figsize\":(8,6), \"font.size\":10,\"axes.titlesize\":20,\"axes.labelsize\":15})  \n",
    "\n",
    "# graph\n",
    "ax = sns.scatterplot(x= \"build_year\", y=\"mean_abs_logerror\", data = build_year_abslogerror, color = \"red\")\n",
    "\n",
    "# set x and y axis labels\n",
    "ax.set(xlabel='build year', ylabel='density')\n",
    "\n",
    "# set tick labels\n",
    "ax.set_xticklabels(rotation=45, labels = year_month_abslogerror[\"build_year\"])\n",
    "ax.tick_params(labelsize=5)\n",
    "\n",
    "# set title\n",
    "ax.set_title(\"Mean Absolute logerror Density over Build Year\", fontsize = 15)"
   ]
  },
  {
   "cell_type": "markdown",
   "metadata": {},
   "source": [
    "It seems that the greatest prediction errors are related to houses built before 1920. It is probably worth removing these houses from our dataframe."
   ]
  },
  {
   "cell_type": "markdown",
   "metadata": {},
   "source": [
    "### Where does Zestimate predict well?"
   ]
  },
  {
   "cell_type": "code",
   "execution_count": 136,
   "metadata": {},
   "outputs": [],
   "source": [
    "# create percentiles\n",
    "df_no_out['percentile'] = pd.qcut(df_no_out['abs_logerror'], \\\n",
    "                           [0, 0.1, 0.25, 0.75, 0.9, 1], \\\n",
    "                           labels = ['best_fit', 'good_fit', 'typical_fit', 'bad_fit', 'worst_fit'])"
   ]
  },
  {
   "cell_type": "code",
   "execution_count": 137,
   "metadata": {},
   "outputs": [],
   "source": [
    "df_no_out['over_under'] = np.where(df_no_out['logerror'] > 0, 'over', 'under')"
   ]
  },
  {
   "cell_type": "code",
   "execution_count": 138,
   "metadata": {},
   "outputs": [
    {
     "data": {
      "text/plain": [
       "over     23966\n",
       "under    20633\n",
       "Name: over_under, dtype: int64"
      ]
     },
     "execution_count": 138,
     "metadata": {},
     "output_type": "execute_result"
    }
   ],
   "source": [
    "df_no_out['over_under'].value_counts()"
   ]
  },
  {
   "cell_type": "markdown",
   "metadata": {},
   "source": [
    "Around 54% of the house prices have been overestimated and 46% underestimated."
   ]
  },
  {
   "cell_type": "markdown",
   "metadata": {},
   "source": [
    "### Latitude"
   ]
  },
  {
   "cell_type": "code",
   "execution_count": 139,
   "metadata": {},
   "outputs": [
    {
     "data": {
      "text/plain": [
       "<matplotlib.axes._subplots.AxesSubplot at 0x11f9cbeb8>"
      ]
     },
     "execution_count": 139,
     "metadata": {},
     "output_type": "execute_result"
    },
    {
     "data": {
      "text/plain": [
       "<matplotlib.axes._subplots.AxesSubplot at 0x11f9cbeb8>"
      ]
     },
     "execution_count": 139,
     "metadata": {},
     "output_type": "execute_result"
    },
    {
     "data": {
      "text/plain": [
       "<matplotlib.axes._subplots.AxesSubplot at 0x11f9cbeb8>"
      ]
     },
     "execution_count": 139,
     "metadata": {},
     "output_type": "execute_result"
    },
    {
     "data": {
      "text/plain": [
       "<matplotlib.legend.Legend at 0x11f9cb898>"
      ]
     },
     "execution_count": 139,
     "metadata": {},
     "output_type": "execute_result"
    },
    {
     "data": {
      "text/plain": [
       "[Text(21.340625000000003, 0.5, 'density'),\n",
       " Text(0.5, 21.199999999999996, 'latitude')]"
      ]
     },
     "execution_count": 139,
     "metadata": {},
     "output_type": "execute_result"
    },
    {
     "data": {
      "text/plain": [
       "Text(0.5, 1.0, 'Latitude Density')"
      ]
     },
     "execution_count": 139,
     "metadata": {},
     "output_type": "execute_result"
    },
    {
     "data": {
      "image/png": "[encoded data removed]",
      "text/plain": [
       "<Figure size 432x288 with 1 Axes>"
      ]
     },
     "metadata": {},
     "output_type": "display_data"
    }
   ],
   "source": [
    "# set context\n",
    "sns.set_context(\"paper\", rc={\"figure.figsize\":(8,6), \"font.size\":10,\"axes.titlesize\":20,\"axes.labelsize\":15})  \n",
    "\n",
    "# fit types we are interested in plotting\n",
    "fit_type = ['worst_fit', 'typical_fit', 'best_fit']\n",
    "\n",
    "# plot the different densities\n",
    "for i in fit_type :\n",
    "    data = df_no_out[df_no_out['percentile'] == i]\n",
    "    \n",
    "    # Draw the density plot\n",
    "    sns.distplot(data[\"latitude\"],\n",
    "                 hist = False, kde = True,\n",
    "                 kde_kws = {'linewidth': 3},\n",
    "                 label = i)\n",
    "\n",
    "# set legends\n",
    "plt.legend(prop={'size': 10}, title = 'Fit')\n",
    "    \n",
    "# set axis labels\n",
    "ax.set(xlabel='latitude', ylabel='density')\n",
    "\n",
    "# set title\n",
    "ax.set_title(\"Latitude Density\", fontsize = 15)"
   ]
  },
  {
   "cell_type": "code",
   "execution_count": 140,
   "metadata": {},
   "outputs": [
    {
     "data": {
      "text/plain": [
       "<matplotlib.axes._subplots.AxesSubplot at 0x120aca128>"
      ]
     },
     "execution_count": 140,
     "metadata": {},
     "output_type": "execute_result"
    },
    {
     "data": {
      "image/png": "[encoded data removed]",
      "text/plain": [
       "<Figure size 432x288 with 1 Axes>"
      ]
     },
     "metadata": {},
     "output_type": "display_data"
    }
   ],
   "source": [
    "# plot latitude versus logerror\n",
    "sns.scatterplot(x = \"latitude\", y = \"logerror\", data = df_no_out)"
   ]
  },
  {
   "cell_type": "markdown",
   "metadata": {},
   "source": [
    "Prices are especially wrongly predicted where the peak of the *worst_fit* curve is. It would be interesting to see on a map where this is and see if there is some rationale for it that could help our model to better predict house prices in this area."
   ]
  },
  {
   "cell_type": "markdown",
   "metadata": {},
   "source": [
    "### Longitude"
   ]
  },
  {
   "cell_type": "code",
   "execution_count": 141,
   "metadata": {},
   "outputs": [
    {
     "data": {
      "text/plain": [
       "<matplotlib.axes._subplots.AxesSubplot at 0x11d4712e8>"
      ]
     },
     "execution_count": 141,
     "metadata": {},
     "output_type": "execute_result"
    },
    {
     "data": {
      "text/plain": [
       "<matplotlib.axes._subplots.AxesSubplot at 0x11d4712e8>"
      ]
     },
     "execution_count": 141,
     "metadata": {},
     "output_type": "execute_result"
    },
    {
     "data": {
      "text/plain": [
       "<matplotlib.axes._subplots.AxesSubplot at 0x11d4712e8>"
      ]
     },
     "execution_count": 141,
     "metadata": {},
     "output_type": "execute_result"
    },
    {
     "data": {
      "text/plain": [
       "<matplotlib.legend.Legend at 0x11d481ba8>"
      ]
     },
     "execution_count": 141,
     "metadata": {},
     "output_type": "execute_result"
    },
    {
     "data": {
      "text/plain": [
       "[Text(21.340625000000003, 0.5, 'density'),\n",
       " Text(0.5, 21.199999999999996, 'longitude')]"
      ]
     },
     "execution_count": 141,
     "metadata": {},
     "output_type": "execute_result"
    },
    {
     "data": {
      "text/plain": [
       "Text(0.5, 1.0, 'Longitude Density')"
      ]
     },
     "execution_count": 141,
     "metadata": {},
     "output_type": "execute_result"
    },
    {
     "data": {
      "image/png": "[encoded data removed]",
      "text/plain": [
       "<Figure size 432x288 with 1 Axes>"
      ]
     },
     "metadata": {},
     "output_type": "display_data"
    }
   ],
   "source": [
    "# set context\n",
    "sns.set_context(\"paper\", rc={\"figure.figsize\":(8,6), \"font.size\":10,\"axes.titlesize\":20,\"axes.labelsize\":15})  \n",
    "\n",
    "# fit types we are interested in plotting\n",
    "fit_type = ['worst_fit', 'typical_fit', 'best_fit']\n",
    "\n",
    "\n",
    "for i in range(len(fit_type)) :\n",
    "        data = df_no_out[df_no_out['percentile'] == fit_type[i]]\n",
    "    \n",
    "        # Draw the density plot\n",
    "        sns.distplot(data[\"longitude\"],\n",
    "                     hist = False, kde = True,\n",
    "                     kde_kws = {'linewidth': 3},\n",
    "                     label = fit_type[i])\n",
    "                     #color = colors[i])\n",
    "\n",
    "# set legends\n",
    "plt.legend(prop={'size': 10}, title = 'Fit')\n",
    "    \n",
    "# set axis labels\n",
    "ax.set(xlabel='longitude', ylabel='density')\n",
    "\n",
    "# set title\n",
    "ax.set_title(\"Longitude Density\", fontsize = 15)"
   ]
  },
  {
   "cell_type": "markdown",
   "metadata": {},
   "source": [
    "Here as well we can observe the longitudes where the worst fit are. The graph below plots the logerrors."
   ]
  },
  {
   "cell_type": "code",
   "execution_count": 142,
   "metadata": {},
   "outputs": [
    {
     "data": {
      "text/plain": [
       "<matplotlib.axes._subplots.AxesSubplot at 0x11d3ba5c0>"
      ]
     },
     "execution_count": 142,
     "metadata": {},
     "output_type": "execute_result"
    },
    {
     "data": {
      "image/png": "[encoded data removed]",
      "text/plain": [
       "<Figure size 432x288 with 1 Axes>"
      ]
     },
     "metadata": {},
     "output_type": "display_data"
    }
   ],
   "source": [
    "# plot longitude versus logerror\n",
    "sns.scatterplot(x = \"longitude\", y = \"logerror\", data = df_no_out)\n"
   ]
  },
  {
   "cell_type": "markdown",
   "metadata": {},
   "source": [
    "Let's now remove observations where houses were built before the 1920s."
   ]
  },
  {
   "cell_type": "code",
   "execution_count": 143,
   "metadata": {},
   "outputs": [
    {
     "data": {
      "text/plain": [
       "(44599, 36)"
      ]
     },
     "execution_count": 143,
     "metadata": {},
     "output_type": "execute_result"
    }
   ],
   "source": [
    "df_no_out.shape"
   ]
  },
  {
   "cell_type": "code",
   "execution_count": 144,
   "metadata": {},
   "outputs": [],
   "source": [
    "df_no_out = df_no_out[df_no_out[\"build_year\"] > 1920]"
   ]
  },
  {
   "cell_type": "code",
   "execution_count": 145,
   "metadata": {},
   "outputs": [
    {
     "data": {
      "text/plain": [
       "(42698, 36)"
      ]
     },
     "execution_count": 145,
     "metadata": {},
     "output_type": "execute_result"
    }
   ],
   "source": [
    "df_no_out.shape"
   ]
  },
  {
   "cell_type": "markdown",
   "metadata": {},
   "source": [
    "## Model, Predict and Solve the Problem"
   ]
  },
  {
   "cell_type": "code",
   "execution_count": 146,
   "metadata": {},
   "outputs": [
    {
     "name": "stdout",
     "output_type": "stream",
     "text": [
      "<class 'pandas.core.frame.DataFrame'>\n",
      "Int64Index: 42698 entries, 0 to 90274\n",
      "Data columns (total 36 columns):\n",
      "aircon                    13769 non-null float64\n",
      "area_garage               5477 non-null float64\n",
      "num_garage                5477 non-null float64\n",
      "region_neighbor           18657 non-null float64\n",
      "heating                   36340 non-null float64\n",
      "quality                   36636 non-null float64\n",
      "zoning_property           36686 non-null object\n",
      "num_unit                  36702 non-null float64\n",
      "area_lot                  38309 non-null float64\n",
      "region_city               41922 non-null float64\n",
      "num_bath                  42621 non-null float64\n",
      "build_year                42698 non-null float64\n",
      "area_total_calc           42688 non-null float64\n",
      "censustractandblock       42548 non-null float64\n",
      "tax_building              42678 non-null float64\n",
      "region_zip                42694 non-null float64\n",
      "tax_property              42694 non-null float64\n",
      "num_room                  42698 non-null float64\n",
      "transactiondate           42698 non-null object\n",
      "tax_land                  42697 non-null float64\n",
      "num_bedroom               42698 non-null float64\n",
      "fips                      42698 non-null float64\n",
      "latitude                  42698 non-null float64\n",
      "longitude                 42698 non-null float64\n",
      "logerror                  42698 non-null float64\n",
      "zoning_landuse_county     42697 non-null object\n",
      "zoning_landuse            42698 non-null float64\n",
      "rawcensustractandblock    42698 non-null float64\n",
      "region_county             42698 non-null float64\n",
      "parcelid                  42698 non-null int64\n",
      "year                      42698 non-null int64\n",
      "month                     42698 non-null object\n",
      "year_month                42698 non-null object\n",
      "abs_logerror              42698 non-null float64\n",
      "percentile                42698 non-null category\n",
      "over_under                42698 non-null object\n",
      "dtypes: category(1), float64(27), int64(2), object(6)\n",
      "memory usage: 11.8+ MB\n"
     ]
    }
   ],
   "source": [
    "df_no_out.info()"
   ]
  },
  {
   "cell_type": "markdown",
   "metadata": {},
   "source": [
    "### Preprocessing"
   ]
  },
  {
   "cell_type": "markdown",
   "metadata": {},
   "source": [
    "There are a few features that were created using the *logerror* for exploration. We can now remove them, as well as *transaction_date*, as we extracted the *month* and *year* feature from it. These two features will be used on the *Sample_submission* dataset to predict *logerror* for relevant periods. "
   ]
  },
  {
   "cell_type": "code",
   "execution_count": 147,
   "metadata": {},
   "outputs": [],
   "source": [
    "list_features_to_remove = ['abs_logerror', \n",
    "                           'percentile', \n",
    "                           'over_under',  \n",
    "                           'year_month',\n",
    "                           'transaction_date']\n",
    "df_no_out = df_no_out.loc[:, ~(df_no_out.columns.isin(list_features_to_remove))]"
   ]
  },
  {
   "cell_type": "markdown",
   "metadata": {},
   "source": [
    "When preparing the dataset for modeling, we will scale the numeric features. Why shall we do that?\n",
    "\n",
    "* features on larger scales can unduly influence the model\n",
    "* many models utilise some form of distance to inform them\n",
    "\n",
    "As most machine learning models can only process numeric features, categorical features need to be transformed into some kind of numerical format via an encoder."
   ]
  },
  {
   "cell_type": "markdown",
   "metadata": {},
   "source": [
    "As seen above, we still have two \"object\" features that will need be encoded: \n",
    "* *zoning_landuse_county*\n",
    "* *zoning_property*"
   ]
  },
  {
   "cell_type": "markdown",
   "metadata": {},
   "source": [
    "There exists two types of categorical features encoding:\n",
    "* LabelEncoder\n",
    "Converts a categorical column of strings into integers as an ordinal feature.\n",
    "* OneHotEncoder\n",
    "This method transforms categorical features into dummies (number of dummmies = number of levels in that categorical feature).\n"
   ]
  },
  {
   "cell_type": "code",
   "execution_count": 148,
   "metadata": {},
   "outputs": [
    {
     "data": {
      "text/plain": [
       "LabelEncoder()"
      ]
     },
     "execution_count": 148,
     "metadata": {},
     "output_type": "execute_result"
    },
    {
     "data": {
      "text/plain": [
       "LabelEncoder()"
      ]
     },
     "execution_count": 148,
     "metadata": {},
     "output_type": "execute_result"
    },
    {
     "data": {
      "text/plain": [
       "LabelEncoder()"
      ]
     },
     "execution_count": 148,
     "metadata": {},
     "output_type": "execute_result"
    },
    {
     "data": {
      "text/plain": [
       "LabelEncoder()"
      ]
     },
     "execution_count": 148,
     "metadata": {},
     "output_type": "execute_result"
    }
   ],
   "source": [
    "#LabelEncoder encoding\n",
    "for c in df_no_out.columns:\n",
    "    df_no_out[c]=df_no_out[c].fillna(-1)\n",
    "    if df_no_out[c].dtype == 'object':\n",
    "        lbl = LabelEncoder()\n",
    "        lbl.fit(list(df_no_out[c].values))\n",
    "        df_no_out[c] = lbl.transform(list(df_no_out[c].values))"
   ]
  },
  {
   "cell_type": "markdown",
   "metadata": {},
   "source": [
    "The *Properties* dataset is used as the dataset that we want to predict the *logerror* of. It needs to be similar to the dataset that was used to build the model then:"
   ]
  },
  {
   "cell_type": "code",
   "execution_count": 149,
   "metadata": {},
   "outputs": [],
   "source": [
    "# features list that will be used in the Properties dataset\n",
    "features_list = list(df_no_out.columns)\n",
    "features_list.remove('logerror')\n",
    "\n",
    "# features used\n",
    "properties_used_to_predict = properties.loc[:, features_list]\n",
    "\n",
    "# apply LabelEncoder to categorical columns of the Properties dataset\n",
    "#properties_used_to_predict[categorical_columns] = properties_used_to_predict[categorical_columns].apply(lambda x: le.fit_transform(x))"
   ]
  },
  {
   "cell_type": "code",
   "execution_count": 150,
   "metadata": {},
   "outputs": [
    {
     "data": {
      "text/plain": [
       "LabelEncoder()"
      ]
     },
     "execution_count": 150,
     "metadata": {},
     "output_type": "execute_result"
    },
    {
     "data": {
      "text/plain": [
       "LabelEncoder()"
      ]
     },
     "execution_count": 150,
     "metadata": {},
     "output_type": "execute_result"
    }
   ],
   "source": [
    "for c in properties_used_to_predict.columns:\n",
    "    properties_used_to_predict[c]=properties_used_to_predict[c].fillna(-1)\n",
    "    if properties_used_to_predict[c].dtype == 'object':\n",
    "        lbl = LabelEncoder()\n",
    "        lbl.fit(list(properties_used_to_predict[c].values))\n",
    "        properties_used_to_predict[c] = lbl.transform(list(properties_used_to_predict[c].values))"
   ]
  },
  {
   "cell_type": "markdown",
   "metadata": {},
   "source": [
    "### Train and test sets"
   ]
  },
  {
   "cell_type": "code",
   "execution_count": 152,
   "metadata": {},
   "outputs": [
    {
     "data": {
      "text/plain": [
       "(34158, 31)"
      ]
     },
     "execution_count": 152,
     "metadata": {},
     "output_type": "execute_result"
    },
    {
     "data": {
      "text/plain": [
       "(8540, 31)"
      ]
     },
     "execution_count": 152,
     "metadata": {},
     "output_type": "execute_result"
    },
    {
     "data": {
      "text/plain": [
       "(34158,)"
      ]
     },
     "execution_count": 152,
     "metadata": {},
     "output_type": "execute_result"
    },
    {
     "data": {
      "text/plain": [
       "(8540,)"
      ]
     },
     "execution_count": 152,
     "metadata": {},
     "output_type": "execute_result"
    }
   ],
   "source": [
    "# set paramters\n",
    "seed = 7\n",
    "test_size = 0.2\n",
    "\n",
    "# create X and y\n",
    "X = df_no_out.loc[:, ~ (df_no_out.columns.isin(['logerror']))]\n",
    "y = df_no_out['logerror']\n",
    "\n",
    "\n",
    "\n",
    "# create the train and test sets\n",
    "X_train, X_test, y_train, y_test = train_test_split(X, y,\n",
    "                        test_size = 0.2, random_state = seed)\n",
    "\n",
    "\n",
    "y_mean = np.mean(y_train) \n",
    "\n",
    "# convert the train and test sets to input usable by xgboost\n",
    "dtrain = xgb.DMatrix(X_train, label = y_train)\n",
    "dtest = xgb.DMatrix(X_test)\n",
    "\n",
    "\n",
    "# shapes\n",
    "X_train.shape\n",
    "X_test.shape\n",
    "y_train.shape\n",
    "y_test.shape"
   ]
  },
  {
   "cell_type": "code",
   "execution_count": 153,
   "metadata": {},
   "outputs": [
    {
     "data": {
      "text/plain": [
       "XGBRegressor(alpha=10, base_score=0.5, booster='gbtree', colsample_bylevel=1,\n",
       "             colsample_bytree=0.3, gamma=0, importance_type='gain',\n",
       "             learning_rate=0.1, max_delta_step=0, max_depth=5,\n",
       "             min_child_weight=1, missing=None, n_estimators=10, n_jobs=1,\n",
       "             nthread=None, objective='reg:linear', random_state=0, reg_alpha=0,\n",
       "             reg_lambda=1, scale_pos_weight=1, seed=None, silent=True,\n",
       "             subsample=1)"
      ]
     },
     "execution_count": 153,
     "metadata": {},
     "output_type": "execute_result"
    },
    {
     "name": "stdout",
     "output_type": "stream",
     "text": [
      "RMSE: 0.213844\n"
     ]
    }
   ],
   "source": [
    "# set parameters\n",
    "xg_reg = xgb.XGBRegressor(objective ='reg:linear', \n",
    "                          colsample_bytree = 0.3, \n",
    "                          learning_rate = 0.1,\n",
    "                          max_depth = 5, \n",
    "                          alpha = 10, \n",
    "                          n_estimators = 10)\n",
    "# fit the model\n",
    "xg_reg.fit(X_train,y_train)\n",
    "\n",
    "# create predictions\n",
    "preds = xg_reg.predict(X_test)\n",
    "\n",
    "# evaluation\n",
    "rmse = np.sqrt(mean_squared_error(y_test, preds))\n",
    "print(\"RMSE: %f\" % (rmse))"
   ]
  },
  {
   "cell_type": "code",
   "execution_count": 154,
   "metadata": {},
   "outputs": [],
   "source": [
    "xgb_params = {\n",
    "    'eta': 0.037,\n",
    "    'max_depth': 5,\n",
    "    'subsample': 0.80,\n",
    "    'objective': 'reg:linear',\n",
    "    'eval_metric': 'mae',\n",
    "    'lambda': 0.8,   \n",
    "    'alpha': 0.4, \n",
    "    'base_score': y_mean,\n",
    "    'silent': 1\n",
    "}"
   ]
  },
  {
   "cell_type": "code",
   "execution_count": 155,
   "metadata": {},
   "outputs": [
    {
     "name": "stdout",
     "output_type": "stream",
     "text": [
      "num_boost_rounds=242\n",
      "\n",
      "Training XGBoost ...\n",
      "\n",
      "Predicting with XGBoost ...\n",
      "\n",
      "XGBoost predictions:\n",
      "          0\n",
      "0  0.007939\n",
      "1  0.035700\n",
      "2  0.053685\n",
      "3 -0.003877\n",
      "4  0.032974\n"
     ]
    }
   ],
   "source": [
    "num_boost_rounds = 242\n",
    "\n",
    "print(\"num_boost_rounds=\"+str(num_boost_rounds))\n",
    "\n",
    "# train model\n",
    "print( \"\\nTraining XGBoost ...\")\n",
    "model = xgb.train(dict(xgb_params, silent=1), dtrain, num_boost_round=num_boost_rounds)\n",
    "\n",
    "print( \"\\nPredicting with XGBoost ...\")\n",
    "xgb_pred = model.predict(dtest)\n",
    "\n",
    "print( \"\\nXGBoost predictions:\" )\n",
    "print( pd.DataFrame(xgb_pred).head() )"
   ]
  },
  {
   "cell_type": "code",
   "execution_count": 156,
   "metadata": {},
   "outputs": [],
   "source": [
    "# set the target months\n",
    "target_years = [2016, 2017]\n",
    "target_months = [10, 11, 12]\n",
    "\n",
    "# loop over the test set and predict\n",
    "for i in target_years: \n",
    "    for j in target_months:\n",
    "        properties_used_to_predict['year'] = i\n",
    "        properties_used_to_predict['month'] = j\n",
    "        dtest = xgb.DMatrix(properties_used_to_predict)\n",
    "        sample_submission.loc[:, str(i) + str(j)] = model.predict(dtest)"
   ]
  },
  {
   "cell_type": "markdown",
   "metadata": {},
   "source": [
    "## Visualise, Report and Present the Problem Solving Steps and Final Solution"
   ]
  },
  {
   "cell_type": "markdown",
   "metadata": {},
   "source": [
    "To visualise our model, we can examine the importance of each feature column in the original dataset within the model.\n",
    "\n",
    "One simple way of doing this involves counting the number of times each feature is split on across all boosting rounds (trees) in the model, and then visualizing the result as a bar graph, with the features ordered according to how many times they appear."
   ]
  },
  {
   "cell_type": "code",
   "execution_count": 157,
   "metadata": {},
   "outputs": [
    {
     "data": {
      "image/png": "[encoded data removed]",
      "text/plain": [
       "<Figure size 864x432 with 1 Axes>"
      ]
     },
     "metadata": {},
     "output_type": "display_data"
    }
   ],
   "source": [
    "ax = xgb.plot_importance(model)\n",
    "fig = ax.figure\n",
    "fig.set_size_inches(12, 6)"
   ]
  },
  {
   "cell_type": "code",
   "execution_count": 158,
   "metadata": {},
   "outputs": [],
   "source": [
    "#plot_tree(model)"
   ]
  },
  {
   "cell_type": "code",
   "execution_count": 159,
   "metadata": {},
   "outputs": [
    {
     "data": {
      "text/html": [
       "<div>\n",
       "<style scoped>\n",
       "    .dataframe tbody tr th:only-of-type {\n",
       "        vertical-align: middle;\n",
       "    }\n",
       "\n",
       "    .dataframe tbody tr th {\n",
       "        vertical-align: top;\n",
       "    }\n",
       "\n",
       "    .dataframe thead th {\n",
       "        text-align: right;\n",
       "    }\n",
       "</style>\n",
       "<table border=\"1\" class=\"dataframe\">\n",
       "  <thead>\n",
       "    <tr style=\"text-align: right;\">\n",
       "      <th></th>\n",
       "      <th>ParcelId</th>\n",
       "      <th>201610</th>\n",
       "      <th>201611</th>\n",
       "      <th>201612</th>\n",
       "      <th>201710</th>\n",
       "      <th>201711</th>\n",
       "      <th>201712</th>\n",
       "    </tr>\n",
       "  </thead>\n",
       "  <tbody>\n",
       "    <tr>\n",
       "      <th>0</th>\n",
       "      <td>10754147</td>\n",
       "      <td>0.097771</td>\n",
       "      <td>0.097771</td>\n",
       "      <td>0.097771</td>\n",
       "      <td>0.097771</td>\n",
       "      <td>0.097771</td>\n",
       "      <td>0.097771</td>\n",
       "    </tr>\n",
       "    <tr>\n",
       "      <th>1</th>\n",
       "      <td>10759547</td>\n",
       "      <td>0.161685</td>\n",
       "      <td>0.161685</td>\n",
       "      <td>0.161685</td>\n",
       "      <td>0.161685</td>\n",
       "      <td>0.161685</td>\n",
       "      <td>0.161685</td>\n",
       "    </tr>\n",
       "    <tr>\n",
       "      <th>2</th>\n",
       "      <td>10843547</td>\n",
       "      <td>0.251040</td>\n",
       "      <td>0.251040</td>\n",
       "      <td>0.251040</td>\n",
       "      <td>0.251040</td>\n",
       "      <td>0.251040</td>\n",
       "      <td>0.251040</td>\n",
       "    </tr>\n",
       "    <tr>\n",
       "      <th>3</th>\n",
       "      <td>10859147</td>\n",
       "      <td>0.128690</td>\n",
       "      <td>0.128690</td>\n",
       "      <td>0.128690</td>\n",
       "      <td>0.128690</td>\n",
       "      <td>0.128690</td>\n",
       "      <td>0.128690</td>\n",
       "    </tr>\n",
       "    <tr>\n",
       "      <th>4</th>\n",
       "      <td>10879947</td>\n",
       "      <td>0.030252</td>\n",
       "      <td>0.030252</td>\n",
       "      <td>0.030252</td>\n",
       "      <td>0.030252</td>\n",
       "      <td>0.030252</td>\n",
       "      <td>0.030252</td>\n",
       "    </tr>\n",
       "  </tbody>\n",
       "</table>\n",
       "</div>"
      ],
      "text/plain": [
       "   ParcelId    201610    201611    201612    201710    201711    201712\n",
       "0  10754147  0.097771  0.097771  0.097771  0.097771  0.097771  0.097771\n",
       "1  10759547  0.161685  0.161685  0.161685  0.161685  0.161685  0.161685\n",
       "2  10843547  0.251040  0.251040  0.251040  0.251040  0.251040  0.251040\n",
       "3  10859147  0.128690  0.128690  0.128690  0.128690  0.128690  0.128690\n",
       "4  10879947  0.030252  0.030252  0.030252  0.030252  0.030252  0.030252"
      ]
     },
     "execution_count": 159,
     "metadata": {},
     "output_type": "execute_result"
    }
   ],
   "source": [
    "sample_submission.head()"
   ]
  },
  {
   "cell_type": "code",
   "execution_count": 160,
   "metadata": {},
   "outputs": [
    {
     "data": {
      "text/plain": [
       "(2985217, 7)"
      ]
     },
     "execution_count": 160,
     "metadata": {},
     "output_type": "execute_result"
    }
   ],
   "source": [
    "sample_submission.shape"
   ]
  },
  {
   "cell_type": "markdown",
   "metadata": {},
   "source": [
    "## Suply or submit the results"
   ]
  },
  {
   "cell_type": "code",
   "execution_count": 255,
   "metadata": {},
   "outputs": [
    {
     "name": "stdout",
     "output_type": "stream",
     "text": [
      "\n",
      "Writing results to disk ...\n"
     ]
    }
   ],
   "source": [
    "from datetime import datetime\n",
    "print( \"\\nWriting results to disk ...\" )\n",
    "sample_submission.to_csv('sub{}.csv'.format(datetime.now().strftime('%Y%m%d_%H%M%S')), index=False)"
   ]
  },
  {
   "cell_type": "markdown",
   "metadata": {},
   "source": [
    "## Neural Network (work in progress)"
   ]
  },
  {
   "cell_type": "code",
   "execution_count": 161,
   "metadata": {},
   "outputs": [
    {
     "name": "stdout",
     "output_type": "stream",
     "text": [
      "WARNING:tensorflow:From /anaconda3/lib/python3.7/site-packages/keras/backend/tensorflow_backend.py:66: The name tf.get_default_graph is deprecated. Please use tf.compat.v1.get_default_graph instead.\n",
      "\n",
      "WARNING:tensorflow:From /anaconda3/lib/python3.7/site-packages/keras/backend/tensorflow_backend.py:541: The name tf.placeholder is deprecated. Please use tf.compat.v1.placeholder instead.\n",
      "\n",
      "WARNING:tensorflow:From /anaconda3/lib/python3.7/site-packages/keras/backend/tensorflow_backend.py:4432: The name tf.random_uniform is deprecated. Please use tf.random.uniform instead.\n",
      "\n"
     ]
    }
   ],
   "source": [
    "# initialize the constructor\n",
    "model = Sequential()\n",
    "\n",
    "# add an input layer \n",
    "model.add(Dense(31, activation='relu', input_shape=(31,)))\n",
    "\n",
    "# add one hidden layer \n",
    "model.add(Dense(31, activation='relu'))\n",
    "\n",
    "# add an output layer \n",
    "model.add(Dense(1, activation='linear'))"
   ]
  },
  {
   "cell_type": "code",
   "execution_count": 162,
   "metadata": {},
   "outputs": [
    {
     "data": {
      "text/plain": [
       "(None, 1)"
      ]
     },
     "execution_count": 162,
     "metadata": {},
     "output_type": "execute_result"
    },
    {
     "name": "stdout",
     "output_type": "stream",
     "text": [
      "Model: \"sequential_1\"\n",
      "_________________________________________________________________\n",
      "Layer (type)                 Output Shape              Param #   \n",
      "=================================================================\n",
      "dense_1 (Dense)              (None, 31)                992       \n",
      "_________________________________________________________________\n",
      "dense_2 (Dense)              (None, 31)                992       \n",
      "_________________________________________________________________\n",
      "dense_3 (Dense)              (None, 1)                 32        \n",
      "=================================================================\n",
      "Total params: 2,016\n",
      "Trainable params: 2,016\n",
      "Non-trainable params: 0\n",
      "_________________________________________________________________\n"
     ]
    },
    {
     "data": {
      "text/plain": [
       "{'name': 'sequential_1',\n",
       " 'layers': [{'class_name': 'Dense',\n",
       "   'config': {'name': 'dense_1',\n",
       "    'trainable': True,\n",
       "    'batch_input_shape': (None, 31),\n",
       "    'dtype': 'float32',\n",
       "    'units': 31,\n",
       "    'activation': 'relu',\n",
       "    'use_bias': True,\n",
       "    'kernel_initializer': {'class_name': 'VarianceScaling',\n",
       "     'config': {'scale': 1.0,\n",
       "      'mode': 'fan_avg',\n",
       "      'distribution': 'uniform',\n",
       "      'seed': None}},\n",
       "    'bias_initializer': {'class_name': 'Zeros', 'config': {}},\n",
       "    'kernel_regularizer': None,\n",
       "    'bias_regularizer': None,\n",
       "    'activity_regularizer': None,\n",
       "    'kernel_constraint': None,\n",
       "    'bias_constraint': None}},\n",
       "  {'class_name': 'Dense',\n",
       "   'config': {'name': 'dense_2',\n",
       "    'trainable': True,\n",
       "    'dtype': 'float32',\n",
       "    'units': 31,\n",
       "    'activation': 'relu',\n",
       "    'use_bias': True,\n",
       "    'kernel_initializer': {'class_name': 'VarianceScaling',\n",
       "     'config': {'scale': 1.0,\n",
       "      'mode': 'fan_avg',\n",
       "      'distribution': 'uniform',\n",
       "      'seed': None}},\n",
       "    'bias_initializer': {'class_name': 'Zeros', 'config': {}},\n",
       "    'kernel_regularizer': None,\n",
       "    'bias_regularizer': None,\n",
       "    'activity_regularizer': None,\n",
       "    'kernel_constraint': None,\n",
       "    'bias_constraint': None}},\n",
       "  {'class_name': 'Dense',\n",
       "   'config': {'name': 'dense_3',\n",
       "    'trainable': True,\n",
       "    'dtype': 'float32',\n",
       "    'units': 1,\n",
       "    'activation': 'linear',\n",
       "    'use_bias': True,\n",
       "    'kernel_initializer': {'class_name': 'VarianceScaling',\n",
       "     'config': {'scale': 1.0,\n",
       "      'mode': 'fan_avg',\n",
       "      'distribution': 'uniform',\n",
       "      'seed': None}},\n",
       "    'bias_initializer': {'class_name': 'Zeros', 'config': {}},\n",
       "    'kernel_regularizer': None,\n",
       "    'bias_regularizer': None,\n",
       "    'activity_regularizer': None,\n",
       "    'kernel_constraint': None,\n",
       "    'bias_constraint': None}}]}"
      ]
     },
     "execution_count": 162,
     "metadata": {},
     "output_type": "execute_result"
    },
    {
     "name": "stdout",
     "output_type": "stream",
     "text": [
      "WARNING:tensorflow:From /anaconda3/lib/python3.7/site-packages/keras/backend/tensorflow_backend.py:190: The name tf.get_default_session is deprecated. Please use tf.compat.v1.get_default_session instead.\n",
      "\n",
      "WARNING:tensorflow:From /anaconda3/lib/python3.7/site-packages/keras/backend/tensorflow_backend.py:197: The name tf.ConfigProto is deprecated. Please use tf.compat.v1.ConfigProto instead.\n",
      "\n"
     ]
    },
    {
     "data": {
      "text/plain": [
       "[array([[ 0.0833557 ,  0.18247491, -0.2925367 , -0.02251801,  0.23999494,\n",
       "         -0.15937223,  0.27691066, -0.113318  , -0.22685057, -0.12457196,\n",
       "         -0.02177241,  0.09904641,  0.2303555 , -0.16221237,  0.0861488 ,\n",
       "         -0.22876857,  0.11754495,  0.30732095, -0.169281  , -0.05705476,\n",
       "         -0.26901734, -0.18710133,  0.19049412, -0.06668332,  0.02028021,\n",
       "         -0.0086267 ,  0.1821703 , -0.22570103,  0.1714471 ,  0.15689233,\n",
       "         -0.26770404],\n",
       "        [ 0.19534355,  0.12668237,  0.06851885,  0.22766834,  0.15195301,\n",
       "         -0.05946234, -0.2006084 ,  0.20714384,  0.28915256, -0.10544531,\n",
       "         -0.24564882,  0.18567279,  0.03449729, -0.2211752 , -0.19557294,\n",
       "         -0.04306799, -0.03972512,  0.06064385,  0.2753259 ,  0.22396779,\n",
       "         -0.26506096,  0.23089886, -0.21786876, -0.01536104,  0.22578096,\n",
       "         -0.03382117, -0.07810491,  0.14600661, -0.15235047, -0.19239415,\n",
       "         -0.1362464 ],\n",
       "        [ 0.2539556 ,  0.08165789,  0.2569846 , -0.09079449,  0.20517963,\n",
       "         -0.01123995,  0.19111454,  0.08710462, -0.11546689,  0.00652802,\n",
       "          0.3039297 ,  0.14240372, -0.12874989,  0.2007066 ,  0.26101637,\n",
       "          0.21737695, -0.18899056, -0.13358264,  0.28225833, -0.29965177,\n",
       "          0.19146848,  0.22192258,  0.21419966,  0.06514642,  0.22841018,\n",
       "          0.02984586,  0.17186853,  0.05074281,  0.16330206, -0.24095127,\n",
       "          0.1266607 ],\n",
       "        [ 0.22333038,  0.29051656,  0.07009161, -0.24994704, -0.03936043,\n",
       "          0.14559126, -0.19457272, -0.05299121,  0.0889563 ,  0.13810936,\n",
       "          0.25802505,  0.1800032 , -0.27662754, -0.2342956 , -0.24642172,\n",
       "         -0.25113523,  0.04327974,  0.09961423, -0.22831881, -0.27188262,\n",
       "         -0.27567166,  0.3059516 , -0.0256725 ,  0.10915047, -0.3011114 ,\n",
       "         -0.02448845, -0.14587756, -0.16784696, -0.2203669 ,  0.30295545,\n",
       "          0.12207353],\n",
       "        [-0.21379913, -0.04318768, -0.284092  ,  0.02587676,  0.18178234,\n",
       "         -0.05784845, -0.09408142,  0.14301115, -0.22015575,  0.25579804,\n",
       "         -0.14793351, -0.05419669, -0.08066589, -0.15357625,  0.00369442,\n",
       "         -0.12681794,  0.01870584,  0.2186634 , -0.27024654, -0.02983364,\n",
       "         -0.25772962,  0.16145957,  0.17143285,  0.2877643 , -0.3052692 ,\n",
       "         -0.00538382,  0.26978743,  0.16951388,  0.22641891, -0.14522035,\n",
       "          0.06123942],\n",
       "        [ 0.19076324, -0.05946717,  0.144965  ,  0.20730478,  0.21477896,\n",
       "          0.22775644, -0.11720704,  0.21100461,  0.14291334, -0.21897647,\n",
       "          0.21827066,  0.1076903 , -0.14130707, -0.00190228, -0.1689712 ,\n",
       "          0.2175709 , -0.00723115, -0.12829004, -0.09414001, -0.11278006,\n",
       "         -0.26650548, -0.27529845, -0.28657675,  0.14179629,  0.06280506,\n",
       "         -0.23946398, -0.24260375,  0.22464687, -0.17149901, -0.09406517,\n",
       "          0.16870368],\n",
       "        [ 0.2556591 , -0.0338656 ,  0.20684105,  0.21550244,  0.12751728,\n",
       "          0.237234  , -0.0718054 ,  0.19485158, -0.08207265, -0.26830924,\n",
       "         -0.20796281,  0.27950883,  0.22419453, -0.09828827, -0.03801414,\n",
       "          0.11602002, -0.23802873, -0.28665587,  0.12788159,  0.05168757,\n",
       "         -0.2889256 , -0.27523118,  0.07587704,  0.08720398,  0.11042818,\n",
       "          0.1897251 ,  0.22770411,  0.12342942,  0.08856869, -0.03301227,\n",
       "          0.20344216],\n",
       "        [ 0.07589641, -0.09730056,  0.01895097,  0.04091665, -0.05607271,\n",
       "         -0.05574518,  0.01027486,  0.01037684, -0.28714865,  0.2684728 ,\n",
       "         -0.17021812,  0.2477709 ,  0.25292015, -0.25591278, -0.11106239,\n",
       "         -0.00185251, -0.28465348, -0.07396519, -0.14627866,  0.03241825,\n",
       "          0.13201055, -0.23057681, -0.01781017, -0.01659602,  0.08407208,\n",
       "          0.01958999,  0.13121346,  0.02857241,  0.24021214,  0.2911023 ,\n",
       "          0.23889738],\n",
       "        [ 0.11054039,  0.0818091 , -0.19780602,  0.26014417, -0.2829481 ,\n",
       "          0.11811796,  0.2810896 ,  0.30221504, -0.03544605,  0.28945583,\n",
       "          0.16385314, -0.2188988 ,  0.24190158, -0.04373899, -0.17423102,\n",
       "         -0.1450709 ,  0.17624825,  0.24727422, -0.0397881 ,  0.07831535,\n",
       "         -0.13838802, -0.0779413 , -0.27181816,  0.1825006 ,  0.29936808,\n",
       "         -0.01571003, -0.11359116,  0.23852885, -0.1206156 ,  0.25319177,\n",
       "         -0.2841487 ],\n",
       "        [ 0.04899502, -0.28128377, -0.12085278,  0.08354059, -0.11652765,\n",
       "         -0.08728194, -0.06507632, -0.258627  ,  0.2788205 ,  0.08683714,\n",
       "         -0.2746545 , -0.2228896 , -0.10575007, -0.20114197, -0.16932744,\n",
       "         -0.0634923 , -0.04213324,  0.08368722,  0.2805665 , -0.06160989,\n",
       "          0.2754137 ,  0.13400769, -0.01488987, -0.30778056,  0.0819588 ,\n",
       "          0.01510569,  0.09339854,  0.23037767, -0.28034657, -0.222904  ,\n",
       "         -0.25090432],\n",
       "        [-0.07998227,  0.10787299, -0.09684716, -0.14553772, -0.3051179 ,\n",
       "          0.1988098 , -0.18105882,  0.1438202 , -0.15681964, -0.17976615,\n",
       "          0.08234164,  0.24634928, -0.23572469, -0.19261867,  0.13093132,\n",
       "          0.19527495, -0.16027339,  0.05794811,  0.18564177,  0.00052103,\n",
       "         -0.07698208, -0.22124195, -0.27156985, -0.10576016, -0.05943996,\n",
       "         -0.02775708, -0.0785124 ,  0.02578002, -0.09933455, -0.149391  ,\n",
       "         -0.24088779],\n",
       "        [-0.08144458,  0.21532226, -0.17024498,  0.06975761,  0.10683337,\n",
       "          0.09666523,  0.02443928, -0.16468537,  0.03099817, -0.14728624,\n",
       "          0.28680068,  0.23110837,  0.14015248,  0.21862692, -0.03980792,\n",
       "         -0.29022214, -0.08650859, -0.01943883, -0.2525049 , -0.11656865,\n",
       "          0.19035757,  0.22909439, -0.2932121 , -0.02000171,  0.15287083,\n",
       "         -0.2813535 , -0.08283457,  0.11049396, -0.0206205 ,  0.30881202,\n",
       "          0.13151067],\n",
       "        [ 0.09414625, -0.23756133,  0.03249666,  0.30086917,  0.05145141,\n",
       "         -0.2495268 ,  0.03879306,  0.17578551, -0.27928397, -0.13653788,\n",
       "         -0.23316848, -0.29554757, -0.20078841, -0.06876695,  0.07987368,\n",
       "         -0.11414602,  0.14277834,  0.14024091, -0.30094126,  0.1565651 ,\n",
       "         -0.08329175,  0.2887504 , -0.30354992, -0.28965548,  0.26641345,\n",
       "          0.16515946, -0.02980918, -0.09439708,  0.08008194, -0.09755674,\n",
       "         -0.11658379],\n",
       "        [ 0.12233356, -0.11539613, -0.29606447,  0.2808671 ,  0.06671953,\n",
       "         -0.01734683,  0.24892849, -0.05486724,  0.18974411,  0.02615726,\n",
       "          0.12187001, -0.18635646,  0.09177381,  0.28585857, -0.09933352,\n",
       "         -0.05703911, -0.20956597,  0.28468382, -0.02039006,  0.10432944,\n",
       "          0.10720912, -0.01165083,  0.28940517,  0.19067061,  0.26546872,\n",
       "         -0.24970058, -0.27483302,  0.14685205,  0.02798173,  0.09098205,\n",
       "         -0.15479974],\n",
       "        [-0.08500801, -0.3080254 ,  0.30058718,  0.15729862, -0.23608708,\n",
       "          0.25283456, -0.19333053,  0.1336686 , -0.00313148, -0.2860063 ,\n",
       "          0.2539813 ,  0.26147097, -0.11012994,  0.2989508 , -0.24933952,\n",
       "         -0.22512689, -0.1808292 ,  0.2181983 ,  0.12487376,  0.09778383,\n",
       "         -0.2582804 ,  0.04367432,  0.27148688,  0.19757438, -0.04364923,\n",
       "          0.30734134, -0.22038782,  0.07261622, -0.02418622,  0.1286887 ,\n",
       "          0.10751906],\n",
       "        [-0.16037025, -0.2641265 , -0.249416  ,  0.07654336, -0.16401474,\n",
       "          0.29717165,  0.13762623, -0.10839587,  0.14635846, -0.23117022,\n",
       "         -0.19409364, -0.2117945 , -0.24425912, -0.28866014, -0.28887677,\n",
       "          0.00656205,  0.23490429, -0.21957219,  0.15283012,  0.02582416,\n",
       "          0.20808369,  0.12160909,  0.17887479,  0.19999689,  0.12276664,\n",
       "          0.1378839 ,  0.20454496, -0.19924963,  0.1157856 , -0.18555307,\n",
       "         -0.1576556 ],\n",
       "        [-0.00643516, -0.19541319, -0.25366378,  0.01550087,  0.03022435,\n",
       "          0.03963619,  0.15420559,  0.09747627,  0.04557252, -0.2829637 ,\n",
       "          0.2704631 ,  0.28626359, -0.2893976 , -0.12789257, -0.22204623,\n",
       "         -0.17643279, -0.256831  ,  0.14408913, -0.14530216, -0.01334146,\n",
       "         -0.21944766, -0.2723334 ,  0.17112833, -0.28168318, -0.18715385,\n",
       "         -0.04186565, -0.10362513,  0.15990648,  0.17959228,  0.23419899,\n",
       "          0.2867571 ],\n",
       "        [ 0.03302148, -0.2740521 ,  0.10642833, -0.24754442, -0.09002084,\n",
       "          0.2635398 ,  0.03865546, -0.2566845 , -0.12324479, -0.0924248 ,\n",
       "         -0.0266512 , -0.11359183, -0.27923635, -0.02598554, -0.3014138 ,\n",
       "          0.0948498 , -0.2849253 ,  0.16745001,  0.17763513, -0.01074073,\n",
       "          0.03828219,  0.15562925, -0.16890675,  0.1562435 , -0.23295324,\n",
       "          0.15355563, -0.21709466,  0.08005109,  0.14812124, -0.20716935,\n",
       "         -0.08487733],\n",
       "        [ 0.10644665,  0.28055543, -0.17624952,  0.05925751, -0.08154723,\n",
       "         -0.31033048,  0.1512573 ,  0.04894769,  0.08441138, -0.03915805,\n",
       "          0.24370152, -0.21535444,  0.1718468 ,  0.28181982, -0.30895296,\n",
       "          0.00668141, -0.3106767 ,  0.18830872, -0.10816826, -0.1534799 ,\n",
       "         -0.1868844 ,  0.05892181,  0.06425631, -0.14773251, -0.02980375,\n",
       "         -0.3055621 , -0.1389491 , -0.11529148, -0.12982059, -0.28965667,\n",
       "         -0.02842897],\n",
       "        [-0.18278554,  0.0578239 ,  0.04246181,  0.06856483, -0.1191866 ,\n",
       "         -0.2540787 ,  0.19078559, -0.22889726, -0.11262615, -0.14508788,\n",
       "         -0.27402765, -0.2885176 ,  0.06798446, -0.06067455, -0.20960023,\n",
       "         -0.21693386, -0.2961766 , -0.25226176, -0.13189872, -0.18236834,\n",
       "          0.26042825,  0.08811811, -0.28651488, -0.14917123,  0.17318761,\n",
       "          0.26971406, -0.28255606, -0.15093   , -0.26961774,  0.3030733 ,\n",
       "          0.01374269],\n",
       "        [-0.04024965, -0.31106862, -0.276709  ,  0.3110534 ,  0.2531268 ,\n",
       "          0.16279972,  0.04653379, -0.22654092, -0.17222105,  0.06620982,\n",
       "          0.29911017,  0.14764306, -0.09873246,  0.16572231, -0.14073893,\n",
       "         -0.22929731,  0.0300965 ,  0.22180587,  0.01953518,  0.14197287,\n",
       "         -0.22857136, -0.06629957,  0.04594082,  0.06171981, -0.26087207,\n",
       "         -0.29938188,  0.14627925,  0.06702754,  0.17762208,  0.1982497 ,\n",
       "          0.1262148 ],\n",
       "        [-0.13464221,  0.13080004,  0.12975612, -0.1775746 , -0.10122874,\n",
       "         -0.280586  , -0.12944418,  0.146582  ,  0.17070022, -0.06896268,\n",
       "          0.08736947, -0.28453332,  0.02250904,  0.23065007, -0.2230739 ,\n",
       "          0.11307162,  0.07252491,  0.30879414, -0.29264268,  0.15361407,\n",
       "          0.02210054, -0.04441467,  0.05080414,  0.06477639, -0.04221535,\n",
       "         -0.2100606 ,  0.26517916,  0.08065164, -0.01513484, -0.29990786,\n",
       "          0.26392227],\n",
       "        [ 0.28663272,  0.2577386 ,  0.1290246 ,  0.02644509, -0.28857157,\n",
       "          0.2750196 ,  0.22292197, -0.00658715,  0.24858803,  0.07030195,\n",
       "         -0.16252187,  0.13424015,  0.16401392, -0.10555834, -0.30521291,\n",
       "          0.14568213,  0.18747759, -0.05078521,  0.20232236, -0.1414034 ,\n",
       "          0.22300988,  0.18180734, -0.13647877, -0.03290942, -0.19898775,\n",
       "         -0.12464236, -0.13409862,  0.21060205, -0.09486999,  0.25187522,\n",
       "          0.0147835 ],\n",
       "        [ 0.19782817,  0.11866742, -0.26813635, -0.07332593, -0.30044857,\n",
       "          0.19768548, -0.15914   ,  0.28383493,  0.22681266, -0.26210147,\n",
       "         -0.06904945, -0.01169217,  0.21781981, -0.0218029 ,  0.29558688,\n",
       "         -0.1299101 , -0.03171998, -0.05650058,  0.2974543 ,  0.04740691,\n",
       "          0.0633353 , -0.2986124 , -0.2815533 , -0.05486798,  0.10549128,\n",
       "          0.14570045, -0.25797758, -0.24575213,  0.30145323,  0.00823769,\n",
       "         -0.16832311],\n",
       "        [ 0.0570159 , -0.26356697, -0.10025366, -0.04031804, -0.10107908,\n",
       "         -0.10031307,  0.27783984, -0.07398055,  0.2786721 ,  0.17691517,\n",
       "         -0.23094973,  0.09078649, -0.0022766 , -0.28222987, -0.14029326,\n",
       "         -0.11510554, -0.01855704, -0.22442415, -0.13583209,  0.27938062,\n",
       "         -0.07586548,  0.09575704, -0.03342569, -0.22456315,  0.06691754,\n",
       "         -0.12999302,  0.11244941,  0.04925111,  0.02731642,  0.0232698 ,\n",
       "         -0.28323573],\n",
       "        [ 0.12645474,  0.2894616 , -0.30237946,  0.15260828, -0.18677707,\n",
       "          0.1661554 , -0.0109145 ,  0.00998539, -0.27152118,  0.04159558,\n",
       "          0.15530407,  0.07050419,  0.31100762, -0.02792275,  0.03761104,\n",
       "         -0.14308704, -0.23752484,  0.29771787, -0.02002811, -0.255116  ,\n",
       "         -0.12235604, -0.21646711,  0.11583817,  0.1270791 ,  0.19961631,\n",
       "         -0.05979744, -0.04345337,  0.28946185,  0.2194407 ,  0.05414283,\n",
       "         -0.0036447 ],\n",
       "        [ 0.15654373,  0.28863716, -0.15169756,  0.2186408 , -0.09409714,\n",
       "          0.1983921 ,  0.21975249,  0.06336161, -0.04807347, -0.15418859,\n",
       "          0.28405863, -0.01890963, -0.05506209, -0.21339165,  0.16945285,\n",
       "         -0.06789146,  0.21625811, -0.25801665, -0.12479477, -0.25115028,\n",
       "         -0.29727772,  0.1283817 , -0.1140849 ,  0.05880305,  0.19453794,\n",
       "         -0.16645637,  0.06369618, -0.07249251, -0.1038733 ,  0.23522317,\n",
       "          0.28737634],\n",
       "        [-0.02801237, -0.17305203, -0.1702274 ,  0.06482607, -0.10453711,\n",
       "         -0.2341156 ,  0.04670861,  0.13070402,  0.1179224 , -0.18173917,\n",
       "         -0.14062078, -0.17426802, -0.08646275, -0.00146684,  0.1144025 ,\n",
       "         -0.16576415, -0.22209236,  0.27330905, -0.024261  , -0.15076771,\n",
       "          0.02363679, -0.09433997,  0.07829005, -0.02340069, -0.06327729,\n",
       "          0.02470881, -0.08484861, -0.16592383, -0.2883194 ,  0.02166745,\n",
       "          0.24086767],\n",
       "        [-0.24491878, -0.06385557,  0.14935437, -0.02966535, -0.21966757,\n",
       "         -0.13689226, -0.29584706, -0.1253767 ,  0.19810319, -0.00868654,\n",
       "          0.18225041, -0.03669432, -0.22062582, -0.12178604,  0.12764567,\n",
       "          0.13273191,  0.30852282,  0.07176876,  0.00117365,  0.05313903,\n",
       "         -0.15261756, -0.281812  ,  0.07669616,  0.29923844, -0.11541119,\n",
       "         -0.28439227, -0.04415417,  0.22612232,  0.08755252,  0.26364243,\n",
       "          0.28321582],\n",
       "        [-0.2390703 , -0.20772532, -0.06916924,  0.26496243,  0.29936326,\n",
       "         -0.12829116,  0.1441266 , -0.13113388, -0.14742048, -0.0509102 ,\n",
       "         -0.27045605, -0.0950781 ,  0.23372632, -0.2741909 ,  0.206833  ,\n",
       "         -0.24644822, -0.17064393,  0.13040087,  0.01698112,  0.18662784,\n",
       "         -0.13527153,  0.13602433,  0.10130122,  0.2769292 ,  0.17188159,\n",
       "         -0.22081095, -0.24843526,  0.16914868,  0.16831791, -0.04981139,\n",
       "         -0.0686729 ],\n",
       "        [ 0.26878113,  0.03975108,  0.01287737, -0.23402794,  0.25826758,\n",
       "          0.21190369, -0.19358248, -0.2702136 , -0.0755544 ,  0.25578243,\n",
       "          0.00394139, -0.2728402 ,  0.05457747,  0.04470465,  0.18504384,\n",
       "          0.26816446,  0.14495936, -0.11273593,  0.27284473, -0.28126657,\n",
       "          0.15468165, -0.21857321,  0.10895616, -0.28244525,  0.09692875,\n",
       "          0.19287014, -0.23120093,  0.22150451,  0.14385179, -0.19138473,\n",
       "          0.05139303]], dtype=float32),\n",
       " array([0., 0., 0., 0., 0., 0., 0., 0., 0., 0., 0., 0., 0., 0., 0., 0., 0.,\n",
       "        0., 0., 0., 0., 0., 0., 0., 0., 0., 0., 0., 0., 0., 0.],\n",
       "       dtype=float32),\n",
       " array([[-0.06510457,  0.00235301, -0.16544323,  0.20206505, -0.17632169,\n",
       "          0.01127163,  0.3095498 ,  0.19915783,  0.12561724, -0.28008285,\n",
       "          0.23458391,  0.270212  ,  0.18070394,  0.13787216,  0.05220696,\n",
       "          0.05060604, -0.30079907, -0.07292038,  0.2574826 , -0.07461713,\n",
       "          0.08880553, -0.15299255, -0.28986418, -0.30079642, -0.03227994,\n",
       "          0.09309617, -0.03759575, -0.16533048,  0.28426737, -0.21039197,\n",
       "         -0.09845047],\n",
       "        [ 0.26182508,  0.16245914,  0.16041535, -0.15883325, -0.22320896,\n",
       "          0.20264149, -0.29417664, -0.01616332, -0.2757306 ,  0.02166909,\n",
       "         -0.05483356, -0.21319059, -0.16539279,  0.24474335,  0.24745643,\n",
       "          0.01954499, -0.2560216 , -0.29696834,  0.26799268, -0.08951427,\n",
       "          0.08916366, -0.20145288,  0.07303551, -0.0565421 , -0.2793895 ,\n",
       "          0.0816828 ,  0.16901103, -0.17607893, -0.0733539 ,  0.1526596 ,\n",
       "         -0.02885863],\n",
       "        [ 0.2977705 , -0.08913817,  0.15514773,  0.25260592,  0.10625106,\n",
       "          0.15225384, -0.29821163, -0.18852907, -0.18238771, -0.21194908,\n",
       "         -0.23867193,  0.04496914, -0.01376992,  0.12159455, -0.17361802,\n",
       "         -0.02404433, -0.2689186 , -0.08032575, -0.20422924, -0.14320482,\n",
       "         -0.128811  , -0.17298469,  0.05693972, -0.18500748, -0.17656131,\n",
       "         -0.16438507,  0.18385646,  0.27958816,  0.02224064, -0.01415446,\n",
       "          0.27651995],\n",
       "        [ 0.15191984, -0.1828339 , -0.07913482,  0.2938273 , -0.2592146 ,\n",
       "         -0.06066746, -0.28845757,  0.24969333,  0.08528912,  0.17584884,\n",
       "         -0.13410833,  0.19110304,  0.14161459, -0.16241448, -0.01857457,\n",
       "         -0.14677092,  0.29216224,  0.22174042, -0.12951353, -0.12549871,\n",
       "         -0.03309876, -0.22719961,  0.22430933, -0.26517978, -0.22175387,\n",
       "         -0.03288999,  0.07173827, -0.02993304,  0.04131567, -0.12432091,\n",
       "          0.27280134],\n",
       "        [-0.20367995, -0.0606297 ,  0.1163334 , -0.12269032,  0.08672753,\n",
       "          0.27340347, -0.26767296, -0.13313517,  0.16746062, -0.17971586,\n",
       "         -0.14567627,  0.30457568,  0.25497502,  0.29518467,  0.14231858,\n",
       "         -0.17534177, -0.21216103, -0.2384001 ,  0.02124974, -0.2021781 ,\n",
       "          0.29682887, -0.26735884, -0.01670018,  0.1401602 ,  0.01586324,\n",
       "          0.11001661, -0.18215236, -0.25633094, -0.19161019, -0.25359955,\n",
       "          0.14172798],\n",
       "        [ 0.0916087 ,  0.30307347,  0.22466314,  0.0793342 , -0.0529789 ,\n",
       "          0.11565581, -0.29159173,  0.1531612 ,  0.28814584,  0.29183352,\n",
       "          0.20559096,  0.03158906,  0.01756141,  0.11828011,  0.27977806,\n",
       "          0.28633577, -0.20966133,  0.2773069 , -0.24958903,  0.25578415,\n",
       "         -0.25971556, -0.01400274, -0.14211588, -0.1452995 , -0.30578312,\n",
       "         -0.03643924, -0.13551539,  0.29974288,  0.21183145,  0.06732726,\n",
       "         -0.05101514],\n",
       "        [ 0.1260362 , -0.02280957,  0.17030719, -0.11812435, -0.17602901,\n",
       "          0.23070818,  0.04757935, -0.29589552,  0.05860385, -0.08971874,\n",
       "         -0.2444154 , -0.01093808, -0.09209326, -0.01235107,  0.04967827,\n",
       "          0.26789415,  0.06506854,  0.2176671 ,  0.11564675,  0.1872766 ,\n",
       "          0.29141855, -0.26244813,  0.29270017, -0.10078381,  0.26752275,\n",
       "          0.20702195, -0.2045061 , -0.17653114,  0.10345268, -0.31097367,\n",
       "          0.10883141],\n",
       "        [ 0.12213382, -0.2827969 , -0.26136714, -0.06592844, -0.19837192,\n",
       "         -0.1216162 , -0.12268972,  0.12890378,  0.02857974, -0.02143085,\n",
       "         -0.07425557, -0.00752404,  0.11825964, -0.29219982, -0.05699247,\n",
       "         -0.07704134,  0.19603115,  0.10149762,  0.27245533, -0.08722854,\n",
       "         -0.10038412, -0.19326274, -0.10842696, -0.23821238, -0.02888829,\n",
       "         -0.01404709,  0.20171875, -0.05107352,  0.08099905, -0.2593832 ,\n",
       "          0.22010303],\n",
       "        [-0.18804209, -0.14818005, -0.06172463,  0.20788264,  0.29753405,\n",
       "          0.19347864, -0.06968233,  0.19012731,  0.12324792, -0.14821142,\n",
       "         -0.05595016,  0.08740884, -0.10912207,  0.03749272,  0.08496001,\n",
       "          0.29003143, -0.22083735,  0.06668881, -0.04347917, -0.14613166,\n",
       "         -0.26864582, -0.23988044,  0.18285045,  0.11721408, -0.10123594,\n",
       "         -0.08409247, -0.16316454, -0.15392892,  0.11074108, -0.09521204,\n",
       "         -0.04412502],\n",
       "        [ 0.20060587,  0.24160278,  0.18144783,  0.18946218, -0.20482785,\n",
       "         -0.3042006 , -0.07975888,  0.2035703 ,  0.1245231 ,  0.0731822 ,\n",
       "         -0.24891171,  0.14551118, -0.24480411, -0.15419519,  0.22062385,\n",
       "          0.06198075, -0.02324733, -0.04852888, -0.24876732, -0.2180334 ,\n",
       "         -0.2897017 , -0.00871125, -0.18891594,  0.08172196, -0.03319511,\n",
       "          0.2842471 , -0.2520975 ,  0.11484089,  0.23095149, -0.05892086,\n",
       "          0.12569273],\n",
       "        [-0.23304996,  0.09979945, -0.23418415,  0.14308065,  0.02957782,\n",
       "          0.27110356, -0.03662324, -0.13463315, -0.17191814,  0.27733177,\n",
       "          0.29393834, -0.28481072, -0.00299865,  0.23369694,  0.00256941,\n",
       "          0.05805242,  0.24642074, -0.09997047, -0.23237169,  0.19744933,\n",
       "          0.13804144, -0.22490431, -0.08528066, -0.0849506 , -0.25091687,\n",
       "         -0.10488474,  0.16950083, -0.23204178, -0.07028051,  0.0576525 ,\n",
       "         -0.15138665],\n",
       "        [ 0.08357611, -0.04733527,  0.00445715, -0.16084285, -0.1535078 ,\n",
       "         -0.1663216 ,  0.17085248,  0.1617719 ,  0.2030245 , -0.24519974,\n",
       "          0.04087245, -0.04299894,  0.15878111, -0.11394265, -0.25199068,\n",
       "         -0.0068247 ,  0.06437787, -0.282908  , -0.16973677, -0.16010627,\n",
       "          0.0405812 , -0.10710126, -0.07104467, -0.2377828 ,  0.11566076,\n",
       "         -0.03014433, -0.11319436,  0.07548654,  0.23680776, -0.15206736,\n",
       "         -0.09306294],\n",
       "        [ 0.2516511 ,  0.27355874, -0.2179611 ,  0.09545916,  0.10971624,\n",
       "          0.11919913,  0.13138703, -0.05426559,  0.13616705,  0.09563318,\n",
       "          0.1470544 , -0.12971474,  0.2541508 ,  0.27683604,  0.15467307,\n",
       "          0.17630067, -0.05651021,  0.18531173,  0.05972877,  0.10759279,\n",
       "         -0.08875412,  0.15190428, -0.24695143, -0.12670714,  0.18002728,\n",
       "          0.13878214, -0.23766583,  0.15664113,  0.23004866,  0.04918215,\n",
       "          0.21430337],\n",
       "        [ 0.14008498,  0.2524724 , -0.11649337,  0.05932203,  0.2988521 ,\n",
       "         -0.06574087,  0.16966712,  0.0518471 ,  0.04956537,  0.11838424,\n",
       "         -0.05733147, -0.13495134,  0.29088342, -0.12006497, -0.26704505,\n",
       "          0.18408942,  0.12084353, -0.12325592, -0.15554054,  0.19314969,\n",
       "         -0.2496244 , -0.06233422, -0.15833987,  0.23977005,  0.20283878,\n",
       "         -0.14455907,  0.15042952,  0.10852441, -0.00599542,  0.14505064,\n",
       "         -0.09808289],\n",
       "        [-0.21342131,  0.11146787,  0.20661545,  0.15210995,  0.1960845 ,\n",
       "         -0.0574756 , -0.25281468,  0.30209124,  0.02372742, -0.17339224,\n",
       "          0.2978239 ,  0.19948477, -0.21500874,  0.26820397,  0.23661035,\n",
       "          0.19139111, -0.04610577,  0.23429918, -0.04867965,  0.2876107 ,\n",
       "         -0.21054974,  0.02147409, -0.03686965, -0.12677374, -0.1641165 ,\n",
       "          0.25027263,  0.30038893,  0.01014203, -0.22887805, -0.28079715,\n",
       "          0.28281868],\n",
       "        [ 0.12868217,  0.10728616,  0.10814023,  0.08092326, -0.2581389 ,\n",
       "         -0.04953599, -0.02084574,  0.01006222,  0.25831592,  0.1683214 ,\n",
       "         -0.09014121,  0.1238699 ,  0.08642501, -0.12597302,  0.3060913 ,\n",
       "         -0.04871467, -0.17426625, -0.26610935, -0.03892767,  0.24720442,\n",
       "          0.26114368,  0.24637598, -0.28892913, -0.12644939, -0.08387612,\n",
       "         -0.11369559, -0.2539666 , -0.05000031,  0.17659038,  0.3108135 ,\n",
       "          0.28688693],\n",
       "        [-0.05057555, -0.06892782,  0.07898521,  0.11447155,  0.19554323,\n",
       "          0.27495402, -0.22942245,  0.27001184, -0.30763808, -0.23559728,\n",
       "         -0.06076232,  0.262496  ,  0.10565171, -0.25620952,  0.28735137,\n",
       "          0.10245031, -0.11963746, -0.04617926, -0.02342799,  0.24010956,\n",
       "          0.15198082, -0.09662518, -0.14290325, -0.28097516,  0.2202807 ,\n",
       "          0.22947133,  0.2101003 ,  0.18016288, -0.23206499,  0.08992577,\n",
       "         -0.21892054],\n",
       "        [ 0.00720739,  0.15858027,  0.13212389, -0.07367572,  0.2289604 ,\n",
       "          0.2376175 ,  0.02114886, -0.0234814 , -0.02790126,  0.13966164,\n",
       "         -0.26677692, -0.27461964,  0.15734595, -0.08225331,  0.3010382 ,\n",
       "          0.06356558, -0.12049492, -0.12136938,  0.00745788,  0.1057626 ,\n",
       "          0.09807903, -0.30614024, -0.14450121, -0.0100106 ,  0.08916619,\n",
       "         -0.2814408 ,  0.22330236,  0.22414565,  0.15572774, -0.19005822,\n",
       "          0.2600069 ],\n",
       "        [-0.10142232,  0.21526998, -0.18028547, -0.04623297, -0.15948676,\n",
       "         -0.02557212, -0.25601292, -0.10633266, -0.13075748,  0.281523  ,\n",
       "         -0.04301161, -0.25198713,  0.27543497, -0.12202227, -0.02837941,\n",
       "          0.24599814, -0.04693565,  0.24550617, -0.23950091, -0.17725858,\n",
       "         -0.05820429, -0.28701922, -0.13517192,  0.19801289, -0.12516183,\n",
       "         -0.16386966,  0.05039191, -0.18257824, -0.23932847,  0.06934205,\n",
       "          0.2367779 ],\n",
       "        [-0.16837993, -0.0248619 , -0.04621199, -0.20600742,  0.1143055 ,\n",
       "          0.09258246, -0.18002373, -0.00237346,  0.0822289 ,  0.15166524,\n",
       "         -0.04065111,  0.21078724, -0.14818501,  0.19272095,  0.10829175,\n",
       "          0.12782812,  0.14009744, -0.26020765, -0.14949276,  0.20737386,\n",
       "         -0.03963301,  0.3066094 ,  0.22477967,  0.07787219,  0.14242932,\n",
       "         -0.21953577, -0.16282842,  0.21515441,  0.30350655, -0.06572448,\n",
       "         -0.2802239 ],\n",
       "        [ 0.3056119 ,  0.01349661,  0.16218975,  0.12279305, -0.08446087,\n",
       "         -0.25575036,  0.25912315, -0.11577439,  0.02566981,  0.12345684,\n",
       "         -0.05185688, -0.26120663, -0.01789466, -0.04819697, -0.09438603,\n",
       "          0.08035684, -0.00458962,  0.22551346,  0.26862597,  0.20371842,\n",
       "         -0.1069217 , -0.29064992, -0.23281515,  0.28190845, -0.07503396,\n",
       "          0.19964665,  0.21292466,  0.01833573,  0.00478914,  0.22731799,\n",
       "          0.05254599],\n",
       "        [-0.21520478, -0.22784236, -0.2545552 , -0.04328123, -0.20533939,\n",
       "          0.02889156,  0.24656212, -0.12540926, -0.0269978 , -0.23095195,\n",
       "          0.0848068 ,  0.09514582, -0.14666308, -0.09536587, -0.10640378,\n",
       "         -0.00278437,  0.23995918,  0.30491513,  0.15811774,  0.20966518,\n",
       "         -0.23225367, -0.08825035,  0.25397372,  0.05492026,  0.18760976,\n",
       "         -0.29402363,  0.2327128 ,  0.10077801, -0.09422761, -0.02924585,\n",
       "          0.22391975],\n",
       "        [-0.19487754, -0.0231021 ,  0.17189988,  0.30805856,  0.24926674,\n",
       "          0.07175446, -0.03478062,  0.30596375, -0.2233395 , -0.09177575,\n",
       "         -0.19771323,  0.18408632, -0.12993473, -0.25165033, -0.24174458,\n",
       "          0.08395007,  0.29964834, -0.12417451, -0.2009429 , -0.24551769,\n",
       "          0.09337214,  0.25401258, -0.20874491, -0.2521106 ,  0.231381  ,\n",
       "         -0.00846234,  0.00577646,  0.307083  , -0.1363305 , -0.2537616 ,\n",
       "          0.29288465],\n",
       "        [-0.30822033, -0.08454771,  0.13909975,  0.00074229, -0.28187165,\n",
       "         -0.04125583, -0.18562011, -0.2571622 ,  0.06690228, -0.13461477,\n",
       "          0.24933499,  0.02859911,  0.29005742,  0.01725027, -0.1836752 ,\n",
       "          0.14412501,  0.12006038, -0.22419956, -0.12125382, -0.26127747,\n",
       "         -0.2341492 ,  0.20879364,  0.01297891, -0.04933101, -0.25796393,\n",
       "         -0.15213627,  0.12072849, -0.01255956,  0.1960051 ,  0.2459287 ,\n",
       "         -0.2464967 ],\n",
       "        [-0.23357603,  0.18838528,  0.18870324, -0.02189529,  0.04580778,\n",
       "         -0.17526032,  0.20662463,  0.19580615, -0.09834225,  0.07754815,\n",
       "          0.1028451 ,  0.04209891, -0.08198683, -0.00527975,  0.11976281,\n",
       "          0.19874835, -0.11184546,  0.13021821, -0.01898107, -0.22782278,\n",
       "         -0.05029127, -0.06847894,  0.02184078, -0.25514996,  0.1808674 ,\n",
       "         -0.20998383,  0.23014086, -0.21427396, -0.1827139 ,  0.01625323,\n",
       "          0.24647468],\n",
       "        [-0.23818493, -0.12606743,  0.02812865,  0.1847192 , -0.19633666,\n",
       "          0.19105184, -0.12713264,  0.30365306,  0.0028778 , -0.21611452,\n",
       "         -0.15372036,  0.28094184,  0.07191896, -0.25927484, -0.04237822,\n",
       "          0.06741899, -0.08931446, -0.25271717,  0.18859687, -0.03864983,\n",
       "          0.03646505, -0.21409321, -0.22168875,  0.27307504, -0.01023555,\n",
       "          0.0384573 ,  0.24463552,  0.3076867 , -0.309422  , -0.09207094,\n",
       "         -0.08030298],\n",
       "        [-0.24664654,  0.12067977,  0.2850867 , -0.10382999, -0.04505852,\n",
       "         -0.02437261, -0.25947267,  0.30339444, -0.28338414, -0.2871732 ,\n",
       "          0.17714679,  0.22505593, -0.20726547,  0.2285415 ,  0.00962374,\n",
       "          0.03764388, -0.05819407, -0.18003048, -0.15958613,  0.15107581,\n",
       "          0.20047957, -0.26107454,  0.01410398,  0.13020515, -0.10850002,\n",
       "          0.19514793,  0.20988965,  0.24657726, -0.26683018, -0.102355  ,\n",
       "         -0.04187158],\n",
       "        [-0.06300768,  0.27023816, -0.1598889 ,  0.19107705, -0.04986086,\n",
       "         -0.00188854,  0.03289169,  0.28819114, -0.2588242 ,  0.07264009,\n",
       "          0.0929738 , -0.12689292, -0.26583743,  0.28255844,  0.14587644,\n",
       "          0.23777634,  0.18699616, -0.30705944,  0.08313474, -0.13919438,\n",
       "          0.16814214, -0.19288486,  0.25911444, -0.10567397,  0.13550836,\n",
       "         -0.15734677,  0.20152336,  0.30165476, -0.21999103, -0.03161019,\n",
       "          0.19499236],\n",
       "        [-0.12289985,  0.19087172, -0.06368439,  0.29240364,  0.14852694,\n",
       "         -0.00497916, -0.06689568, -0.07203637,  0.09898463, -0.19210222,\n",
       "         -0.27767688,  0.05616274, -0.08704564,  0.2110284 ,  0.17130172,\n",
       "          0.0835937 ,  0.29578042,  0.19178116, -0.25851685, -0.10115643,\n",
       "         -0.24617757,  0.3037452 , -0.18908054,  0.06445634, -0.30104014,\n",
       "          0.24967986, -0.26070154,  0.22909343,  0.08879727, -0.2545395 ,\n",
       "          0.10226771],\n",
       "        [-0.23692957,  0.01948527,  0.252693  , -0.02728069,  0.19866687,\n",
       "          0.17622215,  0.29815704,  0.20318782, -0.23301858,  0.19829804,\n",
       "         -0.2768068 ,  0.15347621, -0.0432936 ,  0.14574978,  0.2973407 ,\n",
       "          0.21987635,  0.2656001 ,  0.24188483,  0.2204926 , -0.12133785,\n",
       "          0.20552844, -0.1389204 , -0.0008238 , -0.05970123,  0.13711861,\n",
       "         -0.25145215, -0.09636329,  0.13484445,  0.20638072,  0.1499781 ,\n",
       "          0.01137406],\n",
       "        [-0.2349104 ,  0.25325954,  0.3038485 ,  0.2416876 , -0.11390683,\n",
       "          0.01976556, -0.237067  ,  0.12100846,  0.21424901, -0.1034257 ,\n",
       "         -0.11391772,  0.2219376 ,  0.29704428, -0.15172264,  0.08704045,\n",
       "         -0.17375678, -0.16958295, -0.25168926,  0.10090989, -0.1051286 ,\n",
       "          0.30817264, -0.23705432, -0.23622638, -0.12485945, -0.05897543,\n",
       "         -0.09288441,  0.28858978,  0.2814101 , -0.04347429,  0.22424865,\n",
       "          0.15953836]], dtype=float32),\n",
       " array([0., 0., 0., 0., 0., 0., 0., 0., 0., 0., 0., 0., 0., 0., 0., 0., 0.,\n",
       "        0., 0., 0., 0., 0., 0., 0., 0., 0., 0., 0., 0., 0., 0.],\n",
       "       dtype=float32),\n",
       " array([[ 0.01589477],\n",
       "        [ 0.42860225],\n",
       "        [ 0.41731384],\n",
       "        [-0.28751093],\n",
       "        [ 0.15312281],\n",
       "        [ 0.2791597 ],\n",
       "        [ 0.40100613],\n",
       "        [-0.37778124],\n",
       "        [-0.09191406],\n",
       "        [-0.1619282 ],\n",
       "        [-0.31245795],\n",
       "        [-0.1524246 ],\n",
       "        [ 0.3924673 ],\n",
       "        [ 0.43284646],\n",
       "        [ 0.26879022],\n",
       "        [ 0.2035493 ],\n",
       "        [ 0.1521829 ],\n",
       "        [-0.3500466 ],\n",
       "        [ 0.08493951],\n",
       "        [-0.24438822],\n",
       "        [ 0.33407328],\n",
       "        [-0.39144978],\n",
       "        [ 0.02169925],\n",
       "        [-0.29482126],\n",
       "        [-0.022387  ],\n",
       "        [ 0.0284315 ],\n",
       "        [-0.3072308 ],\n",
       "        [-0.36983025],\n",
       "        [-0.30264473],\n",
       "        [-0.3135934 ],\n",
       "        [ 0.34168407]], dtype=float32),\n",
       " array([0.], dtype=float32)]"
      ]
     },
     "execution_count": 162,
     "metadata": {},
     "output_type": "execute_result"
    }
   ],
   "source": [
    "# model output shape\n",
    "model.output_shape\n",
    "\n",
    "# model summary\n",
    "model.summary()\n",
    "\n",
    "# model config\n",
    "model.get_config()\n",
    "\n",
    "# list all weight tensors \n",
    "model.get_weights()"
   ]
  },
  {
   "cell_type": "code",
   "execution_count": 163,
   "metadata": {},
   "outputs": [
    {
     "name": "stdout",
     "output_type": "stream",
     "text": [
      "WARNING:tensorflow:From /anaconda3/lib/python3.7/site-packages/keras/optimizers.py:793: The name tf.train.Optimizer is deprecated. Please use tf.compat.v1.train.Optimizer instead.\n",
      "\n",
      "Epoch 1/20\n",
      "34158/34158 [==============================] - 40s 1ms/step - loss: nan - mean_squared_error: nan - mean_absolute_error: nan\n",
      "Epoch 2/20\n",
      "34158/34158 [==============================] - 39s 1ms/step - loss: nan - mean_squared_error: nan - mean_absolute_error: nan\n",
      "Epoch 3/20\n",
      "34158/34158 [==============================] - 38s 1ms/step - loss: nan - mean_squared_error: nan - mean_absolute_error: nan: 0s - loss: nan - mean_squared_error: nan - mean_absolute_error: \n",
      "Epoch 4/20\n",
      "34158/34158 [==============================] - 34s 1000us/step - loss: nan - mean_squared_error: nan - mean_absolute_error: nan\n",
      "Epoch 5/20\n",
      "34158/34158 [==============================] - 39s 1ms/step - loss: nan - mean_squared_error: nan - mean_absolute_error: nan: 4s - loss: nan - mean_squared_error: nan - ETA: 3s - loss: nan - mean_squared_error: nan - mean_absolut - ETA: 2s - loss: nan \n",
      "Epoch 6/20\n",
      "34158/34158 [==============================] - 36s 1ms/step - loss: nan - mean_squared_error: nan - mean_absolute_error: nan\n",
      "Epoch 7/20\n",
      "34158/34158 [==============================] - 36s 1ms/step - loss: nan - mean_squared_error: nan - mean_absolute_error: nan: 1s - loss: nan - mean_squared_error: nan - mean_absolute_erro - ETA: 1s - loss: nan - mean_squared_error: nan\n",
      "Epoch 8/20\n",
      "34158/34158 [==============================] - 36s 1ms/step - loss: nan - mean_squared_error: nan - mean_absolute_error: nan: 0s - loss: nan - mean_squared_error: nan - mean_absolute\n",
      "Epoch 9/20\n",
      "34158/34158 [==============================] - 37s 1ms/step - loss: nan - mean_squared_error: nan - mean_absolute_error: nan: 0s - loss: nan - mean_squared_error: nan - mean_absol\n",
      "Epoch 10/20\n",
      "34158/34158 [==============================] - 37s 1ms/step - loss: nan - mean_squared_error: nan - mean_absolute_error: nan\n",
      "Epoch 11/20\n",
      "34158/34158 [==============================] - 36s 1ms/step - loss: nan - mean_squared_error: nan - mean_absolute_error: nan: 2s - loss: nan -\n",
      "Epoch 12/20\n",
      "34158/34158 [==============================] - 38s 1ms/step - loss: nan - mean_squared_error: nan - mean_absolute_error: nan: 2s - loss: nan - ETA: 0s - loss: nan - mean_squared_error: nan - mean_absolute_error\n",
      "Epoch 13/20\n",
      "34158/34158 [==============================] - 36s 1ms/step - loss: nan - mean_squared_error: nan - mean_absolute_error: nan\n",
      "Epoch 14/20\n",
      "34158/34158 [==============================] - 37s 1ms/step - loss: nan - mean_squared_error: nan - mean_absolute_error: nan\n",
      "Epoch 15/20\n",
      "34158/34158 [==============================] - 36s 1ms/step - loss: nan - mean_squared_error: nan - mean_absolute_error: nan: 4s - loss: nan - mean_squared_error: nan - mean_absolut\n",
      "Epoch 16/20\n",
      "34158/34158 [==============================] - 37s 1ms/step - loss: nan - mean_squared_error: nan - mean_absolute_error: nan\n",
      "Epoch 17/20\n",
      "34158/34158 [==============================] - 37s 1ms/step - loss: nan - mean_squared_error: nan - mean_absolute_error: nan\n",
      "Epoch 18/20\n",
      "34158/34158 [==============================] - 38s 1ms/step - loss: nan - mean_squared_error: nan - mean_absolute_error: nan: 8s - loss: nan - mean_squar - ETA: 2s - loss: nan \n",
      "Epoch 19/20\n",
      "34158/34158 [==============================] - 38s 1ms/step - loss: nan - mean_squared_error: nan - mean_absolute_error: nan\n",
      "Epoch 20/20\n",
      "34158/34158 [==============================] - 38s 1ms/step - loss: nan - mean_squared_error: nan - mean_absolute_error: nan\n"
     ]
    },
    {
     "data": {
      "text/plain": [
       "<keras.callbacks.History at 0x1166df160>"
      ]
     },
     "execution_count": 163,
     "metadata": {},
     "output_type": "execute_result"
    }
   ],
   "source": [
    "# compile the model\n",
    "model.compile(loss='mse',\n",
    "              optimizer='adam',\n",
    "              metrics=['mse', 'mae'])\n",
    "                   \n",
    "\n",
    "# fit the model\n",
    "model.fit(X_train, y_train,epochs=20, batch_size=1, verbose=1)"
   ]
  },
  {
   "cell_type": "code",
   "execution_count": 164,
   "metadata": {},
   "outputs": [
    {
     "name": "stdout",
     "output_type": "stream",
     "text": [
      "8540/8540 [==============================] - 0s 15us/step\n",
      "[nan, nan, nan]\n"
     ]
    }
   ],
   "source": [
    "# evaluate model\n",
    "score = model.evaluate(X_test, y_test,verbose=1)\n",
    "\n",
    "print(score)"
   ]
  }
 ],
 "metadata": {
  "kernelspec": {
   "display_name": "Python 3",
   "language": "python",
   "name": "python3"
  },
  "language_info": {
   "codemirror_mode": {
    "name": "ipython",
    "version": 3
   },
   "file_extension": ".py",
   "mimetype": "text/x-python",
   "name": "python",
   "nbconvert_exporter": "python",
   "pygments_lexer": "ipython3",
   "version": "3.7.1"
  },
  "toc": {
   "base_numbering": 1,
   "nav_menu": {},
   "number_sections": true,
   "sideBar": true,
   "skip_h1_title": false,
   "title_cell": "Table of Contents",
   "title_sidebar": "Contents",
   "toc_cell": false,
   "toc_position": {},
   "toc_section_display": true,
   "toc_window_display": true
  }
 },
 "nbformat": 4,
 "nbformat_minor": 2
}
