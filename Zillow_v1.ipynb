{
 "cells": [
  {
   "cell_type": "markdown",
   "metadata": {},
   "source": [
    "# ZILLOW"
   ]
  },
  {
   "cell_type": "markdown",
   "metadata": {},
   "source": [
    "# Abstract\n"
   ]
  },
  {
   "cell_type": "markdown",
   "metadata": {},
   "source": [
    "This document follows a 7 steps solution workflow exposed in the Data Science Solutions book from Manav Shegal:\n",
    "\n",
    "1. Question or Problem Definition\n",
    "2. Acquire Training and Testing Data\n",
    "3. Wrangle, Prepare and Cleanse the Data\n",
    "4. Analyze, Identify Patterns and Explore the Data\n",
    "5. Model, Predict and Solve the Problem\n",
    "6. Visualise, Report and Present the Problem Solving Steps and Final Solution\n",
    "7. Supply or Submit the Results"
   ]
  },
  {
   "cell_type": "markdown",
   "metadata": {},
   "source": [
    "# Project"
   ]
  },
  {
   "cell_type": "markdown",
   "metadata": {},
   "source": [
    "## Question or Problem Definition"
   ]
  },
  {
   "cell_type": "markdown",
   "metadata": {},
   "source": [
    "A home is often the largest and most expensive purchase a person makes in his or her lifetime. Ensuring homeowners have a trusted way to monitor this asset is incredibly important. The Zestimate was created to give consumers as much information as possible about homes and the housing market, marking the first time consumers had access to this type of home value information at no cost.\n",
    "\n",
    "“Zestimates” are estimated home values based on 7.5 million statistical and machine learning models that analyze hundreds of data points on each property.\n",
    "\n",
    "The task at hand it to build a model that will predict the Zestimate residual error.\n",
    "\n",
    "Submissions are evaluated on **Mean Absolute Error** between the predicted log error and the actual log error. The log error is defined as \n",
    "\n",
    "$$log(error) = log(Zestimate) - log(SalePrice)$$"
   ]
  },
  {
   "cell_type": "markdown",
   "metadata": {},
   "source": [
    "## Acquire Training and Testing Data"
   ]
  },
  {
   "cell_type": "markdown",
   "metadata": {},
   "source": [
    "### Import libraries"
   ]
  },
  {
   "cell_type": "code",
   "execution_count": 1,
   "metadata": {},
   "outputs": [],
   "source": [
    "# data structures and data analysis tools\n",
    "import pandas as pd\n",
    "\n",
    "# scientific computing\n",
    "import numpy as np\n",
    "\n",
    "# operating system\n",
    "import os\n",
    "\n",
    "# visualisation\n",
    "%matplotlib inline\n",
    "import matplotlib.pyplot as plt\n",
    "import seaborn as sns\n",
    "\n",
    "# data mining and data analysis\n",
    "from sklearn.preprocessing import Imputer\n",
    "from sklearn.preprocessing import StandardScaler\n",
    "from sklearn.model_selection import train_test_split\n",
    "from sklearn.metrics import classification_report\n",
    "from sklearn.metrics import accuracy_score\n",
    "from sklearn.metrics import confusion_matrix\n",
    "from sklearn.tree import DecisionTreeClassifier\n",
    "from sklearn.pipeline import Pipeline\n",
    "\n",
    "import xgboost as xgb\n",
    "from xgboost import XGBRegressor\n",
    "\n",
    "# default matplotlib plotting style\n",
    "plt.style.use('ggplot')\n"
   ]
  },
  {
   "cell_type": "markdown",
   "metadata": {},
   "source": [
    "### Options"
   ]
  },
  {
   "cell_type": "code",
   "execution_count": 2,
   "metadata": {},
   "outputs": [],
   "source": [
    "# set number of rows displayed\n",
    "pd.set_option('display.max_row', 60)\n",
    "\n",
    "# display multiple outputs\n",
    "from IPython.core.interactiveshell import InteractiveShell\n",
    "InteractiveShell.ast_node_interactivity = \"all\""
   ]
  },
  {
   "cell_type": "markdown",
   "metadata": {},
   "source": [
    "### Path"
   ]
  },
  {
   "cell_type": "code",
   "execution_count": 3,
   "metadata": {},
   "outputs": [
    {
     "name": "stdout",
     "output_type": "stream",
     "text": [
      "/Users/manuel/Documents/Kaggle/Zillow\n",
      "/Users/manuel/Documents/Kaggle/Zillow/input/\n"
     ]
    }
   ],
   "source": [
    "# get the current working directory\n",
    "cwd = os.getcwd()\n",
    "print(cwd)\n",
    "\n",
    "\n",
    "# set the path of the project\n",
    "path_project = \"/Users/manuel/Documents/Kaggle/Zillow/input/\"\n",
    "print(path_project)"
   ]
  },
  {
   "cell_type": "markdown",
   "metadata": {},
   "source": [
    "### Read the files"
   ]
  },
  {
   "cell_type": "code",
   "execution_count": 4,
   "metadata": {},
   "outputs": [],
   "source": [
    "transactions = pd.read_csv(os.path.join(path_project, \"train_2016_v2.csv\"))\n",
    "                          \n",
    "# os.path.join. automatically detects the operating system and format the path accordingly."
   ]
  },
  {
   "cell_type": "code",
   "execution_count": 5,
   "metadata": {},
   "outputs": [],
   "source": [
    "properties = pd.read_csv(os.path.join(path_project, \"properties_2016.csv\"), low_memory = False)"
   ]
  },
  {
   "cell_type": "code",
   "execution_count": 6,
   "metadata": {},
   "outputs": [],
   "source": [
    "sample_submission = pd.read_csv(os.path.join(path_project, \"sample_submission.csv\"))"
   ]
  },
  {
   "cell_type": "markdown",
   "metadata": {},
   "source": [
    "### Have a Peak at the datasets"
   ]
  },
  {
   "cell_type": "code",
   "execution_count": 7,
   "metadata": {},
   "outputs": [
    {
     "data": {
      "text/html": [
       "<div>\n",
       "<style scoped>\n",
       "    .dataframe tbody tr th:only-of-type {\n",
       "        vertical-align: middle;\n",
       "    }\n",
       "\n",
       "    .dataframe tbody tr th {\n",
       "        vertical-align: top;\n",
       "    }\n",
       "\n",
       "    .dataframe thead th {\n",
       "        text-align: right;\n",
       "    }\n",
       "</style>\n",
       "<table border=\"1\" class=\"dataframe\">\n",
       "  <thead>\n",
       "    <tr style=\"text-align: right;\">\n",
       "      <th></th>\n",
       "      <th>parcelid</th>\n",
       "      <th>logerror</th>\n",
       "      <th>transactiondate</th>\n",
       "    </tr>\n",
       "  </thead>\n",
       "  <tbody>\n",
       "    <tr>\n",
       "      <th>0</th>\n",
       "      <td>11016594</td>\n",
       "      <td>0.0276</td>\n",
       "      <td>2016-01-01</td>\n",
       "    </tr>\n",
       "    <tr>\n",
       "      <th>1</th>\n",
       "      <td>14366692</td>\n",
       "      <td>-0.1684</td>\n",
       "      <td>2016-01-01</td>\n",
       "    </tr>\n",
       "    <tr>\n",
       "      <th>2</th>\n",
       "      <td>12098116</td>\n",
       "      <td>-0.0040</td>\n",
       "      <td>2016-01-01</td>\n",
       "    </tr>\n",
       "    <tr>\n",
       "      <th>3</th>\n",
       "      <td>12643413</td>\n",
       "      <td>0.0218</td>\n",
       "      <td>2016-01-02</td>\n",
       "    </tr>\n",
       "    <tr>\n",
       "      <th>4</th>\n",
       "      <td>14432541</td>\n",
       "      <td>-0.0050</td>\n",
       "      <td>2016-01-02</td>\n",
       "    </tr>\n",
       "  </tbody>\n",
       "</table>\n",
       "</div>"
      ],
      "text/plain": [
       "   parcelid  logerror transactiondate\n",
       "0  11016594    0.0276      2016-01-01\n",
       "1  14366692   -0.1684      2016-01-01\n",
       "2  12098116   -0.0040      2016-01-01\n",
       "3  12643413    0.0218      2016-01-02\n",
       "4  14432541   -0.0050      2016-01-02"
      ]
     },
     "execution_count": 7,
     "metadata": {},
     "output_type": "execute_result"
    },
    {
     "data": {
      "text/html": [
       "<div>\n",
       "<style scoped>\n",
       "    .dataframe tbody tr th:only-of-type {\n",
       "        vertical-align: middle;\n",
       "    }\n",
       "\n",
       "    .dataframe tbody tr th {\n",
       "        vertical-align: top;\n",
       "    }\n",
       "\n",
       "    .dataframe thead th {\n",
       "        text-align: right;\n",
       "    }\n",
       "</style>\n",
       "<table border=\"1\" class=\"dataframe\">\n",
       "  <thead>\n",
       "    <tr style=\"text-align: right;\">\n",
       "      <th></th>\n",
       "      <th>parcelid</th>\n",
       "      <th>airconditioningtypeid</th>\n",
       "      <th>architecturalstyletypeid</th>\n",
       "      <th>basementsqft</th>\n",
       "      <th>bathroomcnt</th>\n",
       "      <th>bedroomcnt</th>\n",
       "      <th>buildingclasstypeid</th>\n",
       "      <th>buildingqualitytypeid</th>\n",
       "      <th>calculatedbathnbr</th>\n",
       "      <th>decktypeid</th>\n",
       "      <th>...</th>\n",
       "      <th>numberofstories</th>\n",
       "      <th>fireplaceflag</th>\n",
       "      <th>structuretaxvaluedollarcnt</th>\n",
       "      <th>taxvaluedollarcnt</th>\n",
       "      <th>assessmentyear</th>\n",
       "      <th>landtaxvaluedollarcnt</th>\n",
       "      <th>taxamount</th>\n",
       "      <th>taxdelinquencyflag</th>\n",
       "      <th>taxdelinquencyyear</th>\n",
       "      <th>censustractandblock</th>\n",
       "    </tr>\n",
       "  </thead>\n",
       "  <tbody>\n",
       "    <tr>\n",
       "      <th>0</th>\n",
       "      <td>10754147</td>\n",
       "      <td>NaN</td>\n",
       "      <td>NaN</td>\n",
       "      <td>NaN</td>\n",
       "      <td>0.0</td>\n",
       "      <td>0.0</td>\n",
       "      <td>NaN</td>\n",
       "      <td>NaN</td>\n",
       "      <td>NaN</td>\n",
       "      <td>NaN</td>\n",
       "      <td>...</td>\n",
       "      <td>NaN</td>\n",
       "      <td>NaN</td>\n",
       "      <td>NaN</td>\n",
       "      <td>9.0</td>\n",
       "      <td>2015.0</td>\n",
       "      <td>9.0</td>\n",
       "      <td>NaN</td>\n",
       "      <td>NaN</td>\n",
       "      <td>NaN</td>\n",
       "      <td>NaN</td>\n",
       "    </tr>\n",
       "    <tr>\n",
       "      <th>1</th>\n",
       "      <td>10759547</td>\n",
       "      <td>NaN</td>\n",
       "      <td>NaN</td>\n",
       "      <td>NaN</td>\n",
       "      <td>0.0</td>\n",
       "      <td>0.0</td>\n",
       "      <td>NaN</td>\n",
       "      <td>NaN</td>\n",
       "      <td>NaN</td>\n",
       "      <td>NaN</td>\n",
       "      <td>...</td>\n",
       "      <td>NaN</td>\n",
       "      <td>NaN</td>\n",
       "      <td>NaN</td>\n",
       "      <td>27516.0</td>\n",
       "      <td>2015.0</td>\n",
       "      <td>27516.0</td>\n",
       "      <td>NaN</td>\n",
       "      <td>NaN</td>\n",
       "      <td>NaN</td>\n",
       "      <td>NaN</td>\n",
       "    </tr>\n",
       "    <tr>\n",
       "      <th>2</th>\n",
       "      <td>10843547</td>\n",
       "      <td>NaN</td>\n",
       "      <td>NaN</td>\n",
       "      <td>NaN</td>\n",
       "      <td>0.0</td>\n",
       "      <td>0.0</td>\n",
       "      <td>NaN</td>\n",
       "      <td>NaN</td>\n",
       "      <td>NaN</td>\n",
       "      <td>NaN</td>\n",
       "      <td>...</td>\n",
       "      <td>NaN</td>\n",
       "      <td>NaN</td>\n",
       "      <td>650756.0</td>\n",
       "      <td>1413387.0</td>\n",
       "      <td>2015.0</td>\n",
       "      <td>762631.0</td>\n",
       "      <td>20800.37</td>\n",
       "      <td>NaN</td>\n",
       "      <td>NaN</td>\n",
       "      <td>NaN</td>\n",
       "    </tr>\n",
       "    <tr>\n",
       "      <th>3</th>\n",
       "      <td>10859147</td>\n",
       "      <td>NaN</td>\n",
       "      <td>NaN</td>\n",
       "      <td>NaN</td>\n",
       "      <td>0.0</td>\n",
       "      <td>0.0</td>\n",
       "      <td>3.0</td>\n",
       "      <td>7.0</td>\n",
       "      <td>NaN</td>\n",
       "      <td>NaN</td>\n",
       "      <td>...</td>\n",
       "      <td>1.0</td>\n",
       "      <td>NaN</td>\n",
       "      <td>571346.0</td>\n",
       "      <td>1156834.0</td>\n",
       "      <td>2015.0</td>\n",
       "      <td>585488.0</td>\n",
       "      <td>14557.57</td>\n",
       "      <td>NaN</td>\n",
       "      <td>NaN</td>\n",
       "      <td>NaN</td>\n",
       "    </tr>\n",
       "    <tr>\n",
       "      <th>4</th>\n",
       "      <td>10879947</td>\n",
       "      <td>NaN</td>\n",
       "      <td>NaN</td>\n",
       "      <td>NaN</td>\n",
       "      <td>0.0</td>\n",
       "      <td>0.0</td>\n",
       "      <td>4.0</td>\n",
       "      <td>NaN</td>\n",
       "      <td>NaN</td>\n",
       "      <td>NaN</td>\n",
       "      <td>...</td>\n",
       "      <td>NaN</td>\n",
       "      <td>NaN</td>\n",
       "      <td>193796.0</td>\n",
       "      <td>433491.0</td>\n",
       "      <td>2015.0</td>\n",
       "      <td>239695.0</td>\n",
       "      <td>5725.17</td>\n",
       "      <td>NaN</td>\n",
       "      <td>NaN</td>\n",
       "      <td>NaN</td>\n",
       "    </tr>\n",
       "  </tbody>\n",
       "</table>\n",
       "<p>5 rows × 58 columns</p>\n",
       "</div>"
      ],
      "text/plain": [
       "   parcelid  airconditioningtypeid  architecturalstyletypeid  basementsqft  \\\n",
       "0  10754147                    NaN                       NaN           NaN   \n",
       "1  10759547                    NaN                       NaN           NaN   \n",
       "2  10843547                    NaN                       NaN           NaN   \n",
       "3  10859147                    NaN                       NaN           NaN   \n",
       "4  10879947                    NaN                       NaN           NaN   \n",
       "\n",
       "   bathroomcnt  bedroomcnt  buildingclasstypeid  buildingqualitytypeid  \\\n",
       "0          0.0         0.0                  NaN                    NaN   \n",
       "1          0.0         0.0                  NaN                    NaN   \n",
       "2          0.0         0.0                  NaN                    NaN   \n",
       "3          0.0         0.0                  3.0                    7.0   \n",
       "4          0.0         0.0                  4.0                    NaN   \n",
       "\n",
       "   calculatedbathnbr  decktypeid         ...           numberofstories  \\\n",
       "0                NaN         NaN         ...                       NaN   \n",
       "1                NaN         NaN         ...                       NaN   \n",
       "2                NaN         NaN         ...                       NaN   \n",
       "3                NaN         NaN         ...                       1.0   \n",
       "4                NaN         NaN         ...                       NaN   \n",
       "\n",
       "   fireplaceflag  structuretaxvaluedollarcnt  taxvaluedollarcnt  \\\n",
       "0            NaN                         NaN                9.0   \n",
       "1            NaN                         NaN            27516.0   \n",
       "2            NaN                    650756.0          1413387.0   \n",
       "3            NaN                    571346.0          1156834.0   \n",
       "4            NaN                    193796.0           433491.0   \n",
       "\n",
       "   assessmentyear  landtaxvaluedollarcnt  taxamount  taxdelinquencyflag  \\\n",
       "0          2015.0                    9.0        NaN                 NaN   \n",
       "1          2015.0                27516.0        NaN                 NaN   \n",
       "2          2015.0               762631.0   20800.37                 NaN   \n",
       "3          2015.0               585488.0   14557.57                 NaN   \n",
       "4          2015.0               239695.0    5725.17                 NaN   \n",
       "\n",
       "   taxdelinquencyyear  censustractandblock  \n",
       "0                 NaN                  NaN  \n",
       "1                 NaN                  NaN  \n",
       "2                 NaN                  NaN  \n",
       "3                 NaN                  NaN  \n",
       "4                 NaN                  NaN  \n",
       "\n",
       "[5 rows x 58 columns]"
      ]
     },
     "execution_count": 7,
     "metadata": {},
     "output_type": "execute_result"
    },
    {
     "data": {
      "text/html": [
       "<div>\n",
       "<style scoped>\n",
       "    .dataframe tbody tr th:only-of-type {\n",
       "        vertical-align: middle;\n",
       "    }\n",
       "\n",
       "    .dataframe tbody tr th {\n",
       "        vertical-align: top;\n",
       "    }\n",
       "\n",
       "    .dataframe thead th {\n",
       "        text-align: right;\n",
       "    }\n",
       "</style>\n",
       "<table border=\"1\" class=\"dataframe\">\n",
       "  <thead>\n",
       "    <tr style=\"text-align: right;\">\n",
       "      <th></th>\n",
       "      <th>ParcelId</th>\n",
       "      <th>201610</th>\n",
       "      <th>201611</th>\n",
       "      <th>201612</th>\n",
       "      <th>201710</th>\n",
       "      <th>201711</th>\n",
       "      <th>201712</th>\n",
       "    </tr>\n",
       "  </thead>\n",
       "  <tbody>\n",
       "    <tr>\n",
       "      <th>0</th>\n",
       "      <td>10754147</td>\n",
       "      <td>0</td>\n",
       "      <td>0</td>\n",
       "      <td>0</td>\n",
       "      <td>0</td>\n",
       "      <td>0</td>\n",
       "      <td>0</td>\n",
       "    </tr>\n",
       "    <tr>\n",
       "      <th>1</th>\n",
       "      <td>10759547</td>\n",
       "      <td>0</td>\n",
       "      <td>0</td>\n",
       "      <td>0</td>\n",
       "      <td>0</td>\n",
       "      <td>0</td>\n",
       "      <td>0</td>\n",
       "    </tr>\n",
       "    <tr>\n",
       "      <th>2</th>\n",
       "      <td>10843547</td>\n",
       "      <td>0</td>\n",
       "      <td>0</td>\n",
       "      <td>0</td>\n",
       "      <td>0</td>\n",
       "      <td>0</td>\n",
       "      <td>0</td>\n",
       "    </tr>\n",
       "    <tr>\n",
       "      <th>3</th>\n",
       "      <td>10859147</td>\n",
       "      <td>0</td>\n",
       "      <td>0</td>\n",
       "      <td>0</td>\n",
       "      <td>0</td>\n",
       "      <td>0</td>\n",
       "      <td>0</td>\n",
       "    </tr>\n",
       "    <tr>\n",
       "      <th>4</th>\n",
       "      <td>10879947</td>\n",
       "      <td>0</td>\n",
       "      <td>0</td>\n",
       "      <td>0</td>\n",
       "      <td>0</td>\n",
       "      <td>0</td>\n",
       "      <td>0</td>\n",
       "    </tr>\n",
       "  </tbody>\n",
       "</table>\n",
       "</div>"
      ],
      "text/plain": [
       "   ParcelId  201610  201611  201612  201710  201711  201712\n",
       "0  10754147       0       0       0       0       0       0\n",
       "1  10759547       0       0       0       0       0       0\n",
       "2  10843547       0       0       0       0       0       0\n",
       "3  10859147       0       0       0       0       0       0\n",
       "4  10879947       0       0       0       0       0       0"
      ]
     },
     "execution_count": 7,
     "metadata": {},
     "output_type": "execute_result"
    }
   ],
   "source": [
    "transactions.head()\n",
    "properties.head()\n",
    "sample_submission.head()"
   ]
  },
  {
   "cell_type": "markdown",
   "metadata": {},
   "source": [
    "### Basic information"
   ]
  },
  {
   "cell_type": "markdown",
   "metadata": {},
   "source": [
    "Having duplicates in the datasets might lead to overfitting when training a regression model."
   ]
  },
  {
   "cell_type": "code",
   "execution_count": 8,
   "metadata": {},
   "outputs": [
    {
     "data": {
      "text/html": [
       "<div>\n",
       "<style scoped>\n",
       "    .dataframe tbody tr th:only-of-type {\n",
       "        vertical-align: middle;\n",
       "    }\n",
       "\n",
       "    .dataframe tbody tr th {\n",
       "        vertical-align: top;\n",
       "    }\n",
       "\n",
       "    .dataframe thead th {\n",
       "        text-align: right;\n",
       "    }\n",
       "</style>\n",
       "<table border=\"1\" class=\"dataframe\">\n",
       "  <thead>\n",
       "    <tr style=\"text-align: right;\">\n",
       "      <th></th>\n",
       "      <th>duplicates</th>\n",
       "      <th>rows</th>\n",
       "      <th>columns</th>\n",
       "    </tr>\n",
       "    <tr>\n",
       "      <th>dataset</th>\n",
       "      <th></th>\n",
       "      <th></th>\n",
       "      <th></th>\n",
       "    </tr>\n",
       "  </thead>\n",
       "  <tbody>\n",
       "    <tr>\n",
       "      <th>transactions</th>\n",
       "      <td>0</td>\n",
       "      <td>90275</td>\n",
       "      <td>3</td>\n",
       "    </tr>\n",
       "    <tr>\n",
       "      <th>properties</th>\n",
       "      <td>0</td>\n",
       "      <td>2985217</td>\n",
       "      <td>58</td>\n",
       "    </tr>\n",
       "    <tr>\n",
       "      <th>sample_submission</th>\n",
       "      <td>0</td>\n",
       "      <td>2985217</td>\n",
       "      <td>7</td>\n",
       "    </tr>\n",
       "  </tbody>\n",
       "</table>\n",
       "</div>"
      ],
      "text/plain": [
       "                   duplicates     rows  columns\n",
       "dataset                                        \n",
       "transactions                0    90275        3\n",
       "properties                  0  2985217       58\n",
       "sample_submission           0  2985217        7"
      ]
     },
     "execution_count": 8,
     "metadata": {},
     "output_type": "execute_result"
    }
   ],
   "source": [
    "data = {'transactions': transactions, 'properties': properties, 'sample_submission':sample_submission}\n",
    "\n",
    "pd.DataFrame({'dataset':list(data.keys()), \\\n",
    "              'duplicates': list(({key: value.duplicated().sum() for key,value in data.items()}).values()), \\\n",
    "              'rows': list(({key: value.shape[0] for key,value in data.items()}).values()), \\\n",
    "              'columns': list(({key: value.shape[1] for key,value in data.items()}).values())}) \\\n",
    "                .set_index('dataset')\n"
   ]
  },
  {
   "cell_type": "markdown",
   "metadata": {},
   "source": [
    "The table above confirms that the datasets are free of duplicates, so this is one less source of potential overfitting."
   ]
  },
  {
   "cell_type": "markdown",
   "metadata": {},
   "source": [
    "**What features are available?**"
   ]
  },
  {
   "cell_type": "markdown",
   "metadata": {},
   "source": [
    "#### transactions"
   ]
  },
  {
   "cell_type": "code",
   "execution_count": 9,
   "metadata": {},
   "outputs": [
    {
     "name": "stdout",
     "output_type": "stream",
     "text": [
      "<class 'pandas.core.frame.DataFrame'>\n",
      "RangeIndex: 90275 entries, 0 to 90274\n",
      "Data columns (total 3 columns):\n",
      "parcelid           90275 non-null int64\n",
      "logerror           90275 non-null float64\n",
      "transactiondate    90275 non-null object\n",
      "dtypes: float64(1), int64(1), object(1)\n",
      "memory usage: 2.1+ MB\n"
     ]
    }
   ],
   "source": [
    "data['transactions'].info()"
   ]
  },
  {
   "cell_type": "markdown",
   "metadata": {},
   "source": [
    "#### properties"
   ]
  },
  {
   "cell_type": "code",
   "execution_count": 10,
   "metadata": {},
   "outputs": [
    {
     "name": "stdout",
     "output_type": "stream",
     "text": [
      "<class 'pandas.core.frame.DataFrame'>\n",
      "RangeIndex: 2985217 entries, 0 to 2985216\n",
      "Data columns (total 58 columns):\n",
      "parcelid                        int64\n",
      "airconditioningtypeid           float64\n",
      "architecturalstyletypeid        float64\n",
      "basementsqft                    float64\n",
      "bathroomcnt                     float64\n",
      "bedroomcnt                      float64\n",
      "buildingclasstypeid             float64\n",
      "buildingqualitytypeid           float64\n",
      "calculatedbathnbr               float64\n",
      "decktypeid                      float64\n",
      "finishedfloor1squarefeet        float64\n",
      "calculatedfinishedsquarefeet    float64\n",
      "finishedsquarefeet12            float64\n",
      "finishedsquarefeet13            float64\n",
      "finishedsquarefeet15            float64\n",
      "finishedsquarefeet50            float64\n",
      "finishedsquarefeet6             float64\n",
      "fips                            float64\n",
      "fireplacecnt                    float64\n",
      "fullbathcnt                     float64\n",
      "garagecarcnt                    float64\n",
      "garagetotalsqft                 float64\n",
      "hashottuborspa                  object\n",
      "heatingorsystemtypeid           float64\n",
      "latitude                        float64\n",
      "longitude                       float64\n",
      "lotsizesquarefeet               float64\n",
      "poolcnt                         float64\n",
      "poolsizesum                     float64\n",
      "pooltypeid10                    float64\n",
      "pooltypeid2                     float64\n",
      "pooltypeid7                     float64\n",
      "propertycountylandusecode       object\n",
      "propertylandusetypeid           float64\n",
      "propertyzoningdesc              object\n",
      "rawcensustractandblock          float64\n",
      "regionidcity                    float64\n",
      "regionidcounty                  float64\n",
      "regionidneighborhood            float64\n",
      "regionidzip                     float64\n",
      "roomcnt                         float64\n",
      "storytypeid                     float64\n",
      "threequarterbathnbr             float64\n",
      "typeconstructiontypeid          float64\n",
      "unitcnt                         float64\n",
      "yardbuildingsqft17              float64\n",
      "yardbuildingsqft26              float64\n",
      "yearbuilt                       float64\n",
      "numberofstories                 float64\n",
      "fireplaceflag                   object\n",
      "structuretaxvaluedollarcnt      float64\n",
      "taxvaluedollarcnt               float64\n",
      "assessmentyear                  float64\n",
      "landtaxvaluedollarcnt           float64\n",
      "taxamount                       float64\n",
      "taxdelinquencyflag              object\n",
      "taxdelinquencyyear              float64\n",
      "censustractandblock             float64\n",
      "dtypes: float64(52), int64(1), object(5)\n",
      "memory usage: 1.3+ GB\n"
     ]
    }
   ],
   "source": [
    "data['properties'].info()"
   ]
  },
  {
   "cell_type": "markdown",
   "metadata": {},
   "source": [
    "#### sample submission"
   ]
  },
  {
   "cell_type": "code",
   "execution_count": 11,
   "metadata": {},
   "outputs": [
    {
     "name": "stdout",
     "output_type": "stream",
     "text": [
      "<class 'pandas.core.frame.DataFrame'>\n",
      "RangeIndex: 2985217 entries, 0 to 2985216\n",
      "Data columns (total 7 columns):\n",
      "ParcelId    int64\n",
      "201610      int64\n",
      "201611      int64\n",
      "201612      int64\n",
      "201710      int64\n",
      "201711      int64\n",
      "201712      int64\n",
      "dtypes: int64(7)\n",
      "memory usage: 159.4 MB\n"
     ]
    }
   ],
   "source": [
    "data['sample_submission'].info()"
   ]
  },
  {
   "cell_type": "markdown",
   "metadata": {},
   "source": [
    "At first sight, these three datasets seem to have a common key - *parcelid*. We will check the level of the *Transactions* and *Properties* datasets and see if we can join them on this variable. We want here to link all the properties characteristics with their transactions in order to create the dataframe that will be used to explore the data and build a predictive model."
   ]
  },
  {
   "cell_type": "markdown",
   "metadata": {},
   "source": [
    "### Create a dataframe"
   ]
  },
  {
   "cell_type": "code",
   "execution_count": 12,
   "metadata": {},
   "outputs": [
    {
     "data": {
      "text/plain": [
       "90275"
      ]
     },
     "execution_count": 12,
     "metadata": {},
     "output_type": "execute_result"
    },
    {
     "data": {
      "text/plain": [
       "90150"
      ]
     },
     "execution_count": 12,
     "metadata": {},
     "output_type": "execute_result"
    },
    {
     "data": {
      "text/plain": [
       "90275"
      ]
     },
     "execution_count": 12,
     "metadata": {},
     "output_type": "execute_result"
    }
   ],
   "source": [
    "# number of rows in the \"transactions\" dataset\n",
    "len(transactions)\n",
    "\n",
    "# number of unique \"parcelid\" values\n",
    "transactions['parcelid'].nunique()\n",
    "\n",
    "# keys of the \"transactions\" dataset\n",
    "len(transactions.groupby(['parcelid', 'transactiondate']).nunique())\n"
   ]
  },
  {
   "cell_type": "markdown",
   "metadata": {},
   "source": [
    "The ***Transactions*** dataset is unique at the following levels:\n",
    "* *parcelid*\n",
    "* *transactiondate*\n",
    "\n",
    "\n",
    "Some of properties have been sold many times during the period considered:"
   ]
  },
  {
   "cell_type": "code",
   "execution_count": 13,
   "metadata": {},
   "outputs": [
    {
     "data": {
      "text/plain": [
       "3        1\n",
       "2      123\n",
       "1    90026\n",
       "Name: parcelid, dtype: int64"
      ]
     },
     "execution_count": 13,
     "metadata": {},
     "output_type": "execute_result"
    }
   ],
   "source": [
    "transactions['parcelid'].value_counts() \\\n",
    "                        .value_counts(sort = True, ascending = True)"
   ]
  },
  {
   "cell_type": "markdown",
   "metadata": {},
   "source": [
    "- 123 properties have been sold two times\n",
    "- 1 has been sold three times"
   ]
  },
  {
   "cell_type": "code",
   "execution_count": 14,
   "metadata": {},
   "outputs": [
    {
     "data": {
      "text/plain": [
       "2985217"
      ]
     },
     "execution_count": 14,
     "metadata": {},
     "output_type": "execute_result"
    },
    {
     "data": {
      "text/plain": [
       "2985217"
      ]
     },
     "execution_count": 14,
     "metadata": {},
     "output_type": "execute_result"
    }
   ],
   "source": [
    "# number of rows in the \"properties\" dataset\n",
    "len(properties)\n",
    "\n",
    "# number of unique \"parcelid\" values\n",
    "properties['parcelid'].nunique()"
   ]
  },
  {
   "cell_type": "markdown",
   "metadata": {},
   "source": [
    "The ***Properties*** dataset is then unique at the following level:\n",
    "* *parcelid*\n",
    "\n"
   ]
  },
  {
   "cell_type": "markdown",
   "metadata": {},
   "source": [
    "We can verify whether each unique *parcelid* in the ***Transaction*** dataset appears in the ***Properties*** dataset."
   ]
  },
  {
   "cell_type": "code",
   "execution_count": 15,
   "metadata": {},
   "outputs": [
    {
     "data": {
      "text/plain": [
       "90150"
      ]
     },
     "execution_count": 15,
     "metadata": {},
     "output_type": "execute_result"
    }
   ],
   "source": [
    "transactions['parcelid'].drop_duplicates().astype('str')\\\n",
    "    .isin(properties['parcelid'].astype('str'))\\\n",
    "    .sum()"
   ]
  },
  {
   "cell_type": "markdown",
   "metadata": {},
   "source": [
    "Each *parcelid* in the ***Transactions*** dataset can be found in the ***Properties*** dataset.\n"
   ]
  },
  {
   "cell_type": "markdown",
   "metadata": {},
   "source": [
    "We can now build the dataframe that will be used for exploration, training and testing, by joining on the *parcelid* key. "
   ]
  },
  {
   "cell_type": "code",
   "execution_count": 16,
   "metadata": {},
   "outputs": [
    {
     "data": {
      "text/plain": [
       "(90275, 60)"
      ]
     },
     "execution_count": 16,
     "metadata": {},
     "output_type": "execute_result"
    }
   ],
   "source": [
    "df = transactions.merge(properties, how = 'inner', on = 'parcelid')\n",
    "df.shape"
   ]
  },
  {
   "cell_type": "markdown",
   "metadata": {},
   "source": [
    "The resulting dataframe has 90,275 rows and 60 columns. "
   ]
  },
  {
   "cell_type": "markdown",
   "metadata": {},
   "source": [
    "### Rename the features"
   ]
  },
  {
   "cell_type": "markdown",
   "metadata": {},
   "source": [
    "**What are the features in the resulting dataframe?**"
   ]
  },
  {
   "cell_type": "code",
   "execution_count": 17,
   "metadata": {},
   "outputs": [
    {
     "name": "stdout",
     "output_type": "stream",
     "text": [
      "<class 'pandas.core.frame.DataFrame'>\n",
      "Int64Index: 90275 entries, 0 to 90274\n",
      "Data columns (total 60 columns):\n",
      "parcelid                        90275 non-null int64\n",
      "logerror                        90275 non-null float64\n",
      "transactiondate                 90275 non-null object\n",
      "airconditioningtypeid           28781 non-null float64\n",
      "architecturalstyletypeid        261 non-null float64\n",
      "basementsqft                    43 non-null float64\n",
      "bathroomcnt                     90275 non-null float64\n",
      "bedroomcnt                      90275 non-null float64\n",
      "buildingclasstypeid             16 non-null float64\n",
      "buildingqualitytypeid           57364 non-null float64\n",
      "calculatedbathnbr               89093 non-null float64\n",
      "decktypeid                      658 non-null float64\n",
      "finishedfloor1squarefeet        6856 non-null float64\n",
      "calculatedfinishedsquarefeet    89614 non-null float64\n",
      "finishedsquarefeet12            85596 non-null float64\n",
      "finishedsquarefeet13            33 non-null float64\n",
      "finishedsquarefeet15            3564 non-null float64\n",
      "finishedsquarefeet50            6856 non-null float64\n",
      "finishedsquarefeet6             421 non-null float64\n",
      "fips                            90275 non-null float64\n",
      "fireplacecnt                    9607 non-null float64\n",
      "fullbathcnt                     89093 non-null float64\n",
      "garagecarcnt                    29937 non-null float64\n",
      "garagetotalsqft                 29937 non-null float64\n",
      "hashottuborspa                  2365 non-null object\n",
      "heatingorsystemtypeid           56080 non-null float64\n",
      "latitude                        90275 non-null float64\n",
      "longitude                       90275 non-null float64\n",
      "lotsizesquarefeet               80125 non-null float64\n",
      "poolcnt                         17901 non-null float64\n",
      "poolsizesum                     969 non-null float64\n",
      "pooltypeid10                    1161 non-null float64\n",
      "pooltypeid2                     1204 non-null float64\n",
      "pooltypeid7                     16697 non-null float64\n",
      "propertycountylandusecode       90274 non-null object\n",
      "propertylandusetypeid           90275 non-null float64\n",
      "propertyzoningdesc              58313 non-null object\n",
      "rawcensustractandblock          90275 non-null float64\n",
      "regionidcity                    88472 non-null float64\n",
      "regionidcounty                  90275 non-null float64\n",
      "regionidneighborhood            36012 non-null float64\n",
      "regionidzip                     90240 non-null float64\n",
      "roomcnt                         90275 non-null float64\n",
      "storytypeid                     43 non-null float64\n",
      "threequarterbathnbr             12009 non-null float64\n",
      "typeconstructiontypeid          299 non-null float64\n",
      "unitcnt                         58353 non-null float64\n",
      "yardbuildingsqft17              2646 non-null float64\n",
      "yardbuildingsqft26              95 non-null float64\n",
      "yearbuilt                       89519 non-null float64\n",
      "numberofstories                 20570 non-null float64\n",
      "fireplaceflag                   222 non-null object\n",
      "structuretaxvaluedollarcnt      89895 non-null float64\n",
      "taxvaluedollarcnt               90274 non-null float64\n",
      "assessmentyear                  90275 non-null float64\n",
      "landtaxvaluedollarcnt           90274 non-null float64\n",
      "taxamount                       90269 non-null float64\n",
      "taxdelinquencyflag              1783 non-null object\n",
      "taxdelinquencyyear              1783 non-null float64\n",
      "censustractandblock             89670 non-null float64\n",
      "dtypes: float64(53), int64(1), object(6)\n",
      "memory usage: 42.0+ MB\n"
     ]
    }
   ],
   "source": [
    "df.info()"
   ]
  },
  {
   "cell_type": "markdown",
   "metadata": {},
   "source": [
    "We can rename some of the features for readibility reasons. This will also help in the exploratory data analysis phase later."
   ]
  },
  {
   "cell_type": "code",
   "execution_count": 18,
   "metadata": {},
   "outputs": [],
   "source": [
    "df.rename(columns={\n",
    "          'parcelid': 'parcel_id', \\\n",
    "          'transactiondate': 'transaction_date',\\\n",
    "          'yearbuilt': 'build_year',\\\n",
    "          'basementsqft': 'area_basement', \\\n",
    "          'yardbuildingsqft17': 'area_patio', \\\n",
    "          'yardbuildingsqft26': 'area_shed', \\\n",
    "          'poolsizesum': 'area_pool', \\\n",
    "          'lotsizesquarefeet': 'area_lot', \\\n",
    "          'garagetotalsqft': 'area_garage', \\\n",
    "          'finishedfloor1squarefeet': 'area_firstfloor_finished', \\\n",
    "          'calculatedfinishedsquarefeet': 'area_total_calc', \\\n",
    "          'finishedsquarefeet6': 'area_base', \\\n",
    "          'finishedsquarefeet12': 'area_live_finished', \\\n",
    "          'finishedsquarefeet13': 'area_liveperi_finished', \\\n",
    "          'finishedsquarefeet15': 'area_total_finished', \\\n",
    "          'finishedsquarefeet50': 'area_unknown', \\\n",
    "          'unitcnt': 'num_unit', \\\n",
    "          'numberofstories': 'num_story', \\\n",
    "          'roomcnt': 'num_room', \\\n",
    "          'bathroomcnt': 'num_bathroom', \\\n",
    "          'bedroomcnt': 'num_bedroom', \\\n",
    "          'calculatedbathnbr': 'num_bathroom_calc', \\\n",
    "          'fullbathcnt': 'num_bath', \\\n",
    "          'threequarterbathnbr': 'num_75_bath', \\\n",
    "          'fireplacecnt': 'num_fireplace', \\\n",
    "          'poolcnt': 'num_pool', \\\n",
    "          'garagecarcnt': 'num_garage', \\\n",
    "          'regionidcounty': 'region_county', \\\n",
    "          'regionidcity': 'region_city', \\\n",
    "          'regionidzip': 'region_zip', \\\n",
    "          'regionidneighborhood': 'region_neighbor', \\\n",
    "          'taxvaluedollarcnt': 'tax_total', \\\n",
    "          'structuretaxvaluedollarcnt': 'tax_building', \\\n",
    "          'landtaxvaluedollarcnt': 'tax_land', \\\n",
    "          'taxamount': 'tax_property', \\\n",
    "          'assessmentyear': 'tax_year', \\\n",
    "          'taxdelinquencyflag': 'tax_delinquency_flag', \\\n",
    "          'taxdelinquencyyear': 'tax_delinquency_year', \\\n",
    "          'propertyzoningdesc': 'zoning_property', \\\n",
    "          'propertylandusetypeid': 'zoning_landuse', \\\n",
    "          'propertycountylandusecode': 'zoning_landuse_county', \\\n",
    "          'fireplaceflag': 'flag_fireplace', \\\n",
    "          'hashottuborspa': 'flag_tub', \\\n",
    "          'buildingqualitytypeid': 'quality', \\\n",
    "          'buildingclasstypeid': 'framing', \\\n",
    "          'typeconstructiontypeid': 'material', \\\n",
    "          'decktypeid': 'deck', \\\n",
    "          'storytypeid': 'story', \\\n",
    "          'heatingorsystemtypeid': 'heating', \\\n",
    "          'airconditioningtypeid': 'aircon', \\\n",
    "          'architecturalstyletypeid': 'architectural_style'\n",
    "          }, inplace=True)"
   ]
  },
  {
   "cell_type": "markdown",
   "metadata": {},
   "source": [
    "### Datetime features"
   ]
  },
  {
   "cell_type": "markdown",
   "metadata": {},
   "source": [
    "There are a few features that seem to be stored as \"object\" type. Let's convert their type to \"datetime\". "
   ]
  },
  {
   "cell_type": "code",
   "execution_count": 19,
   "metadata": {},
   "outputs": [
    {
     "name": "stdout",
     "output_type": "stream",
     "text": [
      "<class 'pandas.core.frame.DataFrame'>\n",
      "Int64Index: 90275 entries, 0 to 90274\n",
      "Data columns (total 4 columns):\n",
      "transaction_date        90275 non-null object\n",
      "build_year              89519 non-null float64\n",
      "tax_year                90275 non-null float64\n",
      "tax_delinquency_year    1783 non-null float64\n",
      "dtypes: float64(3), object(1)\n",
      "memory usage: 3.4+ MB\n"
     ]
    }
   ],
   "source": [
    "dates_features = df[['transaction_date', 'build_year', 'tax_year', 'tax_delinquency_year']]\n",
    "dates_features.info()"
   ]
  },
  {
   "cell_type": "code",
   "execution_count": 20,
   "metadata": {},
   "outputs": [
    {
     "name": "stdout",
     "output_type": "stream",
     "text": [
      "transaction_date \n",
      " \n",
      " ['2016-01-01' '2016-01-02' '2016-01-03' '2016-01-04' '2016-01-05'\n",
      " '2016-06-29' '2016-01-06' '2016-09-12' '2016-06-17' '2016-01-07'\n",
      " '2016-09-14' '2016-07-05' '2016-01-08' '2016-06-27' '2016-08-04'\n",
      " '2016-05-19' '2016-01-09' '2016-01-10' '2016-01-11' '2016-09-15'\n",
      " '2016-06-14' '2016-01-12' '2016-01-13' '2016-09-17' '2016-06-10'\n",
      " '2016-01-14' '2016-01-15' '2016-10-12' '2016-01-16' '2016-01-17'\n",
      " '2016-01-18' '2016-01-19' '2016-09-30' '2016-12-28' '2016-06-06'\n",
      " '2016-01-20' '2016-01-21' '2016-09-20' '2016-10-11' '2016-01-22'\n",
      " '2016-01-23' '2016-01-24' '2016-01-25' '2016-08-26' '2016-01-26'\n",
      " '2016-06-01' '2016-04-14' '2016-08-16' '2016-09-23' '2016-01-27'\n",
      " '2016-01-28' '2016-07-01' '2016-01-29' '2016-09-09' '2016-08-09'\n",
      " '2016-06-16' '2016-01-30' '2016-01-31' '2016-02-01' '2016-09-02'\n",
      " '2016-02-02' '2016-02-03' '2016-02-04' '2016-05-24' '2016-02-05'\n",
      " '2016-04-27' '2016-08-30' '2016-02-06' '2016-02-07' '2016-08-29'\n",
      " '2016-02-08' '2016-05-09' '2016-02-09' '2016-02-10' '2016-04-01'\n",
      " '2016-02-11' '2016-09-22' '2016-02-12' '2016-09-13' '2016-02-13'\n",
      " '2016-02-14' '2016-02-15' '2016-05-03' '2016-02-16' '2016-06-23'\n",
      " '2016-02-17' '2016-02-18' '2016-02-19' '2016-07-11' '2016-02-20'\n",
      " '2016-02-21' '2016-02-22' '2016-12-14' '2016-12-05' '2016-02-23'\n",
      " '2016-02-24' '2016-09-19' '2016-07-25' '2016-02-25' '2016-08-22'\n",
      " '2016-02-26' '2016-02-27' '2016-02-28' '2016-02-29' '2016-12-13'\n",
      " '2016-08-15' '2016-03-01' '2016-03-02' '2016-03-03' '2016-09-26'\n",
      " '2016-03-04' '2016-11-17' '2016-03-05' '2016-03-06' '2016-03-07'\n",
      " '2016-03-08' '2016-12-20' '2016-06-13' '2016-03-09' '2016-09-16'\n",
      " '2016-08-19' '2016-03-10' '2016-08-12' '2016-03-11' '2016-03-13'\n",
      " '2016-03-14' '2016-07-14' '2016-03-15' '2016-03-16' '2016-07-22'\n",
      " '2016-03-17' '2016-12-30' '2016-03-18' '2016-07-13' '2016-03-19'\n",
      " '2016-03-20' '2016-03-21' '2016-03-22' '2016-03-23' '2016-03-24'\n",
      " '2016-08-08' '2016-03-25' '2016-03-27' '2016-03-28' '2016-03-29'\n",
      " '2016-03-30' '2016-03-31' '2016-11-18' '2016-04-02' '2016-04-03'\n",
      " '2016-04-04' '2016-04-05' '2016-10-05' '2016-04-06' '2016-08-24'\n",
      " '2016-04-07' '2016-08-23' '2016-10-07' '2016-04-08' '2016-04-09'\n",
      " '2016-04-10' '2016-04-11' '2016-04-12' '2016-04-13' '2016-10-03'\n",
      " '2016-04-15' '2016-04-16' '2016-04-17' '2016-04-18' '2016-04-19'\n",
      " '2016-04-20' '2016-04-21' '2016-04-22' '2016-10-06' '2016-04-23'\n",
      " '2016-04-24' '2016-04-25' '2016-06-20' '2016-04-26' '2016-04-28'\n",
      " '2016-07-08' '2016-06-03' '2016-04-29' '2016-04-30' '2016-05-01'\n",
      " '2016-05-02' '2016-07-19' '2016-05-04' '2016-05-05' '2016-12-22'\n",
      " '2016-12-07' '2016-05-06' '2016-05-07' '2016-05-08' '2016-05-10'\n",
      " '2016-09-29' '2016-05-11' '2016-05-12' '2016-05-13' '2016-05-14'\n",
      " '2016-05-15' '2016-05-16' '2016-08-11' '2016-05-17' '2016-05-18'\n",
      " '2016-05-20' '2016-05-22' '2016-05-23' '2016-09-27' '2016-05-25'\n",
      " '2016-05-26' '2016-05-27' '2016-05-28' '2016-05-29' '2016-05-30'\n",
      " '2016-05-31' '2016-09-07' '2016-06-02' '2016-12-08' '2016-06-04'\n",
      " '2016-06-05' '2016-06-07' '2016-06-08' '2016-06-09' '2016-06-11'\n",
      " '2016-06-12' '2016-06-15' '2016-06-22' '2016-07-20' '2016-06-18'\n",
      " '2016-06-19' '2016-06-21' '2016-06-24' '2016-08-31' '2016-06-25'\n",
      " '2016-06-26' '2016-06-28' '2016-06-30' '2016-10-25' '2016-07-02'\n",
      " '2016-07-04' '2016-07-06' '2016-07-07' '2016-07-09' '2016-07-10'\n",
      " '2016-07-12' '2016-08-17' '2016-07-15' '2016-07-16' '2016-07-17'\n",
      " '2016-07-18' '2016-07-21' '2016-07-23' '2016-07-24' '2016-07-26'\n",
      " '2016-07-27' '2016-07-28' '2016-07-29' '2016-07-30' '2016-07-31'\n",
      " '2016-08-01' '2016-08-02' '2016-08-03' '2016-08-05' '2016-08-06'\n",
      " '2016-08-07' '2016-08-10' '2016-08-13' '2016-08-14' '2016-08-18'\n",
      " '2016-08-20' '2016-08-21' '2016-08-25' '2016-08-27' '2016-08-28'\n",
      " '2016-09-01' '2016-09-03' '2016-09-04' '2016-09-05' '2016-09-06'\n",
      " '2016-09-08' '2016-12-29' '2016-09-10' '2016-09-11' '2016-09-18'\n",
      " '2016-09-21' '2016-11-04' '2016-09-24' '2016-09-25' '2016-09-28'\n",
      " '2016-10-01' '2016-10-02' '2016-10-04' '2016-10-08' '2016-10-09'\n",
      " '2016-10-10' '2016-10-13' '2016-10-14' '2016-10-17' '2016-10-18'\n",
      " '2016-10-19' '2016-10-20' '2016-10-21' '2016-10-22' '2016-10-24'\n",
      " '2016-10-26' '2016-10-27' '2016-10-28' '2016-10-29' '2016-10-30'\n",
      " '2016-10-31' '2016-11-01' '2016-11-02' '2016-11-03' '2016-11-06'\n",
      " '2016-11-07' '2016-11-08' '2016-11-09' '2016-11-10' '2016-11-12'\n",
      " '2016-11-13' '2016-11-14' '2016-11-15' '2016-11-16' '2016-11-19'\n",
      " '2016-11-20' '2016-11-21' '2016-11-22' '2016-11-23' '2016-11-24'\n",
      " '2016-11-27' '2016-11-28' '2016-11-29' '2016-11-30' '2016-12-01'\n",
      " '2016-12-02' '2016-12-04' '2016-12-06' '2016-12-09' '2016-12-11'\n",
      " '2016-12-12' '2016-12-15' '2016-12-16' '2016-12-17' '2016-12-18'\n",
      " '2016-12-19' '2016-12-21' '2016-12-23' '2016-12-24' '2016-12-25'\n",
      " '2016-12-26' '2016-12-27'] \n",
      "\n",
      "build_year \n",
      " \n",
      " [1959. 2014. 1940. 1987. 1981. 1982. 1939. 1994. 1984. 1977. 1954. 1995.\n",
      " 1944. 2005. 1955. 1964. 1979. 1970. 1957. 1950. 1927. 1976. 1962. 1952.\n",
      " 1998. 1986. 1973. 1966. 1983. 1961. 1953. 1948. 1946. 1965. 1972. 1956.\n",
      " 1912. 1980. 1947. 1988. 1968. 1989. 1923. 1974. 1963. 1960. 2015. 2010.\n",
      " 1951. 1978. 1975. 1999. 1928. 2003. 1990. 1993. 1985. 1913. 1925. 1929.\n",
      " 2013. 1949. 1926. 1938.   nan 1941. 1922. 1943. 1958. 1930. 1991. 1992.\n",
      " 1901. 1969. 2009. 2011. 1967. 2008. 1924. 1907. 2002. 2006. 2004. 1935.\n",
      " 1936. 1971. 1996. 1904. 2000. 1997. 1937. 2001. 1900. 1918. 2007. 1908.\n",
      " 1906. 1931. 1914. 1945. 1920. 1921. 1933. 1916. 1902. 1934. 1909. 1932.\n",
      " 1910. 1942. 2012. 1903. 1915. 1919. 1890. 1896. 1911. 1895. 1917. 1905.\n",
      " 1898. 1891. 1888. 1885. 1894. 1892. 1897. 1899. 1887. 1893. 1886.] \n",
      "\n",
      "tax_year \n",
      " \n",
      " [2015.] \n",
      "\n",
      "tax_delinquency_year \n",
      " \n",
      " [nan 13. 15. 12. 14. 10.  9.  8. 11.  7.  6. 99.] \n",
      "\n"
     ]
    }
   ],
   "source": [
    "for i in dates_features.columns:\n",
    "    print(i, \"\\n\", \"\\n\", dates_features[i].unique(), \"\\n\")"
   ]
  },
  {
   "cell_type": "markdown",
   "metadata": {},
   "source": [
    "As can be seen above, *tax_year* has zero missing values and only one value \"2015\". As it does not have any variance, we can delete this variable from the dataframe:"
   ]
  },
  {
   "cell_type": "code",
   "execution_count": 21,
   "metadata": {},
   "outputs": [],
   "source": [
    "df.drop(\"tax_year\", inplace = True, axis = 1)"
   ]
  },
  {
   "cell_type": "markdown",
   "metadata": {},
   "source": [
    "Now let's convert the other \"year\" variables to \"datetime\" type."
   ]
  },
  {
   "cell_type": "code",
   "execution_count": 22,
   "metadata": {},
   "outputs": [],
   "source": [
    "df['transaction_date'] = pd.to_datetime(df['transaction_date'])"
   ]
  },
  {
   "cell_type": "markdown",
   "metadata": {},
   "source": [
    "*build_year* is already in float64 and in the right format, so it's all good "
   ]
  },
  {
   "cell_type": "code",
   "execution_count": 23,
   "metadata": {},
   "outputs": [
    {
     "data": {
      "text/plain": [
       "array([nan, 13., 15., 12., 14., 10.,  9.,  8., 11.,  7.,  6., 99.])"
      ]
     },
     "execution_count": 23,
     "metadata": {},
     "output_type": "execute_result"
    }
   ],
   "source": [
    "# df['build_year'] = pd.to_datetime((df['build_year'].fillna(0).astype(np.int64)), format = '%Y', errors = 'coerce').dt.year\n",
    "df['tax_delinquency_year'].unique()\n"
   ]
  },
  {
   "cell_type": "markdown",
   "metadata": {},
   "source": [
    "#### Categorical features"
   ]
  },
  {
   "cell_type": "code",
   "execution_count": 27,
   "metadata": {},
   "outputs": [
    {
     "data": {
      "text/plain": [
       "Index(['flag_tub', 'zoning_landuse_county', 'zoning_property',\n",
       "       'flag_fireplace', 'tax_delinquency_flag'],\n",
       "      dtype='object')"
      ]
     },
     "execution_count": 27,
     "metadata": {},
     "output_type": "execute_result"
    }
   ],
   "source": [
    "categorical_features = df.select_dtypes(include='object')\n",
    "categorical_features.columns"
   ]
  },
  {
   "cell_type": "code",
   "execution_count": 28,
   "metadata": {},
   "outputs": [
    {
     "data": {
      "text/html": [
       "<div>\n",
       "<style scoped>\n",
       "    .dataframe tbody tr th:only-of-type {\n",
       "        vertical-align: middle;\n",
       "    }\n",
       "\n",
       "    .dataframe tbody tr th {\n",
       "        vertical-align: top;\n",
       "    }\n",
       "\n",
       "    .dataframe thead th {\n",
       "        text-align: right;\n",
       "    }\n",
       "</style>\n",
       "<table border=\"1\" class=\"dataframe\">\n",
       "  <thead>\n",
       "    <tr style=\"text-align: right;\">\n",
       "      <th></th>\n",
       "      <th>flag_tub</th>\n",
       "      <th>zoning_landuse_county</th>\n",
       "      <th>zoning_property</th>\n",
       "      <th>flag_fireplace</th>\n",
       "      <th>tax_delinquency_flag</th>\n",
       "    </tr>\n",
       "  </thead>\n",
       "  <tbody>\n",
       "    <tr>\n",
       "      <th>0</th>\n",
       "      <td>NaN</td>\n",
       "      <td>0100</td>\n",
       "      <td>LARS</td>\n",
       "      <td>NaN</td>\n",
       "      <td>NaN</td>\n",
       "    </tr>\n",
       "    <tr>\n",
       "      <th>1</th>\n",
       "      <td>NaN</td>\n",
       "      <td>1</td>\n",
       "      <td>NaN</td>\n",
       "      <td>NaN</td>\n",
       "      <td>NaN</td>\n",
       "    </tr>\n",
       "    <tr>\n",
       "      <th>2</th>\n",
       "      <td>NaN</td>\n",
       "      <td>0100</td>\n",
       "      <td>PSR6</td>\n",
       "      <td>NaN</td>\n",
       "      <td>NaN</td>\n",
       "    </tr>\n",
       "    <tr>\n",
       "      <th>3</th>\n",
       "      <td>NaN</td>\n",
       "      <td>010C</td>\n",
       "      <td>LAR3</td>\n",
       "      <td>NaN</td>\n",
       "      <td>NaN</td>\n",
       "    </tr>\n",
       "    <tr>\n",
       "      <th>4</th>\n",
       "      <td>NaN</td>\n",
       "      <td>122</td>\n",
       "      <td>NaN</td>\n",
       "      <td>NaN</td>\n",
       "      <td>NaN</td>\n",
       "    </tr>\n",
       "  </tbody>\n",
       "</table>\n",
       "</div>"
      ],
      "text/plain": [
       "  flag_tub zoning_landuse_county zoning_property flag_fireplace  \\\n",
       "0      NaN                  0100            LARS            NaN   \n",
       "1      NaN                     1             NaN            NaN   \n",
       "2      NaN                  0100            PSR6            NaN   \n",
       "3      NaN                  010C            LAR3            NaN   \n",
       "4      NaN                   122             NaN            NaN   \n",
       "\n",
       "  tax_delinquency_flag  \n",
       "0                  NaN  \n",
       "1                  NaN  \n",
       "2                  NaN  \n",
       "3                  NaN  \n",
       "4                  NaN  "
      ]
     },
     "execution_count": 28,
     "metadata": {},
     "output_type": "execute_result"
    }
   ],
   "source": [
    "categorical_features.head()"
   ]
  },
  {
   "cell_type": "markdown",
   "metadata": {},
   "source": [
    "How many unique values have each of these categorical variables?"
   ]
  },
  {
   "cell_type": "code",
   "execution_count": 29,
   "metadata": {},
   "outputs": [
    {
     "data": {
      "text/html": [
       "<div>\n",
       "<style scoped>\n",
       "    .dataframe tbody tr th:only-of-type {\n",
       "        vertical-align: middle;\n",
       "    }\n",
       "\n",
       "    .dataframe tbody tr th {\n",
       "        vertical-align: top;\n",
       "    }\n",
       "\n",
       "    .dataframe thead th {\n",
       "        text-align: right;\n",
       "    }\n",
       "</style>\n",
       "<table border=\"1\" class=\"dataframe\">\n",
       "  <thead>\n",
       "    <tr style=\"text-align: right;\">\n",
       "      <th></th>\n",
       "      <th>flag_tub</th>\n",
       "      <th>zoning_landuse_county</th>\n",
       "      <th>zoning_property</th>\n",
       "      <th>flag_fireplace</th>\n",
       "      <th>tax_delinquency_flag</th>\n",
       "    </tr>\n",
       "  </thead>\n",
       "  <tbody>\n",
       "    <tr>\n",
       "      <th>count</th>\n",
       "      <td>2365</td>\n",
       "      <td>90274</td>\n",
       "      <td>58313</td>\n",
       "      <td>222</td>\n",
       "      <td>1783</td>\n",
       "    </tr>\n",
       "    <tr>\n",
       "      <th>unique</th>\n",
       "      <td>1</td>\n",
       "      <td>77</td>\n",
       "      <td>1996</td>\n",
       "      <td>1</td>\n",
       "      <td>1</td>\n",
       "    </tr>\n",
       "    <tr>\n",
       "      <th>top</th>\n",
       "      <td>True</td>\n",
       "      <td>0100</td>\n",
       "      <td>LAR1</td>\n",
       "      <td>True</td>\n",
       "      <td>Y</td>\n",
       "    </tr>\n",
       "    <tr>\n",
       "      <th>freq</th>\n",
       "      <td>2365</td>\n",
       "      <td>30846</td>\n",
       "      <td>7678</td>\n",
       "      <td>222</td>\n",
       "      <td>1783</td>\n",
       "    </tr>\n",
       "  </tbody>\n",
       "</table>\n",
       "</div>"
      ],
      "text/plain": [
       "       flag_tub zoning_landuse_county zoning_property flag_fireplace  \\\n",
       "count      2365                 90274           58313            222   \n",
       "unique        1                    77            1996              1   \n",
       "top        True                  0100            LAR1           True   \n",
       "freq       2365                 30846            7678            222   \n",
       "\n",
       "       tax_delinquency_flag  \n",
       "count                  1783  \n",
       "unique                    1  \n",
       "top                       Y  \n",
       "freq                   1783  "
      ]
     },
     "execution_count": 29,
     "metadata": {},
     "output_type": "execute_result"
    }
   ],
   "source": [
    "categorical_features.describe()"
   ]
  },
  {
   "cell_type": "markdown",
   "metadata": {},
   "source": [
    "*zoning_landuse_county* and *zoning_property* seem to have many levels. This might be a sign of high cardinality (large number of levels where most of the levels appear in a small nuumber of instances). \n",
    "\n",
    "High cardinality is often a problem in predictive modelling and features having such characteristics might be discarded because of the complexity that this might pose when using a decision tree algorithm for example.  "
   ]
  },
  {
   "cell_type": "markdown",
   "metadata": {},
   "source": [
    "This potential problem will be dealt with later when starting to build a Machine Learning (ML) pipeline."
   ]
  },
  {
   "cell_type": "markdown",
   "metadata": {},
   "source": [
    "It can be seen that columns containing \"flag\" are coded as \"True\" or \"Y\". As many machine learning algorithms only work with numerical data, this issue will be fixed by using one-hot encoding later. \n",
    "\n"
   ]
  },
  {
   "cell_type": "code",
   "execution_count": 30,
   "metadata": {},
   "outputs": [],
   "source": [
    "# categorical features containing the word \"flag\"\n",
    "#flag_cols = df.loc[:, df.columns.str.contains('flag')]\n",
    "\n",
    "# number of missing values for these features\n",
    "#flag_cols.isnull().sum()"
   ]
  },
  {
   "cell_type": "code",
   "execution_count": 31,
   "metadata": {},
   "outputs": [],
   "source": [
    "#df[flag_cols.columns] = df[flag_cols.columns].replace({True:1, 'Y':1})"
   ]
  },
  {
   "cell_type": "code",
   "execution_count": 32,
   "metadata": {},
   "outputs": [],
   "source": [
    "#df[flag_cols.columns].describe()"
   ]
  },
  {
   "cell_type": "code",
   "execution_count": 33,
   "metadata": {},
   "outputs": [],
   "source": [
    "#df['zoning_property'].value_counts()"
   ]
  },
  {
   "cell_type": "code",
   "execution_count": 34,
   "metadata": {},
   "outputs": [],
   "source": [
    "#df['zoning_landuse_county'].value_counts()"
   ]
  },
  {
   "cell_type": "markdown",
   "metadata": {},
   "source": [
    "#### Numerical features"
   ]
  },
  {
   "cell_type": "code",
   "execution_count": 35,
   "metadata": {},
   "outputs": [
    {
     "data": {
      "text/plain": [
       "['aircon',\n",
       " 'architectural_style',\n",
       " 'area_base',\n",
       " 'area_basement',\n",
       " 'area_firstfloor_finished',\n",
       " 'area_garage',\n",
       " 'area_live_finished',\n",
       " 'area_liveperi_finished',\n",
       " 'area_lot',\n",
       " 'area_patio',\n",
       " 'area_pool',\n",
       " 'area_shed',\n",
       " 'area_total_calc',\n",
       " 'area_total_finished',\n",
       " 'area_unknown',\n",
       " 'build_year',\n",
       " 'censustractandblock',\n",
       " 'deck',\n",
       " 'fips',\n",
       " 'framing',\n",
       " 'heating',\n",
       " 'latitude',\n",
       " 'logerror',\n",
       " 'longitude',\n",
       " 'material',\n",
       " 'num_75_bath',\n",
       " 'num_bath',\n",
       " 'num_bathroom',\n",
       " 'num_bathroom_calc',\n",
       " 'num_bedroom',\n",
       " 'num_fireplace',\n",
       " 'num_garage',\n",
       " 'num_pool',\n",
       " 'num_room',\n",
       " 'num_story',\n",
       " 'num_unit',\n",
       " 'parcel_id',\n",
       " 'pooltypeid10',\n",
       " 'pooltypeid2',\n",
       " 'pooltypeid7',\n",
       " 'quality',\n",
       " 'rawcensustractandblock',\n",
       " 'region_city',\n",
       " 'region_county',\n",
       " 'region_neighbor',\n",
       " 'region_zip',\n",
       " 'story',\n",
       " 'tax_building',\n",
       " 'tax_delinquency_year',\n",
       " 'tax_land',\n",
       " 'tax_property',\n",
       " 'tax_total',\n",
       " 'zoning_landuse']"
      ]
     },
     "execution_count": 35,
     "metadata": {},
     "output_type": "execute_result"
    }
   ],
   "source": [
    "numerical_features = df.select_dtypes('number')\n",
    "sorted(list(numerical_features.columns))"
   ]
  },
  {
   "cell_type": "markdown",
   "metadata": {},
   "source": [
    "##### \"Area\" Features"
   ]
  },
  {
   "cell_type": "markdown",
   "metadata": {},
   "source": [
    "What is the distribution of the numerical features starting with \"area\"?"
   ]
  },
  {
   "cell_type": "code",
   "execution_count": 36,
   "metadata": {},
   "outputs": [],
   "source": [
    "area_features = df.loc[:, df.columns.str.contains(\"area\")]"
   ]
  },
  {
   "cell_type": "code",
   "execution_count": 37,
   "metadata": {},
   "outputs": [
    {
     "data": {
      "text/html": [
       "<div>\n",
       "<style scoped>\n",
       "    .dataframe tbody tr th:only-of-type {\n",
       "        vertical-align: middle;\n",
       "    }\n",
       "\n",
       "    .dataframe tbody tr th {\n",
       "        vertical-align: top;\n",
       "    }\n",
       "\n",
       "    .dataframe thead th {\n",
       "        text-align: right;\n",
       "    }\n",
       "</style>\n",
       "<table border=\"1\" class=\"dataframe\">\n",
       "  <thead>\n",
       "    <tr style=\"text-align: right;\">\n",
       "      <th></th>\n",
       "      <th>area_basement</th>\n",
       "      <th>area_firstfloor_finished</th>\n",
       "      <th>area_total_calc</th>\n",
       "      <th>area_live_finished</th>\n",
       "      <th>area_liveperi_finished</th>\n",
       "      <th>area_total_finished</th>\n",
       "      <th>area_unknown</th>\n",
       "      <th>area_base</th>\n",
       "      <th>area_garage</th>\n",
       "      <th>area_lot</th>\n",
       "      <th>area_pool</th>\n",
       "      <th>area_patio</th>\n",
       "      <th>area_shed</th>\n",
       "    </tr>\n",
       "  </thead>\n",
       "  <tbody>\n",
       "    <tr>\n",
       "      <th>count</th>\n",
       "      <td>43.000000</td>\n",
       "      <td>6856.000000</td>\n",
       "      <td>89614.000000</td>\n",
       "      <td>85596.000000</td>\n",
       "      <td>33.000000</td>\n",
       "      <td>3564.000000</td>\n",
       "      <td>6856.000000</td>\n",
       "      <td>421.000000</td>\n",
       "      <td>29937.000000</td>\n",
       "      <td>8.012500e+04</td>\n",
       "      <td>969.000000</td>\n",
       "      <td>2646.000000</td>\n",
       "      <td>95.000000</td>\n",
       "    </tr>\n",
       "    <tr>\n",
       "      <th>mean</th>\n",
       "      <td>713.581395</td>\n",
       "      <td>1347.974037</td>\n",
       "      <td>1773.185987</td>\n",
       "      <td>1745.454531</td>\n",
       "      <td>1404.545455</td>\n",
       "      <td>2380.090067</td>\n",
       "      <td>1355.546674</td>\n",
       "      <td>2302.546318</td>\n",
       "      <td>345.521228</td>\n",
       "      <td>2.911016e+04</td>\n",
       "      <td>519.827657</td>\n",
       "      <td>310.142101</td>\n",
       "      <td>311.694737</td>\n",
       "    </tr>\n",
       "    <tr>\n",
       "      <th>std</th>\n",
       "      <td>437.434198</td>\n",
       "      <td>652.399026</td>\n",
       "      <td>928.162393</td>\n",
       "      <td>909.941166</td>\n",
       "      <td>110.108211</td>\n",
       "      <td>1068.207182</td>\n",
       "      <td>673.703488</td>\n",
       "      <td>1346.255242</td>\n",
       "      <td>267.015918</td>\n",
       "      <td>1.217213e+05</td>\n",
       "      <td>155.054210</td>\n",
       "      <td>216.721869</td>\n",
       "      <td>346.354850</td>\n",
       "    </tr>\n",
       "    <tr>\n",
       "      <th>min</th>\n",
       "      <td>100.000000</td>\n",
       "      <td>44.000000</td>\n",
       "      <td>2.000000</td>\n",
       "      <td>2.000000</td>\n",
       "      <td>1056.000000</td>\n",
       "      <td>560.000000</td>\n",
       "      <td>44.000000</td>\n",
       "      <td>257.000000</td>\n",
       "      <td>0.000000</td>\n",
       "      <td>1.670000e+02</td>\n",
       "      <td>28.000000</td>\n",
       "      <td>25.000000</td>\n",
       "      <td>18.000000</td>\n",
       "    </tr>\n",
       "    <tr>\n",
       "      <th>25%</th>\n",
       "      <td>407.500000</td>\n",
       "      <td>938.000000</td>\n",
       "      <td>1184.000000</td>\n",
       "      <td>1172.000000</td>\n",
       "      <td>1392.000000</td>\n",
       "      <td>1648.000000</td>\n",
       "      <td>938.000000</td>\n",
       "      <td>1112.000000</td>\n",
       "      <td>0.000000</td>\n",
       "      <td>5.703000e+03</td>\n",
       "      <td>420.000000</td>\n",
       "      <td>180.000000</td>\n",
       "      <td>100.000000</td>\n",
       "    </tr>\n",
       "    <tr>\n",
       "      <th>50%</th>\n",
       "      <td>616.000000</td>\n",
       "      <td>1244.000000</td>\n",
       "      <td>1540.000000</td>\n",
       "      <td>1518.000000</td>\n",
       "      <td>1440.000000</td>\n",
       "      <td>2104.500000</td>\n",
       "      <td>1248.000000</td>\n",
       "      <td>2028.000000</td>\n",
       "      <td>433.000000</td>\n",
       "      <td>7.200000e+03</td>\n",
       "      <td>500.000000</td>\n",
       "      <td>259.500000</td>\n",
       "      <td>159.000000</td>\n",
       "    </tr>\n",
       "    <tr>\n",
       "      <th>75%</th>\n",
       "      <td>872.000000</td>\n",
       "      <td>1614.000000</td>\n",
       "      <td>2095.000000</td>\n",
       "      <td>2056.000000</td>\n",
       "      <td>1440.000000</td>\n",
       "      <td>2862.000000</td>\n",
       "      <td>1619.000000</td>\n",
       "      <td>3431.000000</td>\n",
       "      <td>484.000000</td>\n",
       "      <td>1.168600e+04</td>\n",
       "      <td>600.000000</td>\n",
       "      <td>384.000000</td>\n",
       "      <td>361.000000</td>\n",
       "    </tr>\n",
       "    <tr>\n",
       "      <th>max</th>\n",
       "      <td>1555.000000</td>\n",
       "      <td>7625.000000</td>\n",
       "      <td>22741.000000</td>\n",
       "      <td>20013.000000</td>\n",
       "      <td>1584.000000</td>\n",
       "      <td>22741.000000</td>\n",
       "      <td>8352.000000</td>\n",
       "      <td>7224.000000</td>\n",
       "      <td>7339.000000</td>\n",
       "      <td>6.971010e+06</td>\n",
       "      <td>1750.000000</td>\n",
       "      <td>2678.000000</td>\n",
       "      <td>1366.000000</td>\n",
       "    </tr>\n",
       "  </tbody>\n",
       "</table>\n",
       "</div>"
      ],
      "text/plain": [
       "       area_basement  area_firstfloor_finished  area_total_calc  \\\n",
       "count      43.000000               6856.000000     89614.000000   \n",
       "mean      713.581395               1347.974037      1773.185987   \n",
       "std       437.434198                652.399026       928.162393   \n",
       "min       100.000000                 44.000000         2.000000   \n",
       "25%       407.500000                938.000000      1184.000000   \n",
       "50%       616.000000               1244.000000      1540.000000   \n",
       "75%       872.000000               1614.000000      2095.000000   \n",
       "max      1555.000000               7625.000000     22741.000000   \n",
       "\n",
       "       area_live_finished  area_liveperi_finished  area_total_finished  \\\n",
       "count        85596.000000               33.000000          3564.000000   \n",
       "mean          1745.454531             1404.545455          2380.090067   \n",
       "std            909.941166              110.108211          1068.207182   \n",
       "min              2.000000             1056.000000           560.000000   \n",
       "25%           1172.000000             1392.000000          1648.000000   \n",
       "50%           1518.000000             1440.000000          2104.500000   \n",
       "75%           2056.000000             1440.000000          2862.000000   \n",
       "max          20013.000000             1584.000000         22741.000000   \n",
       "\n",
       "       area_unknown    area_base   area_garage      area_lot    area_pool  \\\n",
       "count   6856.000000   421.000000  29937.000000  8.012500e+04   969.000000   \n",
       "mean    1355.546674  2302.546318    345.521228  2.911016e+04   519.827657   \n",
       "std      673.703488  1346.255242    267.015918  1.217213e+05   155.054210   \n",
       "min       44.000000   257.000000      0.000000  1.670000e+02    28.000000   \n",
       "25%      938.000000  1112.000000      0.000000  5.703000e+03   420.000000   \n",
       "50%     1248.000000  2028.000000    433.000000  7.200000e+03   500.000000   \n",
       "75%     1619.000000  3431.000000    484.000000  1.168600e+04   600.000000   \n",
       "max     8352.000000  7224.000000   7339.000000  6.971010e+06  1750.000000   \n",
       "\n",
       "        area_patio    area_shed  \n",
       "count  2646.000000    95.000000  \n",
       "mean    310.142101   311.694737  \n",
       "std     216.721869   346.354850  \n",
       "min      25.000000    18.000000  \n",
       "25%     180.000000   100.000000  \n",
       "50%     259.500000   159.000000  \n",
       "75%     384.000000   361.000000  \n",
       "max    2678.000000  1366.000000  "
      ]
     },
     "execution_count": 37,
     "metadata": {},
     "output_type": "execute_result"
    }
   ],
   "source": [
    "area_features.describe()"
   ]
  },
  {
   "cell_type": "markdown",
   "metadata": {},
   "source": [
    "We can already see that most of these features have maximum value that are far away from their median, for example *area_live_finished* maximum value is 13 times the median.\n",
    "\n",
    "This suggest outliers will need to be removed in a later stage."
   ]
  },
  {
   "cell_type": "markdown",
   "metadata": {},
   "source": [
    "##### \"Num\" Features"
   ]
  },
  {
   "cell_type": "markdown",
   "metadata": {},
   "source": [
    "What is the distribution of the numerical features starting with \"num\"?"
   ]
  },
  {
   "cell_type": "code",
   "execution_count": 38,
   "metadata": {},
   "outputs": [],
   "source": [
    "num_features = df.loc[:, df.columns.str.contains(\"num\")]"
   ]
  },
  {
   "cell_type": "code",
   "execution_count": 39,
   "metadata": {},
   "outputs": [
    {
     "data": {
      "text/html": [
       "<div>\n",
       "<style scoped>\n",
       "    .dataframe tbody tr th:only-of-type {\n",
       "        vertical-align: middle;\n",
       "    }\n",
       "\n",
       "    .dataframe tbody tr th {\n",
       "        vertical-align: top;\n",
       "    }\n",
       "\n",
       "    .dataframe thead th {\n",
       "        text-align: right;\n",
       "    }\n",
       "</style>\n",
       "<table border=\"1\" class=\"dataframe\">\n",
       "  <thead>\n",
       "    <tr style=\"text-align: right;\">\n",
       "      <th></th>\n",
       "      <th>num_bathroom</th>\n",
       "      <th>num_bedroom</th>\n",
       "      <th>num_bathroom_calc</th>\n",
       "      <th>num_fireplace</th>\n",
       "      <th>num_bath</th>\n",
       "      <th>num_garage</th>\n",
       "      <th>num_pool</th>\n",
       "      <th>num_room</th>\n",
       "      <th>num_75_bath</th>\n",
       "      <th>num_unit</th>\n",
       "      <th>num_story</th>\n",
       "    </tr>\n",
       "  </thead>\n",
       "  <tbody>\n",
       "    <tr>\n",
       "      <th>count</th>\n",
       "      <td>90275.000000</td>\n",
       "      <td>90275.000000</td>\n",
       "      <td>89093.000000</td>\n",
       "      <td>9607.000000</td>\n",
       "      <td>89093.000000</td>\n",
       "      <td>29937.000000</td>\n",
       "      <td>17901.0</td>\n",
       "      <td>90275.000000</td>\n",
       "      <td>12009.000000</td>\n",
       "      <td>58353.000000</td>\n",
       "      <td>20570.000000</td>\n",
       "    </tr>\n",
       "    <tr>\n",
       "      <th>mean</th>\n",
       "      <td>2.279474</td>\n",
       "      <td>3.031869</td>\n",
       "      <td>2.309216</td>\n",
       "      <td>1.187884</td>\n",
       "      <td>2.241231</td>\n",
       "      <td>1.812005</td>\n",
       "      <td>1.0</td>\n",
       "      <td>1.478516</td>\n",
       "      <td>1.008743</td>\n",
       "      <td>1.110414</td>\n",
       "      <td>1.440739</td>\n",
       "    </tr>\n",
       "    <tr>\n",
       "      <th>std</th>\n",
       "      <td>1.004271</td>\n",
       "      <td>1.156436</td>\n",
       "      <td>0.976172</td>\n",
       "      <td>0.484173</td>\n",
       "      <td>0.963142</td>\n",
       "      <td>0.608761</td>\n",
       "      <td>0.0</td>\n",
       "      <td>2.819627</td>\n",
       "      <td>0.100830</td>\n",
       "      <td>0.797235</td>\n",
       "      <td>0.544498</td>\n",
       "    </tr>\n",
       "    <tr>\n",
       "      <th>min</th>\n",
       "      <td>0.000000</td>\n",
       "      <td>0.000000</td>\n",
       "      <td>1.000000</td>\n",
       "      <td>1.000000</td>\n",
       "      <td>1.000000</td>\n",
       "      <td>0.000000</td>\n",
       "      <td>1.0</td>\n",
       "      <td>0.000000</td>\n",
       "      <td>1.000000</td>\n",
       "      <td>1.000000</td>\n",
       "      <td>1.000000</td>\n",
       "    </tr>\n",
       "    <tr>\n",
       "      <th>25%</th>\n",
       "      <td>2.000000</td>\n",
       "      <td>2.000000</td>\n",
       "      <td>2.000000</td>\n",
       "      <td>1.000000</td>\n",
       "      <td>2.000000</td>\n",
       "      <td>2.000000</td>\n",
       "      <td>1.0</td>\n",
       "      <td>0.000000</td>\n",
       "      <td>1.000000</td>\n",
       "      <td>1.000000</td>\n",
       "      <td>1.000000</td>\n",
       "    </tr>\n",
       "    <tr>\n",
       "      <th>50%</th>\n",
       "      <td>2.000000</td>\n",
       "      <td>3.000000</td>\n",
       "      <td>2.000000</td>\n",
       "      <td>1.000000</td>\n",
       "      <td>2.000000</td>\n",
       "      <td>2.000000</td>\n",
       "      <td>1.0</td>\n",
       "      <td>0.000000</td>\n",
       "      <td>1.000000</td>\n",
       "      <td>1.000000</td>\n",
       "      <td>1.000000</td>\n",
       "    </tr>\n",
       "    <tr>\n",
       "      <th>75%</th>\n",
       "      <td>3.000000</td>\n",
       "      <td>4.000000</td>\n",
       "      <td>3.000000</td>\n",
       "      <td>1.000000</td>\n",
       "      <td>3.000000</td>\n",
       "      <td>2.000000</td>\n",
       "      <td>1.0</td>\n",
       "      <td>0.000000</td>\n",
       "      <td>1.000000</td>\n",
       "      <td>1.000000</td>\n",
       "      <td>2.000000</td>\n",
       "    </tr>\n",
       "    <tr>\n",
       "      <th>max</th>\n",
       "      <td>20.000000</td>\n",
       "      <td>16.000000</td>\n",
       "      <td>20.000000</td>\n",
       "      <td>5.000000</td>\n",
       "      <td>20.000000</td>\n",
       "      <td>24.000000</td>\n",
       "      <td>1.0</td>\n",
       "      <td>18.000000</td>\n",
       "      <td>4.000000</td>\n",
       "      <td>143.000000</td>\n",
       "      <td>4.000000</td>\n",
       "    </tr>\n",
       "  </tbody>\n",
       "</table>\n",
       "</div>"
      ],
      "text/plain": [
       "       num_bathroom   num_bedroom  num_bathroom_calc  num_fireplace  \\\n",
       "count  90275.000000  90275.000000       89093.000000    9607.000000   \n",
       "mean       2.279474      3.031869           2.309216       1.187884   \n",
       "std        1.004271      1.156436           0.976172       0.484173   \n",
       "min        0.000000      0.000000           1.000000       1.000000   \n",
       "25%        2.000000      2.000000           2.000000       1.000000   \n",
       "50%        2.000000      3.000000           2.000000       1.000000   \n",
       "75%        3.000000      4.000000           3.000000       1.000000   \n",
       "max       20.000000     16.000000          20.000000       5.000000   \n",
       "\n",
       "           num_bath    num_garage  num_pool      num_room   num_75_bath  \\\n",
       "count  89093.000000  29937.000000   17901.0  90275.000000  12009.000000   \n",
       "mean       2.241231      1.812005       1.0      1.478516      1.008743   \n",
       "std        0.963142      0.608761       0.0      2.819627      0.100830   \n",
       "min        1.000000      0.000000       1.0      0.000000      1.000000   \n",
       "25%        2.000000      2.000000       1.0      0.000000      1.000000   \n",
       "50%        2.000000      2.000000       1.0      0.000000      1.000000   \n",
       "75%        3.000000      2.000000       1.0      0.000000      1.000000   \n",
       "max       20.000000     24.000000       1.0     18.000000      4.000000   \n",
       "\n",
       "           num_unit     num_story  \n",
       "count  58353.000000  20570.000000  \n",
       "mean       1.110414      1.440739  \n",
       "std        0.797235      0.544498  \n",
       "min        1.000000      1.000000  \n",
       "25%        1.000000      1.000000  \n",
       "50%        1.000000      1.000000  \n",
       "75%        1.000000      2.000000  \n",
       "max      143.000000      4.000000  "
      ]
     },
     "execution_count": 39,
     "metadata": {},
     "output_type": "execute_result"
    }
   ],
   "source": [
    "num_features.describe()"
   ]
  },
  {
   "cell_type": "markdown",
   "metadata": {},
   "source": [
    "The same remark with regard to outliers apply here. "
   ]
  },
  {
   "cell_type": "markdown",
   "metadata": {},
   "source": [
    "##### \"Tax Features\""
   ]
  },
  {
   "cell_type": "markdown",
   "metadata": {},
   "source": [
    "What is the distribution of the numerical features starting with \"tax\"?"
   ]
  },
  {
   "cell_type": "code",
   "execution_count": 40,
   "metadata": {},
   "outputs": [],
   "source": [
    "tax_features = df.loc[:, df.columns.str.contains(\"tax\")]"
   ]
  },
  {
   "cell_type": "code",
   "execution_count": 41,
   "metadata": {},
   "outputs": [
    {
     "data": {
      "text/html": [
       "<div>\n",
       "<style scoped>\n",
       "    .dataframe tbody tr th:only-of-type {\n",
       "        vertical-align: middle;\n",
       "    }\n",
       "\n",
       "    .dataframe tbody tr th {\n",
       "        vertical-align: top;\n",
       "    }\n",
       "\n",
       "    .dataframe thead th {\n",
       "        text-align: right;\n",
       "    }\n",
       "</style>\n",
       "<table border=\"1\" class=\"dataframe\">\n",
       "  <thead>\n",
       "    <tr style=\"text-align: right;\">\n",
       "      <th></th>\n",
       "      <th>tax_building</th>\n",
       "      <th>tax_total</th>\n",
       "      <th>tax_land</th>\n",
       "      <th>tax_property</th>\n",
       "      <th>tax_delinquency_year</th>\n",
       "    </tr>\n",
       "  </thead>\n",
       "  <tbody>\n",
       "    <tr>\n",
       "      <th>count</th>\n",
       "      <td>8.989500e+04</td>\n",
       "      <td>9.027400e+04</td>\n",
       "      <td>9.027400e+04</td>\n",
       "      <td>90269.000000</td>\n",
       "      <td>1783.000000</td>\n",
       "    </tr>\n",
       "    <tr>\n",
       "      <th>mean</th>\n",
       "      <td>1.800934e+05</td>\n",
       "      <td>4.576726e+05</td>\n",
       "      <td>2.783353e+05</td>\n",
       "      <td>5983.975927</td>\n",
       "      <td>13.402692</td>\n",
       "    </tr>\n",
       "    <tr>\n",
       "      <th>std</th>\n",
       "      <td>2.091299e+05</td>\n",
       "      <td>5.548844e+05</td>\n",
       "      <td>4.004955e+05</td>\n",
       "      <td>6838.876956</td>\n",
       "      <td>2.715966</td>\n",
       "    </tr>\n",
       "    <tr>\n",
       "      <th>min</th>\n",
       "      <td>1.000000e+02</td>\n",
       "      <td>2.200000e+01</td>\n",
       "      <td>2.200000e+01</td>\n",
       "      <td>49.080000</td>\n",
       "      <td>6.000000</td>\n",
       "    </tr>\n",
       "    <tr>\n",
       "      <th>25%</th>\n",
       "      <td>8.124500e+04</td>\n",
       "      <td>1.990232e+05</td>\n",
       "      <td>8.222800e+04</td>\n",
       "      <td>2872.830000</td>\n",
       "      <td>13.000000</td>\n",
       "    </tr>\n",
       "    <tr>\n",
       "      <th>50%</th>\n",
       "      <td>1.320000e+05</td>\n",
       "      <td>3.428720e+05</td>\n",
       "      <td>1.929700e+05</td>\n",
       "      <td>4542.750000</td>\n",
       "      <td>14.000000</td>\n",
       "    </tr>\n",
       "    <tr>\n",
       "      <th>75%</th>\n",
       "      <td>2.105345e+05</td>\n",
       "      <td>5.405890e+05</td>\n",
       "      <td>3.454195e+05</td>\n",
       "      <td>6901.090000</td>\n",
       "      <td>15.000000</td>\n",
       "    </tr>\n",
       "    <tr>\n",
       "      <th>max</th>\n",
       "      <td>9.948100e+06</td>\n",
       "      <td>2.775000e+07</td>\n",
       "      <td>2.450000e+07</td>\n",
       "      <td>321936.090000</td>\n",
       "      <td>99.000000</td>\n",
       "    </tr>\n",
       "  </tbody>\n",
       "</table>\n",
       "</div>"
      ],
      "text/plain": [
       "       tax_building     tax_total      tax_land   tax_property  \\\n",
       "count  8.989500e+04  9.027400e+04  9.027400e+04   90269.000000   \n",
       "mean   1.800934e+05  4.576726e+05  2.783353e+05    5983.975927   \n",
       "std    2.091299e+05  5.548844e+05  4.004955e+05    6838.876956   \n",
       "min    1.000000e+02  2.200000e+01  2.200000e+01      49.080000   \n",
       "25%    8.124500e+04  1.990232e+05  8.222800e+04    2872.830000   \n",
       "50%    1.320000e+05  3.428720e+05  1.929700e+05    4542.750000   \n",
       "75%    2.105345e+05  5.405890e+05  3.454195e+05    6901.090000   \n",
       "max    9.948100e+06  2.775000e+07  2.450000e+07  321936.090000   \n",
       "\n",
       "       tax_delinquency_year  \n",
       "count           1783.000000  \n",
       "mean              13.402692  \n",
       "std                2.715966  \n",
       "min                6.000000  \n",
       "25%               13.000000  \n",
       "50%               14.000000  \n",
       "75%               15.000000  \n",
       "max               99.000000  "
      ]
     },
     "execution_count": 41,
     "metadata": {},
     "output_type": "execute_result"
    }
   ],
   "source": [
    "tax_features.describe()"
   ]
  },
  {
   "cell_type": "markdown",
   "metadata": {},
   "source": [
    "##### \"Other\" Features"
   ]
  },
  {
   "cell_type": "markdown",
   "metadata": {},
   "source": [
    "What is the distribution of the other features?"
   ]
  },
  {
   "cell_type": "code",
   "execution_count": 42,
   "metadata": {},
   "outputs": [],
   "source": [
    "area_num_tax_dates_features_cols = list(area_features.columns) \\\n",
    "                    + list(num_features.columns) \\\n",
    "                    + list(tax_features.columns) \\\n",
    "                    + list(dates_features.columns)"
   ]
  },
  {
   "cell_type": "code",
   "execution_count": 43,
   "metadata": {},
   "outputs": [
    {
     "data": {
      "text/plain": [
       "['parcel_id',\n",
       " 'logerror',\n",
       " 'aircon',\n",
       " 'architectural_style',\n",
       " 'framing',\n",
       " 'quality',\n",
       " 'deck',\n",
       " 'fips',\n",
       " 'flag_tub',\n",
       " 'heating',\n",
       " 'latitude',\n",
       " 'longitude',\n",
       " 'pooltypeid10',\n",
       " 'pooltypeid2',\n",
       " 'pooltypeid7',\n",
       " 'zoning_landuse_county',\n",
       " 'zoning_landuse',\n",
       " 'zoning_property',\n",
       " 'rawcensustractandblock',\n",
       " 'region_city',\n",
       " 'region_county',\n",
       " 'region_neighbor',\n",
       " 'region_zip',\n",
       " 'story',\n",
       " 'material',\n",
       " 'flag_fireplace',\n",
       " 'censustractandblock']"
      ]
     },
     "execution_count": 43,
     "metadata": {},
     "output_type": "execute_result"
    }
   ],
   "source": [
    "other_features = df.loc[:, ~df.columns.isin(area_num_tax_dates_features_cols)]\n",
    "list(other_features.columns)"
   ]
  },
  {
   "cell_type": "code",
   "execution_count": 44,
   "metadata": {},
   "outputs": [
    {
     "data": {
      "text/html": [
       "<div>\n",
       "<style scoped>\n",
       "    .dataframe tbody tr th:only-of-type {\n",
       "        vertical-align: middle;\n",
       "    }\n",
       "\n",
       "    .dataframe tbody tr th {\n",
       "        vertical-align: top;\n",
       "    }\n",
       "\n",
       "    .dataframe thead th {\n",
       "        text-align: right;\n",
       "    }\n",
       "</style>\n",
       "<table border=\"1\" class=\"dataframe\">\n",
       "  <thead>\n",
       "    <tr style=\"text-align: right;\">\n",
       "      <th></th>\n",
       "      <th>parcel_id</th>\n",
       "      <th>logerror</th>\n",
       "      <th>aircon</th>\n",
       "      <th>architectural_style</th>\n",
       "      <th>framing</th>\n",
       "      <th>quality</th>\n",
       "      <th>deck</th>\n",
       "      <th>fips</th>\n",
       "      <th>heating</th>\n",
       "      <th>latitude</th>\n",
       "      <th>...</th>\n",
       "      <th>pooltypeid7</th>\n",
       "      <th>zoning_landuse</th>\n",
       "      <th>rawcensustractandblock</th>\n",
       "      <th>region_city</th>\n",
       "      <th>region_county</th>\n",
       "      <th>region_neighbor</th>\n",
       "      <th>region_zip</th>\n",
       "      <th>story</th>\n",
       "      <th>material</th>\n",
       "      <th>censustractandblock</th>\n",
       "    </tr>\n",
       "  </thead>\n",
       "  <tbody>\n",
       "    <tr>\n",
       "      <th>count</th>\n",
       "      <td>9.027500e+04</td>\n",
       "      <td>90275.000000</td>\n",
       "      <td>28781.000000</td>\n",
       "      <td>261.000000</td>\n",
       "      <td>16.0</td>\n",
       "      <td>57364.000000</td>\n",
       "      <td>658.0</td>\n",
       "      <td>90275.000000</td>\n",
       "      <td>56080.000000</td>\n",
       "      <td>9.027500e+04</td>\n",
       "      <td>...</td>\n",
       "      <td>16697.0</td>\n",
       "      <td>90275.000000</td>\n",
       "      <td>9.027500e+04</td>\n",
       "      <td>88472.000000</td>\n",
       "      <td>90275.000000</td>\n",
       "      <td>36012.000000</td>\n",
       "      <td>90240.000000</td>\n",
       "      <td>43.0</td>\n",
       "      <td>299.000000</td>\n",
       "      <td>8.967000e+04</td>\n",
       "    </tr>\n",
       "    <tr>\n",
       "      <th>mean</th>\n",
       "      <td>1.298466e+07</td>\n",
       "      <td>0.011457</td>\n",
       "      <td>1.816372</td>\n",
       "      <td>7.229885</td>\n",
       "      <td>4.0</td>\n",
       "      <td>5.565407</td>\n",
       "      <td>66.0</td>\n",
       "      <td>6048.870551</td>\n",
       "      <td>3.926979</td>\n",
       "      <td>3.400541e+07</td>\n",
       "      <td>...</td>\n",
       "      <td>1.0</td>\n",
       "      <td>261.832179</td>\n",
       "      <td>6.049179e+07</td>\n",
       "      <td>33761.332851</td>\n",
       "      <td>2525.420770</td>\n",
       "      <td>190646.540237</td>\n",
       "      <td>96586.131184</td>\n",
       "      <td>7.0</td>\n",
       "      <td>6.010033</td>\n",
       "      <td>6.049151e+13</td>\n",
       "    </tr>\n",
       "    <tr>\n",
       "      <th>std</th>\n",
       "      <td>2.504510e+06</td>\n",
       "      <td>0.161079</td>\n",
       "      <td>2.974168</td>\n",
       "      <td>2.716196</td>\n",
       "      <td>0.0</td>\n",
       "      <td>1.900602</td>\n",
       "      <td>0.0</td>\n",
       "      <td>20.663461</td>\n",
       "      <td>3.684382</td>\n",
       "      <td>2.649654e+05</td>\n",
       "      <td>...</td>\n",
       "      <td>0.0</td>\n",
       "      <td>5.182901</td>\n",
       "      <td>2.050549e+05</td>\n",
       "      <td>46672.393863</td>\n",
       "      <td>805.694842</td>\n",
       "      <td>166228.910572</td>\n",
       "      <td>3661.339094</td>\n",
       "      <td>0.0</td>\n",
       "      <td>0.437235</td>\n",
       "      <td>2.046605e+11</td>\n",
       "    </tr>\n",
       "    <tr>\n",
       "      <th>min</th>\n",
       "      <td>1.071174e+07</td>\n",
       "      <td>-4.605000</td>\n",
       "      <td>1.000000</td>\n",
       "      <td>2.000000</td>\n",
       "      <td>4.0</td>\n",
       "      <td>1.000000</td>\n",
       "      <td>66.0</td>\n",
       "      <td>6037.000000</td>\n",
       "      <td>1.000000</td>\n",
       "      <td>3.333930e+07</td>\n",
       "      <td>...</td>\n",
       "      <td>1.0</td>\n",
       "      <td>31.000000</td>\n",
       "      <td>6.037101e+07</td>\n",
       "      <td>3491.000000</td>\n",
       "      <td>1286.000000</td>\n",
       "      <td>6952.000000</td>\n",
       "      <td>95982.000000</td>\n",
       "      <td>7.0</td>\n",
       "      <td>4.000000</td>\n",
       "      <td>6.037101e+13</td>\n",
       "    </tr>\n",
       "    <tr>\n",
       "      <th>25%</th>\n",
       "      <td>1.155950e+07</td>\n",
       "      <td>-0.025300</td>\n",
       "      <td>1.000000</td>\n",
       "      <td>7.000000</td>\n",
       "      <td>4.0</td>\n",
       "      <td>4.000000</td>\n",
       "      <td>66.0</td>\n",
       "      <td>6037.000000</td>\n",
       "      <td>2.000000</td>\n",
       "      <td>3.381154e+07</td>\n",
       "      <td>...</td>\n",
       "      <td>1.0</td>\n",
       "      <td>261.000000</td>\n",
       "      <td>6.037320e+07</td>\n",
       "      <td>12447.000000</td>\n",
       "      <td>1286.000000</td>\n",
       "      <td>46736.000000</td>\n",
       "      <td>96193.000000</td>\n",
       "      <td>7.0</td>\n",
       "      <td>6.000000</td>\n",
       "      <td>6.037320e+13</td>\n",
       "    </tr>\n",
       "    <tr>\n",
       "      <th>50%</th>\n",
       "      <td>1.254734e+07</td>\n",
       "      <td>0.006000</td>\n",
       "      <td>1.000000</td>\n",
       "      <td>7.000000</td>\n",
       "      <td>4.0</td>\n",
       "      <td>7.000000</td>\n",
       "      <td>66.0</td>\n",
       "      <td>6037.000000</td>\n",
       "      <td>2.000000</td>\n",
       "      <td>3.402150e+07</td>\n",
       "      <td>...</td>\n",
       "      <td>1.0</td>\n",
       "      <td>261.000000</td>\n",
       "      <td>6.037620e+07</td>\n",
       "      <td>25218.000000</td>\n",
       "      <td>3101.000000</td>\n",
       "      <td>118887.000000</td>\n",
       "      <td>96393.000000</td>\n",
       "      <td>7.0</td>\n",
       "      <td>6.000000</td>\n",
       "      <td>6.037615e+13</td>\n",
       "    </tr>\n",
       "    <tr>\n",
       "      <th>75%</th>\n",
       "      <td>1.422755e+07</td>\n",
       "      <td>0.039200</td>\n",
       "      <td>1.000000</td>\n",
       "      <td>7.000000</td>\n",
       "      <td>4.0</td>\n",
       "      <td>7.000000</td>\n",
       "      <td>66.0</td>\n",
       "      <td>6059.000000</td>\n",
       "      <td>7.000000</td>\n",
       "      <td>3.417274e+07</td>\n",
       "      <td>...</td>\n",
       "      <td>1.0</td>\n",
       "      <td>266.000000</td>\n",
       "      <td>6.059042e+07</td>\n",
       "      <td>45457.000000</td>\n",
       "      <td>3101.000000</td>\n",
       "      <td>274800.000000</td>\n",
       "      <td>96987.000000</td>\n",
       "      <td>7.0</td>\n",
       "      <td>6.000000</td>\n",
       "      <td>6.059042e+13</td>\n",
       "    </tr>\n",
       "    <tr>\n",
       "      <th>max</th>\n",
       "      <td>1.629608e+08</td>\n",
       "      <td>4.737000</td>\n",
       "      <td>13.000000</td>\n",
       "      <td>21.000000</td>\n",
       "      <td>4.0</td>\n",
       "      <td>12.000000</td>\n",
       "      <td>66.0</td>\n",
       "      <td>6111.000000</td>\n",
       "      <td>24.000000</td>\n",
       "      <td>3.481601e+07</td>\n",
       "      <td>...</td>\n",
       "      <td>1.0</td>\n",
       "      <td>275.000000</td>\n",
       "      <td>6.111009e+07</td>\n",
       "      <td>396556.000000</td>\n",
       "      <td>3101.000000</td>\n",
       "      <td>764167.000000</td>\n",
       "      <td>399675.000000</td>\n",
       "      <td>7.0</td>\n",
       "      <td>13.000000</td>\n",
       "      <td>6.111009e+13</td>\n",
       "    </tr>\n",
       "  </tbody>\n",
       "</table>\n",
       "<p>8 rows × 23 columns</p>\n",
       "</div>"
      ],
      "text/plain": [
       "          parcel_id      logerror        aircon  architectural_style  framing  \\\n",
       "count  9.027500e+04  90275.000000  28781.000000           261.000000     16.0   \n",
       "mean   1.298466e+07      0.011457      1.816372             7.229885      4.0   \n",
       "std    2.504510e+06      0.161079      2.974168             2.716196      0.0   \n",
       "min    1.071174e+07     -4.605000      1.000000             2.000000      4.0   \n",
       "25%    1.155950e+07     -0.025300      1.000000             7.000000      4.0   \n",
       "50%    1.254734e+07      0.006000      1.000000             7.000000      4.0   \n",
       "75%    1.422755e+07      0.039200      1.000000             7.000000      4.0   \n",
       "max    1.629608e+08      4.737000     13.000000            21.000000      4.0   \n",
       "\n",
       "            quality   deck          fips       heating      latitude  \\\n",
       "count  57364.000000  658.0  90275.000000  56080.000000  9.027500e+04   \n",
       "mean       5.565407   66.0   6048.870551      3.926979  3.400541e+07   \n",
       "std        1.900602    0.0     20.663461      3.684382  2.649654e+05   \n",
       "min        1.000000   66.0   6037.000000      1.000000  3.333930e+07   \n",
       "25%        4.000000   66.0   6037.000000      2.000000  3.381154e+07   \n",
       "50%        7.000000   66.0   6037.000000      2.000000  3.402150e+07   \n",
       "75%        7.000000   66.0   6059.000000      7.000000  3.417274e+07   \n",
       "max       12.000000   66.0   6111.000000     24.000000  3.481601e+07   \n",
       "\n",
       "              ...           pooltypeid7  zoning_landuse  \\\n",
       "count         ...               16697.0    90275.000000   \n",
       "mean          ...                   1.0      261.832179   \n",
       "std           ...                   0.0        5.182901   \n",
       "min           ...                   1.0       31.000000   \n",
       "25%           ...                   1.0      261.000000   \n",
       "50%           ...                   1.0      261.000000   \n",
       "75%           ...                   1.0      266.000000   \n",
       "max           ...                   1.0      275.000000   \n",
       "\n",
       "       rawcensustractandblock    region_city  region_county  region_neighbor  \\\n",
       "count            9.027500e+04   88472.000000   90275.000000     36012.000000   \n",
       "mean             6.049179e+07   33761.332851    2525.420770    190646.540237   \n",
       "std              2.050549e+05   46672.393863     805.694842    166228.910572   \n",
       "min              6.037101e+07    3491.000000    1286.000000      6952.000000   \n",
       "25%              6.037320e+07   12447.000000    1286.000000     46736.000000   \n",
       "50%              6.037620e+07   25218.000000    3101.000000    118887.000000   \n",
       "75%              6.059042e+07   45457.000000    3101.000000    274800.000000   \n",
       "max              6.111009e+07  396556.000000    3101.000000    764167.000000   \n",
       "\n",
       "          region_zip  story    material  censustractandblock  \n",
       "count   90240.000000   43.0  299.000000         8.967000e+04  \n",
       "mean    96586.131184    7.0    6.010033         6.049151e+13  \n",
       "std      3661.339094    0.0    0.437235         2.046605e+11  \n",
       "min     95982.000000    7.0    4.000000         6.037101e+13  \n",
       "25%     96193.000000    7.0    6.000000         6.037320e+13  \n",
       "50%     96393.000000    7.0    6.000000         6.037615e+13  \n",
       "75%     96987.000000    7.0    6.000000         6.059042e+13  \n",
       "max    399675.000000    7.0   13.000000         6.111009e+13  \n",
       "\n",
       "[8 rows x 23 columns]"
      ]
     },
     "execution_count": 44,
     "metadata": {},
     "output_type": "execute_result"
    }
   ],
   "source": [
    "other_features.describe()"
   ]
  },
  {
   "cell_type": "markdown",
   "metadata": {},
   "source": [
    "## Wrangle, Prepare and Cleanse the Data"
   ]
  },
  {
   "cell_type": "markdown",
   "metadata": {},
   "source": [
    "### Missing Values"
   ]
  },
  {
   "cell_type": "markdown",
   "metadata": {},
   "source": [
    "Let's see the distribution of missing values across features."
   ]
  },
  {
   "cell_type": "code",
   "execution_count": 45,
   "metadata": {},
   "outputs": [],
   "source": [
    "# create a dataframe of missing values\n",
    "missing_values_df = pd.DataFrame({'missing_values': df.isnull()\\\n",
    "                                                      .sum(), \\\n",
    "                                  'prop_missing_values': df.isnull()\\\n",
    "                                                           .mean()\\\n",
    "                                                           .round(4)*100\n",
    "                                 }) \\\n",
    ".sort_values(by = 'prop_missing_values', ascending = False)"
   ]
  },
  {
   "cell_type": "code",
   "execution_count": 46,
   "metadata": {},
   "outputs": [],
   "source": [
    "missing_values_df.index.name = 'features'"
   ]
  },
  {
   "cell_type": "code",
   "execution_count": 47,
   "metadata": {},
   "outputs": [
    {
     "data": {
      "text/html": [
       "<div>\n",
       "<style scoped>\n",
       "    .dataframe tbody tr th:only-of-type {\n",
       "        vertical-align: middle;\n",
       "    }\n",
       "\n",
       "    .dataframe tbody tr th {\n",
       "        vertical-align: top;\n",
       "    }\n",
       "\n",
       "    .dataframe thead th {\n",
       "        text-align: right;\n",
       "    }\n",
       "</style>\n",
       "<table border=\"1\" class=\"dataframe\">\n",
       "  <thead>\n",
       "    <tr style=\"text-align: right;\">\n",
       "      <th></th>\n",
       "      <th>missing_values</th>\n",
       "      <th>prop_missing_values</th>\n",
       "    </tr>\n",
       "    <tr>\n",
       "      <th>features</th>\n",
       "      <th></th>\n",
       "      <th></th>\n",
       "    </tr>\n",
       "  </thead>\n",
       "  <tbody>\n",
       "    <tr>\n",
       "      <th>framing</th>\n",
       "      <td>90259</td>\n",
       "      <td>99.98</td>\n",
       "    </tr>\n",
       "    <tr>\n",
       "      <th>area_liveperi_finished</th>\n",
       "      <td>90242</td>\n",
       "      <td>99.96</td>\n",
       "    </tr>\n",
       "    <tr>\n",
       "      <th>story</th>\n",
       "      <td>90232</td>\n",
       "      <td>99.95</td>\n",
       "    </tr>\n",
       "    <tr>\n",
       "      <th>area_basement</th>\n",
       "      <td>90232</td>\n",
       "      <td>99.95</td>\n",
       "    </tr>\n",
       "    <tr>\n",
       "      <th>area_shed</th>\n",
       "      <td>90180</td>\n",
       "      <td>99.89</td>\n",
       "    </tr>\n",
       "    <tr>\n",
       "      <th>flag_fireplace</th>\n",
       "      <td>90053</td>\n",
       "      <td>99.75</td>\n",
       "    </tr>\n",
       "    <tr>\n",
       "      <th>architectural_style</th>\n",
       "      <td>90014</td>\n",
       "      <td>99.71</td>\n",
       "    </tr>\n",
       "    <tr>\n",
       "      <th>material</th>\n",
       "      <td>89976</td>\n",
       "      <td>99.67</td>\n",
       "    </tr>\n",
       "    <tr>\n",
       "      <th>area_base</th>\n",
       "      <td>89854</td>\n",
       "      <td>99.53</td>\n",
       "    </tr>\n",
       "    <tr>\n",
       "      <th>deck</th>\n",
       "      <td>89617</td>\n",
       "      <td>99.27</td>\n",
       "    </tr>\n",
       "    <tr>\n",
       "      <th>area_pool</th>\n",
       "      <td>89306</td>\n",
       "      <td>98.93</td>\n",
       "    </tr>\n",
       "    <tr>\n",
       "      <th>pooltypeid10</th>\n",
       "      <td>89114</td>\n",
       "      <td>98.71</td>\n",
       "    </tr>\n",
       "    <tr>\n",
       "      <th>pooltypeid2</th>\n",
       "      <td>89071</td>\n",
       "      <td>98.67</td>\n",
       "    </tr>\n",
       "    <tr>\n",
       "      <th>tax_delinquency_flag</th>\n",
       "      <td>88492</td>\n",
       "      <td>98.02</td>\n",
       "    </tr>\n",
       "    <tr>\n",
       "      <th>tax_delinquency_year</th>\n",
       "      <td>88492</td>\n",
       "      <td>98.02</td>\n",
       "    </tr>\n",
       "    <tr>\n",
       "      <th>flag_tub</th>\n",
       "      <td>87910</td>\n",
       "      <td>97.38</td>\n",
       "    </tr>\n",
       "    <tr>\n",
       "      <th>area_patio</th>\n",
       "      <td>87629</td>\n",
       "      <td>97.07</td>\n",
       "    </tr>\n",
       "    <tr>\n",
       "      <th>area_total_finished</th>\n",
       "      <td>86711</td>\n",
       "      <td>96.05</td>\n",
       "    </tr>\n",
       "    <tr>\n",
       "      <th>area_firstfloor_finished</th>\n",
       "      <td>83419</td>\n",
       "      <td>92.41</td>\n",
       "    </tr>\n",
       "    <tr>\n",
       "      <th>area_unknown</th>\n",
       "      <td>83419</td>\n",
       "      <td>92.41</td>\n",
       "    </tr>\n",
       "    <tr>\n",
       "      <th>num_fireplace</th>\n",
       "      <td>80668</td>\n",
       "      <td>89.36</td>\n",
       "    </tr>\n",
       "    <tr>\n",
       "      <th>num_75_bath</th>\n",
       "      <td>78266</td>\n",
       "      <td>86.70</td>\n",
       "    </tr>\n",
       "    <tr>\n",
       "      <th>pooltypeid7</th>\n",
       "      <td>73578</td>\n",
       "      <td>81.50</td>\n",
       "    </tr>\n",
       "    <tr>\n",
       "      <th>num_pool</th>\n",
       "      <td>72374</td>\n",
       "      <td>80.17</td>\n",
       "    </tr>\n",
       "    <tr>\n",
       "      <th>num_story</th>\n",
       "      <td>69705</td>\n",
       "      <td>77.21</td>\n",
       "    </tr>\n",
       "    <tr>\n",
       "      <th>aircon</th>\n",
       "      <td>61494</td>\n",
       "      <td>68.12</td>\n",
       "    </tr>\n",
       "    <tr>\n",
       "      <th>area_garage</th>\n",
       "      <td>60338</td>\n",
       "      <td>66.84</td>\n",
       "    </tr>\n",
       "    <tr>\n",
       "      <th>num_garage</th>\n",
       "      <td>60338</td>\n",
       "      <td>66.84</td>\n",
       "    </tr>\n",
       "    <tr>\n",
       "      <th>region_neighbor</th>\n",
       "      <td>54263</td>\n",
       "      <td>60.11</td>\n",
       "    </tr>\n",
       "    <tr>\n",
       "      <th>heating</th>\n",
       "      <td>34195</td>\n",
       "      <td>37.88</td>\n",
       "    </tr>\n",
       "    <tr>\n",
       "      <th>quality</th>\n",
       "      <td>32911</td>\n",
       "      <td>36.46</td>\n",
       "    </tr>\n",
       "    <tr>\n",
       "      <th>zoning_property</th>\n",
       "      <td>31962</td>\n",
       "      <td>35.41</td>\n",
       "    </tr>\n",
       "    <tr>\n",
       "      <th>num_unit</th>\n",
       "      <td>31922</td>\n",
       "      <td>35.36</td>\n",
       "    </tr>\n",
       "    <tr>\n",
       "      <th>area_lot</th>\n",
       "      <td>10150</td>\n",
       "      <td>11.24</td>\n",
       "    </tr>\n",
       "    <tr>\n",
       "      <th>area_live_finished</th>\n",
       "      <td>4679</td>\n",
       "      <td>5.18</td>\n",
       "    </tr>\n",
       "    <tr>\n",
       "      <th>region_city</th>\n",
       "      <td>1803</td>\n",
       "      <td>2.00</td>\n",
       "    </tr>\n",
       "    <tr>\n",
       "      <th>num_bath</th>\n",
       "      <td>1182</td>\n",
       "      <td>1.31</td>\n",
       "    </tr>\n",
       "    <tr>\n",
       "      <th>num_bathroom_calc</th>\n",
       "      <td>1182</td>\n",
       "      <td>1.31</td>\n",
       "    </tr>\n",
       "    <tr>\n",
       "      <th>build_year</th>\n",
       "      <td>756</td>\n",
       "      <td>0.84</td>\n",
       "    </tr>\n",
       "    <tr>\n",
       "      <th>area_total_calc</th>\n",
       "      <td>661</td>\n",
       "      <td>0.73</td>\n",
       "    </tr>\n",
       "    <tr>\n",
       "      <th>censustractandblock</th>\n",
       "      <td>605</td>\n",
       "      <td>0.67</td>\n",
       "    </tr>\n",
       "    <tr>\n",
       "      <th>tax_building</th>\n",
       "      <td>380</td>\n",
       "      <td>0.42</td>\n",
       "    </tr>\n",
       "    <tr>\n",
       "      <th>region_zip</th>\n",
       "      <td>35</td>\n",
       "      <td>0.04</td>\n",
       "    </tr>\n",
       "    <tr>\n",
       "      <th>tax_property</th>\n",
       "      <td>6</td>\n",
       "      <td>0.01</td>\n",
       "    </tr>\n",
       "    <tr>\n",
       "      <th>num_room</th>\n",
       "      <td>0</td>\n",
       "      <td>0.00</td>\n",
       "    </tr>\n",
       "    <tr>\n",
       "      <th>transaction_date</th>\n",
       "      <td>0</td>\n",
       "      <td>0.00</td>\n",
       "    </tr>\n",
       "    <tr>\n",
       "      <th>num_bathroom</th>\n",
       "      <td>0</td>\n",
       "      <td>0.00</td>\n",
       "    </tr>\n",
       "    <tr>\n",
       "      <th>tax_land</th>\n",
       "      <td>1</td>\n",
       "      <td>0.00</td>\n",
       "    </tr>\n",
       "    <tr>\n",
       "      <th>tax_total</th>\n",
       "      <td>1</td>\n",
       "      <td>0.00</td>\n",
       "    </tr>\n",
       "    <tr>\n",
       "      <th>num_bedroom</th>\n",
       "      <td>0</td>\n",
       "      <td>0.00</td>\n",
       "    </tr>\n",
       "    <tr>\n",
       "      <th>fips</th>\n",
       "      <td>0</td>\n",
       "      <td>0.00</td>\n",
       "    </tr>\n",
       "    <tr>\n",
       "      <th>latitude</th>\n",
       "      <td>0</td>\n",
       "      <td>0.00</td>\n",
       "    </tr>\n",
       "    <tr>\n",
       "      <th>longitude</th>\n",
       "      <td>0</td>\n",
       "      <td>0.00</td>\n",
       "    </tr>\n",
       "    <tr>\n",
       "      <th>logerror</th>\n",
       "      <td>0</td>\n",
       "      <td>0.00</td>\n",
       "    </tr>\n",
       "    <tr>\n",
       "      <th>zoning_landuse_county</th>\n",
       "      <td>1</td>\n",
       "      <td>0.00</td>\n",
       "    </tr>\n",
       "    <tr>\n",
       "      <th>zoning_landuse</th>\n",
       "      <td>0</td>\n",
       "      <td>0.00</td>\n",
       "    </tr>\n",
       "    <tr>\n",
       "      <th>rawcensustractandblock</th>\n",
       "      <td>0</td>\n",
       "      <td>0.00</td>\n",
       "    </tr>\n",
       "    <tr>\n",
       "      <th>region_county</th>\n",
       "      <td>0</td>\n",
       "      <td>0.00</td>\n",
       "    </tr>\n",
       "    <tr>\n",
       "      <th>parcel_id</th>\n",
       "      <td>0</td>\n",
       "      <td>0.00</td>\n",
       "    </tr>\n",
       "  </tbody>\n",
       "</table>\n",
       "</div>"
      ],
      "text/plain": [
       "                          missing_values  prop_missing_values\n",
       "features                                                     \n",
       "framing                            90259                99.98\n",
       "area_liveperi_finished             90242                99.96\n",
       "story                              90232                99.95\n",
       "area_basement                      90232                99.95\n",
       "area_shed                          90180                99.89\n",
       "flag_fireplace                     90053                99.75\n",
       "architectural_style                90014                99.71\n",
       "material                           89976                99.67\n",
       "area_base                          89854                99.53\n",
       "deck                               89617                99.27\n",
       "area_pool                          89306                98.93\n",
       "pooltypeid10                       89114                98.71\n",
       "pooltypeid2                        89071                98.67\n",
       "tax_delinquency_flag               88492                98.02\n",
       "tax_delinquency_year               88492                98.02\n",
       "flag_tub                           87910                97.38\n",
       "area_patio                         87629                97.07\n",
       "area_total_finished                86711                96.05\n",
       "area_firstfloor_finished           83419                92.41\n",
       "area_unknown                       83419                92.41\n",
       "num_fireplace                      80668                89.36\n",
       "num_75_bath                        78266                86.70\n",
       "pooltypeid7                        73578                81.50\n",
       "num_pool                           72374                80.17\n",
       "num_story                          69705                77.21\n",
       "aircon                             61494                68.12\n",
       "area_garage                        60338                66.84\n",
       "num_garage                         60338                66.84\n",
       "region_neighbor                    54263                60.11\n",
       "heating                            34195                37.88\n",
       "quality                            32911                36.46\n",
       "zoning_property                    31962                35.41\n",
       "num_unit                           31922                35.36\n",
       "area_lot                           10150                11.24\n",
       "area_live_finished                  4679                 5.18\n",
       "region_city                         1803                 2.00\n",
       "num_bath                            1182                 1.31\n",
       "num_bathroom_calc                   1182                 1.31\n",
       "build_year                           756                 0.84\n",
       "area_total_calc                      661                 0.73\n",
       "censustractandblock                  605                 0.67\n",
       "tax_building                         380                 0.42\n",
       "region_zip                            35                 0.04\n",
       "tax_property                           6                 0.01\n",
       "num_room                               0                 0.00\n",
       "transaction_date                       0                 0.00\n",
       "num_bathroom                           0                 0.00\n",
       "tax_land                               1                 0.00\n",
       "tax_total                              1                 0.00\n",
       "num_bedroom                            0                 0.00\n",
       "fips                                   0                 0.00\n",
       "latitude                               0                 0.00\n",
       "longitude                              0                 0.00\n",
       "logerror                               0                 0.00\n",
       "zoning_landuse_county                  1                 0.00\n",
       "zoning_landuse                         0                 0.00\n",
       "rawcensustractandblock                 0                 0.00\n",
       "region_county                          0                 0.00\n",
       "parcel_id                              0                 0.00"
      ]
     },
     "execution_count": 47,
     "metadata": {},
     "output_type": "execute_result"
    }
   ],
   "source": [
    "missing_values_df"
   ]
  },
  {
   "cell_type": "markdown",
   "metadata": {},
   "source": [
    "We can plot the above table as well to have a better understanding of the missing values distribution amongst features."
   ]
  },
  {
   "cell_type": "code",
   "execution_count": 48,
   "metadata": {},
   "outputs": [
    {
     "data": {
      "text/plain": [
       "(<Figure size 432x1080 with 1 Axes>,\n",
       " <matplotlib.axes._subplots.AxesSubplot at 0x10fc5ba90>)"
      ]
     },
     "execution_count": 48,
     "metadata": {},
     "output_type": "execute_result"
    },
    {
     "data": {
      "text/plain": [
       "[Text(0,0.5,'features'), Text(0.5,0,'proportion of missing values')]"
      ]
     },
     "execution_count": 48,
     "metadata": {},
     "output_type": "execute_result"
    },
    {
     "data": {
      "text/plain": [
       "Text(0.5,1,'Proportion of Missing Values per Feature')"
      ]
     },
     "execution_count": 48,
     "metadata": {},
     "output_type": "execute_result"
    },
    {
     "data": {
      "image/png": "[encoded data removed]",
      "text/plain": [
       "<Figure size 432x1080 with 1 Axes>"
      ]
     },
     "metadata": {},
     "output_type": "display_data"
    }
   ],
   "source": [
    "# sns.set_context(\"paper\", rc={\"figure.figsize\":(8,6), \"font.size\":10,\"axes.titlesize\":20,\"axes.labelsize\":15})  \n",
    "\n",
    "# set an appropriate figure size\n",
    "plt.subplots(figsize=(6, 15))\n",
    "\n",
    "# barplot\n",
    "ax = sns.barplot(x=\"prop_missing_values\", \n",
    "            y=\"features\", \n",
    "            data= missing_values_df.reset_index().sort_values(by = 'prop_missing_values', ascending=True),\n",
    "            label=\"prop_missing_values\", \n",
    "            color=\"b\")\n",
    "\n",
    "\n",
    "\n",
    "# set axis labels\n",
    "ax.set(xlabel='proportion of missing values', ylabel='features')\n",
    "\n",
    "# set title\n",
    "ax.set_title(\"Proportion of Missing Values per Feature\", fontsize = 15)\n"
   ]
  },
  {
   "cell_type": "markdown",
   "metadata": {},
   "source": [
    "It is not necessary to keep all the features, especially the ones with a high percentage of missing values. Keeping them would imply we would need to do some imputation and imputation introduces artificial (and maybe unreliable) information in the dataset.\n",
    "\n",
    "Here we decide to keep features that have less than 75% missing values. "
   ]
  },
  {
   "cell_type": "code",
   "execution_count": 49,
   "metadata": {},
   "outputs": [
    {
     "data": {
      "text/plain": [
       "['aircon',\n",
       " 'area_garage',\n",
       " 'area_live_finished',\n",
       " 'area_lot',\n",
       " 'area_total_calc',\n",
       " 'build_year',\n",
       " 'censustractandblock',\n",
       " 'fips',\n",
       " 'heating',\n",
       " 'latitude',\n",
       " 'logerror',\n",
       " 'longitude',\n",
       " 'num_bath',\n",
       " 'num_bathroom',\n",
       " 'num_bathroom_calc',\n",
       " 'num_bedroom',\n",
       " 'num_garage',\n",
       " 'num_room',\n",
       " 'num_unit',\n",
       " 'parcel_id',\n",
       " 'quality',\n",
       " 'rawcensustractandblock',\n",
       " 'region_city',\n",
       " 'region_county',\n",
       " 'region_neighbor',\n",
       " 'region_zip',\n",
       " 'tax_building',\n",
       " 'tax_land',\n",
       " 'tax_property',\n",
       " 'tax_total',\n",
       " 'transaction_date',\n",
       " 'zoning_landuse',\n",
       " 'zoning_landuse_county',\n",
       " 'zoning_property']"
      ]
     },
     "execution_count": 49,
     "metadata": {},
     "output_type": "execute_result"
    }
   ],
   "source": [
    "features_to_keep = list(missing_values_df[missing_values_df['prop_missing_values'] < 75].index)\n",
    "sorted(features_to_keep)"
   ]
  },
  {
   "cell_type": "markdown",
   "metadata": {},
   "source": [
    "This leaves us with 34 features (if we exclude parcelid which is just kind of an index)."
   ]
  },
  {
   "cell_type": "code",
   "execution_count": 50,
   "metadata": {},
   "outputs": [
    {
     "data": {
      "text/plain": [
       "['aircon',\n",
       " 'area_garage',\n",
       " 'area_live_finished',\n",
       " 'area_lot',\n",
       " 'area_total_calc',\n",
       " 'build_year',\n",
       " 'censustractandblock',\n",
       " 'fips',\n",
       " 'heating',\n",
       " 'latitude',\n",
       " 'logerror',\n",
       " 'longitude',\n",
       " 'num_bath',\n",
       " 'num_bathroom',\n",
       " 'num_bathroom_calc',\n",
       " 'num_bedroom',\n",
       " 'num_garage',\n",
       " 'num_room',\n",
       " 'num_unit',\n",
       " 'parcel_id',\n",
       " 'quality',\n",
       " 'rawcensustractandblock',\n",
       " 'region_city',\n",
       " 'region_county',\n",
       " 'region_neighbor',\n",
       " 'region_zip',\n",
       " 'tax_building',\n",
       " 'tax_land',\n",
       " 'tax_property',\n",
       " 'tax_total',\n",
       " 'transaction_date',\n",
       " 'zoning_landuse',\n",
       " 'zoning_landuse_county',\n",
       " 'zoning_property']"
      ]
     },
     "execution_count": 50,
     "metadata": {},
     "output_type": "execute_result"
    }
   ],
   "source": [
    "# create a new dataframe\n",
    "df_no_missv = df.loc[:, features_to_keep]\n",
    "sorted(list(df_no_missv.columns))"
   ]
  },
  {
   "cell_type": "markdown",
   "metadata": {},
   "source": [
    "## Analyze, Identify and Explore the Data"
   ]
  },
  {
   "cell_type": "markdown",
   "metadata": {},
   "source": [
    "### Correlation between features and target variable \"logerror\""
   ]
  },
  {
   "cell_type": "markdown",
   "metadata": {},
   "source": [
    "#### Correlation between \"area\" features and target variable \"logerror\""
   ]
  },
  {
   "cell_type": "code",
   "execution_count": 51,
   "metadata": {},
   "outputs": [],
   "source": [
    "# create list of \"area\" features\n",
    "list_area_features = list(df_no_missv.loc[:, df_no_missv.columns.str.contains(\"area\")].columns)"
   ]
  },
  {
   "cell_type": "code",
   "execution_count": 52,
   "metadata": {},
   "outputs": [
    {
     "data": {
      "text/plain": [
       "['area_garage',\n",
       " 'area_lot',\n",
       " 'area_live_finished',\n",
       " 'area_total_calc',\n",
       " 'logerror']"
      ]
     },
     "execution_count": 52,
     "metadata": {},
     "output_type": "execute_result"
    }
   ],
   "source": [
    "# append \"logerror\"\n",
    "list_area_features.append('logerror')\n",
    "list_area_features"
   ]
  },
  {
   "cell_type": "markdown",
   "metadata": {},
   "source": [
    "Let's now create a correlation plot to see what is the extent of the linear association between each of the \"area\" variables and the *logerror*."
   ]
  },
  {
   "cell_type": "code",
   "execution_count": 53,
   "metadata": {},
   "outputs": [
    {
     "data": {
      "text/plain": [
       "<matplotlib.axes._subplots.AxesSubplot at 0x1a13fed630>"
      ]
     },
     "execution_count": 53,
     "metadata": {},
     "output_type": "execute_result"
    },
    {
     "data": {
      "image/png": "[encoded data removed]",
      "text/plain": [
       "<Figure size 792x648 with 2 Axes>"
      ]
     },
     "metadata": {},
     "output_type": "display_data"
    }
   ],
   "source": [
    "# create correlation between \"area\" features and \"logerror\"\n",
    "corr_area = df_no_missv.loc[:, list_area_features].corr().round(2)\n",
    "\n",
    "# generate a mask for the upper triangle\n",
    "mask = np.zeros_like(corr_area, dtype=np.bool)\n",
    "mask[np.triu_indices_from(mask)] = True\n",
    "\n",
    "# set up the matplotlib figure\n",
    "f, ax = plt.subplots(figsize=(11, 9))\n",
    "\n",
    "# generate a custom diverging colormap\n",
    "cmap = sns.diverging_palette(220, 10, as_cmap=True)\n",
    "\n",
    "# draw the heatmap with the mask and correct aspect ratio\n",
    "sns.heatmap(corr_area, mask=mask, cmap=cmap, vmax=1, center=0,\n",
    "            square=True, linewidths=.5, annot = True, annot_kws={\"size\": 12})"
   ]
  },
  {
   "cell_type": "markdown",
   "metadata": {},
   "source": [
    "The correlations between the \"area\" features and the logerror seem to be very low.\n",
    "\n",
    "On another note, we can notice that there seem to be a perfect linear association between *area_live_finished* and *area_total_calc*. To avoid collinearity we need to remove one of the features."
   ]
  },
  {
   "cell_type": "code",
   "execution_count": 54,
   "metadata": {},
   "outputs": [
    {
     "data": {
      "text/html": [
       "<div>\n",
       "<style scoped>\n",
       "    .dataframe tbody tr th:only-of-type {\n",
       "        vertical-align: middle;\n",
       "    }\n",
       "\n",
       "    .dataframe tbody tr th {\n",
       "        vertical-align: top;\n",
       "    }\n",
       "\n",
       "    .dataframe thead th {\n",
       "        text-align: right;\n",
       "    }\n",
       "</style>\n",
       "<table border=\"1\" class=\"dataframe\">\n",
       "  <thead>\n",
       "    <tr style=\"text-align: right;\">\n",
       "      <th></th>\n",
       "      <th>area_total_calc</th>\n",
       "      <th>area_live_finished</th>\n",
       "    </tr>\n",
       "  </thead>\n",
       "  <tbody>\n",
       "    <tr>\n",
       "      <th>0</th>\n",
       "      <td>1684.0</td>\n",
       "      <td>1684.0</td>\n",
       "    </tr>\n",
       "    <tr>\n",
       "      <th>1</th>\n",
       "      <td>2263.0</td>\n",
       "      <td>2263.0</td>\n",
       "    </tr>\n",
       "    <tr>\n",
       "      <th>2</th>\n",
       "      <td>2217.0</td>\n",
       "      <td>2217.0</td>\n",
       "    </tr>\n",
       "    <tr>\n",
       "      <th>3</th>\n",
       "      <td>839.0</td>\n",
       "      <td>839.0</td>\n",
       "    </tr>\n",
       "    <tr>\n",
       "      <th>4</th>\n",
       "      <td>2283.0</td>\n",
       "      <td>2283.0</td>\n",
       "    </tr>\n",
       "  </tbody>\n",
       "</table>\n",
       "</div>"
      ],
      "text/plain": [
       "   area_total_calc  area_live_finished\n",
       "0           1684.0              1684.0\n",
       "1           2263.0              2263.0\n",
       "2           2217.0              2217.0\n",
       "3            839.0               839.0\n",
       "4           2283.0              2283.0"
      ]
     },
     "execution_count": 54,
     "metadata": {},
     "output_type": "execute_result"
    }
   ],
   "source": [
    "df_no_missv[['area_total_calc', 'area_live_finished']].head()"
   ]
  },
  {
   "cell_type": "code",
   "execution_count": 55,
   "metadata": {},
   "outputs": [
    {
     "data": {
      "text/plain": [
       "90275"
      ]
     },
     "execution_count": 55,
     "metadata": {},
     "output_type": "execute_result"
    },
    {
     "data": {
      "text/plain": [
       "85596"
      ]
     },
     "execution_count": 55,
     "metadata": {},
     "output_type": "execute_result"
    }
   ],
   "source": [
    "# number of rows\n",
    "len(df_no_missv['area_total_calc'])\n",
    "\n",
    "# number of rows with equal values for these variables\n",
    "sum(df_no_missv['area_total_calc'] == df_no_missv['area_live_finished'])"
   ]
  },
  {
   "cell_type": "code",
   "execution_count": 56,
   "metadata": {
    "scrolled": true
   },
   "outputs": [],
   "source": [
    "# drop area_live_finished\n",
    "list_area_features.remove('area_live_finished')\n",
    "\n",
    "# drop logerror\n",
    "list_area_features.remove('logerror')\n",
    "\n",
    "# drop area_live_finished in df_no_missv\n",
    "df_no_missv.drop('area_live_finished', axis = 1, inplace = True)"
   ]
  },
  {
   "cell_type": "markdown",
   "metadata": {},
   "source": [
    "#### Correlation between \"num\" features and target variable \"logerror\""
   ]
  },
  {
   "cell_type": "code",
   "execution_count": 57,
   "metadata": {},
   "outputs": [],
   "source": [
    "# create list of \"num\" features\n",
    "list_num_features = list(df_no_missv.loc[:, df_no_missv.columns.str.contains(\"num\")].columns)"
   ]
  },
  {
   "cell_type": "code",
   "execution_count": 58,
   "metadata": {},
   "outputs": [
    {
     "data": {
      "text/plain": [
       "['num_garage',\n",
       " 'num_unit',\n",
       " 'num_bath',\n",
       " 'num_bathroom_calc',\n",
       " 'num_room',\n",
       " 'num_bathroom',\n",
       " 'num_bedroom',\n",
       " 'logerror']"
      ]
     },
     "execution_count": 58,
     "metadata": {},
     "output_type": "execute_result"
    }
   ],
   "source": [
    "# append \"logerror\"\n",
    "list_num_features.append('logerror')\n",
    "list_num_features"
   ]
  },
  {
   "cell_type": "code",
   "execution_count": 59,
   "metadata": {},
   "outputs": [
    {
     "data": {
      "text/plain": [
       "<matplotlib.axes._subplots.AxesSubplot at 0x1a144575f8>"
      ]
     },
     "execution_count": 59,
     "metadata": {},
     "output_type": "execute_result"
    },
    {
     "data": {
      "image/png": "[encoded data removed]",
      "text/plain": [
       "<Figure size 792x648 with 2 Axes>"
      ]
     },
     "metadata": {},
     "output_type": "display_data"
    }
   ],
   "source": [
    "# create correlation between \"num\" features and \"logerror\"\n",
    "corr_num = df_no_missv.loc[:, list_num_features].corr().round(2)\n",
    "\n",
    "# generate a mask for the upper triangle\n",
    "mask = np.zeros_like(corr_num, dtype=np.bool)\n",
    "mask[np.triu_indices_from(mask)] = True\n",
    "\n",
    "# set up the matplotlib figure\n",
    "f, ax = plt.subplots(figsize=(11, 9))\n",
    "\n",
    "# generate a custom diverging colormap\n",
    "cmap = sns.diverging_palette(220, 10, as_cmap=True)\n",
    "\n",
    "# draw the heatmap with the mask and correct aspect ratio\n",
    "sns.heatmap(corr_num, mask=mask, cmap=cmap, vmax=1, center=0,\n",
    "            square=True, linewidths=.5, annot = True, annot_kws={\"size\": 12})"
   ]
  },
  {
   "cell_type": "markdown",
   "metadata": {},
   "source": [
    "Here as well the correlation between the *logerror* and other \"num\" features seem to be very low.\n",
    "\n",
    "(*num_bathroom* or *num_bathroom_calc*) and (*num_bath or *num_bathroom_calc*) needs to be removed to avoid collinearity."
   ]
  },
  {
   "cell_type": "code",
   "execution_count": 60,
   "metadata": {},
   "outputs": [
    {
     "data": {
      "text/html": [
       "<div>\n",
       "<style scoped>\n",
       "    .dataframe tbody tr th:only-of-type {\n",
       "        vertical-align: middle;\n",
       "    }\n",
       "\n",
       "    .dataframe tbody tr th {\n",
       "        vertical-align: top;\n",
       "    }\n",
       "\n",
       "    .dataframe thead th {\n",
       "        text-align: right;\n",
       "    }\n",
       "</style>\n",
       "<table border=\"1\" class=\"dataframe\">\n",
       "  <thead>\n",
       "    <tr style=\"text-align: right;\">\n",
       "      <th></th>\n",
       "      <th>num_bathroom</th>\n",
       "      <th>num_bathroom_calc</th>\n",
       "      <th>num_bath</th>\n",
       "    </tr>\n",
       "  </thead>\n",
       "  <tbody>\n",
       "    <tr>\n",
       "      <th>0</th>\n",
       "      <td>2.0</td>\n",
       "      <td>2.0</td>\n",
       "      <td>2.0</td>\n",
       "    </tr>\n",
       "    <tr>\n",
       "      <th>1</th>\n",
       "      <td>3.5</td>\n",
       "      <td>3.5</td>\n",
       "      <td>3.0</td>\n",
       "    </tr>\n",
       "    <tr>\n",
       "      <th>2</th>\n",
       "      <td>3.0</td>\n",
       "      <td>3.0</td>\n",
       "      <td>3.0</td>\n",
       "    </tr>\n",
       "    <tr>\n",
       "      <th>3</th>\n",
       "      <td>2.0</td>\n",
       "      <td>2.0</td>\n",
       "      <td>2.0</td>\n",
       "    </tr>\n",
       "    <tr>\n",
       "      <th>4</th>\n",
       "      <td>2.5</td>\n",
       "      <td>2.5</td>\n",
       "      <td>2.0</td>\n",
       "    </tr>\n",
       "  </tbody>\n",
       "</table>\n",
       "</div>"
      ],
      "text/plain": [
       "   num_bathroom  num_bathroom_calc  num_bath\n",
       "0           2.0                2.0       2.0\n",
       "1           3.5                3.5       3.0\n",
       "2           3.0                3.0       3.0\n",
       "3           2.0                2.0       2.0\n",
       "4           2.5                2.5       2.0"
      ]
     },
     "execution_count": 60,
     "metadata": {},
     "output_type": "execute_result"
    }
   ],
   "source": [
    "df_no_missv[['num_bathroom', 'num_bathroom_calc', 'num_bath']].head()"
   ]
  },
  {
   "cell_type": "code",
   "execution_count": 61,
   "metadata": {},
   "outputs": [
    {
     "data": {
      "text/plain": [
       "90275"
      ]
     },
     "execution_count": 61,
     "metadata": {},
     "output_type": "execute_result"
    },
    {
     "data": {
      "text/plain": [
       "77084"
      ]
     },
     "execution_count": 61,
     "metadata": {},
     "output_type": "execute_result"
    }
   ],
   "source": [
    "# number of rows\n",
    "len(df_no_missv['num_bathroom'])\n",
    "\n",
    "# number of rows with equal values for these variables\n",
    "sum(df_no_missv['num_bathroom'] == df_no_missv['num_bath'])"
   ]
  },
  {
   "cell_type": "code",
   "execution_count": 62,
   "metadata": {},
   "outputs": [],
   "source": [
    "# drop num_bathroom\n",
    "list_num_features.remove('num_bathroom')\n",
    "\n",
    "# drop num_bathroom_calc\n",
    "list_num_features.remove('num_bathroom_calc')\n",
    "\n",
    "# drop logerror\n",
    "list_num_features.remove('logerror')\n",
    "\n",
    "# drop num_bathroom & num_bathroom_calc\n",
    "df_no_missv.drop(['num_bathroom', 'num_bathroom_calc'], axis = 1, inplace = True)"
   ]
  },
  {
   "cell_type": "markdown",
   "metadata": {},
   "source": [
    "#### Correlation between \"tax\" features and target variable \"logerror\""
   ]
  },
  {
   "cell_type": "code",
   "execution_count": 63,
   "metadata": {},
   "outputs": [],
   "source": [
    "# create list of \"tax\" features\n",
    "list_tax_features = list(df_no_missv.loc[:, df_no_missv.columns.str.contains(\"tax\")].columns)"
   ]
  },
  {
   "cell_type": "code",
   "execution_count": 64,
   "metadata": {},
   "outputs": [
    {
     "data": {
      "text/plain": [
       "['tax_building', 'tax_property', 'tax_land', 'tax_total', 'logerror']"
      ]
     },
     "execution_count": 64,
     "metadata": {},
     "output_type": "execute_result"
    }
   ],
   "source": [
    "# append \"logerror\"\n",
    "list_tax_features.append('logerror')\n",
    "list_tax_features"
   ]
  },
  {
   "cell_type": "code",
   "execution_count": 65,
   "metadata": {},
   "outputs": [
    {
     "data": {
      "text/plain": [
       "<matplotlib.axes._subplots.AxesSubplot at 0x1a14034668>"
      ]
     },
     "execution_count": 65,
     "metadata": {},
     "output_type": "execute_result"
    },
    {
     "data": {
      "image/png": "[encoded data removed]",
      "text/plain": [
       "<Figure size 792x648 with 2 Axes>"
      ]
     },
     "metadata": {},
     "output_type": "display_data"
    }
   ],
   "source": [
    "# create correlation between \"tax\" features and \"logerror\"\n",
    "corr_tax = df_no_missv.loc[:, list_tax_features].corr().round(2)\n",
    "\n",
    "# generate a mask for the upper triangle\n",
    "mask = np.zeros_like(corr_tax, dtype=np.bool)\n",
    "mask[np.triu_indices_from(mask)] = True\n",
    "\n",
    "# set up the matplotlib figure\n",
    "f, ax = plt.subplots(figsize=(11, 9))\n",
    "\n",
    "# generate a custom diverging colormap\n",
    "cmap = sns.diverging_palette(220, 10, as_cmap=True)\n",
    "\n",
    "# draw the heatmap with the mask and correct aspect ratio\n",
    "sns.heatmap(corr_tax, mask=mask, cmap=cmap, vmax=1, center=0,\n",
    "            square=True, linewidths=.5, annot = True, annot_kws={\"size\": 12})"
   ]
  },
  {
   "cell_type": "markdown",
   "metadata": {},
   "source": [
    "Again the correlation between the \"tax\" features and *logerror* is really small."
   ]
  },
  {
   "cell_type": "code",
   "execution_count": 66,
   "metadata": {},
   "outputs": [],
   "source": [
    "# drop tax_total\n",
    "list_tax_features.remove('tax_total')\n",
    "\n",
    "# drop logerror\n",
    "list_tax_features.remove('logerror')\n",
    "\n",
    "# drop tax_total\n",
    "df_no_missv.drop('tax_total', axis = 1, inplace=True)"
   ]
  },
  {
   "cell_type": "markdown",
   "metadata": {},
   "source": [
    "### Outliers"
   ]
  },
  {
   "cell_type": "markdown",
   "metadata": {},
   "source": [
    "Outliers need to be removed when building a predictive model as extreme values might lead the model to overfit.\n",
    "\n",
    "We are plotting boxplots to the diverse range of variables considered to visually confirm the existence of outliers."
   ]
  },
  {
   "cell_type": "markdown",
   "metadata": {},
   "source": [
    "**Area Variables**"
   ]
  },
  {
   "cell_type": "code",
   "execution_count": 67,
   "metadata": {},
   "outputs": [
    {
     "data": {
      "text/plain": [
       "['area_garage', 'area_lot', 'area_total_calc']"
      ]
     },
     "execution_count": 67,
     "metadata": {},
     "output_type": "execute_result"
    }
   ],
   "source": [
    "list_area_features"
   ]
  },
  {
   "cell_type": "code",
   "execution_count": 68,
   "metadata": {},
   "outputs": [
    {
     "data": {
      "image/png": "[encoded data removed]",
      "text/plain": [
       "<Figure size 432x288 with 1 Axes>"
      ]
     },
     "metadata": {},
     "output_type": "display_data"
    },
    {
     "data": {
      "image/png": "[encoded data removed]",
      "text/plain": [
       "<Figure size 432x288 with 1 Axes>"
      ]
     },
     "metadata": {},
     "output_type": "display_data"
    },
    {
     "data": {
      "image/png": "[encoded data removed]",
      "text/plain": [
       "<Figure size 432x288 with 1 Axes>"
      ]
     },
     "metadata": {},
     "output_type": "display_data"
    }
   ],
   "source": [
    "# plot boxplots\n",
    "for i in range(len(list_area_features)):\n",
    "    ax = sns.boxplot(df_no_missv.loc[:,list_area_features[i]], orient = \"v\")\n",
    "    plt.show(ax)"
   ]
  },
  {
   "cell_type": "markdown",
   "metadata": {},
   "source": [
    "We can notice right skewed distribution and many observations lying above the top whiskers, confirming the presence of outliers."
   ]
  },
  {
   "cell_type": "markdown",
   "metadata": {},
   "source": [
    "**Num Variables**"
   ]
  },
  {
   "cell_type": "code",
   "execution_count": 69,
   "metadata": {},
   "outputs": [
    {
     "data": {
      "text/plain": [
       "['num_garage', 'num_unit', 'num_bath', 'num_room', 'num_bedroom']"
      ]
     },
     "execution_count": 69,
     "metadata": {},
     "output_type": "execute_result"
    }
   ],
   "source": [
    "list_num_features"
   ]
  },
  {
   "cell_type": "code",
   "execution_count": 70,
   "metadata": {},
   "outputs": [
    {
     "data": {
      "image/png": "[encoded data removed]",
      "text/plain": [
       "<Figure size 432x288 with 1 Axes>"
      ]
     },
     "metadata": {},
     "output_type": "display_data"
    },
    {
     "data": {
      "image/png": "[encoded data removed]",
      "text/plain": [
       "<Figure size 432x288 with 1 Axes>"
      ]
     },
     "metadata": {},
     "output_type": "display_data"
    },
    {
     "data": {
      "image/png": "[encoded data removed]",
      "text/plain": [
       "<Figure size 432x288 with 1 Axes>"
      ]
     },
     "metadata": {},
     "output_type": "display_data"
    },
    {
     "data": {
      "image/png": "[encoded data removed]",
      "text/plain": [
       "<Figure size 432x288 with 1 Axes>"
      ]
     },
     "metadata": {},
     "output_type": "display_data"
    },
    {
     "data": {
      "image/png": "[encoded data removed]",
      "text/plain": [
       "<Figure size 432x288 with 1 Axes>"
      ]
     },
     "metadata": {},
     "output_type": "display_data"
    }
   ],
   "source": [
    "# plot boxplots\n",
    "for i in range(len(list_num_features)):\n",
    "    ax = sns.boxplot(df_no_missv.loc[:,list_num_features[i]], orient = \"v\")\n",
    "    plt.show(ax)"
   ]
  },
  {
   "cell_type": "markdown",
   "metadata": {},
   "source": [
    "Again the boxplots suggest a strong presence of outliers."
   ]
  },
  {
   "cell_type": "markdown",
   "metadata": {},
   "source": [
    "**Tax Variables**"
   ]
  },
  {
   "cell_type": "code",
   "execution_count": 71,
   "metadata": {},
   "outputs": [
    {
     "data": {
      "text/plain": [
       "['tax_building', 'tax_property', 'tax_land']"
      ]
     },
     "execution_count": 71,
     "metadata": {},
     "output_type": "execute_result"
    }
   ],
   "source": [
    "list_tax_features"
   ]
  },
  {
   "cell_type": "code",
   "execution_count": 72,
   "metadata": {},
   "outputs": [
    {
     "data": {
      "image/png": "[encoded data removed]",
      "text/plain": [
       "<Figure size 432x288 with 1 Axes>"
      ]
     },
     "metadata": {},
     "output_type": "display_data"
    },
    {
     "data": {
      "image/png": "[encoded data removed]",
      "text/plain": [
       "<Figure size 432x288 with 1 Axes>"
      ]
     },
     "metadata": {},
     "output_type": "display_data"
    },
    {
     "data": {
      "image/png": "[encoded data removed]",
      "text/plain": [
       "<Figure size 432x288 with 1 Axes>"
      ]
     },
     "metadata": {},
     "output_type": "display_data"
    }
   ],
   "source": [
    "# plot boxplots\n",
    "for i in range(len(list_tax_features)):\n",
    "    ax = sns.boxplot(df_no_missv.loc[:,list_tax_features[i]], orient = \"v\")\n",
    "    plt.show(ax)"
   ]
  },
  {
   "cell_type": "markdown",
   "metadata": {},
   "source": [
    "**Remove Outliers**"
   ]
  },
  {
   "cell_type": "code",
   "execution_count": 73,
   "metadata": {},
   "outputs": [],
   "source": [
    "list_features_with_outliers = list_area_features + \\\n",
    "                                list_num_features + \\\n",
    "                                list_tax_features"
   ]
  },
  {
   "cell_type": "code",
   "execution_count": 74,
   "metadata": {},
   "outputs": [
    {
     "data": {
      "text/plain": [
       "['area_garage',\n",
       " 'area_lot',\n",
       " 'area_total_calc',\n",
       " 'num_garage',\n",
       " 'num_unit',\n",
       " 'num_bath',\n",
       " 'num_room',\n",
       " 'num_bedroom',\n",
       " 'tax_building',\n",
       " 'tax_property',\n",
       " 'tax_land']"
      ]
     },
     "execution_count": 74,
     "metadata": {},
     "output_type": "execute_result"
    }
   ],
   "source": [
    "list_features_with_outliers"
   ]
  },
  {
   "cell_type": "code",
   "execution_count": 75,
   "metadata": {},
   "outputs": [
    {
     "name": "stdout",
     "output_type": "stream",
     "text": [
      "area_garage           484.00\n",
      "area_lot             5983.00\n",
      "area_total_calc       911.00\n",
      "num_garage              0.00\n",
      "num_unit                0.00\n",
      "num_bath                1.00\n",
      "num_room                0.00\n",
      "num_bedroom             2.00\n",
      "tax_building       129289.50\n",
      "tax_property         4028.26\n",
      "tax_land           263191.50\n",
      "dtype: float64\n"
     ]
    }
   ],
   "source": [
    "# bulid 1st and 3rd quartiles\n",
    "Q1 = df_no_missv.loc[:, list_features_with_outliers].quantile(0.25)\n",
    "Q3 = df_no_missv.loc[:, list_features_with_outliers].quantile(0.75)\n",
    "\n",
    "# build the interquartile range (IQR)\n",
    "IQR = Q3 - Q1\n",
    "\n",
    "print(IQR)"
   ]
  },
  {
   "cell_type": "code",
   "execution_count": 76,
   "metadata": {},
   "outputs": [],
   "source": [
    "# remove outliers outside of the whiskers\n",
    "df_no_out = df_no_missv[~((df_no_missv.loc[:, list_features_with_outliers] < (Q1 - 1.5 * IQR)) |\\\n",
    "                          (df_no_missv.loc[:, list_features_with_outliers] > (Q3 + 1.5 * IQR)))\\\n",
    "                        .any(axis=1)]"
   ]
  },
  {
   "cell_type": "code",
   "execution_count": 77,
   "metadata": {},
   "outputs": [
    {
     "data": {
      "text/plain": [
       "(44599, 30)"
      ]
     },
     "execution_count": 77,
     "metadata": {},
     "output_type": "execute_result"
    }
   ],
   "source": [
    "# dimension of the new dataset\n",
    "df_no_out.shape"
   ]
  },
  {
   "cell_type": "markdown",
   "metadata": {},
   "source": [
    "The new dataframe is approximately half the size of the previous dataframe."
   ]
  },
  {
   "cell_type": "code",
   "execution_count": 78,
   "metadata": {},
   "outputs": [
    {
     "data": {
      "text/html": [
       "<div>\n",
       "<style scoped>\n",
       "    .dataframe tbody tr th:only-of-type {\n",
       "        vertical-align: middle;\n",
       "    }\n",
       "\n",
       "    .dataframe tbody tr th {\n",
       "        vertical-align: top;\n",
       "    }\n",
       "\n",
       "    .dataframe thead th {\n",
       "        text-align: right;\n",
       "    }\n",
       "</style>\n",
       "<table border=\"1\" class=\"dataframe\">\n",
       "  <thead>\n",
       "    <tr style=\"text-align: right;\">\n",
       "      <th></th>\n",
       "      <th>aircon</th>\n",
       "      <th>area_garage</th>\n",
       "      <th>num_garage</th>\n",
       "      <th>region_neighbor</th>\n",
       "      <th>heating</th>\n",
       "      <th>quality</th>\n",
       "      <th>zoning_property</th>\n",
       "      <th>num_unit</th>\n",
       "      <th>area_lot</th>\n",
       "      <th>region_city</th>\n",
       "      <th>...</th>\n",
       "      <th>num_bedroom</th>\n",
       "      <th>fips</th>\n",
       "      <th>latitude</th>\n",
       "      <th>longitude</th>\n",
       "      <th>logerror</th>\n",
       "      <th>zoning_landuse_county</th>\n",
       "      <th>zoning_landuse</th>\n",
       "      <th>rawcensustractandblock</th>\n",
       "      <th>region_county</th>\n",
       "      <th>parcel_id</th>\n",
       "    </tr>\n",
       "  </thead>\n",
       "  <tbody>\n",
       "    <tr>\n",
       "      <th>0</th>\n",
       "      <td>1.0</td>\n",
       "      <td>NaN</td>\n",
       "      <td>NaN</td>\n",
       "      <td>31817.0</td>\n",
       "      <td>2.0</td>\n",
       "      <td>4.0</td>\n",
       "      <td>LARS</td>\n",
       "      <td>1.0</td>\n",
       "      <td>7528.0</td>\n",
       "      <td>12447.0</td>\n",
       "      <td>...</td>\n",
       "      <td>3.0</td>\n",
       "      <td>6037.0</td>\n",
       "      <td>34280990.0</td>\n",
       "      <td>-118488536.0</td>\n",
       "      <td>0.0276</td>\n",
       "      <td>0100</td>\n",
       "      <td>261.0</td>\n",
       "      <td>6.037107e+07</td>\n",
       "      <td>3101.0</td>\n",
       "      <td>11016594</td>\n",
       "    </tr>\n",
       "    <tr>\n",
       "      <th>1</th>\n",
       "      <td>NaN</td>\n",
       "      <td>468.0</td>\n",
       "      <td>2.0</td>\n",
       "      <td>NaN</td>\n",
       "      <td>NaN</td>\n",
       "      <td>NaN</td>\n",
       "      <td>NaN</td>\n",
       "      <td>NaN</td>\n",
       "      <td>3643.0</td>\n",
       "      <td>32380.0</td>\n",
       "      <td>...</td>\n",
       "      <td>4.0</td>\n",
       "      <td>6059.0</td>\n",
       "      <td>33668120.0</td>\n",
       "      <td>-117677556.0</td>\n",
       "      <td>-0.1684</td>\n",
       "      <td>1</td>\n",
       "      <td>261.0</td>\n",
       "      <td>6.059052e+07</td>\n",
       "      <td>1286.0</td>\n",
       "      <td>14366692</td>\n",
       "    </tr>\n",
       "    <tr>\n",
       "      <th>2</th>\n",
       "      <td>1.0</td>\n",
       "      <td>NaN</td>\n",
       "      <td>NaN</td>\n",
       "      <td>275411.0</td>\n",
       "      <td>2.0</td>\n",
       "      <td>4.0</td>\n",
       "      <td>PSR6</td>\n",
       "      <td>1.0</td>\n",
       "      <td>11423.0</td>\n",
       "      <td>47019.0</td>\n",
       "      <td>...</td>\n",
       "      <td>2.0</td>\n",
       "      <td>6037.0</td>\n",
       "      <td>34136312.0</td>\n",
       "      <td>-118175032.0</td>\n",
       "      <td>-0.0040</td>\n",
       "      <td>0100</td>\n",
       "      <td>261.0</td>\n",
       "      <td>6.037464e+07</td>\n",
       "      <td>3101.0</td>\n",
       "      <td>12098116</td>\n",
       "    </tr>\n",
       "    <tr>\n",
       "      <th>6</th>\n",
       "      <td>NaN</td>\n",
       "      <td>NaN</td>\n",
       "      <td>NaN</td>\n",
       "      <td>NaN</td>\n",
       "      <td>7.0</td>\n",
       "      <td>7.0</td>\n",
       "      <td>CORH*</td>\n",
       "      <td>1.0</td>\n",
       "      <td>6677.0</td>\n",
       "      <td>24174.0</td>\n",
       "      <td>...</td>\n",
       "      <td>2.0</td>\n",
       "      <td>6037.0</td>\n",
       "      <td>33899475.0</td>\n",
       "      <td>-118212720.0</td>\n",
       "      <td>0.0440</td>\n",
       "      <td>0100</td>\n",
       "      <td>261.0</td>\n",
       "      <td>6.037542e+07</td>\n",
       "      <td>3101.0</td>\n",
       "      <td>12286022</td>\n",
       "    </tr>\n",
       "    <tr>\n",
       "      <th>10</th>\n",
       "      <td>NaN</td>\n",
       "      <td>NaN</td>\n",
       "      <td>NaN</td>\n",
       "      <td>51906.0</td>\n",
       "      <td>2.0</td>\n",
       "      <td>7.0</td>\n",
       "      <td>LARE9</td>\n",
       "      <td>1.0</td>\n",
       "      <td>8279.0</td>\n",
       "      <td>12447.0</td>\n",
       "      <td>...</td>\n",
       "      <td>2.0</td>\n",
       "      <td>6037.0</td>\n",
       "      <td>34164671.0</td>\n",
       "      <td>-118477995.0</td>\n",
       "      <td>0.3825</td>\n",
       "      <td>0100</td>\n",
       "      <td>261.0</td>\n",
       "      <td>6.037141e+07</td>\n",
       "      <td>3101.0</td>\n",
       "      <td>10854446</td>\n",
       "    </tr>\n",
       "  </tbody>\n",
       "</table>\n",
       "<p>5 rows × 30 columns</p>\n",
       "</div>"
      ],
      "text/plain": [
       "    aircon  area_garage  num_garage  region_neighbor  heating  quality  \\\n",
       "0      1.0          NaN         NaN          31817.0      2.0      4.0   \n",
       "1      NaN        468.0         2.0              NaN      NaN      NaN   \n",
       "2      1.0          NaN         NaN         275411.0      2.0      4.0   \n",
       "6      NaN          NaN         NaN              NaN      7.0      7.0   \n",
       "10     NaN          NaN         NaN          51906.0      2.0      7.0   \n",
       "\n",
       "   zoning_property  num_unit  area_lot  region_city    ...      num_bedroom  \\\n",
       "0             LARS       1.0    7528.0      12447.0    ...              3.0   \n",
       "1              NaN       NaN    3643.0      32380.0    ...              4.0   \n",
       "2             PSR6       1.0   11423.0      47019.0    ...              2.0   \n",
       "6            CORH*       1.0    6677.0      24174.0    ...              2.0   \n",
       "10           LARE9       1.0    8279.0      12447.0    ...              2.0   \n",
       "\n",
       "      fips    latitude    longitude  logerror  zoning_landuse_county  \\\n",
       "0   6037.0  34280990.0 -118488536.0    0.0276                   0100   \n",
       "1   6059.0  33668120.0 -117677556.0   -0.1684                      1   \n",
       "2   6037.0  34136312.0 -118175032.0   -0.0040                   0100   \n",
       "6   6037.0  33899475.0 -118212720.0    0.0440                   0100   \n",
       "10  6037.0  34164671.0 -118477995.0    0.3825                   0100   \n",
       "\n",
       "    zoning_landuse  rawcensustractandblock region_county  parcel_id  \n",
       "0            261.0            6.037107e+07        3101.0   11016594  \n",
       "1            261.0            6.059052e+07        1286.0   14366692  \n",
       "2            261.0            6.037464e+07        3101.0   12098116  \n",
       "6            261.0            6.037542e+07        3101.0   12286022  \n",
       "10           261.0            6.037141e+07        3101.0   10854446  \n",
       "\n",
       "[5 rows x 30 columns]"
      ]
     },
     "execution_count": 78,
     "metadata": {},
     "output_type": "execute_result"
    }
   ],
   "source": [
    "df_no_out.head()"
   ]
  },
  {
   "cell_type": "code",
   "execution_count": 79,
   "metadata": {},
   "outputs": [
    {
     "data": {
      "text/html": [
       "<div>\n",
       "<style scoped>\n",
       "    .dataframe tbody tr th:only-of-type {\n",
       "        vertical-align: middle;\n",
       "    }\n",
       "\n",
       "    .dataframe tbody tr th {\n",
       "        vertical-align: top;\n",
       "    }\n",
       "\n",
       "    .dataframe thead th {\n",
       "        text-align: right;\n",
       "    }\n",
       "</style>\n",
       "<table border=\"1\" class=\"dataframe\">\n",
       "  <thead>\n",
       "    <tr style=\"text-align: right;\">\n",
       "      <th></th>\n",
       "      <th>rawcensustractandblock</th>\n",
       "      <th>censustractandblock</th>\n",
       "    </tr>\n",
       "  </thead>\n",
       "  <tbody>\n",
       "    <tr>\n",
       "      <th>0</th>\n",
       "      <td>6.037107e+07</td>\n",
       "      <td>6.037107e+13</td>\n",
       "    </tr>\n",
       "    <tr>\n",
       "      <th>1</th>\n",
       "      <td>6.059052e+07</td>\n",
       "      <td>NaN</td>\n",
       "    </tr>\n",
       "    <tr>\n",
       "      <th>2</th>\n",
       "      <td>6.037464e+07</td>\n",
       "      <td>6.037464e+13</td>\n",
       "    </tr>\n",
       "    <tr>\n",
       "      <th>3</th>\n",
       "      <td>6.037296e+07</td>\n",
       "      <td>6.037296e+13</td>\n",
       "    </tr>\n",
       "    <tr>\n",
       "      <th>4</th>\n",
       "      <td>6.059042e+07</td>\n",
       "      <td>6.059042e+13</td>\n",
       "    </tr>\n",
       "    <tr>\n",
       "      <th>5</th>\n",
       "      <td>6.037621e+07</td>\n",
       "      <td>6.037621e+13</td>\n",
       "    </tr>\n",
       "    <tr>\n",
       "      <th>6</th>\n",
       "      <td>6.037542e+07</td>\n",
       "      <td>6.037542e+13</td>\n",
       "    </tr>\n",
       "    <tr>\n",
       "      <th>7</th>\n",
       "      <td>6.111003e+07</td>\n",
       "      <td>6.111003e+13</td>\n",
       "    </tr>\n",
       "    <tr>\n",
       "      <th>8</th>\n",
       "      <td>6.059042e+07</td>\n",
       "      <td>6.059042e+13</td>\n",
       "    </tr>\n",
       "    <tr>\n",
       "      <th>9</th>\n",
       "      <td>6.059063e+07</td>\n",
       "      <td>6.059063e+13</td>\n",
       "    </tr>\n",
       "    <tr>\n",
       "      <th>10</th>\n",
       "      <td>6.037141e+07</td>\n",
       "      <td>6.037141e+13</td>\n",
       "    </tr>\n",
       "    <tr>\n",
       "      <th>11</th>\n",
       "      <td>6.037263e+07</td>\n",
       "      <td>6.037263e+13</td>\n",
       "    </tr>\n",
       "    <tr>\n",
       "      <th>12</th>\n",
       "      <td>6.037311e+07</td>\n",
       "      <td>6.037311e+13</td>\n",
       "    </tr>\n",
       "    <tr>\n",
       "      <th>13</th>\n",
       "      <td>6.059063e+07</td>\n",
       "      <td>6.059063e+13</td>\n",
       "    </tr>\n",
       "    <tr>\n",
       "      <th>14</th>\n",
       "      <td>6.059002e+07</td>\n",
       "      <td>6.059002e+13</td>\n",
       "    </tr>\n",
       "    <tr>\n",
       "      <th>15</th>\n",
       "      <td>6.059099e+07</td>\n",
       "      <td>6.059099e+13</td>\n",
       "    </tr>\n",
       "    <tr>\n",
       "      <th>16</th>\n",
       "      <td>6.111007e+07</td>\n",
       "      <td>6.111007e+13</td>\n",
       "    </tr>\n",
       "    <tr>\n",
       "      <th>17</th>\n",
       "      <td>6.037575e+07</td>\n",
       "      <td>6.037575e+13</td>\n",
       "    </tr>\n",
       "    <tr>\n",
       "      <th>18</th>\n",
       "      <td>6.059100e+07</td>\n",
       "      <td>6.059100e+13</td>\n",
       "    </tr>\n",
       "    <tr>\n",
       "      <th>19</th>\n",
       "      <td>6.037140e+07</td>\n",
       "      <td>6.037140e+13</td>\n",
       "    </tr>\n",
       "    <tr>\n",
       "      <th>20</th>\n",
       "      <td>6.037570e+07</td>\n",
       "      <td>6.037570e+13</td>\n",
       "    </tr>\n",
       "    <tr>\n",
       "      <th>21</th>\n",
       "      <td>6.059075e+07</td>\n",
       "      <td>6.059075e+13</td>\n",
       "    </tr>\n",
       "    <tr>\n",
       "      <th>22</th>\n",
       "      <td>6.059110e+07</td>\n",
       "      <td>6.059110e+13</td>\n",
       "    </tr>\n",
       "    <tr>\n",
       "      <th>23</th>\n",
       "      <td>6.037277e+07</td>\n",
       "      <td>6.037277e+13</td>\n",
       "    </tr>\n",
       "    <tr>\n",
       "      <th>24</th>\n",
       "      <td>6.059089e+07</td>\n",
       "      <td>6.059089e+13</td>\n",
       "    </tr>\n",
       "    <tr>\n",
       "      <th>25</th>\n",
       "      <td>6.037504e+07</td>\n",
       "      <td>6.037504e+13</td>\n",
       "    </tr>\n",
       "    <tr>\n",
       "      <th>26</th>\n",
       "      <td>6.037910e+07</td>\n",
       "      <td>6.037910e+13</td>\n",
       "    </tr>\n",
       "    <tr>\n",
       "      <th>27</th>\n",
       "      <td>6.059042e+07</td>\n",
       "      <td>6.059042e+13</td>\n",
       "    </tr>\n",
       "    <tr>\n",
       "      <th>28</th>\n",
       "      <td>6.037140e+07</td>\n",
       "      <td>6.037140e+13</td>\n",
       "    </tr>\n",
       "    <tr>\n",
       "      <th>29</th>\n",
       "      <td>6.037577e+07</td>\n",
       "      <td>6.037577e+13</td>\n",
       "    </tr>\n",
       "    <tr>\n",
       "      <th>...</th>\n",
       "      <td>...</td>\n",
       "      <td>...</td>\n",
       "    </tr>\n",
       "    <tr>\n",
       "      <th>90245</th>\n",
       "      <td>6.037137e+07</td>\n",
       "      <td>6.037137e+13</td>\n",
       "    </tr>\n",
       "    <tr>\n",
       "      <th>90246</th>\n",
       "      <td>6.037576e+07</td>\n",
       "      <td>6.037576e+13</td>\n",
       "    </tr>\n",
       "    <tr>\n",
       "      <th>90247</th>\n",
       "      <td>6.037234e+07</td>\n",
       "      <td>6.037234e+13</td>\n",
       "    </tr>\n",
       "    <tr>\n",
       "      <th>90248</th>\n",
       "      <td>6.059052e+07</td>\n",
       "      <td>6.059052e+13</td>\n",
       "    </tr>\n",
       "    <tr>\n",
       "      <th>90249</th>\n",
       "      <td>6.037920e+07</td>\n",
       "      <td>6.037920e+13</td>\n",
       "    </tr>\n",
       "    <tr>\n",
       "      <th>90250</th>\n",
       "      <td>6.059100e+07</td>\n",
       "      <td>6.059100e+13</td>\n",
       "    </tr>\n",
       "    <tr>\n",
       "      <th>90251</th>\n",
       "      <td>6.037553e+07</td>\n",
       "      <td>6.037553e+13</td>\n",
       "    </tr>\n",
       "    <tr>\n",
       "      <th>90252</th>\n",
       "      <td>6.037553e+07</td>\n",
       "      <td>6.037553e+13</td>\n",
       "    </tr>\n",
       "    <tr>\n",
       "      <th>90253</th>\n",
       "      <td>6.037901e+07</td>\n",
       "      <td>6.037901e+13</td>\n",
       "    </tr>\n",
       "    <tr>\n",
       "      <th>90254</th>\n",
       "      <td>6.037553e+07</td>\n",
       "      <td>6.037553e+13</td>\n",
       "    </tr>\n",
       "    <tr>\n",
       "      <th>90255</th>\n",
       "      <td>6.037901e+07</td>\n",
       "      <td>6.037901e+13</td>\n",
       "    </tr>\n",
       "    <tr>\n",
       "      <th>90256</th>\n",
       "      <td>6.059052e+07</td>\n",
       "      <td>6.059052e+13</td>\n",
       "    </tr>\n",
       "    <tr>\n",
       "      <th>90257</th>\n",
       "      <td>6.037800e+07</td>\n",
       "      <td>6.037800e+13</td>\n",
       "    </tr>\n",
       "    <tr>\n",
       "      <th>90258</th>\n",
       "      <td>6.037213e+07</td>\n",
       "      <td>6.037213e+13</td>\n",
       "    </tr>\n",
       "    <tr>\n",
       "      <th>90259</th>\n",
       "      <td>6.037192e+07</td>\n",
       "      <td>6.037192e+13</td>\n",
       "    </tr>\n",
       "    <tr>\n",
       "      <th>90260</th>\n",
       "      <td>6.037604e+07</td>\n",
       "      <td>6.037604e+13</td>\n",
       "    </tr>\n",
       "    <tr>\n",
       "      <th>90261</th>\n",
       "      <td>6.037232e+07</td>\n",
       "      <td>6.037232e+13</td>\n",
       "    </tr>\n",
       "    <tr>\n",
       "      <th>90262</th>\n",
       "      <td>6.037107e+07</td>\n",
       "      <td>6.037107e+13</td>\n",
       "    </tr>\n",
       "    <tr>\n",
       "      <th>90263</th>\n",
       "      <td>6.037302e+07</td>\n",
       "      <td>6.037302e+13</td>\n",
       "    </tr>\n",
       "    <tr>\n",
       "      <th>90264</th>\n",
       "      <td>6.037801e+07</td>\n",
       "      <td>6.037801e+13</td>\n",
       "    </tr>\n",
       "    <tr>\n",
       "      <th>90265</th>\n",
       "      <td>6.037302e+07</td>\n",
       "      <td>6.037302e+13</td>\n",
       "    </tr>\n",
       "    <tr>\n",
       "      <th>90266</th>\n",
       "      <td>6.037543e+07</td>\n",
       "      <td>6.037543e+13</td>\n",
       "    </tr>\n",
       "    <tr>\n",
       "      <th>90267</th>\n",
       "      <td>6.111002e+07</td>\n",
       "      <td>6.111002e+13</td>\n",
       "    </tr>\n",
       "    <tr>\n",
       "      <th>90268</th>\n",
       "      <td>6.037541e+07</td>\n",
       "      <td>6.037541e+13</td>\n",
       "    </tr>\n",
       "    <tr>\n",
       "      <th>90269</th>\n",
       "      <td>6.037404e+07</td>\n",
       "      <td>6.037404e+13</td>\n",
       "    </tr>\n",
       "    <tr>\n",
       "      <th>90270</th>\n",
       "      <td>6.037132e+07</td>\n",
       "      <td>6.037132e+13</td>\n",
       "    </tr>\n",
       "    <tr>\n",
       "      <th>90271</th>\n",
       "      <td>6.037301e+07</td>\n",
       "      <td>6.037301e+13</td>\n",
       "    </tr>\n",
       "    <tr>\n",
       "      <th>90272</th>\n",
       "      <td>6.037433e+07</td>\n",
       "      <td>6.037433e+13</td>\n",
       "    </tr>\n",
       "    <tr>\n",
       "      <th>90273</th>\n",
       "      <td>6.037601e+07</td>\n",
       "      <td>6.037601e+13</td>\n",
       "    </tr>\n",
       "    <tr>\n",
       "      <th>90274</th>\n",
       "      <td>6.037544e+07</td>\n",
       "      <td>6.037544e+13</td>\n",
       "    </tr>\n",
       "  </tbody>\n",
       "</table>\n",
       "<p>90275 rows × 2 columns</p>\n",
       "</div>"
      ],
      "text/plain": [
       "       rawcensustractandblock  censustractandblock\n",
       "0                6.037107e+07         6.037107e+13\n",
       "1                6.059052e+07                  NaN\n",
       "2                6.037464e+07         6.037464e+13\n",
       "3                6.037296e+07         6.037296e+13\n",
       "4                6.059042e+07         6.059042e+13\n",
       "5                6.037621e+07         6.037621e+13\n",
       "6                6.037542e+07         6.037542e+13\n",
       "7                6.111003e+07         6.111003e+13\n",
       "8                6.059042e+07         6.059042e+13\n",
       "9                6.059063e+07         6.059063e+13\n",
       "10               6.037141e+07         6.037141e+13\n",
       "11               6.037263e+07         6.037263e+13\n",
       "12               6.037311e+07         6.037311e+13\n",
       "13               6.059063e+07         6.059063e+13\n",
       "14               6.059002e+07         6.059002e+13\n",
       "15               6.059099e+07         6.059099e+13\n",
       "16               6.111007e+07         6.111007e+13\n",
       "17               6.037575e+07         6.037575e+13\n",
       "18               6.059100e+07         6.059100e+13\n",
       "19               6.037140e+07         6.037140e+13\n",
       "20               6.037570e+07         6.037570e+13\n",
       "21               6.059075e+07         6.059075e+13\n",
       "22               6.059110e+07         6.059110e+13\n",
       "23               6.037277e+07         6.037277e+13\n",
       "24               6.059089e+07         6.059089e+13\n",
       "25               6.037504e+07         6.037504e+13\n",
       "26               6.037910e+07         6.037910e+13\n",
       "27               6.059042e+07         6.059042e+13\n",
       "28               6.037140e+07         6.037140e+13\n",
       "29               6.037577e+07         6.037577e+13\n",
       "...                       ...                  ...\n",
       "90245            6.037137e+07         6.037137e+13\n",
       "90246            6.037576e+07         6.037576e+13\n",
       "90247            6.037234e+07         6.037234e+13\n",
       "90248            6.059052e+07         6.059052e+13\n",
       "90249            6.037920e+07         6.037920e+13\n",
       "90250            6.059100e+07         6.059100e+13\n",
       "90251            6.037553e+07         6.037553e+13\n",
       "90252            6.037553e+07         6.037553e+13\n",
       "90253            6.037901e+07         6.037901e+13\n",
       "90254            6.037553e+07         6.037553e+13\n",
       "90255            6.037901e+07         6.037901e+13\n",
       "90256            6.059052e+07         6.059052e+13\n",
       "90257            6.037800e+07         6.037800e+13\n",
       "90258            6.037213e+07         6.037213e+13\n",
       "90259            6.037192e+07         6.037192e+13\n",
       "90260            6.037604e+07         6.037604e+13\n",
       "90261            6.037232e+07         6.037232e+13\n",
       "90262            6.037107e+07         6.037107e+13\n",
       "90263            6.037302e+07         6.037302e+13\n",
       "90264            6.037801e+07         6.037801e+13\n",
       "90265            6.037302e+07         6.037302e+13\n",
       "90266            6.037543e+07         6.037543e+13\n",
       "90267            6.111002e+07         6.111002e+13\n",
       "90268            6.037541e+07         6.037541e+13\n",
       "90269            6.037404e+07         6.037404e+13\n",
       "90270            6.037132e+07         6.037132e+13\n",
       "90271            6.037301e+07         6.037301e+13\n",
       "90272            6.037433e+07         6.037433e+13\n",
       "90273            6.037601e+07         6.037601e+13\n",
       "90274            6.037544e+07         6.037544e+13\n",
       "\n",
       "[90275 rows x 2 columns]"
      ]
     },
     "execution_count": 79,
     "metadata": {},
     "output_type": "execute_result"
    }
   ],
   "source": [
    "df_no_missv[['rawcensustractandblock', 'censustractandblock']]"
   ]
  },
  {
   "cell_type": "markdown",
   "metadata": {},
   "source": [
    "* census blocks:\n",
    "\n",
    "They are statistical areas bounded by visible features, such as streets, roads, streams, and railroad tracks, and by non-visible boundaries, such as selected property lines and city, township, school district, and county limits.\n",
    "\n",
    "* census block group\n",
    "\n",
    "It is a cluster of census blocks having the same first digit of their four-digit identifying numbers within a census tract. Block groups generally contain between 600 and 3,000 people, with an optimum size of 1,500 people. There are about 39 blocks per census group. Block groups never cross the boundaries of states, counties, or statistically equivalent entities, except for a block group delineated by American Indian tribal authorities. Each census tract contains at least one block group, and block groups are uniquely numbered within the census tract. A block group is the smallest geographical unit for which the census publishes sample data.\n",
    "\n",
    "* census tracts\n",
    "\n",
    "They are small, relatively permanent statistical subdivisions of a county delineated by local participants as part of the U.S. Census Bureau’s Participant Statistical Areas Program. Census tracts were first used in the 2000 census. Census tracts generally have between 1,500 and 8,000 people, with an optimum size of 4,000 people. Census tracts are identified by a four-digit basic number and may have a two-digit numeric suffix. \n"
   ]
  },
  {
   "cell_type": "markdown",
   "metadata": {},
   "source": [
    "## Analyse, Identify and Explore"
   ]
  },
  {
   "cell_type": "markdown",
   "metadata": {},
   "source": [
    "**Distribution of Transactions**"
   ]
  },
  {
   "cell_type": "markdown",
   "metadata": {},
   "source": [
    "Let’s first create the *year_month* feature:"
   ]
  },
  {
   "cell_type": "code",
   "execution_count": 80,
   "metadata": {},
   "outputs": [
    {
     "name": "stderr",
     "output_type": "stream",
     "text": [
      "/Users/manuel/anaconda3/lib/python3.6/site-packages/ipykernel_launcher.py:2: SettingWithCopyWarning: \n",
      "A value is trying to be set on a copy of a slice from a DataFrame.\n",
      "Try using .loc[row_indexer,col_indexer] = value instead\n",
      "\n",
      "See the caveats in the documentation: http://pandas.pydata.org/pandas-docs/stable/indexing.html#indexing-view-versus-copy\n",
      "  \n",
      "/Users/manuel/anaconda3/lib/python3.6/site-packages/ipykernel_launcher.py:3: SettingWithCopyWarning: \n",
      "A value is trying to be set on a copy of a slice from a DataFrame.\n",
      "Try using .loc[row_indexer,col_indexer] = value instead\n",
      "\n",
      "See the caveats in the documentation: http://pandas.pydata.org/pandas-docs/stable/indexing.html#indexing-view-versus-copy\n",
      "  This is separate from the ipykernel package so we can avoid doing imports until\n",
      "/Users/manuel/anaconda3/lib/python3.6/site-packages/ipykernel_launcher.py:4: SettingWithCopyWarning: \n",
      "A value is trying to be set on a copy of a slice from a DataFrame.\n",
      "Try using .loc[row_indexer,col_indexer] = value instead\n",
      "\n",
      "See the caveats in the documentation: http://pandas.pydata.org/pandas-docs/stable/indexing.html#indexing-view-versus-copy\n",
      "  after removing the cwd from sys.path.\n"
     ]
    }
   ],
   "source": [
    "# create year, month and year-month variable\n",
    "df_no_out['year'] = pd.DatetimeIndex(df_no_out['transaction_date']).year\n",
    "df_no_out['month'] = pd.DatetimeIndex(df_no_out['transaction_date']).strftime(\"%m\") \n",
    "df_no_out['year_month'] = df_no_out['year'].astype(str) + '-' + df_no_out['month'].astype(str)"
   ]
  },
  {
   "cell_type": "code",
   "execution_count": 81,
   "metadata": {
    "scrolled": true
   },
   "outputs": [
    {
     "data": {
      "text/plain": [
       "[Text(0,0.5,'Counts'), Text(0.5,0,'Year-Month')]"
      ]
     },
     "execution_count": 81,
     "metadata": {},
     "output_type": "execute_result"
    },
    {
     "data": {
      "text/plain": [
       "[Text(0,0,'2016-01'),\n",
       " Text(0,0,'2016-02'),\n",
       " Text(0,0,'2016-03'),\n",
       " Text(0,0,'2016-04'),\n",
       " Text(0,0,'2016-05'),\n",
       " Text(0,0,'2016-06'),\n",
       " Text(0,0,'2016-07'),\n",
       " Text(0,0,'2016-08'),\n",
       " Text(0,0,'2016-09'),\n",
       " Text(0,0,'2016-10'),\n",
       " Text(0,0,'2016-11'),\n",
       " Text(0,0,'2016-12')]"
      ]
     },
     "execution_count": 81,
     "metadata": {},
     "output_type": "execute_result"
    },
    {
     "data": {
      "text/plain": [
       "Text(0.5,1,'Number of Transactions per Year-Month')"
      ]
     },
     "execution_count": 81,
     "metadata": {},
     "output_type": "execute_result"
    },
    {
     "data": {
      "image/png": "[encoded data removed]",
      "text/plain": [
       "<Figure size 432x288 with 1 Axes>"
      ]
     },
     "metadata": {},
     "output_type": "display_data"
    }
   ],
   "source": [
    "# number of transactions per year-month\n",
    "year_month_counts = df_no_out.groupby(by=['year_month']).size().reset_index(name='counts')\n",
    "\n",
    "\n",
    "# plot graph\n",
    "ax = sns.barplot(x= \"year_month\", y=\"counts\", data = year_month_counts, color = \"red\")\n",
    "\n",
    "\n",
    "# set axis labels\n",
    "ax.set(xlabel='Year-Month', ylabel='Counts')\n",
    "\n",
    "# set tick labels\n",
    "ax.set_xticklabels(rotation=45, labels = year_month_counts[\"year_month\"])\n",
    "ax.tick_params(labelsize=10)\n",
    "\n",
    "# set title\n",
    "ax.set_title(\"Number of Transactions per Year-Month\", fontsize = 15)\n"
   ]
  },
  {
   "cell_type": "markdown",
   "metadata": {},
   "source": [
    "**How does the *abs_logerror* change with *year_month*?**"
   ]
  },
  {
   "cell_type": "code",
   "execution_count": 82,
   "metadata": {},
   "outputs": [
    {
     "name": "stdout",
     "output_type": "stream",
     "text": [
      "   year_month  mean_abs_logerror       sum\n",
      "0     2016-01           0.075584  248.2933\n",
      "1     2016-02           0.071882  224.2002\n",
      "2     2016-03           0.068992  286.0426\n",
      "3     2016-04           0.065921  303.3034\n",
      "4     2016-05           0.062830  301.6458\n",
      "5     2016-06           0.062705  337.7288\n",
      "6     2016-07           0.062344  310.4104\n",
      "7     2016-08           0.065213  336.3681\n",
      "8     2016-09           0.065385  316.1388\n",
      "9     2016-10           0.064626  160.6597\n",
      "10    2016-11           0.068130   62.8842\n",
      "11    2016-12           0.079185   69.6832\n"
     ]
    },
    {
     "name": "stderr",
     "output_type": "stream",
     "text": [
      "/Users/manuel/anaconda3/lib/python3.6/site-packages/ipykernel_launcher.py:2: SettingWithCopyWarning: \n",
      "A value is trying to be set on a copy of a slice from a DataFrame.\n",
      "Try using .loc[row_indexer,col_indexer] = value instead\n",
      "\n",
      "See the caveats in the documentation: http://pandas.pydata.org/pandas-docs/stable/indexing.html#indexing-view-versus-copy\n",
      "  \n",
      "/Users/manuel/anaconda3/lib/python3.6/site-packages/pandas/core/groupby/groupby.py:4658: FutureWarning: using a dict with renaming is deprecated and will be removed in a future version\n",
      "  return super(DataFrameGroupBy, self).aggregate(arg, *args, **kwargs)\n"
     ]
    }
   ],
   "source": [
    "# create the absolute logerror column\n",
    "df_no_out['abs_logerror'] = abs(df_no_out['logerror'])\n",
    "\n",
    "\n",
    "# mean abs_logerror and sum per year_month\n",
    "year_month_abslogerror = df_no_out.groupby(by=['year_month'])\\\n",
    "                            .agg({'abs_logerror': {'mean_abs_logerror': 'mean', 'sum': 'sum'}})\n",
    "# drop abs_logerror level                            \n",
    "year_month_abslogerror.columns = year_month_abslogerror.columns.droplevel(0)\n",
    "\n",
    "# reset index\n",
    "year_month_abslogerror.reset_index(level = 0, inplace=True)\n",
    "\n",
    "# print\n",
    "print(year_month_abslogerror)                     "
   ]
  },
  {
   "cell_type": "code",
   "execution_count": 83,
   "metadata": {
    "scrolled": true
   },
   "outputs": [
    {
     "data": {
      "text/plain": [
       "<matplotlib.axes._subplots.AxesSubplot at 0x10dac4518>"
      ]
     },
     "execution_count": 83,
     "metadata": {},
     "output_type": "execute_result"
    },
    {
     "data": {
      "text/plain": [
       "[Text(0,0.5,'abs_logerror mean'), Text(0.5,0,'year-month')]"
      ]
     },
     "execution_count": 83,
     "metadata": {},
     "output_type": "execute_result"
    },
    {
     "data": {
      "text/plain": [
       "[Text(0,0.5,'abs_logerror sum')]"
      ]
     },
     "execution_count": 83,
     "metadata": {},
     "output_type": "execute_result"
    },
    {
     "data": {
      "text/plain": [
       "[Text(0,0,'2016-01'),\n",
       " Text(0,0,'2016-02'),\n",
       " Text(0,0,'2016-03'),\n",
       " Text(0,0,'2016-04'),\n",
       " Text(0,0,'2016-05'),\n",
       " Text(0,0,'2016-06'),\n",
       " Text(0,0,'2016-07'),\n",
       " Text(0,0,'2016-08'),\n",
       " Text(0,0,'2016-09'),\n",
       " Text(0,0,'2016-10'),\n",
       " Text(0,0,'2016-11'),\n",
       " Text(0,0,'2016-12')]"
      ]
     },
     "execution_count": 83,
     "metadata": {},
     "output_type": "execute_result"
    },
    {
     "data": {
      "text/plain": [
       "Text(0.5,1,'Mean and Sum of abs_logerror over Year-Month')"
      ]
     },
     "execution_count": 83,
     "metadata": {},
     "output_type": "execute_result"
    },
    {
     "data": {
      "image/png": "[encoded data removed]",
      "text/plain": [
       "<Figure size 432x288 with 2 Axes>"
      ]
     },
     "metadata": {},
     "output_type": "display_data"
    }
   ],
   "source": [
    "# set context\n",
    "sns.set_context(\"paper\", rc={\"figure.figsize\":(8,6), \"font.size\":10,\"axes.titlesize\":20,\"axes.labelsize\":15})  \n",
    "\n",
    "\n",
    "# plot monthly mean absolute error \n",
    "ax = sns.lineplot(x= \"year_month\", \n",
    "                  y=\"mean_abs_logerror\", \n",
    "                  data = year_month_abslogerror, \n",
    "                  color = \"blue\")\n",
    "\n",
    "# set second axis\n",
    "ax2 = ax.twinx()\n",
    "\n",
    "# plot monthly absolute error sum\n",
    "sns.scatterplot(x = \"year_month\", \n",
    "                y = \"sum\", \n",
    "                ax = ax2, \n",
    "                data = year_month_abslogerror)\n",
    "\n",
    "# set axis labels\n",
    "ax.set(xlabel='year-month', ylabel='abs_logerror mean')\n",
    "ax2.set(ylabel='abs_logerror sum')\n",
    "# set tick labels\n",
    "ax.set_xticklabels(rotation=45, labels = year_month_abslogerror[\"year_month\"])\n",
    "ax.tick_params(labelsize=10)\n",
    "\n",
    "# set title\n",
    "ax.set_title(\"Mean and Sum of abs_logerror over Year-Month\", fontsize = 15)\n",
    "\n",
    "plt.show()"
   ]
  },
  {
   "cell_type": "markdown",
   "metadata": {},
   "source": [
    "The mean of *abs_logerror* seems to be the smallest during May, June and July, when the most transactions had taken place."
   ]
  },
  {
   "cell_type": "markdown",
   "metadata": {},
   "source": [
    "**When were houses built?**"
   ]
  },
  {
   "cell_type": "code",
   "execution_count": 84,
   "metadata": {
    "scrolled": true
   },
   "outputs": [
    {
     "name": "stderr",
     "output_type": "stream",
     "text": [
      "/Users/manuel/anaconda3/lib/python3.6/site-packages/statsmodels/nonparametric/kde.py:448: RuntimeWarning: invalid value encountered in greater\n",
      "  X = X[np.logical_and(X > clip[0], X < clip[1])] # won't work for two columns.\n",
      "/Users/manuel/anaconda3/lib/python3.6/site-packages/statsmodels/nonparametric/kde.py:448: RuntimeWarning: invalid value encountered in less\n",
      "  X = X[np.logical_and(X > clip[0], X < clip[1])] # won't work for two columns.\n"
     ]
    },
    {
     "data": {
      "text/plain": [
       "[Text(0,0.5,'Density'), Text(0.5,0,'Build Year')]"
      ]
     },
     "execution_count": 84,
     "metadata": {},
     "output_type": "execute_result"
    },
    {
     "data": {
      "text/plain": [
       "Text(0.5,1,'Build Year Density')"
      ]
     },
     "execution_count": 84,
     "metadata": {},
     "output_type": "execute_result"
    },
    {
     "data": {
      "image/png": "[encoded data removed]",
      "text/plain": [
       "<Figure size 432x288 with 1 Axes>"
      ]
     },
     "metadata": {},
     "output_type": "display_data"
    }
   ],
   "source": [
    "# set context\n",
    "sns.set_context(\"paper\", rc={\"figure.figsize\":(8,6), \"font.size\":10,\"axes.titlesize\":20,\"axes.labelsize\":15})  \n",
    "\n",
    "# plot density\n",
    "ax = sns.kdeplot(df_no_out[\"build_year\"], vertical=False)\n",
    "\n",
    "# set axis labels\n",
    "ax.set(xlabel='Build Year', ylabel='Density')\n",
    "\n",
    "# set title\n",
    "ax.set_title(\"Build Year Density\", fontsize = 15)"
   ]
  },
  {
   "cell_type": "markdown",
   "metadata": {},
   "source": [
    "**How does the mean *abs_logerror* change with *build_year*?**"
   ]
  },
  {
   "cell_type": "code",
   "execution_count": 85,
   "metadata": {},
   "outputs": [
    {
     "name": "stderr",
     "output_type": "stream",
     "text": [
      "/Users/manuel/anaconda3/lib/python3.6/site-packages/pandas/core/groupby/groupby.py:4658: FutureWarning: using a dict with renaming is deprecated and will be removed in a future version\n",
      "  return super(DataFrameGroupBy, self).aggregate(arg, *args, **kwargs)\n"
     ]
    },
    {
     "data": {
      "text/html": [
       "<div>\n",
       "<style scoped>\n",
       "    .dataframe tbody tr th:only-of-type {\n",
       "        vertical-align: middle;\n",
       "    }\n",
       "\n",
       "    .dataframe tbody tr th {\n",
       "        vertical-align: top;\n",
       "    }\n",
       "\n",
       "    .dataframe thead th {\n",
       "        text-align: right;\n",
       "    }\n",
       "</style>\n",
       "<table border=\"1\" class=\"dataframe\">\n",
       "  <thead>\n",
       "    <tr style=\"text-align: right;\">\n",
       "      <th></th>\n",
       "      <th>build_year</th>\n",
       "      <th>mean_abs_logerror</th>\n",
       "    </tr>\n",
       "  </thead>\n",
       "  <tbody>\n",
       "    <tr>\n",
       "      <th>0</th>\n",
       "      <td>1885.0</td>\n",
       "      <td>0.044120</td>\n",
       "    </tr>\n",
       "    <tr>\n",
       "      <th>1</th>\n",
       "      <td>1886.0</td>\n",
       "      <td>0.001000</td>\n",
       "    </tr>\n",
       "    <tr>\n",
       "      <th>2</th>\n",
       "      <td>1887.0</td>\n",
       "      <td>0.008000</td>\n",
       "    </tr>\n",
       "    <tr>\n",
       "      <th>3</th>\n",
       "      <td>1888.0</td>\n",
       "      <td>0.069200</td>\n",
       "    </tr>\n",
       "    <tr>\n",
       "      <th>4</th>\n",
       "      <td>1890.0</td>\n",
       "      <td>0.100985</td>\n",
       "    </tr>\n",
       "    <tr>\n",
       "      <th>5</th>\n",
       "      <td>1892.0</td>\n",
       "      <td>0.316033</td>\n",
       "    </tr>\n",
       "    <tr>\n",
       "      <th>6</th>\n",
       "      <td>1893.0</td>\n",
       "      <td>0.128833</td>\n",
       "    </tr>\n",
       "    <tr>\n",
       "      <th>7</th>\n",
       "      <td>1894.0</td>\n",
       "      <td>0.231150</td>\n",
       "    </tr>\n",
       "    <tr>\n",
       "      <th>8</th>\n",
       "      <td>1895.0</td>\n",
       "      <td>0.236673</td>\n",
       "    </tr>\n",
       "    <tr>\n",
       "      <th>9</th>\n",
       "      <td>1896.0</td>\n",
       "      <td>0.087733</td>\n",
       "    </tr>\n",
       "    <tr>\n",
       "      <th>10</th>\n",
       "      <td>1897.0</td>\n",
       "      <td>0.010100</td>\n",
       "    </tr>\n",
       "    <tr>\n",
       "      <th>11</th>\n",
       "      <td>1898.0</td>\n",
       "      <td>0.108875</td>\n",
       "    </tr>\n",
       "    <tr>\n",
       "      <th>12</th>\n",
       "      <td>1899.0</td>\n",
       "      <td>0.080300</td>\n",
       "    </tr>\n",
       "    <tr>\n",
       "      <th>13</th>\n",
       "      <td>1900.0</td>\n",
       "      <td>0.065040</td>\n",
       "    </tr>\n",
       "    <tr>\n",
       "      <th>14</th>\n",
       "      <td>1901.0</td>\n",
       "      <td>0.118990</td>\n",
       "    </tr>\n",
       "    <tr>\n",
       "      <th>15</th>\n",
       "      <td>1902.0</td>\n",
       "      <td>0.180219</td>\n",
       "    </tr>\n",
       "    <tr>\n",
       "      <th>16</th>\n",
       "      <td>1903.0</td>\n",
       "      <td>0.120614</td>\n",
       "    </tr>\n",
       "    <tr>\n",
       "      <th>17</th>\n",
       "      <td>1904.0</td>\n",
       "      <td>0.180106</td>\n",
       "    </tr>\n",
       "    <tr>\n",
       "      <th>18</th>\n",
       "      <td>1905.0</td>\n",
       "      <td>0.121912</td>\n",
       "    </tr>\n",
       "    <tr>\n",
       "      <th>19</th>\n",
       "      <td>1906.0</td>\n",
       "      <td>0.190825</td>\n",
       "    </tr>\n",
       "    <tr>\n",
       "      <th>20</th>\n",
       "      <td>1907.0</td>\n",
       "      <td>0.089320</td>\n",
       "    </tr>\n",
       "    <tr>\n",
       "      <th>21</th>\n",
       "      <td>1908.0</td>\n",
       "      <td>0.174323</td>\n",
       "    </tr>\n",
       "    <tr>\n",
       "      <th>22</th>\n",
       "      <td>1909.0</td>\n",
       "      <td>0.124754</td>\n",
       "    </tr>\n",
       "    <tr>\n",
       "      <th>23</th>\n",
       "      <td>1910.0</td>\n",
       "      <td>0.111284</td>\n",
       "    </tr>\n",
       "    <tr>\n",
       "      <th>24</th>\n",
       "      <td>1911.0</td>\n",
       "      <td>0.093592</td>\n",
       "    </tr>\n",
       "    <tr>\n",
       "      <th>25</th>\n",
       "      <td>1912.0</td>\n",
       "      <td>0.135739</td>\n",
       "    </tr>\n",
       "    <tr>\n",
       "      <th>26</th>\n",
       "      <td>1913.0</td>\n",
       "      <td>0.101757</td>\n",
       "    </tr>\n",
       "    <tr>\n",
       "      <th>27</th>\n",
       "      <td>1914.0</td>\n",
       "      <td>0.154156</td>\n",
       "    </tr>\n",
       "    <tr>\n",
       "      <th>28</th>\n",
       "      <td>1915.0</td>\n",
       "      <td>0.083047</td>\n",
       "    </tr>\n",
       "    <tr>\n",
       "      <th>29</th>\n",
       "      <td>1916.0</td>\n",
       "      <td>0.181871</td>\n",
       "    </tr>\n",
       "    <tr>\n",
       "      <th>...</th>\n",
       "      <td>...</td>\n",
       "      <td>...</td>\n",
       "    </tr>\n",
       "    <tr>\n",
       "      <th>99</th>\n",
       "      <td>1986.0</td>\n",
       "      <td>0.057108</td>\n",
       "    </tr>\n",
       "    <tr>\n",
       "      <th>100</th>\n",
       "      <td>1987.0</td>\n",
       "      <td>0.047932</td>\n",
       "    </tr>\n",
       "    <tr>\n",
       "      <th>101</th>\n",
       "      <td>1988.0</td>\n",
       "      <td>0.055752</td>\n",
       "    </tr>\n",
       "    <tr>\n",
       "      <th>102</th>\n",
       "      <td>1989.0</td>\n",
       "      <td>0.044065</td>\n",
       "    </tr>\n",
       "    <tr>\n",
       "      <th>103</th>\n",
       "      <td>1990.0</td>\n",
       "      <td>0.047310</td>\n",
       "    </tr>\n",
       "    <tr>\n",
       "      <th>104</th>\n",
       "      <td>1991.0</td>\n",
       "      <td>0.063207</td>\n",
       "    </tr>\n",
       "    <tr>\n",
       "      <th>105</th>\n",
       "      <td>1992.0</td>\n",
       "      <td>0.041293</td>\n",
       "    </tr>\n",
       "    <tr>\n",
       "      <th>106</th>\n",
       "      <td>1993.0</td>\n",
       "      <td>0.042620</td>\n",
       "    </tr>\n",
       "    <tr>\n",
       "      <th>107</th>\n",
       "      <td>1994.0</td>\n",
       "      <td>0.041091</td>\n",
       "    </tr>\n",
       "    <tr>\n",
       "      <th>108</th>\n",
       "      <td>1995.0</td>\n",
       "      <td>0.049693</td>\n",
       "    </tr>\n",
       "    <tr>\n",
       "      <th>109</th>\n",
       "      <td>1996.0</td>\n",
       "      <td>0.034874</td>\n",
       "    </tr>\n",
       "    <tr>\n",
       "      <th>110</th>\n",
       "      <td>1997.0</td>\n",
       "      <td>0.042149</td>\n",
       "    </tr>\n",
       "    <tr>\n",
       "      <th>111</th>\n",
       "      <td>1998.0</td>\n",
       "      <td>0.039630</td>\n",
       "    </tr>\n",
       "    <tr>\n",
       "      <th>112</th>\n",
       "      <td>1999.0</td>\n",
       "      <td>0.036328</td>\n",
       "    </tr>\n",
       "    <tr>\n",
       "      <th>113</th>\n",
       "      <td>2000.0</td>\n",
       "      <td>0.039793</td>\n",
       "    </tr>\n",
       "    <tr>\n",
       "      <th>114</th>\n",
       "      <td>2001.0</td>\n",
       "      <td>0.047868</td>\n",
       "    </tr>\n",
       "    <tr>\n",
       "      <th>115</th>\n",
       "      <td>2002.0</td>\n",
       "      <td>0.036874</td>\n",
       "    </tr>\n",
       "    <tr>\n",
       "      <th>116</th>\n",
       "      <td>2003.0</td>\n",
       "      <td>0.036706</td>\n",
       "    </tr>\n",
       "    <tr>\n",
       "      <th>117</th>\n",
       "      <td>2004.0</td>\n",
       "      <td>0.039033</td>\n",
       "    </tr>\n",
       "    <tr>\n",
       "      <th>118</th>\n",
       "      <td>2005.0</td>\n",
       "      <td>0.039499</td>\n",
       "    </tr>\n",
       "    <tr>\n",
       "      <th>119</th>\n",
       "      <td>2006.0</td>\n",
       "      <td>0.040890</td>\n",
       "    </tr>\n",
       "    <tr>\n",
       "      <th>120</th>\n",
       "      <td>2007.0</td>\n",
       "      <td>0.039599</td>\n",
       "    </tr>\n",
       "    <tr>\n",
       "      <th>121</th>\n",
       "      <td>2008.0</td>\n",
       "      <td>0.054727</td>\n",
       "    </tr>\n",
       "    <tr>\n",
       "      <th>122</th>\n",
       "      <td>2009.0</td>\n",
       "      <td>0.049775</td>\n",
       "    </tr>\n",
       "    <tr>\n",
       "      <th>123</th>\n",
       "      <td>2010.0</td>\n",
       "      <td>0.039989</td>\n",
       "    </tr>\n",
       "    <tr>\n",
       "      <th>124</th>\n",
       "      <td>2011.0</td>\n",
       "      <td>0.040536</td>\n",
       "    </tr>\n",
       "    <tr>\n",
       "      <th>125</th>\n",
       "      <td>2012.0</td>\n",
       "      <td>0.037053</td>\n",
       "    </tr>\n",
       "    <tr>\n",
       "      <th>126</th>\n",
       "      <td>2013.0</td>\n",
       "      <td>0.041093</td>\n",
       "    </tr>\n",
       "    <tr>\n",
       "      <th>127</th>\n",
       "      <td>2014.0</td>\n",
       "      <td>0.056109</td>\n",
       "    </tr>\n",
       "    <tr>\n",
       "      <th>128</th>\n",
       "      <td>2015.0</td>\n",
       "      <td>0.049213</td>\n",
       "    </tr>\n",
       "  </tbody>\n",
       "</table>\n",
       "<p>129 rows × 2 columns</p>\n",
       "</div>"
      ],
      "text/plain": [
       "     build_year  mean_abs_logerror\n",
       "0        1885.0           0.044120\n",
       "1        1886.0           0.001000\n",
       "2        1887.0           0.008000\n",
       "3        1888.0           0.069200\n",
       "4        1890.0           0.100985\n",
       "5        1892.0           0.316033\n",
       "6        1893.0           0.128833\n",
       "7        1894.0           0.231150\n",
       "8        1895.0           0.236673\n",
       "9        1896.0           0.087733\n",
       "10       1897.0           0.010100\n",
       "11       1898.0           0.108875\n",
       "12       1899.0           0.080300\n",
       "13       1900.0           0.065040\n",
       "14       1901.0           0.118990\n",
       "15       1902.0           0.180219\n",
       "16       1903.0           0.120614\n",
       "17       1904.0           0.180106\n",
       "18       1905.0           0.121912\n",
       "19       1906.0           0.190825\n",
       "20       1907.0           0.089320\n",
       "21       1908.0           0.174323\n",
       "22       1909.0           0.124754\n",
       "23       1910.0           0.111284\n",
       "24       1911.0           0.093592\n",
       "25       1912.0           0.135739\n",
       "26       1913.0           0.101757\n",
       "27       1914.0           0.154156\n",
       "28       1915.0           0.083047\n",
       "29       1916.0           0.181871\n",
       "..          ...                ...\n",
       "99       1986.0           0.057108\n",
       "100      1987.0           0.047932\n",
       "101      1988.0           0.055752\n",
       "102      1989.0           0.044065\n",
       "103      1990.0           0.047310\n",
       "104      1991.0           0.063207\n",
       "105      1992.0           0.041293\n",
       "106      1993.0           0.042620\n",
       "107      1994.0           0.041091\n",
       "108      1995.0           0.049693\n",
       "109      1996.0           0.034874\n",
       "110      1997.0           0.042149\n",
       "111      1998.0           0.039630\n",
       "112      1999.0           0.036328\n",
       "113      2000.0           0.039793\n",
       "114      2001.0           0.047868\n",
       "115      2002.0           0.036874\n",
       "116      2003.0           0.036706\n",
       "117      2004.0           0.039033\n",
       "118      2005.0           0.039499\n",
       "119      2006.0           0.040890\n",
       "120      2007.0           0.039599\n",
       "121      2008.0           0.054727\n",
       "122      2009.0           0.049775\n",
       "123      2010.0           0.039989\n",
       "124      2011.0           0.040536\n",
       "125      2012.0           0.037053\n",
       "126      2013.0           0.041093\n",
       "127      2014.0           0.056109\n",
       "128      2015.0           0.049213\n",
       "\n",
       "[129 rows x 2 columns]"
      ]
     },
     "execution_count": 85,
     "metadata": {},
     "output_type": "execute_result"
    }
   ],
   "source": [
    "# mean abs_logerror and sum per year_month\n",
    "build_year_abslogerror = df_no_out.groupby(by=['build_year'])\\\n",
    "                            .agg({'abs_logerror': {'mean_abs_logerror': 'mean'}})\n",
    "# drop abs_logerror level                            \n",
    "build_year_abslogerror.columns = build_year_abslogerror.columns.droplevel(0)\n",
    "\n",
    "# reset index\n",
    "build_year_abslogerror.reset_index(level = 0, inplace=True)\n",
    "\n",
    "# print\n",
    "build_year_abslogerror  "
   ]
  },
  {
   "cell_type": "code",
   "execution_count": 4,
   "metadata": {},
   "outputs": [],
   "source": [
    "# set context\n",
    "sns.set_context(\"paper\", rc={\"figure.figsize\":(8,6), \"font.size\":10,\"axes.titlesize\":20,\"axes.labelsize\":15})  \n",
    "\n",
    "# graph\n",
    "ax = sns.scatterplot(x= \"build_year\", y=\"mean_abs_logerror\", data = build_year_abslogerror, color = \"red\")\n",
    "\n",
    "\n",
    "# set x and y axis labels\n",
    "ax.set(xlabel='build year', ylabel='density')\n",
    "\n",
    "\n",
    "# set tick labels\n",
    "ax.set_xticklabels(rotation=45, labels = year_month_abslogerror[\"build_year\"])\n",
    "ax.tick_params(labelsize=5)\n",
    "\n",
    "# set title\n",
    "ax.set_title(\"Mean Absolute logerror Density over Build Year\", fontsize = 15)\n",
    "\n",
    "\n"
   ]
  },
  {
   "cell_type": "markdown",
   "metadata": {},
   "source": [
    "It seems that the greatest prediction errors are related to houses built before 1920. It is probably worth removing these houses from our dataframe."
   ]
  },
  {
   "cell_type": "markdown",
   "metadata": {},
   "source": [
    "**Where does Zestimate predict well?**"
   ]
  },
  {
   "cell_type": "code",
   "execution_count": 87,
   "metadata": {},
   "outputs": [
    {
     "name": "stderr",
     "output_type": "stream",
     "text": [
      "/Users/manuel/anaconda3/lib/python3.6/site-packages/ipykernel_launcher.py:1: SettingWithCopyWarning: \n",
      "A value is trying to be set on a copy of a slice from a DataFrame.\n",
      "Try using .loc[row_indexer,col_indexer] = value instead\n",
      "\n",
      "See the caveats in the documentation: http://pandas.pydata.org/pandas-docs/stable/indexing.html#indexing-view-versus-copy\n",
      "  \"\"\"Entry point for launching an IPython kernel.\n"
     ]
    }
   ],
   "source": [
    "df_no_out['percentile'] = pd.qcut(df_no_out['abs_logerror'], \\\n",
    "                           [0, 0.1, 0.25, 0.75, 0.9, 1], \\\n",
    "                           labels = ['best_fit', 'good_fit', 'typical_fit', 'bad_fit', 'worst_fit'])"
   ]
  },
  {
   "cell_type": "code",
   "execution_count": 88,
   "metadata": {},
   "outputs": [
    {
     "name": "stderr",
     "output_type": "stream",
     "text": [
      "/Users/manuel/anaconda3/lib/python3.6/site-packages/ipykernel_launcher.py:1: SettingWithCopyWarning: \n",
      "A value is trying to be set on a copy of a slice from a DataFrame.\n",
      "Try using .loc[row_indexer,col_indexer] = value instead\n",
      "\n",
      "See the caveats in the documentation: http://pandas.pydata.org/pandas-docs/stable/indexing.html#indexing-view-versus-copy\n",
      "  \"\"\"Entry point for launching an IPython kernel.\n"
     ]
    }
   ],
   "source": [
    "df_no_out['over_under'] = np.where(df_no_out['logerror'] > 0, 'over', 'under')"
   ]
  },
  {
   "cell_type": "code",
   "execution_count": 89,
   "metadata": {},
   "outputs": [
    {
     "data": {
      "text/plain": [
       "over     23966\n",
       "under    20633\n",
       "Name: over_under, dtype: int64"
      ]
     },
     "execution_count": 89,
     "metadata": {},
     "output_type": "execute_result"
    }
   ],
   "source": [
    "df_no_out['over_under'].value_counts()"
   ]
  },
  {
   "cell_type": "markdown",
   "metadata": {},
   "source": [
    "Around 54% of the house prices have been overestimated and 46% underestimated."
   ]
  },
  {
   "cell_type": "markdown",
   "metadata": {},
   "source": [
    "### Latitude"
   ]
  },
  {
   "cell_type": "code",
   "execution_count": 90,
   "metadata": {},
   "outputs": [
    {
     "data": {
      "text/plain": [
       "<matplotlib.axes._subplots.AxesSubplot at 0x1a1fef3eb8>"
      ]
     },
     "execution_count": 90,
     "metadata": {},
     "output_type": "execute_result"
    },
    {
     "data": {
      "text/plain": [
       "<matplotlib.axes._subplots.AxesSubplot at 0x1a1fef3eb8>"
      ]
     },
     "execution_count": 90,
     "metadata": {},
     "output_type": "execute_result"
    },
    {
     "data": {
      "text/plain": [
       "<matplotlib.axes._subplots.AxesSubplot at 0x1a1fef3eb8>"
      ]
     },
     "execution_count": 90,
     "metadata": {},
     "output_type": "execute_result"
    },
    {
     "data": {
      "text/plain": [
       "<matplotlib.legend.Legend at 0x1a1fef3748>"
      ]
     },
     "execution_count": 90,
     "metadata": {},
     "output_type": "execute_result"
    },
    {
     "data": {
      "text/plain": [
       "[Text(22.2,0.5,'density'), Text(0.5,22.2,'latitude')]"
      ]
     },
     "execution_count": 90,
     "metadata": {},
     "output_type": "execute_result"
    },
    {
     "data": {
      "text/plain": [
       "Text(0.5,1,'Latitude Density')"
      ]
     },
     "execution_count": 90,
     "metadata": {},
     "output_type": "execute_result"
    },
    {
     "data": {
      "image/png": "[encoded data removed]",
      "text/plain": [
       "<Figure size 432x288 with 1 Axes>"
      ]
     },
     "metadata": {},
     "output_type": "display_data"
    }
   ],
   "source": [
    "# set context\n",
    "sns.set_context(\"paper\", rc={\"figure.figsize\":(8,6), \"font.size\":10,\"axes.titlesize\":20,\"axes.labelsize\":15})  \n",
    "\n",
    "# fit types we are interested in plotting\n",
    "fit_type = ['worst_fit', 'typical_fit', 'best_fit']\n",
    "\n",
    "# plot the different densities\n",
    "for i in fit_type :\n",
    "    data = df_no_out[df_no_out['percentile'] == i]\n",
    "    \n",
    "    # Draw the density plot\n",
    "    sns.distplot(data[\"latitude\"],\n",
    "                 hist = False, kde = True,\n",
    "                 kde_kws = {'linewidth': 3},\n",
    "                 label = i)\n",
    "\n",
    "# set legends\n",
    "plt.legend(prop={'size': 10}, title = 'Fit')\n",
    "    \n",
    "# set axis labels\n",
    "ax.set(xlabel='latitude', ylabel='density')\n",
    "\n",
    "# set title\n",
    "ax.set_title(\"Latitude Density\", fontsize = 15)"
   ]
  },
  {
   "cell_type": "code",
   "execution_count": 91,
   "metadata": {},
   "outputs": [
    {
     "data": {
      "text/plain": [
       "<matplotlib.axes._subplots.AxesSubplot at 0x1a1dbf5400>"
      ]
     },
     "execution_count": 91,
     "metadata": {},
     "output_type": "execute_result"
    },
    {
     "data": {
      "image/png": "[encoded data removed]",
      "text/plain": [
       "<Figure size 432x288 with 1 Axes>"
      ]
     },
     "metadata": {},
     "output_type": "display_data"
    }
   ],
   "source": [
    "# plot latitude versus logerror\n",
    "sns.scatterplot(x = \"latitude\", y = \"logerror\", data = df_no_out)"
   ]
  },
  {
   "cell_type": "markdown",
   "metadata": {},
   "source": [
    "Prices are especially wrongly predicted where the peak of the *worst_fit* curve is. It would be interesting to see on a map where this is and see if there is some rationale for it that could help our model to better predict house prices in this area."
   ]
  },
  {
   "cell_type": "markdown",
   "metadata": {},
   "source": [
    "### Longitude"
   ]
  },
  {
   "cell_type": "code",
   "execution_count": 92,
   "metadata": {},
   "outputs": [
    {
     "data": {
      "text/plain": [
       "<matplotlib.axes._subplots.AxesSubplot at 0x1a2330e080>"
      ]
     },
     "execution_count": 92,
     "metadata": {},
     "output_type": "execute_result"
    },
    {
     "data": {
      "text/plain": [
       "<matplotlib.axes._subplots.AxesSubplot at 0x1a2330e080>"
      ]
     },
     "execution_count": 92,
     "metadata": {},
     "output_type": "execute_result"
    },
    {
     "data": {
      "text/plain": [
       "<matplotlib.axes._subplots.AxesSubplot at 0x1a2330e080>"
      ]
     },
     "execution_count": 92,
     "metadata": {},
     "output_type": "execute_result"
    },
    {
     "data": {
      "text/plain": [
       "<matplotlib.legend.Legend at 0x1a2017e470>"
      ]
     },
     "execution_count": 92,
     "metadata": {},
     "output_type": "execute_result"
    },
    {
     "data": {
      "text/plain": [
       "[Text(22.2,0.5,'density'), Text(0.5,22.2,'longitude')]"
      ]
     },
     "execution_count": 92,
     "metadata": {},
     "output_type": "execute_result"
    },
    {
     "data": {
      "text/plain": [
       "Text(0.5,1,'Longitude Density')"
      ]
     },
     "execution_count": 92,
     "metadata": {},
     "output_type": "execute_result"
    },
    {
     "data": {
      "image/png": "[encoded data removed]",
      "text/plain": [
       "<Figure size 432x288 with 1 Axes>"
      ]
     },
     "metadata": {},
     "output_type": "display_data"
    }
   ],
   "source": [
    "# set context\n",
    "sns.set_context(\"paper\", rc={\"figure.figsize\":(8,6), \"font.size\":10,\"axes.titlesize\":20,\"axes.labelsize\":15})  \n",
    "\n",
    "# fit types we are interested in plotting\n",
    "fit_type = ['worst_fit', 'typical_fit', 'best_fit']\n",
    "\n",
    "\n",
    "for i in range(len(fit_type)) :\n",
    "        data = df_no_out[df_no_out['percentile'] == fit_type[i]]\n",
    "    \n",
    "        # Draw the density plot\n",
    "        sns.distplot(data[\"longitude\"],\n",
    "                     hist = False, kde = True,\n",
    "                     kde_kws = {'linewidth': 3},\n",
    "                     label = fit_type[i])\n",
    "                     #color = colors[i])\n",
    "\n",
    "# set legends\n",
    "plt.legend(prop={'size': 10}, title = 'Fit')\n",
    "    \n",
    "# set axis labels\n",
    "ax.set(xlabel='longitude', ylabel='density')\n",
    "\n",
    "# set title\n",
    "ax.set_title(\"Longitude Density\", fontsize = 15)"
   ]
  },
  {
   "cell_type": "markdown",
   "metadata": {},
   "source": [
    "Here as well we can observe the longitudes where the worst fit are. The graph below plots the logerrors."
   ]
  },
  {
   "cell_type": "code",
   "execution_count": 93,
   "metadata": {},
   "outputs": [
    {
     "data": {
      "text/plain": [
       "<matplotlib.axes._subplots.AxesSubplot at 0x1a1ff076d8>"
      ]
     },
     "execution_count": 93,
     "metadata": {},
     "output_type": "execute_result"
    },
    {
     "data": {
      "image/png": "[encoded data removed]",
      "text/plain": [
       "<Figure size 432x288 with 1 Axes>"
      ]
     },
     "metadata": {},
     "output_type": "display_data"
    }
   ],
   "source": [
    "# plot longitude versus logerror\n",
    "sns.scatterplot(x = \"longitude\", y = \"logerror\", data = df_no_out)\n"
   ]
  },
  {
   "cell_type": "markdown",
   "metadata": {},
   "source": [
    "Let's now remove observations where houses were built before the 1920s."
   ]
  },
  {
   "cell_type": "code",
   "execution_count": 94,
   "metadata": {},
   "outputs": [
    {
     "data": {
      "text/plain": [
       "(44599, 36)"
      ]
     },
     "execution_count": 94,
     "metadata": {},
     "output_type": "execute_result"
    }
   ],
   "source": [
    "df_no_out.shape"
   ]
  },
  {
   "cell_type": "code",
   "execution_count": 95,
   "metadata": {},
   "outputs": [],
   "source": [
    "df_no_out = df_no_out[df_no_out[\"build_year\"] > 1920]"
   ]
  },
  {
   "cell_type": "code",
   "execution_count": 96,
   "metadata": {},
   "outputs": [
    {
     "data": {
      "text/plain": [
       "(42698, 36)"
      ]
     },
     "execution_count": 96,
     "metadata": {},
     "output_type": "execute_result"
    }
   ],
   "source": [
    "df_no_out.shape"
   ]
  },
  {
   "cell_type": "markdown",
   "metadata": {},
   "source": [
    "## Model, Predict and Solve the Problem"
   ]
  },
  {
   "cell_type": "code",
   "execution_count": 97,
   "metadata": {},
   "outputs": [
    {
     "name": "stdout",
     "output_type": "stream",
     "text": [
      "<class 'pandas.core.frame.DataFrame'>\n",
      "Int64Index: 42698 entries, 0 to 90274\n",
      "Data columns (total 36 columns):\n",
      "aircon                    13769 non-null float64\n",
      "area_garage               5477 non-null float64\n",
      "num_garage                5477 non-null float64\n",
      "region_neighbor           18657 non-null float64\n",
      "heating                   36340 non-null float64\n",
      "quality                   36636 non-null float64\n",
      "zoning_property           36686 non-null object\n",
      "num_unit                  36702 non-null float64\n",
      "area_lot                  38309 non-null float64\n",
      "region_city               41922 non-null float64\n",
      "num_bath                  42621 non-null float64\n",
      "build_year                42698 non-null float64\n",
      "area_total_calc           42688 non-null float64\n",
      "censustractandblock       42548 non-null float64\n",
      "tax_building              42678 non-null float64\n",
      "region_zip                42694 non-null float64\n",
      "tax_property              42694 non-null float64\n",
      "num_room                  42698 non-null float64\n",
      "transaction_date          42698 non-null datetime64[ns]\n",
      "tax_land                  42697 non-null float64\n",
      "num_bedroom               42698 non-null float64\n",
      "fips                      42698 non-null float64\n",
      "latitude                  42698 non-null float64\n",
      "longitude                 42698 non-null float64\n",
      "logerror                  42698 non-null float64\n",
      "zoning_landuse_county     42697 non-null object\n",
      "zoning_landuse            42698 non-null float64\n",
      "rawcensustractandblock    42698 non-null float64\n",
      "region_county             42698 non-null float64\n",
      "parcel_id                 42698 non-null int64\n",
      "year                      42698 non-null int64\n",
      "month                     42698 non-null object\n",
      "year_month                42698 non-null object\n",
      "abs_logerror              42698 non-null float64\n",
      "percentile                42698 non-null category\n",
      "over_under                42698 non-null object\n",
      "dtypes: category(1), datetime64[ns](1), float64(27), int64(2), object(5)\n",
      "memory usage: 11.8+ MB\n"
     ]
    }
   ],
   "source": [
    "df_no_out.info()"
   ]
  },
  {
   "cell_type": "code",
   "execution_count": 98,
   "metadata": {},
   "outputs": [],
   "source": [
    "list_features_to_remove = ['abs_logerror', \n",
    "                           'percentile', \n",
    "                           'over_under', \n",
    "                           'year', \n",
    "                           'month', \n",
    "                           'year_month']\n",
    "df_no_out = df_no_out.loc[:, ~(df_no_out.columns.isin(list_features_to_remove))]"
   ]
  },
  {
   "cell_type": "code",
   "execution_count": 99,
   "metadata": {},
   "outputs": [],
   "source": [
    "df_no_out.set_index('parcel_id', inplace = True)"
   ]
  },
  {
   "cell_type": "markdown",
   "metadata": {},
   "source": [
    "*zoning_landuse_county* & *zoning_property* are the only features of object type left and will then need to get dummified. "
   ]
  },
  {
   "cell_type": "code",
   "execution_count": 100,
   "metadata": {},
   "outputs": [
    {
     "data": {
      "text/html": [
       "<div>\n",
       "<style scoped>\n",
       "    .dataframe tbody tr th:only-of-type {\n",
       "        vertical-align: middle;\n",
       "    }\n",
       "\n",
       "    .dataframe tbody tr th {\n",
       "        vertical-align: top;\n",
       "    }\n",
       "\n",
       "    .dataframe thead th {\n",
       "        text-align: right;\n",
       "    }\n",
       "</style>\n",
       "<table border=\"1\" class=\"dataframe\">\n",
       "  <thead>\n",
       "    <tr style=\"text-align: right;\">\n",
       "      <th></th>\n",
       "      <th>zoning_landuse_county</th>\n",
       "      <th>zoning_property</th>\n",
       "    </tr>\n",
       "    <tr>\n",
       "      <th>parcel_id</th>\n",
       "      <th></th>\n",
       "      <th></th>\n",
       "    </tr>\n",
       "  </thead>\n",
       "  <tbody>\n",
       "    <tr>\n",
       "      <th>11016594</th>\n",
       "      <td>0100</td>\n",
       "      <td>LARS</td>\n",
       "    </tr>\n",
       "    <tr>\n",
       "      <th>14366692</th>\n",
       "      <td>1</td>\n",
       "      <td>NaN</td>\n",
       "    </tr>\n",
       "    <tr>\n",
       "      <th>12098116</th>\n",
       "      <td>0100</td>\n",
       "      <td>PSR6</td>\n",
       "    </tr>\n",
       "    <tr>\n",
       "      <th>12286022</th>\n",
       "      <td>0100</td>\n",
       "      <td>CORH*</td>\n",
       "    </tr>\n",
       "    <tr>\n",
       "      <th>10854446</th>\n",
       "      <td>0100</td>\n",
       "      <td>LARE9</td>\n",
       "    </tr>\n",
       "  </tbody>\n",
       "</table>\n",
       "</div>"
      ],
      "text/plain": [
       "          zoning_landuse_county zoning_property\n",
       "parcel_id                                      \n",
       "11016594                   0100            LARS\n",
       "14366692                      1             NaN\n",
       "12098116                   0100            PSR6\n",
       "12286022                   0100           CORH*\n",
       "10854446                   0100           LARE9"
      ]
     },
     "execution_count": 100,
     "metadata": {},
     "output_type": "execute_result"
    }
   ],
   "source": [
    "df_no_out[['zoning_landuse_county', 'zoning_property']].head()"
   ]
  },
  {
   "cell_type": "code",
   "execution_count": 101,
   "metadata": {},
   "outputs": [],
   "source": [
    "# create dummies for 'zoning_landuse_county', 'zoning_property'\n",
    "dummies = pd.get_dummies(df_no_out[['zoning_landuse_county', 'zoning_property']], prefix_sep = '_')"
   ]
  },
  {
   "cell_type": "code",
   "execution_count": 102,
   "metadata": {},
   "outputs": [],
   "source": [
    "# remove these two variables from the original df\n",
    "df_no_out.drop(['zoning_landuse_county', 'zoning_property'], axis = 1, inplace = True)\n",
    "\n",
    "# concatenate dummies to df_no_out\n",
    "df_no_out = pd.concat([df_no_out, dummies], axis = 1)"
   ]
  },
  {
   "cell_type": "code",
   "execution_count": 105,
   "metadata": {},
   "outputs": [],
   "source": [
    "# set paramters\n",
    "seed = 7\n",
    "test_size = 0.2\n",
    "\n",
    "# create X and y\n",
    "X = df_no_out.loc[:, ~ (df_no_out.columns.isin(['logerror']))]\n",
    "y = df_no_out['logerror']\n",
    "\n",
    "X['transaction_date'] = X['transaction_date'].astype()\n",
    "\n",
    "# create the train and test sets\n",
    "X_train, X_test, y_train, y_test = train_test_split(X, y,\n",
    "                        test_size = 0.2, random_state = seed)"
   ]
  },
  {
   "cell_type": "code",
   "execution_count": 112,
   "metadata": {},
   "outputs": [
    {
     "data": {
      "text/plain": [
       "dtype('O')"
      ]
     },
     "execution_count": 112,
     "metadata": {},
     "output_type": "execute_result"
    }
   ],
   "source": [
    "transactions['transactiondate'].dtypes"
   ]
  },
  {
   "cell_type": "code",
   "execution_count": 113,
   "metadata": {},
   "outputs": [
    {
     "name": "stdout",
     "output_type": "stream",
     "text": [
      "<class 'pandas.core.frame.DataFrame'>\n",
      "RangeIndex: 90275 entries, 0 to 90274\n",
      "Data columns (total 3 columns):\n",
      "parcelid           90275 non-null int64\n",
      "logerror           90275 non-null float64\n",
      "transactiondate    90275 non-null object\n",
      "dtypes: float64(1), int64(1), object(1)\n",
      "memory usage: 2.1+ MB\n"
     ]
    }
   ],
   "source": [
    "transactions.info()"
   ]
  },
  {
   "cell_type": "code",
   "execution_count": 3,
   "metadata": {},
   "outputs": [],
   "source": [
    "# convert to a matrix usable by xgboost\n",
    "#X_train = xgb.DMatrix(X_train)"
   ]
  },
  {
   "cell_type": "code",
   "execution_count": 106,
   "metadata": {},
   "outputs": [],
   "source": [
    "# start a pipeline\n",
    "\n",
    "steps = [('xgb', XGBRegressor(objective=\"reg:linear\", random_state=42))]\n",
    "pipeline = Pipeline(steps)"
   ]
  },
  {
   "cell_type": "code",
   "execution_count": 1,
   "metadata": {},
   "outputs": [],
   "source": [
    "# fit the pipeline to the train data\n",
    "#xgb_model = pipeline.fit(X_train, y_train)\n",
    "\n"
   ]
  },
  {
   "cell_type": "code",
   "execution_count": 615,
   "metadata": {},
   "outputs": [],
   "source": [
    "# set the target months\n",
    "target_months = ['2016-10', \n",
    "                 '2016-11', \n",
    "                 '2016-12', \n",
    "                 '2017-10',\n",
    "                 '2017-11',\n",
    "                 '2017-12'\n",
    "                ]\n",
    "\n",
    "# loop over the test set and predict\n",
    "for i in target_months:\n",
    "    X_test['transaction_date'] = i\n",
    "    sample_submission[i] = pipeline.predict(X_test)\n",
    "\n"
   ]
  },
  {
   "cell_type": "code",
   "execution_count": 108,
   "metadata": {},
   "outputs": [
    {
     "data": {
      "text/plain": [
       "['2016-10', '2016-11', '2016-12', '2017-10', '2017-11', '2017-12']"
      ]
     },
     "execution_count": 108,
     "metadata": {},
     "output_type": "execute_result"
    }
   ],
   "source": [
    "# set the target months\n",
    "target_months = ['2016-10', \n",
    "                 '2016-11', \n",
    "                 '2016-12', \n",
    "                 '2017-10',\n",
    "                 '2017-11',\n",
    "                 '2017-12'\n",
    "                ]\n",
    "\n",
    "target_months"
   ]
  },
  {
   "cell_type": "code",
   "execution_count": 2,
   "metadata": {},
   "outputs": [],
   "source": [
    "#for i in range(year_months_to_predict):\n",
    " #   X_test['transaction_date'] = pd.to_datetime(year_months_to_predict[0])\n",
    " #   print(X_test['transaction_date'].unique())"
   ]
  },
  {
   "cell_type": "code",
   "execution_count": 624,
   "metadata": {},
   "outputs": [
    {
     "name": "stderr",
     "output_type": "stream",
     "text": [
      "/Users/manuel/anaconda3/lib/python3.6/site-packages/ipykernel_launcher.py:1: SettingWithCopyWarning: \n",
      "A value is trying to be set on a copy of a slice from a DataFrame.\n",
      "Try using .loc[row_indexer,col_indexer] = value instead\n",
      "\n",
      "See the caveats in the documentation: http://pandas.pydata.org/pandas-docs/stable/indexing.html#indexing-view-versus-copy\n",
      "  \"\"\"Entry point for launching an IPython kernel.\n"
     ]
    }
   ],
   "source": [
    "X_test['transaction_date'] = pd.to_datetime(year_months_to_predict[0])"
   ]
  },
  {
   "cell_type": "markdown",
   "metadata": {},
   "source": [
    "We need to encode labels as categories most ML algorithms work on numbers. In pandas 'category' dtype encodes categorical data numerically.\n",
    "\n",
    "\n",
    "df[NUMERIC_COLS] = df[NUMERIC_COLS].fillna(-1000)\n",
    "\n",
    ".astype('category')\n",
    "categorize_label = lambda x: x.asype('category')\n",
    "df[LABELS] = df[LABELS].apply(categorize_label, axis = 0)\n",
    "\n",
    "LABELS is a list of 99 columns\n",
    "pd.get_dummies(df[LABELS], prefix_steps = '_')\n"
   ]
  },
  {
   "cell_type": "markdown",
   "metadata": {},
   "source": [
    "Why shall we scale the data?\n",
    "\n",
    "* features on larger scales can unduly influence the model\n",
    "* many models utilise some form of distance to inform them"
   ]
  },
  {
   "cell_type": "code",
   "execution_count": null,
   "metadata": {},
   "outputs": [],
   "source": [
    "#knn_scaled = pipeline.fit(X_train, y_train)\n",
    "\n",
    "#y_pred = pipeline.predict(X_test)\n",
    "\n",
    "#accuracy_score(y_test, y_pred)\n",
    "#print('Accuracy with scaling: {}'.format(knn_scaled.score(X_test, y_test)))"
   ]
  },
  {
   "cell_type": "code",
   "execution_count": null,
   "metadata": {},
   "outputs": [],
   "source": [
    "#cv = GridSearchCV(pipeline, param_grid = parameters, cv = 3)\n",
    "#cv.fit(X_train, y_train)\n",
    "#y_pred = cv.predict(X_test)\n",
    "\n",
    "#print(cv.best_params_)\n",
    "#print(cv.score(X_test, y_test))\n",
    "#print(classification_report(y_test, y_pred))\n",
    "#print(\"Tuned Model Parameters: {}\".format(cv.best_params_))"
   ]
  },
  {
   "cell_type": "code",
   "execution_count": null,
   "metadata": {},
   "outputs": [],
   "source": [
    "#prediction_df = pd.DataFrame(columns = pd.get_dummies(df[LABELS],\n",
    "                   #                                 prefix_sep = '__').columns, \n",
    "                   #         index = holdout.index,\n",
    "                    #        data = prediction)\n",
    "\n",
    "#prediction_df.to_csv('predictions.csv')"
   ]
  }
 ],
 "metadata": {
  "kernelspec": {
   "display_name": "Python 3",
   "language": "python",
   "name": "python3"
  },
  "language_info": {
   "codemirror_mode": {
    "name": "ipython",
    "version": 3
   },
   "file_extension": ".py",
   "mimetype": "text/x-python",
   "name": "python",
   "nbconvert_exporter": "python",
   "pygments_lexer": "ipython3",
   "version": "3.7.1"
  },
  "toc": {
   "base_numbering": 1,
   "nav_menu": {},
   "number_sections": true,
   "sideBar": true,
   "skip_h1_title": false,
   "title_cell": "Table of Contents",
   "title_sidebar": "Contents",
   "toc_cell": false,
   "toc_position": {},
   "toc_section_display": true,
   "toc_window_display": false
  }
 },
 "nbformat": 4,
 "nbformat_minor": 2
}
